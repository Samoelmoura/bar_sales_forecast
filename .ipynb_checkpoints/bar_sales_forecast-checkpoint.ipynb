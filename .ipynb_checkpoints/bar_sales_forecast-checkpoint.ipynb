{
 "cells": [
  {
   "cell_type": "markdown",
   "metadata": {
    "heading_collapsed": true,
    "id": "0HF0qpYdk0xV"
   },
   "source": [
    "# 0.0 Business Problem"
   ]
  },
  {
   "cell_type": "markdown",
   "metadata": {
    "heading_collapsed": true,
    "hidden": true,
    "id": "jYxdwqYLPglj"
   },
   "source": [
    "## Estágio do projeto:\n",
    "Ciclo 1: Pipeline de dados funcional de ponta a ponta, desde a coleta dos dados até o treinamento do modelo.\n",
    "\n",
    "## 0.1 Cenário: \n",
    "O B7 Bar é um Snooker Bar localizado no Brasil, atuando no setor de serviços. Os principais serviços prestados pelo B7 são: aluguel de mesas de bilhar, comidas e bebidas servidas no interior do bar. As mesas de bilhar são utilizadas somente no local, e o aluguel é cobrado por tempo. \n",
    "\n",
    "Faz parte da rotina de atividades do gestor de um bar, fazer previsões de demanda para oferecer os produtos que os clientes desejam sem interrupções. Uma boa gestão de estoque requer uma previsão de demanda assertiva, no ramo de bares, esta tarefa deve estar muito bem alinhada com sazonalidades, datas comemorativas, e outros eventos dos mais variados tipos. Como você bem sabe, às sextas e sábados os barzinhos estão quase sempre cheios, também nem precisaríamos te informar que cervejas combinam perfeitamente com o calor, portanto em dias quentes, nós esperamos um fluxo maior de vendas de cerveja.\n",
    "\n",
    "A empresa B7 é um bar, e como todo bar, nos referimos ao valor total consumido pela mesa como \"Comanda\". Este termo irá se repetir bastante durante o projeto. Os dados são reais, coletados entre 01/05/2017 e 20/03/2020, o businessday da empresa é de terça à domingo.\n",
    "\n",
    "## 0.2 Estratégia da Solução:\n",
    "\n",
    "### 0.2.1 Objetivos:\n",
    "1. Principais insights sobre as features mais importantes para o faturamento.\n",
    "2. Qual a tendência anual do faturamento geral? Qual é a tendência anual do faturamento pelas vendas dos produtos agregados por família?\n",
    "3. Qual será o faturamente total da semanal imediatamente seguinte ao dataset?"
   ]
  },
  {
   "cell_type": "markdown",
   "metadata": {
    "hidden": true,
    "id": "Gm1Wva1UNch7"
   },
   "source": [
    "### bilhar:\n",
    "\n",
    "1. No: ID da mesa aberta no sistema, é a 'key' da comanda do cliente no sistema, uma vêz que a comanda se encerra, este número nunca mais se repete.\n",
    "2. Name: Número da mesa física no ambiente de atendimento.\n",
    "3. Start Time: Horário de início da abertura da comanda do cliente.\n",
    "4. In use: Tempo em que a comanda permaneceu aberta (tempo em uso no sistema).\n",
    "5. Semana: Semana relativa do mês, a semana se inicia no dia 1, independente do dia semanal.\n",
    "6. Turno: Os turnos são divididos em dois. 'Tarde': do início do expediente, até às 21 horas, 'Noite': das 21 horas até o término das atividades. O turno é definido de acordo com o horário de abertura da comanda.\n",
    "7. Total Bilhar: Total pago de bilhar por comanda.\n",
    "8. Pago: Valor total pago pela comanda, engloba os produtos consumidos e o aluguel do bilhar.\n",
    "9. Preço/Hora: Custo do bilhar por hora. O bilhar é cobrado por hora e não por partida (ficha). Os preços podem variar de acordo com dias de semana, promoções e tamanho de mesa de bilhar (A casa conta com mesas de bilhar de tamanho oficial, semi-oficial, oficial americana, e universitárias.\n",
    "10. Data: Data do início da abertura da comanda."
   ]
  },
  {
   "cell_type": "markdown",
   "metadata": {
    "hidden": true,
    "id": "Yg1hgKC3Nrqc"
   },
   "source": [
    "### produtos:\n",
    "\n",
    "1. Time: Horário da venda do ítem.\n",
    "2. Purchaser: Mesa física em que o produto foi servido.\n",
    "3. Item: Nome do produto\n",
    "4. Voucher: ID da mesa aberta no sistema, é a 'key' da comanda do cliente no sistema, uma vêz que a comanda se encerra, este número nunca mais se repete\n",
    "5. Name: Número da mesa física no ambiente de atendimento.\n",
    "6. Semana: Semana relativa do mês, a semana se inicia no dia 1, independente do dia semanal.\n",
    "7. Turno: Os turnos são divididos em dois. 'Tarde': do início do expediente, até às 21 horas, 'Noite': das 21 horas até o término das atividades. O turno é definido de acordo com a abertura da comanda.\n",
    "8. Classe 1: Classificação dos produtos segundo a sua natureza de consumo, diretamente relacionado aos setores, diferencia cozinha, bar, bilhar e etc.\n",
    "9. Classe 2: Classificação dos produtos de acordo com o tipo de insumo que pode ou não ser necessário para sua manipulação, útil para identificar custos diretos. Exemplo: Porções quentes quase sempre são fritas, portanto utilizam gordura vegetal para o seu processamento. Interessante para poder trabalhar melhor a gestão de custos.\n",
    "10. Classe 3: Classificação dos produtos de acordo com o nicho de clientes que atende, diferencia por exemplo cervejas Mainstream, Premium ou artesanais. Interessante para poder trabalhar melhor os direcionamentos de ações para melhorar as vendas."
   ]
  },
  {
   "cell_type": "markdown",
   "metadata": {
    "id": "w-_LYSQasnJe"
   },
   "source": [
    "# 1.0 Imports"
   ]
  },
  {
   "cell_type": "code",
   "execution_count": 7,
   "metadata": {},
   "outputs": [],
   "source": [
    "import pandas as pd\n",
    "import numpy as np\n",
    "import matplotlib.pyplot as plt\n",
    "import seaborn as sns\n",
    "import pyodbc\n",
    "\n",
    "import time"
   ]
  },
  {
   "cell_type": "code",
   "execution_count": 2,
   "metadata": {},
   "outputs": [],
   "source": [
    "tempo_agora = time.time()"
   ]
  },
  {
   "cell_type": "markdown",
   "metadata": {},
   "source": [
    "## 1.1 Helper Functions"
   ]
  },
  {
   "cell_type": "code",
   "execution_count": 8,
   "metadata": {},
   "outputs": [],
   "source": [
    "# função de autenticação sql server\n",
    "def retornar_conexao_sql():\n",
    "    server = \"DESKTOP-GI545SF\\SQLEXPRESS\"\n",
    "    database = \"bar\"\n",
    "    string_conexao = 'Driver={SQL Server Native Client 11.0};Server='+server+';Database='+database+';Trusted_Connection=yes;'\n",
    "    conexao = pyodbc.connect(string_conexao)\n",
    "    return conexao.cursor()"
   ]
  },
  {
   "cell_type": "code",
   "execution_count": 35,
   "metadata": {},
   "outputs": [],
   "source": [
    "cursor = retornar_conexao_sql()\n",
    "bilhar = cursor.execute('SELECT * FROM bilhar')"
   ]
  },
  {
   "cell_type": "code",
   "execution_count": 13,
   "metadata": {},
   "outputs": [],
   "source": [
    "clima = 'C:\\\\Users\\\\Notebook\\\\Google Drive\\\\Pessoal\\\\Projetos\\\\bar_sales_forecast\\\\clima.csv'"
   ]
  },
  {
   "cell_type": "markdown",
   "metadata": {
    "heading_collapsed": true,
    "id": "Fo9oTiSg8rbZ"
   },
   "source": [
    "# 2.0 General Analysis and Data Cleaning"
   ]
  },
  {
   "cell_type": "markdown",
   "metadata": {
    "heading_collapsed": true
   },
   "source": [
    "# 3.0 Feature Engineering"
   ]
  },
  {
   "cell_type": "markdown",
   "metadata": {
    "heading_collapsed": true
   },
   "source": [
    "# 4.0 Business Hypothesis"
   ]
  },
  {
   "cell_type": "markdown",
   "metadata": {
    "heading_collapsed": true
   },
   "source": [
    "# 5.0 Exploratory Data Analysis "
   ]
  },
  {
   "cell_type": "markdown",
   "metadata": {
    "heading_collapsed": true
   },
   "source": [
    "# 6.0 Training Machine Learning Model"
   ]
  },
  {
   "cell_type": "markdown",
   "metadata": {
    "heading_collapsed": true
   },
   "source": [
    "# 7.0 Results and Conclusions"
   ]
  },
  {
   "cell_type": "markdown",
   "metadata": {},
   "source": [
    "# Time"
   ]
  },
  {
   "cell_type": "code",
   "execution_count": 9,
   "metadata": {},
   "outputs": [
    {
     "name": "stdout",
     "output_type": "stream",
     "text": [
      "O projeto está processando em 2.17 minutos\n"
     ]
    }
   ],
   "source": [
    "print(f'O projeto está processando em {round((time.time() - tempo_agora) / 60, 2)} minutos')"
   ]
  },
  {
   "cell_type": "markdown",
   "metadata": {
    "heading_collapsed": true
   },
   "source": [
    "# Continua"
   ]
  }
 ],
 "metadata": {
  "colab": {
   "collapsed_sections": [
    "0HF0qpYdk0xV",
    "w-_LYSQasnJe",
    "Fo9oTiSg8rbZ",
    "U31eP2VVHvg9",
    "UacIu52kMNMg",
    "22bT8LnfMBt3",
    "TzLuw3sjXyhY",
    "O2ug0XzLKtqM",
    "sf_nq_yYHBsS",
    "ZFjFSSBJ8rc_",
    "ZWjNzZav8rdB",
    "zCUBbPWLK_X5",
    "jDtyW1P0Gsmw",
    "T8WjZTJEpFvP",
    "Cpow1jxqpLb0",
    "e3bxxfygpRiI",
    "oqZcGHvJpwCj",
    "e5qb0o_LqTP_",
    "kscRdU11qbLg",
    "1if3O7Hp2CiE",
    "rQPyhXVl28rl",
    "-72Zr6iIFZhE",
    "gWCr6E3AGuWH",
    "4ysWSC9hLjiY",
    "gCdSM9Zs8rdd",
    "LwXvqMa2LNGn",
    "oZrWcLSMKbOD",
    "ra12ehIdRbTI",
    "nJHHKLSPS0jU",
    "Py5_Zqc9Wg64",
    "9TDxHCc0VIHA",
    "TmQm9H9HQ9tp",
    "sFATzRpWQ4GI",
    "0xIwHrpJZxdL",
    "YEit4heSZ8ka",
    "vHcwYa1LCDhj",
    "Efet9OusCWdI",
    "bHhq7LSSEvW-",
    "xDmAggFurgFU",
    "bQQqTK761JJR",
    "MEJYDvL-ANMQ",
    "KEM5-O1Ppkex",
    "3Ck3cWlcqMYh",
    "TGCGUKeBqRMU",
    "BV4glKS7py2u",
    "4pDTzzVTp_Lt",
    "kdcXbcfSp_ZL",
    "ZrZjI8xpqA-d",
    "2rytJ8Svq5vm",
    "AgCU9hZ5qWJN",
    "WG1fldNvrDct",
    "aiI0z7R_rDn6",
    "kW1XcJQh8reQ",
    "w8JxHOWSHTP9",
    "R6fkx-LLHocO",
    "N8NMVv2k13d9",
    "6OnQY5tu1uVC",
    "WE-XTzm9f0F9",
    "V_jtQ5VoCvKK",
    "DB2pVJBfKYmW",
    "S5ek0TTc0I5R",
    "ZGWjtKQb0FqF",
    "0N_lULUf9Lj4",
    "uwbl82yxEin1",
    "1F1im0MWBT5S",
    "tr6occUiC-Dj",
    "EOOOcz5XDFsg",
    "2pArit2aB8VZ"
   ],
   "include_colab_link": true,
   "name": "predict_bar_sales.ipynb",
   "provenance": []
  },
  "kernelspec": {
   "display_name": "Python 3",
   "language": "python",
   "name": "python3"
  },
  "language_info": {
   "codemirror_mode": {
    "name": "ipython",
    "version": 3
   },
   "file_extension": ".py",
   "mimetype": "text/x-python",
   "name": "python",
   "nbconvert_exporter": "python",
   "pygments_lexer": "ipython3",
   "version": "3.8.8"
  }
 },
 "nbformat": 4,
 "nbformat_minor": 1
}
