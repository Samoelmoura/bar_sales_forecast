{
 "cells": [
  {
   "cell_type": "code",
   "execution_count": 4,
   "id": "18acc617",
   "metadata": {},
   "outputs": [],
   "source": [
    "import pyodbc"
   ]
  },
  {
   "cell_type": "code",
   "execution_count": 5,
   "id": "415d0aa1",
   "metadata": {},
   "outputs": [],
   "source": [
    "# função de autenticação sql server\n",
    "def retornar_conexao_sql():\n",
    "    server = \"DESKTOP-GI545SF\\SQLEXPRESS\"\n",
    "    database = \"bar\"\n",
    "    username = \"samoel\"\n",
    "    password = \"salvesalve\"\n",
    "    #string_conexao = 'Driver={SQL Server Native Client 11.0};Server='+server+';Database='+database+';UID='+username+';PWD='+ password\n",
    "    string_conexao = 'Driver={SQL Server Native Client 11.0};Server='+server+';Database='+database+';Trusted_Connection=yes;'\n",
    "    conexao = pyodbc.connect(string_conexao)\n",
    "    return conexao.cursor()"
   ]
  }
 ],
 "metadata": {
  "kernelspec": {
   "display_name": "Python 3",
   "language": "python",
   "name": "python3"
  },
  "language_info": {
   "codemirror_mode": {
    "name": "ipython",
    "version": 3
   },
   "file_extension": ".py",
   "mimetype": "text/x-python",
   "name": "python",
   "nbconvert_exporter": "python",
   "pygments_lexer": "ipython3",
   "version": "3.8.8"
  }
 },
 "nbformat": 4,
 "nbformat_minor": 5
}
