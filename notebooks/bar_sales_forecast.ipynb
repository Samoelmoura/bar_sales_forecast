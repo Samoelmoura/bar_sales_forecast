{
 "cells": [
  {
   "cell_type": "markdown",
   "metadata": {
    "heading_collapsed": true,
    "id": "w-_LYSQasnJe"
   },
   "source": [
    "# 0.0 Imports"
   ]
  },
  {
   "cell_type": "code",
   "execution_count": 1,
   "metadata": {
    "ExecuteTime": {
     "end_time": "2022-07-25T18:36:31.056659Z",
     "start_time": "2022-07-25T18:36:29.387837Z"
    },
    "hidden": true
   },
   "outputs": [],
   "source": [
    "import pandas as pd\n",
    "import numpy as np\n",
    "import matplotlib.pyplot as plt\n",
    "import seaborn as sns\n",
    "import re\n",
    "\n",
    "from statsmodels.tsa.seasonal import seasonal_decompose\n",
    "from statsmodels.graphics.tsaplots import plot_acf, plot_pacf\n",
    "\n",
    "import time\n",
    "\n",
    "tempo_agora = time.time() # Tempo inicial"
   ]
  },
  {
   "cell_type": "markdown",
   "metadata": {
    "heading_collapsed": true,
    "hidden": true
   },
   "source": [
    "## 0.1 Loading Datasets"
   ]
  },
  {
   "cell_type": "code",
   "execution_count": 2,
   "metadata": {
    "ExecuteTime": {
     "end_time": "2022-07-25T18:36:31.323707Z",
     "start_time": "2022-07-25T18:36:31.060650Z"
    },
    "hidden": true
   },
   "outputs": [],
   "source": [
    "billiard = pd.read_csv('D:\\\\My Drive\\\\Pessoal\\\\Projetos\\\\bar_sales_forecast\\\\data\\\\raw\\\\billiard.csv', )\n",
    "sales = pd.read_csv('D:\\\\My Drive\\\\Pessoal\\\\Projetos\\\\bar_sales_forecast\\\\data\\\\raw\\\\sales.csv')"
   ]
  },
  {
   "cell_type": "code",
   "execution_count": 3,
   "metadata": {
    "ExecuteTime": {
     "end_time": "2022-07-25T18:36:31.355709Z",
     "start_time": "2022-07-25T18:36:31.326461Z"
    },
    "hidden": true
   },
   "outputs": [
    {
     "data": {
      "text/html": [
       "<div>\n",
       "<style scoped>\n",
       "    .dataframe tbody tr th:only-of-type {\n",
       "        vertical-align: middle;\n",
       "    }\n",
       "\n",
       "    .dataframe tbody tr th {\n",
       "        vertical-align: top;\n",
       "    }\n",
       "\n",
       "    .dataframe thead th {\n",
       "        text-align: right;\n",
       "    }\n",
       "</style>\n",
       "<table border=\"1\" class=\"dataframe\">\n",
       "  <thead>\n",
       "    <tr style=\"text-align: right;\">\n",
       "      <th></th>\n",
       "      <th>#No</th>\n",
       "      <th>Name</th>\n",
       "      <th>#Start Time</th>\n",
       "      <th>In Use</th>\n",
       "      <th>Semana</th>\n",
       "      <th>Turno</th>\n",
       "      <th>Total Bilhar</th>\n",
       "      <th>Pago</th>\n",
       "      <th>#Preço/Hora</th>\n",
       "      <th>Data</th>\n",
       "    </tr>\n",
       "  </thead>\n",
       "  <tbody>\n",
       "    <tr>\n",
       "      <th>0</th>\n",
       "      <td>848</td>\n",
       "      <td>***Quarta1***</td>\n",
       "      <td>1/00:45</td>\n",
       "      <td>0:15</td>\n",
       "      <td>5</td>\n",
       "      <td>Noite</td>\n",
       "      <td>2.0</td>\n",
       "      <td>2.00</td>\n",
       "      <td>3.5</td>\n",
       "      <td>5/31/2017</td>\n",
       "    </tr>\n",
       "    <tr>\n",
       "      <th>1</th>\n",
       "      <td>829</td>\n",
       "      <td>Guest(30)</td>\n",
       "      <td>31/18:06</td>\n",
       "      <td>6:24</td>\n",
       "      <td>5</td>\n",
       "      <td>Tarde</td>\n",
       "      <td>0.0</td>\n",
       "      <td>24.60</td>\n",
       "      <td>0.0</td>\n",
       "      <td>5/31/2017</td>\n",
       "    </tr>\n",
       "    <tr>\n",
       "      <th>2</th>\n",
       "      <td>836</td>\n",
       "      <td>Guest(28)</td>\n",
       "      <td>31/20:46</td>\n",
       "      <td>4:28</td>\n",
       "      <td>5</td>\n",
       "      <td>Tarde</td>\n",
       "      <td>0.0</td>\n",
       "      <td>4.50</td>\n",
       "      <td>0.0</td>\n",
       "      <td>5/31/2017</td>\n",
       "    </tr>\n",
       "    <tr>\n",
       "      <th>3</th>\n",
       "      <td>838</td>\n",
       "      <td>Guest(27)</td>\n",
       "      <td>31/20:57</td>\n",
       "      <td>3:25</td>\n",
       "      <td>5</td>\n",
       "      <td>Tarde</td>\n",
       "      <td>0.0</td>\n",
       "      <td>29.72</td>\n",
       "      <td>0.0</td>\n",
       "      <td>5/31/2017</td>\n",
       "    </tr>\n",
       "    <tr>\n",
       "      <th>4</th>\n",
       "      <td>844</td>\n",
       "      <td>Guest(14)</td>\n",
       "      <td>31/22:16</td>\n",
       "      <td>2:47</td>\n",
       "      <td>5</td>\n",
       "      <td>Noite</td>\n",
       "      <td>0.0</td>\n",
       "      <td>48.30</td>\n",
       "      <td>0.0</td>\n",
       "      <td>5/31/2017</td>\n",
       "    </tr>\n",
       "  </tbody>\n",
       "</table>\n",
       "</div>"
      ],
      "text/plain": [
       "   #No           Name #Start Time In Use  Semana  Turno  Total Bilhar   Pago  \\\n",
       "0  848  ***Quarta1***     1/00:45   0:15       5  Noite           2.0   2.00   \n",
       "1  829      Guest(30)    31/18:06   6:24       5  Tarde           0.0  24.60   \n",
       "2  836      Guest(28)    31/20:46   4:28       5  Tarde           0.0   4.50   \n",
       "3  838      Guest(27)    31/20:57   3:25       5  Tarde           0.0  29.72   \n",
       "4  844      Guest(14)    31/22:16   2:47       5  Noite           0.0  48.30   \n",
       "\n",
       "   #Preço/Hora       Data  \n",
       "0          3.5  5/31/2017  \n",
       "1          0.0  5/31/2017  \n",
       "2          0.0  5/31/2017  \n",
       "3          0.0  5/31/2017  \n",
       "4          0.0  5/31/2017  "
      ]
     },
     "execution_count": 3,
     "metadata": {},
     "output_type": "execute_result"
    }
   ],
   "source": [
    "billiard.head(5)"
   ]
  },
  {
   "cell_type": "code",
   "execution_count": 4,
   "metadata": {
    "ExecuteTime": {
     "end_time": "2022-07-25T18:36:31.386556Z",
     "start_time": "2022-07-25T18:36:31.358698Z"
    },
    "hidden": true
   },
   "outputs": [
    {
     "data": {
      "text/html": [
       "<div>\n",
       "<style scoped>\n",
       "    .dataframe tbody tr th:only-of-type {\n",
       "        vertical-align: middle;\n",
       "    }\n",
       "\n",
       "    .dataframe tbody tr th {\n",
       "        vertical-align: top;\n",
       "    }\n",
       "\n",
       "    .dataframe thead th {\n",
       "        text-align: right;\n",
       "    }\n",
       "</style>\n",
       "<table border=\"1\" class=\"dataframe\">\n",
       "  <thead>\n",
       "    <tr style=\"text-align: right;\">\n",
       "      <th></th>\n",
       "      <th>#Time</th>\n",
       "      <th>Purchaser</th>\n",
       "      <th>Item</th>\n",
       "      <th>#Voucher</th>\n",
       "      <th>Semana</th>\n",
       "      <th>Turno</th>\n",
       "      <th>Classe 1</th>\n",
       "      <th>Classe 2</th>\n",
       "      <th>Classe 3</th>\n",
       "      <th>Preço</th>\n",
       "      <th>Total Venda</th>\n",
       "      <th>Data</th>\n",
       "      <th>Quantidade</th>\n",
       "    </tr>\n",
       "  </thead>\n",
       "  <tbody>\n",
       "    <tr>\n",
       "      <th>0</th>\n",
       "      <td>2/23:50:26</td>\n",
       "      <td>Mesa 1</td>\n",
       "      <td>10%</td>\n",
       "      <td>150</td>\n",
       "      <td>1</td>\n",
       "      <td>Noite</td>\n",
       "      <td>Gorjeta</td>\n",
       "      <td>NaN</td>\n",
       "      <td>NaN</td>\n",
       "      <td>0.1</td>\n",
       "      <td>1.6</td>\n",
       "      <td>5/2/2017</td>\n",
       "      <td>16</td>\n",
       "    </tr>\n",
       "    <tr>\n",
       "      <th>1</th>\n",
       "      <td>2/23:56:18</td>\n",
       "      <td>Mesa 5</td>\n",
       "      <td>10%</td>\n",
       "      <td>151</td>\n",
       "      <td>1</td>\n",
       "      <td>Noite</td>\n",
       "      <td>Gorjeta</td>\n",
       "      <td>NaN</td>\n",
       "      <td>NaN</td>\n",
       "      <td>0.1</td>\n",
       "      <td>3.7</td>\n",
       "      <td>5/2/2017</td>\n",
       "      <td>37</td>\n",
       "    </tr>\n",
       "    <tr>\n",
       "      <th>2</th>\n",
       "      <td>3/00:43:47</td>\n",
       "      <td>Mesa 1</td>\n",
       "      <td>10%</td>\n",
       "      <td>153</td>\n",
       "      <td>1</td>\n",
       "      <td>Noite</td>\n",
       "      <td>Gorjeta</td>\n",
       "      <td>NaN</td>\n",
       "      <td>NaN</td>\n",
       "      <td>0.1</td>\n",
       "      <td>1.5</td>\n",
       "      <td>5/2/2017</td>\n",
       "      <td>15</td>\n",
       "    </tr>\n",
       "    <tr>\n",
       "      <th>3</th>\n",
       "      <td>3/01:04:07</td>\n",
       "      <td>Mesa 5</td>\n",
       "      <td>10%</td>\n",
       "      <td>155</td>\n",
       "      <td>1</td>\n",
       "      <td>Noite</td>\n",
       "      <td>Gorjeta</td>\n",
       "      <td>NaN</td>\n",
       "      <td>NaN</td>\n",
       "      <td>0.1</td>\n",
       "      <td>2.4</td>\n",
       "      <td>5/2/2017</td>\n",
       "      <td>24</td>\n",
       "    </tr>\n",
       "    <tr>\n",
       "      <th>4</th>\n",
       "      <td>3/00:43:35</td>\n",
       "      <td>Mesa 1</td>\n",
       "      <td>Agua s/ Gás</td>\n",
       "      <td>153</td>\n",
       "      <td>1</td>\n",
       "      <td>Noite</td>\n",
       "      <td>Bar</td>\n",
       "      <td>Sem Álcool</td>\n",
       "      <td>NaN</td>\n",
       "      <td>3.0</td>\n",
       "      <td>6.0</td>\n",
       "      <td>5/2/2017</td>\n",
       "      <td>2</td>\n",
       "    </tr>\n",
       "  </tbody>\n",
       "</table>\n",
       "</div>"
      ],
      "text/plain": [
       "         #Time Purchaser         Item  #Voucher  Semana  Turno Classe 1  \\\n",
       "0   2/23:50:26    Mesa 1          10%       150       1  Noite  Gorjeta   \n",
       "1   2/23:56:18    Mesa 5          10%       151       1  Noite  Gorjeta   \n",
       "2   3/00:43:47    Mesa 1          10%       153       1  Noite  Gorjeta   \n",
       "3   3/01:04:07    Mesa 5          10%       155       1  Noite  Gorjeta   \n",
       "4   3/00:43:35    Mesa 1  Agua s/ Gás       153       1  Noite      Bar   \n",
       "\n",
       "     Classe 2 Classe 3  Preço  Total Venda      Data  Quantidade  \n",
       "0         NaN      NaN    0.1          1.6  5/2/2017          16  \n",
       "1         NaN      NaN    0.1          3.7  5/2/2017          37  \n",
       "2         NaN      NaN    0.1          1.5  5/2/2017          15  \n",
       "3         NaN      NaN    0.1          2.4  5/2/2017          24  \n",
       "4  Sem Álcool      NaN    3.0          6.0  5/2/2017           2  "
      ]
     },
     "execution_count": 4,
     "metadata": {},
     "output_type": "execute_result"
    }
   ],
   "source": [
    "sales.head(5)"
   ]
  },
  {
   "cell_type": "markdown",
   "metadata": {
    "heading_collapsed": true,
    "hidden": true
   },
   "source": [
    "## 0.2 Helper Functions"
   ]
  },
  {
   "cell_type": "code",
   "execution_count": null,
   "metadata": {
    "hidden": true
   },
   "outputs": [],
   "source": []
  },
  {
   "cell_type": "markdown",
   "metadata": {
    "heading_collapsed": true,
    "id": "Fo9oTiSg8rbZ"
   },
   "source": [
    "# 1.0 Data Description"
   ]
  },
  {
   "cell_type": "markdown",
   "metadata": {
    "heading_collapsed": true,
    "hidden": true
   },
   "source": [
    "## 1.1 Data Dimensions"
   ]
  },
  {
   "cell_type": "code",
   "execution_count": 5,
   "metadata": {
    "ExecuteTime": {
     "end_time": "2022-07-25T18:36:31.402508Z",
     "start_time": "2022-07-25T18:36:31.388518Z"
    },
    "hidden": true
   },
   "outputs": [
    {
     "name": "stdout",
     "output_type": "stream",
     "text": [
      "Billiard qty of rows: 44264\n",
      "Billiard qty of columns: 10\n",
      "\n",
      "Sales qty of rows: 135057\n",
      "Sales qty of columns: 13\n"
     ]
    }
   ],
   "source": [
    "print(f'Billiard qty of rows: {billiard.shape[0]}')\n",
    "print(f'Billiard qty of columns: {billiard.shape[1]}')\n",
    "print()\n",
    "print(f'Sales qty of rows: {sales.shape[0]}')\n",
    "print(f'Sales qty of columns: {sales.shape[1]}')"
   ]
  },
  {
   "cell_type": "markdown",
   "metadata": {
    "heading_collapsed": true,
    "hidden": true
   },
   "source": [
    "## 1.2 Datatype"
   ]
  },
  {
   "cell_type": "code",
   "execution_count": 6,
   "metadata": {
    "ExecuteTime": {
     "end_time": "2022-07-25T18:36:31.418219Z",
     "start_time": "2022-07-25T18:36:31.404090Z"
    },
    "hidden": true,
    "scrolled": false
   },
   "outputs": [
    {
     "name": "stdout",
     "output_type": "stream",
     "text": [
      "billiard\n",
      "\n"
     ]
    },
    {
     "data": {
      "text/plain": [
       "#No               int64\n",
       "Name             object\n",
       "#Start Time      object\n",
       "In Use           object\n",
       "Semana            int64\n",
       "Turno            object\n",
       "Total Bilhar    float64\n",
       "Pago            float64\n",
       "#Preço/Hora     float64\n",
       "Data             object\n",
       "dtype: object"
      ]
     },
     "execution_count": 6,
     "metadata": {},
     "output_type": "execute_result"
    }
   ],
   "source": [
    "print('billiard\\n')\n",
    "billiard.dtypes"
   ]
  },
  {
   "cell_type": "code",
   "execution_count": 7,
   "metadata": {
    "ExecuteTime": {
     "end_time": "2022-07-25T18:36:31.433876Z",
     "start_time": "2022-07-25T18:36:31.421209Z"
    },
    "hidden": true
   },
   "outputs": [
    {
     "name": "stdout",
     "output_type": "stream",
     "text": [
      "sales\n",
      "\n"
     ]
    },
    {
     "data": {
      "text/plain": [
       "#Time           object\n",
       "Purchaser       object\n",
       "Item            object\n",
       "#Voucher         int64\n",
       "Semana           int64\n",
       "Turno           object\n",
       "Classe 1        object\n",
       "Classe 2        object\n",
       "Classe 3        object\n",
       "Preço          float64\n",
       "Total Venda    float64\n",
       "Data            object\n",
       "Quantidade       int64\n",
       "dtype: object"
      ]
     },
     "execution_count": 7,
     "metadata": {},
     "output_type": "execute_result"
    }
   ],
   "source": [
    "print('sales\\n')\n",
    "sales.dtypes"
   ]
  },
  {
   "cell_type": "markdown",
   "metadata": {
    "heading_collapsed": true,
    "hidden": true
   },
   "source": [
    "## 1.3 Check NaN values"
   ]
  },
  {
   "cell_type": "code",
   "execution_count": 8,
   "metadata": {
    "ExecuteTime": {
     "end_time": "2022-07-25T18:36:31.480288Z",
     "start_time": "2022-07-25T18:36:31.436664Z"
    },
    "hidden": true,
    "scrolled": true
   },
   "outputs": [
    {
     "name": "stdout",
     "output_type": "stream",
     "text": [
      "billiard\n",
      "\n"
     ]
    },
    {
     "data": {
      "text/plain": [
       "#No             0\n",
       "Name            0\n",
       "#Start Time     0\n",
       "In Use          0\n",
       "Semana          0\n",
       "Turno           0\n",
       "Total Bilhar    0\n",
       "Pago            0\n",
       "#Preço/Hora     0\n",
       "Data            0\n",
       "dtype: int64"
      ]
     },
     "execution_count": 8,
     "metadata": {},
     "output_type": "execute_result"
    }
   ],
   "source": [
    "print('billiard\\n')\n",
    "billiard.isna().sum()"
   ]
  },
  {
   "cell_type": "code",
   "execution_count": 9,
   "metadata": {
    "ExecuteTime": {
     "end_time": "2022-07-25T18:36:31.607897Z",
     "start_time": "2022-07-25T18:36:31.482284Z"
    },
    "hidden": true
   },
   "outputs": [
    {
     "name": "stdout",
     "output_type": "stream",
     "text": [
      "sales\n",
      "\n"
     ]
    },
    {
     "data": {
      "text/plain": [
       "#Time              0\n",
       "Purchaser      12271\n",
       "Item               0\n",
       "#Voucher           0\n",
       "Semana             0\n",
       "Turno              0\n",
       "Classe 1        2328\n",
       "Classe 2       18733\n",
       "Classe 3       74084\n",
       "Preço              0\n",
       "Total Venda        0\n",
       "Data               0\n",
       "Quantidade         0\n",
       "dtype: int64"
      ]
     },
     "execution_count": 9,
     "metadata": {},
     "output_type": "execute_result"
    }
   ],
   "source": [
    "print('sales\\n')\n",
    "sales.isna().sum()"
   ]
  },
  {
   "cell_type": "markdown",
   "metadata": {
    "hidden": true
   },
   "source": [
    "O sistema gestor de vendas utilizado tem uma modalidade de vendas que não vincula o produto à uma mesa de consumo, geralmente utilizados quando ocorre uma venda avulsa, que é paga no ato da compra. Tais produtos são inseridos no sistema sem informação no campo \"Purchaser\", o que justifica os 8930 NaN Values nessa feature. As features Classe 2 e Classe 3 possuem NaN Values porque alguns produtos são cadastrados e classificados apenas no primeiro nível (Classe 1)."
   ]
  },
  {
   "cell_type": "markdown",
   "metadata": {
    "heading_collapsed": true,
    "hidden": true
   },
   "source": [
    "## 1.4 Data Cleaning"
   ]
  },
  {
   "cell_type": "code",
   "execution_count": 10,
   "metadata": {
    "ExecuteTime": {
     "end_time": "2022-07-25T18:36:45.004996Z",
     "start_time": "2022-07-25T18:36:31.613029Z"
    },
    "hidden": true
   },
   "outputs": [],
   "source": [
    "# billiard\n",
    "\n",
    "# Adjusting #Start Time to datetimeindex format\n",
    "billiard['start_time'] = billiard['#Start Time'].apply(lambda x: x.split('/')[1])\n",
    "\n",
    "# Adjusting #Data to datetime format\n",
    "billiard['Data'] = billiard['Data'].str.replace('/', '-').str.strip()\n",
    "\n",
    "# Creating datetime feature with datetime dtype\n",
    "billiard['datetime'] = billiard['Data'] + '-' + billiard['start_time']\n",
    "billiard['datetime'] = pd.to_datetime(billiard['datetime'])\n",
    "\n",
    "# Changing interesting feature names\n",
    "billiard.rename(columns={'#No':'id'}, inplace=True)\n",
    "billiard.rename(columns={'Name':'purchaser'}, inplace=True)\n",
    "billiard.rename(columns={'Total Bilhar':'sale'}, inplace=True)\n",
    "billiard.rename(columns={'#Preço/Hora':'price'}, inplace=True)\n",
    "billiard.rename(columns={'Semana':'week'}, inplace=True)\n",
    "billiard.rename(columns={'Turno':'work_shift'}, inplace=True)\n",
    "billiard.rename(columns={'In Use':'in_use'}, inplace=True)\n",
    "\n",
    "#  Creating quantity feature\n",
    "billiard['quantity'] = round(billiard['sale'] / billiard['price'], 1)\n",
    "\n",
    "# Creating item feature\n",
    "billiard['item'] = 'bilhar'\n",
    "\n",
    "# Droping features\n",
    "billiard.drop(['Pago', 'Data', 'start_time', '#Start Time'], axis=1, inplace=True)\n",
    "\n",
    "# sales\n",
    "\n",
    "# Catch date informations\n",
    "sales['Time'] = sales['#Time'].apply(lambda x: x.split('/')[1])\n",
    "sales['datetime'] = sales['Data'] + '-' + sales['Time']\n",
    "\n",
    "# Creating datetime feature\n",
    "sales['datetime'] = pd.to_datetime(sales['datetime'])\n",
    "\n",
    "# Changing interesting feature names\n",
    "sales.rename(columns={'#Voucher':'id'}, inplace=True)\n",
    "sales.rename(columns={'Total Venda':'sale'}, inplace=True)\n",
    "sales.rename(columns={'Preço':'price'}, inplace=True)\n",
    "sales.rename(columns={'Classe 1':'class1'}, inplace=True)\n",
    "sales.rename(columns={'Semana':'week'}, inplace=True)\n",
    "sales.rename(columns={'Turno':'work_shift'}, inplace=True)\n",
    "sales.rename(columns={'Purchaser':'purchaser'}, inplace=True)\n",
    "sales.rename(columns={'Item':'item'}, inplace=True)\n",
    "sales.rename(columns={'Quantidade':'quantity'}, inplace=True)\n",
    "\n",
    "# Removing features\n",
    "sales.drop(['#Time', 'Data', 'Time', 'Classe 2', 'Classe 3'], axis=1, inplace=True)"
   ]
  },
  {
   "cell_type": "markdown",
   "metadata": {
    "heading_collapsed": true,
    "hidden": true
   },
   "source": [
    "## 1.5 Creating Dataframe"
   ]
  },
  {
   "cell_type": "code",
   "execution_count": 11,
   "metadata": {
    "ExecuteTime": {
     "end_time": "2022-07-25T18:36:45.162985Z",
     "start_time": "2022-07-25T18:36:45.008103Z"
    },
    "hidden": true
   },
   "outputs": [],
   "source": [
    "# concating\n",
    "df1 = pd.concat([billiard, sales], axis=0)\n",
    "\n",
    "# Pivoting table to date x class1\n",
    "df1.loc[df1['class1'].isnull(), 'class1'] = 'Bilhar'\n",
    "df1['datetime'] = pd.to_datetime(df1['datetime'])\n",
    "df1['date'] = df1['datetime'].dt.date\n",
    "df1['date'] = pd.to_datetime(df1['date'])\n",
    "df1 = df1.pivot_table(columns='class1', index='date', values='sale', aggfunc='sum', fill_value=0)\n",
    "df1['total'] = df1.sum(axis=1)"
   ]
  },
  {
   "cell_type": "markdown",
   "metadata": {
    "heading_collapsed": true,
    "hidden": true
   },
   "source": [
    "## 1.6 Data Dimensions"
   ]
  },
  {
   "cell_type": "code",
   "execution_count": 12,
   "metadata": {
    "ExecuteTime": {
     "end_time": "2022-07-25T18:36:45.178873Z",
     "start_time": "2022-07-25T18:36:45.165918Z"
    },
    "hidden": true,
    "scrolled": true
   },
   "outputs": [
    {
     "name": "stdout",
     "output_type": "stream",
     "text": [
      "Number of rows: 1402\n",
      "Number of columns: 7\n"
     ]
    }
   ],
   "source": [
    "print(f'Number of rows: {df1.shape[0]}')\n",
    "print(f'Number of columns: {df1.shape[1]}')"
   ]
  },
  {
   "cell_type": "markdown",
   "metadata": {
    "heading_collapsed": true,
    "hidden": true
   },
   "source": [
    "## 1.7 Check NaN values"
   ]
  },
  {
   "cell_type": "code",
   "execution_count": 13,
   "metadata": {
    "ExecuteTime": {
     "end_time": "2022-07-25T18:36:45.194036Z",
     "start_time": "2022-07-25T18:36:45.180866Z"
    },
    "hidden": true
   },
   "outputs": [
    {
     "data": {
      "text/plain": [
       "class1\n",
       "Bar           0\n",
       "Bilhar        0\n",
       "Bomboniere    0\n",
       "Cozinha       0\n",
       "Gorjeta       0\n",
       "Tabacaria     0\n",
       "total         0\n",
       "dtype: int64"
      ]
     },
     "execution_count": 13,
     "metadata": {},
     "output_type": "execute_result"
    }
   ],
   "source": [
    "df1.isnull().sum()"
   ]
  },
  {
   "cell_type": "markdown",
   "metadata": {
    "heading_collapsed": true,
    "hidden": true
   },
   "source": [
    "## 1.8 Descriptive Statistics"
   ]
  },
  {
   "cell_type": "code",
   "execution_count": 14,
   "metadata": {
    "ExecuteTime": {
     "end_time": "2022-07-25T18:36:45.241369Z",
     "start_time": "2022-07-25T18:36:45.196333Z"
    },
    "hidden": true
   },
   "outputs": [
    {
     "data": {
      "text/html": [
       "<div>\n",
       "<style scoped>\n",
       "    .dataframe tbody tr th:only-of-type {\n",
       "        vertical-align: middle;\n",
       "    }\n",
       "\n",
       "    .dataframe tbody tr th {\n",
       "        vertical-align: top;\n",
       "    }\n",
       "\n",
       "    .dataframe thead th {\n",
       "        text-align: right;\n",
       "    }\n",
       "</style>\n",
       "<table border=\"1\" class=\"dataframe\">\n",
       "  <thead>\n",
       "    <tr style=\"text-align: right;\">\n",
       "      <th></th>\n",
       "      <th>min</th>\n",
       "      <th>max</th>\n",
       "      <th>range</th>\n",
       "      <th>mean</th>\n",
       "      <th>median</th>\n",
       "      <th>std</th>\n",
       "      <th>skew</th>\n",
       "      <th>kurtosis</th>\n",
       "    </tr>\n",
       "    <tr>\n",
       "      <th>class1</th>\n",
       "      <th></th>\n",
       "      <th></th>\n",
       "      <th></th>\n",
       "      <th></th>\n",
       "      <th></th>\n",
       "      <th></th>\n",
       "      <th></th>\n",
       "      <th></th>\n",
       "    </tr>\n",
       "  </thead>\n",
       "  <tbody>\n",
       "    <tr>\n",
       "      <th>Bar</th>\n",
       "      <td>0.0</td>\n",
       "      <td>3150.89</td>\n",
       "      <td>3150.89</td>\n",
       "      <td>867.100492</td>\n",
       "      <td>711.685</td>\n",
       "      <td>531.183137</td>\n",
       "      <td>0.879389</td>\n",
       "      <td>0.200127</td>\n",
       "    </tr>\n",
       "    <tr>\n",
       "      <th>Bilhar</th>\n",
       "      <td>0.0</td>\n",
       "      <td>1694.05</td>\n",
       "      <td>1694.05</td>\n",
       "      <td>301.890934</td>\n",
       "      <td>245.700</td>\n",
       "      <td>221.691692</td>\n",
       "      <td>1.635786</td>\n",
       "      <td>3.677141</td>\n",
       "    </tr>\n",
       "    <tr>\n",
       "      <th>Bomboniere</th>\n",
       "      <td>0.0</td>\n",
       "      <td>60.00</td>\n",
       "      <td>60.00</td>\n",
       "      <td>5.150856</td>\n",
       "      <td>3.000</td>\n",
       "      <td>6.599463</td>\n",
       "      <td>2.365360</td>\n",
       "      <td>9.175608</td>\n",
       "    </tr>\n",
       "    <tr>\n",
       "      <th>Cozinha</th>\n",
       "      <td>0.0</td>\n",
       "      <td>1332.10</td>\n",
       "      <td>1332.10</td>\n",
       "      <td>277.452568</td>\n",
       "      <td>231.350</td>\n",
       "      <td>201.674061</td>\n",
       "      <td>1.097061</td>\n",
       "      <td>1.318658</td>\n",
       "    </tr>\n",
       "    <tr>\n",
       "      <th>Gorjeta</th>\n",
       "      <td>0.0</td>\n",
       "      <td>315.10</td>\n",
       "      <td>315.10</td>\n",
       "      <td>68.753709</td>\n",
       "      <td>51.150</td>\n",
       "      <td>57.899959</td>\n",
       "      <td>1.002113</td>\n",
       "      <td>0.467568</td>\n",
       "    </tr>\n",
       "    <tr>\n",
       "      <th>Tabacaria</th>\n",
       "      <td>0.0</td>\n",
       "      <td>253.50</td>\n",
       "      <td>253.50</td>\n",
       "      <td>31.366098</td>\n",
       "      <td>22.000</td>\n",
       "      <td>34.381868</td>\n",
       "      <td>1.703922</td>\n",
       "      <td>3.804228</td>\n",
       "    </tr>\n",
       "    <tr>\n",
       "      <th>total</th>\n",
       "      <td>0.0</td>\n",
       "      <td>5284.59</td>\n",
       "      <td>5284.59</td>\n",
       "      <td>1551.714658</td>\n",
       "      <td>1262.905</td>\n",
       "      <td>931.576013</td>\n",
       "      <td>0.798690</td>\n",
       "      <td>-0.138506</td>\n",
       "    </tr>\n",
       "  </tbody>\n",
       "</table>\n",
       "</div>"
      ],
      "text/plain": [
       "            min      max    range         mean    median         std  \\\n",
       "class1                                                                 \n",
       "Bar         0.0  3150.89  3150.89   867.100492   711.685  531.183137   \n",
       "Bilhar      0.0  1694.05  1694.05   301.890934   245.700  221.691692   \n",
       "Bomboniere  0.0    60.00    60.00     5.150856     3.000    6.599463   \n",
       "Cozinha     0.0  1332.10  1332.10   277.452568   231.350  201.674061   \n",
       "Gorjeta     0.0   315.10   315.10    68.753709    51.150   57.899959   \n",
       "Tabacaria   0.0   253.50   253.50    31.366098    22.000   34.381868   \n",
       "total       0.0  5284.59  5284.59  1551.714658  1262.905  931.576013   \n",
       "\n",
       "                skew  kurtosis  \n",
       "class1                          \n",
       "Bar         0.879389  0.200127  \n",
       "Bilhar      1.635786  3.677141  \n",
       "Bomboniere  2.365360  9.175608  \n",
       "Cozinha     1.097061  1.318658  \n",
       "Gorjeta     1.002113  0.467568  \n",
       "Tabacaria   1.703922  3.804228  \n",
       "total       0.798690 -0.138506  "
      ]
     },
     "execution_count": 14,
     "metadata": {},
     "output_type": "execute_result"
    }
   ],
   "source": [
    "# central tendency\n",
    "ct1 = pd.DataFrame(df1.apply(np.mean)).T\n",
    "ct2 = pd.DataFrame(df1.apply(np.median)).T\n",
    "# dispersion\n",
    "d1 = pd.DataFrame(df1.apply(np.std)).T\n",
    "d2 = pd.DataFrame(df1.apply(np.min)).T\n",
    "d3 = pd.DataFrame(df1.apply(np.max)).T\n",
    "d4 = pd.DataFrame(df1.apply(lambda x: x.max() - x.min())).T\n",
    "d5 = pd.DataFrame(df1.apply(lambda x: x.skew())).T\n",
    "d6 = pd.DataFrame(df1.apply(lambda x: x.kurtosis())).T\n",
    "\n",
    "# Concat\n",
    "temp = pd.concat([d2, d3, d4, ct1, ct2, d1, d5, d6]).T\n",
    "temp.columns = 'min max range mean median std skew kurtosis'.split()\n",
    "temp"
   ]
  },
  {
   "cell_type": "code",
   "execution_count": 15,
   "metadata": {
    "ExecuteTime": {
     "end_time": "2022-07-25T18:36:45.415303Z",
     "start_time": "2022-07-25T18:36:45.242322Z"
    },
    "hidden": true
   },
   "outputs": [
    {
     "data": {
      "image/png": "[encoded data removed]",
      "text/plain": [
       "<Figure size 432x288 with 1 Axes>"
      ]
     },
     "metadata": {
      "needs_background": "light"
     },
     "output_type": "display_data"
    }
   ],
   "source": [
    "sns.histplot(data=df1, x='total');"
   ]
  },
  {
   "cell_type": "markdown",
   "metadata": {
    "heading_collapsed": true
   },
   "source": [
    "# 2.0 Feature Engineering"
   ]
  },
  {
   "cell_type": "code",
   "execution_count": 16,
   "metadata": {
    "ExecuteTime": {
     "end_time": "2022-07-25T18:36:45.430395Z",
     "start_time": "2022-07-25T18:36:45.418295Z"
    },
    "hidden": true
   },
   "outputs": [],
   "source": [
    "df2 = df1.copy()"
   ]
  },
  {
   "cell_type": "code",
   "execution_count": 17,
   "metadata": {
    "ExecuteTime": {
     "end_time": "2022-07-25T18:36:45.461437Z",
     "start_time": "2022-07-25T18:36:45.432388Z"
    },
    "hidden": true
   },
   "outputs": [],
   "source": [
    "# Day of week\n",
    "df2 = df2.resample('d').sum()\n",
    "df2['day_of_week'] = df2.index.day_name()\n",
    "remover = df2.loc[df2['day_of_week']=='Monday'].index\n",
    "df2.drop(remover, axis=0, inplace=True)\n",
    "\n",
    "# Shifted values\n",
    "df2['shift_1'] = df2['total'].shift(1)\n",
    "df2['shift_2'] = df2['total'].shift(2)\n",
    "df2['shift_3'] = df2['total'].shift(3)\n",
    "df2['shift_5'] = df2['total'].shift(5)\n",
    "df2['shift_6'] = df2['total'].shift(6)\n",
    "df2['shift_11'] = df2['total'].shift(11)\n",
    "df2['shift_12'] = df2['total'].shift(12)\n",
    "shifteds = 'shift_1 shift_2 shift_3 shift_5 shift_6 shift_11 shift_12'.split()"
   ]
  },
  {
   "cell_type": "markdown",
   "metadata": {
    "heading_collapsed": true
   },
   "source": [
    "# 3.0 Business Hypothesis"
   ]
  },
  {
   "cell_type": "code",
   "execution_count": 18,
   "metadata": {
    "ExecuteTime": {
     "end_time": "2022-07-25T18:36:45.476298Z",
     "start_time": "2022-07-25T18:36:45.463492Z"
    },
    "hidden": true
   },
   "outputs": [],
   "source": [
    "df3 = df2.copy()"
   ]
  },
  {
   "cell_type": "markdown",
   "metadata": {
    "heading_collapsed": true
   },
   "source": [
    "# 4.0 Exploratory Data Analysis "
   ]
  },
  {
   "cell_type": "code",
   "execution_count": 19,
   "metadata": {
    "ExecuteTime": {
     "end_time": "2022-07-25T18:36:45.491826Z",
     "start_time": "2022-07-25T18:36:45.478297Z"
    },
    "hidden": true
   },
   "outputs": [],
   "source": [
    "df4 = df3.copy()"
   ]
  },
  {
   "cell_type": "markdown",
   "metadata": {
    "heading_collapsed": true,
    "hidden": true
   },
   "source": [
    "## 4.1 Amount by the Time"
   ]
  },
  {
   "cell_type": "markdown",
   "metadata": {
    "heading_collapsed": true,
    "hidden": true
   },
   "source": [
    "### 4.1.1 Decompose"
   ]
  },
  {
   "cell_type": "code",
   "execution_count": 20,
   "metadata": {
    "ExecuteTime": {
     "end_time": "2022-07-25T18:36:45.824893Z",
     "start_time": "2022-07-25T18:36:45.493824Z"
    },
    "hidden": true,
    "scrolled": false
   },
   "outputs": [
    {
     "data": {
      "image/png": "[encoded data removed]",
      "text/plain": [
       "<Figure size 1152x720 with 3 Axes>"
      ]
     },
     "metadata": {},
     "output_type": "display_data"
    }
   ],
   "source": [
    "decomp = seasonal_decompose(df4['total'], period=6)\n",
    "\n",
    "plt.figure(figsize=(16, 10))\n",
    "plt.subplots_adjust(hspace = 0.8)\n",
    "plt.subplot(4, 1, 1)\n",
    "ax = decomp.observed.plot()\n",
    "ax.tick_params(bottom=False, labelbottom=False, labelleft=False, left=False)\n",
    "plt.title('Original', fontsize=16)\n",
    "plt.xlabel('')\n",
    "plt.subplot(4, 1, 2)\n",
    "ax = decomp.seasonal[-30:].plot()\n",
    "ax.tick_params(bottom=False, labelbottom=False, labelleft=False, left=False)\n",
    "plt.title('Sazonalidade Semanal', fontsize=16)\n",
    "plt.xlabel('')\n",
    "plt.subplot(4, 1, 3)\n",
    "ax = decomp.trend.plot()\n",
    "ax.tick_params(bottom=False, labelbottom=False, labelleft=False, left=False)\n",
    "plt.title('Tendência', fontsize=16)\n",
    "sns.despine(left=True, bottom=True)\n",
    "plt.xlabel('');"
   ]
  },
  {
   "cell_type": "markdown",
   "metadata": {
    "hidden": true
   },
   "source": [
    "* Sazonalidades semanais bem definidas.\n",
    "* A tendência foi afetada pelo período sem funcionamento, causado pela Covid 19"
   ]
  },
  {
   "cell_type": "markdown",
   "metadata": {
    "heading_collapsed": true,
    "hidden": true
   },
   "source": [
    "### 4.1.2 Autocorrelation"
   ]
  },
  {
   "cell_type": "code",
   "execution_count": 21,
   "metadata": {
    "ExecuteTime": {
     "end_time": "2022-07-25T18:36:46.013865Z",
     "start_time": "2022-07-25T18:36:45.827811Z"
    },
    "hidden": true,
    "scrolled": false
   },
   "outputs": [
    {
     "name": "stderr",
     "output_type": "stream",
     "text": [
      "D:\\My Drive\\Pessoal\\environments\\data_science\\lib\\site-packages\\statsmodels\\graphics\\tsaplots.py:348: FutureWarning: The default method 'yw' can produce PACF values outside of the [-1,1] interval. After 0.13, the default will change tounadjusted Yule-Walker ('ywm'). You can use this method now by setting method='ywm'.\n",
      "  warnings.warn(\n"
     ]
    },
    {
     "data": {
      "image/png": "[encoded data removed]",
      "text/plain": [
       "<Figure size 864x576 with 2 Axes>"
      ]
     },
     "metadata": {
      "needs_background": "light"
     },
     "output_type": "display_data"
    }
   ],
   "source": [
    "fig = plt.figure(figsize=(12, 8))\n",
    "ax1 = fig.add_subplot(211)\n",
    "fig = plot_acf(df4['total'] , lags=20, ax=ax1)\n",
    "ax2 = fig.add_subplot(212)\n",
    "fig = plot_pacf(df4['total'] , lags=20, ax=ax2)"
   ]
  },
  {
   "cell_type": "markdown",
   "metadata": {
    "hidden": true
   },
   "source": [
    "Há autocorrelação com uma boa margem de confiança os lags 1, 2, 3, 5, 6, 11 e 12 (o 4 não está incluso)"
   ]
  },
  {
   "cell_type": "markdown",
   "metadata": {
    "heading_collapsed": true,
    "hidden": true
   },
   "source": [
    "### 4.1.3 Weekly Sales"
   ]
  },
  {
   "cell_type": "code",
   "execution_count": 22,
   "metadata": {
    "ExecuteTime": {
     "end_time": "2022-07-25T18:36:46.204729Z",
     "start_time": "2022-07-25T18:36:46.016817Z"
    },
    "hidden": true,
    "scrolled": true
   },
   "outputs": [
    {
     "data": {
      "image/png": "[encoded data removed]",
      "text/plain": [
       "<Figure size 1440x360 with 1 Axes>"
      ]
     },
     "metadata": {
      "needs_background": "light"
     },
     "output_type": "display_data"
    }
   ],
   "source": [
    "plt.figure(figsize=(20, 5))\n",
    "df4.resample('w').sum()['total'].plot()\n",
    "plt.title('Weekly Sales', fontsize=25)\n",
    "plt.xlabel('Weekly', fontsize=20)\n",
    "plt.ylabel('Total Amount', fontsize=20)\n",
    "sns.despine();"
   ]
  },
  {
   "cell_type": "markdown",
   "metadata": {
    "heading_collapsed": true,
    "hidden": true
   },
   "source": [
    "## 4.2 Univariate"
   ]
  },
  {
   "cell_type": "code",
   "execution_count": null,
   "metadata": {
    "hidden": true
   },
   "outputs": [],
   "source": []
  },
  {
   "cell_type": "markdown",
   "metadata": {
    "heading_collapsed": true,
    "hidden": true
   },
   "source": [
    "## 4.3 Bivariate"
   ]
  },
  {
   "cell_type": "code",
   "execution_count": null,
   "metadata": {
    "hidden": true
   },
   "outputs": [],
   "source": []
  },
  {
   "cell_type": "markdown",
   "metadata": {
    "heading_collapsed": true,
    "hidden": true
   },
   "source": [
    "## 4.4 Multivariate"
   ]
  },
  {
   "cell_type": "code",
   "execution_count": null,
   "metadata": {
    "hidden": true
   },
   "outputs": [],
   "source": []
  },
  {
   "cell_type": "markdown",
   "metadata": {
    "heading_collapsed": true
   },
   "source": [
    "# 5.0 Data Filtering"
   ]
  },
  {
   "cell_type": "code",
   "execution_count": 23,
   "metadata": {
    "ExecuteTime": {
     "end_time": "2022-07-25T18:36:46.220742Z",
     "start_time": "2022-07-25T18:36:46.207766Z"
    },
    "hidden": true
   },
   "outputs": [],
   "source": [
    "df5 = df4.copy()"
   ]
  },
  {
   "cell_type": "code",
   "execution_count": 24,
   "metadata": {
    "ExecuteTime": {
     "end_time": "2022-07-25T18:36:46.236758Z",
     "start_time": "2022-07-25T18:36:46.225727Z"
    },
    "hidden": true
   },
   "outputs": [],
   "source": [
    "# rows\n",
    "\n",
    "# columns\n"
   ]
  },
  {
   "cell_type": "markdown",
   "metadata": {},
   "source": [
    "# 6.0 Data Preparation"
   ]
  },
  {
   "cell_type": "code",
   "execution_count": 25,
   "metadata": {
    "ExecuteTime": {
     "end_time": "2022-07-25T18:36:46.252870Z",
     "start_time": "2022-07-25T18:36:46.238138Z"
    }
   },
   "outputs": [],
   "source": [
    "df6 = df5.copy()"
   ]
  },
  {
   "cell_type": "markdown",
   "metadata": {},
   "source": [
    "## 6.1 Normalization"
   ]
  },
  {
   "cell_type": "code",
   "execution_count": null,
   "metadata": {
    "ExecuteTime": {
     "end_time": "2022-07-25T18:20:53.386841Z",
     "start_time": "2022-07-25T18:20:53.334968Z"
    }
   },
   "outputs": [],
   "source": []
  },
  {
   "cell_type": "markdown",
   "metadata": {},
   "source": [
    "## 6.2 Rescaling"
   ]
  },
  {
   "cell_type": "code",
   "execution_count": null,
   "metadata": {},
   "outputs": [],
   "source": []
  },
  {
   "cell_type": "markdown",
   "metadata": {},
   "source": [
    "## 6.3 Response Variable"
   ]
  },
  {
   "cell_type": "code",
   "execution_count": null,
   "metadata": {},
   "outputs": [],
   "source": []
  },
  {
   "cell_type": "markdown",
   "metadata": {},
   "source": [
    "## 6.4 Transformations"
   ]
  },
  {
   "cell_type": "markdown",
   "metadata": {},
   "source": [
    "### 6.4.1 Encodings"
   ]
  },
  {
   "cell_type": "code",
   "execution_count": null,
   "metadata": {},
   "outputs": [],
   "source": []
  },
  {
   "cell_type": "markdown",
   "metadata": {},
   "source": [
    "### 6.4.2 Nature Transformations"
   ]
  },
  {
   "cell_type": "code",
   "execution_count": null,
   "metadata": {},
   "outputs": [],
   "source": []
  },
  {
   "cell_type": "markdown",
   "metadata": {},
   "source": [
    "## 6.5 Splits"
   ]
  },
  {
   "cell_type": "code",
   "execution_count": null,
   "metadata": {},
   "outputs": [],
   "source": []
  },
  {
   "cell_type": "markdown",
   "metadata": {},
   "source": [
    "# 7.0 Machine Learning Modeling"
   ]
  },
  {
   "cell_type": "code",
   "execution_count": 26,
   "metadata": {
    "ExecuteTime": {
     "end_time": "2022-07-25T18:36:46.268832Z",
     "start_time": "2022-07-25T18:36:46.255831Z"
    }
   },
   "outputs": [],
   "source": [
    "df7 = df6.copy()"
   ]
  },
  {
   "cell_type": "markdown",
   "metadata": {},
   "source": [
    "# 8.0 Model Performance"
   ]
  },
  {
   "cell_type": "code",
   "execution_count": 27,
   "metadata": {
    "ExecuteTime": {
     "end_time": "2022-07-25T18:36:46.284557Z",
     "start_time": "2022-07-25T18:36:46.271776Z"
    }
   },
   "outputs": [],
   "source": [
    "df8 = df7.copy()"
   ]
  },
  {
   "cell_type": "markdown",
   "metadata": {},
   "source": [
    "## 8.1 Machine Learning Performance"
   ]
  },
  {
   "cell_type": "code",
   "execution_count": null,
   "metadata": {},
   "outputs": [],
   "source": []
  },
  {
   "cell_type": "markdown",
   "metadata": {},
   "source": [
    "## 8.2 Business Performance"
   ]
  },
  {
   "cell_type": "code",
   "execution_count": null,
   "metadata": {},
   "outputs": [],
   "source": []
  },
  {
   "cell_type": "markdown",
   "metadata": {},
   "source": [
    "# 9.0 Exportings"
   ]
  },
  {
   "cell_type": "code",
   "execution_count": null,
   "metadata": {},
   "outputs": [],
   "source": []
  },
  {
   "cell_type": "markdown",
   "metadata": {},
   "source": [
    "# 10.0 Deploy"
   ]
  },
  {
   "cell_type": "markdown",
   "metadata": {},
   "source": [
    "## 10.1 Top_bar_class"
   ]
  },
  {
   "cell_type": "code",
   "execution_count": null,
   "metadata": {},
   "outputs": [],
   "source": []
  },
  {
   "cell_type": "markdown",
   "metadata": {},
   "source": [
    "## 10.2 Handler API"
   ]
  },
  {
   "cell_type": "code",
   "execution_count": null,
   "metadata": {},
   "outputs": [],
   "source": []
  },
  {
   "cell_type": "markdown",
   "metadata": {},
   "source": [
    "## 10.3 API Tester"
   ]
  },
  {
   "cell_type": "code",
   "execution_count": null,
   "metadata": {},
   "outputs": [],
   "source": []
  },
  {
   "cell_type": "markdown",
   "metadata": {},
   "source": [
    "# Time"
   ]
  },
  {
   "cell_type": "code",
   "execution_count": 28,
   "metadata": {
    "ExecuteTime": {
     "end_time": "2022-07-25T18:36:46.300292Z",
     "start_time": "2022-07-25T18:36:46.291506Z"
    },
    "scrolled": false
   },
   "outputs": [
    {
     "name": "stdout",
     "output_type": "stream",
     "text": [
      "O projeto está processando em 0.25 minutos\n"
     ]
    }
   ],
   "source": [
    "print(f'O projeto está processando em {round((time.time() - tempo_agora) / 60, 2)} minutos')"
   ]
  }
 ],
 "metadata": {
  "colab": {
   "collapsed_sections": [
    "0HF0qpYdk0xV",
    "w-_LYSQasnJe",
    "Fo9oTiSg8rbZ",
    "U31eP2VVHvg9",
    "UacIu52kMNMg",
    "22bT8LnfMBt3",
    "TzLuw3sjXyhY",
    "O2ug0XzLKtqM",
    "sf_nq_yYHBsS",
    "ZFjFSSBJ8rc_",
    "ZWjNzZav8rdB",
    "zCUBbPWLK_X5",
    "jDtyW1P0Gsmw",
    "T8WjZTJEpFvP",
    "Cpow1jxqpLb0",
    "e3bxxfygpRiI",
    "oqZcGHvJpwCj",
    "e5qb0o_LqTP_",
    "kscRdU11qbLg",
    "1if3O7Hp2CiE",
    "rQPyhXVl28rl",
    "-72Zr6iIFZhE",
    "gWCr6E3AGuWH",
    "4ysWSC9hLjiY",
    "gCdSM9Zs8rdd",
    "LwXvqMa2LNGn",
    "oZrWcLSMKbOD",
    "ra12ehIdRbTI",
    "nJHHKLSPS0jU",
    "Py5_Zqc9Wg64",
    "9TDxHCc0VIHA",
    "TmQm9H9HQ9tp",
    "sFATzRpWQ4GI",
    "0xIwHrpJZxdL",
    "YEit4heSZ8ka",
    "vHcwYa1LCDhj",
    "Efet9OusCWdI",
    "bHhq7LSSEvW-",
    "xDmAggFurgFU",
    "bQQqTK761JJR",
    "MEJYDvL-ANMQ",
    "KEM5-O1Ppkex",
    "3Ck3cWlcqMYh",
    "TGCGUKeBqRMU",
    "BV4glKS7py2u",
    "4pDTzzVTp_Lt",
    "kdcXbcfSp_ZL",
    "ZrZjI8xpqA-d",
    "2rytJ8Svq5vm",
    "AgCU9hZ5qWJN",
    "WG1fldNvrDct",
    "aiI0z7R_rDn6",
    "kW1XcJQh8reQ",
    "w8JxHOWSHTP9",
    "R6fkx-LLHocO",
    "N8NMVv2k13d9",
    "6OnQY5tu1uVC",
    "WE-XTzm9f0F9",
    "V_jtQ5VoCvKK",
    "DB2pVJBfKYmW",
    "S5ek0TTc0I5R",
    "ZGWjtKQb0FqF",
    "0N_lULUf9Lj4",
    "uwbl82yxEin1",
    "1F1im0MWBT5S",
    "tr6occUiC-Dj",
    "EOOOcz5XDFsg",
    "2pArit2aB8VZ"
   ],
   "include_colab_link": true,
   "name": "predict_bar_sales.ipynb",
   "provenance": []
  },
  "kernelspec": {
   "display_name": "Python 3 (ipykernel)",
   "language": "python",
   "name": "python3"
  },
  "language_info": {
   "codemirror_mode": {
    "name": "ipython",
    "version": 3
   },
   "file_extension": ".py",
   "mimetype": "text/x-python",
   "name": "python",
   "nbconvert_exporter": "python",
   "pygments_lexer": "ipython3",
   "version": "3.9.12"
  }
 },
 "nbformat": 4,
 "nbformat_minor": 1
}
