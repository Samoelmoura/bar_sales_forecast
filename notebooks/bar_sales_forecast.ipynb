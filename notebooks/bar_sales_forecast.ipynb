{
 "cells": [
  {
   "cell_type": "markdown",
   "metadata": {
    "heading_collapsed": true,
    "id": "0HF0qpYdk0xV"
   },
   "source": [
    "# 0.0 Business Problem"
   ]
  },
  {
   "cell_type": "code",
   "execution_count": null,
   "metadata": {
    "hidden": true
   },
   "outputs": [],
   "source": []
  },
  {
   "cell_type": "markdown",
   "metadata": {
    "heading_collapsed": true,
    "hidden": true,
    "id": "jYxdwqYLPglj"
   },
   "source": [
    "## Estágio do projeto:\n",
    "Ciclo 1: Pipeline de dados funcional de ponta a ponta, desde a coleta dos dados até o treinamento do modelo.\n",
    "\n",
    "## 0.1 Cenário: \n",
    "O B7 Bar é um Snooker Bar localizado no Brasil, no estado de São Paulo e atua no setor de bares e restaurantes. Os principais produtos/serviços do B7 Snooker Bar são: aluguel de mesas de bilhar para utilização no local e venda de comidas e bebidas para consumo no local ou delivery.\n",
    "\n",
    "A empresa conta com um time de colaboradores efetivos, o time está sempre compatível com a demanda ao longo do tempo. Além dos colaboradores efetivos, o bar também contrata colaboradores freelancers, para equilibrar a forte sazonalidade semanal, típica do setor de bares. O equilíbrio entre contratação de colaboradores freelancers e a demanda, é o tema secundário deste projeto.\n",
    "\n",
    "Apesar da contratação de freelancers, em alguns dias, a demanda supera a disponibilidade de mão de obra. O excesso de demanda gera uma fila de entregas de produtos, principalmente na cozinha, gerando insatisfação para os clientes, perda de qualidade percebida, e além disso, parte da demanda deixa de ser suprida. Os clientes estavam dispostos a consumir mais, portanto a empresa deixou de faturar. \n",
    "\n",
    "O bar recebe feedbacks de clientes sobre sua qualidade percebida através das redes sociais e outras ferramentas de qualificação interna. Com base nos feedbacks dos clientes, administração do bar fez um estudo interno, e encomendou um projeto de Data Science para fazer predições de vendas, para fazer uma contratação mais eficiente e atender melhor a necessidade dos clientes. Foram determinadas as seguintes premissas:\n",
    "1. Ás sextas, sábados e vésperas de feriados, estamos com um time disponível suficiente para atender de forma satisfátória um faturamento de até 3 mil reais.\n",
    "2. Nos dias que restam, estamos com um time disponível para atender satisfatoriamente um faturamento de até 1 mil e 300 reais.\n",
    "\n",
    "Através de um estudo interno, a administração deduziu que:\n",
    "1. Quando o faturamento supera os valores assumidos nas premissas, a empresa deixa de lucrar uma média de 400 reais, pelo não atendimento total da demanda, já abatendo o custo da mão de obra adicional.\n",
    "2. Por outro lado, a contratação de mão de obra ociosa, ou seja, quando contrata-se mão de obra adicional desnecessariamente, há um custo para a empresa de 300 reais.. A empresa já utiliza um sistema de predições atualmente que tem uma precisão de X%, e um recall de x%, para os casos de predições positivas.\n",
    "\n",
    "Por motivo de sigilo, foram omitidos do dataset, 12 produtos que são considerados estratégicos para a empresa. Os faturamentos de tais produtos foram totalmente desconsiderados, os valores das premissas foram estipulados já considerando tal diferença de faturamento. Este fato pode ser totalmente ignorado para a elaboração do projeto.\n",
    "\n",
    "A empresa B7 é um bar, e como todo bar, nos referimos ao valor total consumido pela mesa como \"Comanda\". Este termo irá se repetir bastante durante o projeto. Os dados são reais, coletados entre 02/01/2018 e 20/03/2020.\n",
    "\n",
    "## 0.2 Premissas:\n",
    "1. ...\n",
    "\n",
    "## 0.3 Estratégia da Solução:\n",
    "\n",
    "###### 0.3.1 Objetivos:\n",
    "1. Principais insights sobre as features mais importantes para o faturamento.\n",
    "2. Quanto de retorno financeiro anual a empresa terá ao utilizar o modelo de predições?\n",
    "3. Qual será o faturamente total semanal imediatamente seguinte ao dataset? Qual será o faturamento total semanal dos produtos agregados por Classe 1?\n",
    "\n",
    "###### 0.3.2 Proposta de Solução:\n",
    "\n",
    "###### 0.3.3 Inputs:\n",
    "\n",
    "###### 0.3.4 Outputs:\n",
    "\n",
    "\n",
    "## 0.4 Sumário:\n",
    "\n",
    "## 0.5 Resultados e Conclusão:\n",
    "\n",
    "## 0.6 Significado das Features:\n",
    "\n",
    "###### 0.6.1 bilhar:\n",
    "1. No: ID da mesa aberta no sistema, é a 'key' da comanda do cliente no sistema, uma vêz que a comanda se encerra, este número nunca mais se repete.\n",
    "2. Name: Número da mesa física no ambiente de atendimento.\n",
    "3. Start Time: Horário de início da abertura da comanda do cliente.\n",
    "4. In use: Tempo em que a comanda permaneceu aberta (tempo em uso no sistema).\n",
    "5. Semana: Semana relativa do mês, a semana se inicia no dia 1, independente do dia semanal.\n",
    "6. Turno: Os turnos são divididos em dois. 'Tarde': do início do expediente, até às 21 horas, 'Noite': das 21 horas até o término das atividades. O turno é definido de acordo com o horário de abertura da comanda.\n",
    "7. Total Bilhar: Total pago de bilhar por comanda.\n",
    "8. Pago: Valor total pago pela comanda, engloba os produtos consumidos e o aluguel do bilhar.\n",
    "9. Preço/Hora: Custo do bilhar por hora. O bilhar é cobrado por hora e não por partida (ficha). Os preços podem variar de acordo com dias de semana, promoções e tamanho de mesa de bilhar (A casa conta com mesas de bilhar de tamanho oficial, semi-oficial, oficial americana, e universitárias.\n",
    "10. Data: Data do início da abertura da comanda.\n",
    "\n",
    "###### 0.6.2 produtos:\n",
    "1. Time: Horário da venda do ítem.\n",
    "2. Purchaser: Mesa física em que o produto foi servido.\n",
    "3. Item: Nome do produto\n",
    "4. Voucher: ID da mesa aberta no sistema, é a 'key' da comanda do cliente no sistema, uma vêz que a comanda se encerra, este número nunca mais se repete\n",
    "5. Name: Número da mesa física no ambiente de atendimento.\n",
    "6. Semana: Semana relativa do mês, a semana se inicia no dia 1, independente do dia semanal.\n",
    "7. Turno: Os turnos são divididos em dois. 'Tarde': do início do expediente, até às 21 horas, 'Noite': das 21 horas até o término das atividades. O turno é definido de acordo com a abertura da comanda.\n",
    "8. Classe 1: Classificação dos produtos segundo a sua natureza de consumo, diretamente relacionado aos setores, diferencia cozinha, bar, bilhar e etc.\n",
    "9. Classe 2: Classificação dos produtos de acordo com o tipo de insumo que pode ou não ser necessário para sua manipulação, útil para identificar custos diretos. Exemplo: Porções quentes quase sempre são fritas, portanto utilizam gordura vegetal para o seu processamento. Interessante para poder trabalhar melhor a gestão de custos.\n",
    "10. Classe 3: Classificação dos produtos de acordo com o nicho de clientes que atende, diferencia por exemplo cervejas Mainstream, Premium ou artesanais. Interessante para poder trabalhar melhor os direcionamentos de ações para melhorar as vendas."
   ]
  },
  {
   "cell_type": "markdown",
   "metadata": {
    "heading_collapsed": true,
    "id": "w-_LYSQasnJe"
   },
   "source": [
    "# 1.0 Imports"
   ]
  },
  {
   "cell_type": "markdown",
   "metadata": {
    "heading_collapsed": true,
    "hidden": true
   },
   "source": [
    "###### 1.1 Importing libraries"
   ]
  },
  {
   "cell_type": "code",
   "execution_count": 141,
   "metadata": {
    "hidden": true
   },
   "outputs": [],
   "source": [
    "import pandas as pd\n",
    "import numpy as np\n",
    "import matplotlib.pyplot as plt\n",
    "import seaborn as sns\n",
    "\n",
    "from statsmodels.tsa.arima.model import ARIMA\n",
    "from statsmodels.graphics.tsaplots import plot_acf, plot_pacf\n",
    "\n",
    "import time\n",
    "\n",
    "import re\n",
    "\n",
    "tempo_agora = time.time() # Tempo inicial"
   ]
  },
  {
   "cell_type": "markdown",
   "metadata": {
    "heading_collapsed": true,
    "hidden": true
   },
   "source": [
    "###### 1.2 Loading datasets"
   ]
  },
  {
   "cell_type": "code",
   "execution_count": 2,
   "metadata": {
    "hidden": true
   },
   "outputs": [],
   "source": [
    "billiard = pd.read_csv('C:\\\\Users\\\\Samoel\\\\My Drive\\\\Pessoal\\\\Projetos\\\\bar_sales_forecast\\\\bar_sales_forecast\\\\billiard.csv')\n",
    "sales = pd.read_csv('C:\\\\Users\\\\Samoel\\\\My Drive\\\\Pessoal\\\\Projetos\\\\bar_sales_forecast\\\\bar_sales_forecast\\\\sales.csv')\n",
    "climate = pd.read_csv('C:\\\\Users\\\\Samoel\\\\My Drive\\\\Pessoal\\\\Projetos\\\\bar_sales_forecast\\\\bar_sales_forecast\\\\climate.csv')"
   ]
  },
  {
   "cell_type": "markdown",
   "metadata": {
    "heading_collapsed": true,
    "hidden": true
   },
   "source": [
    "###### 1.3 Helper Functions"
   ]
  },
  {
   "cell_type": "markdown",
   "metadata": {
    "heading_collapsed": true,
    "id": "Fo9oTiSg8rbZ"
   },
   "source": [
    "# 2.0 Data Description and Data Cleaning"
   ]
  },
  {
   "cell_type": "markdown",
   "metadata": {
    "heading_collapsed": true,
    "hidden": true
   },
   "source": [
    "## 2.1 Billiard"
   ]
  },
  {
   "cell_type": "markdown",
   "metadata": {
    "heading_collapsed": true,
    "hidden": true
   },
   "source": [
    "### 2.1.1 General Analysis"
   ]
  },
  {
   "cell_type": "markdown",
   "metadata": {
    "heading_collapsed": true,
    "hidden": true
   },
   "source": [
    "###### 2.1.1.1 Looking dataset"
   ]
  },
  {
   "cell_type": "code",
   "execution_count": 3,
   "metadata": {
    "hidden": true,
    "scrolled": false
   },
   "outputs": [
    {
     "data": {
      "text/html": [
       "<div>\n",
       "<style scoped>\n",
       "    .dataframe tbody tr th:only-of-type {\n",
       "        vertical-align: middle;\n",
       "    }\n",
       "\n",
       "    .dataframe tbody tr th {\n",
       "        vertical-align: top;\n",
       "    }\n",
       "\n",
       "    .dataframe thead th {\n",
       "        text-align: right;\n",
       "    }\n",
       "</style>\n",
       "<table border=\"1\" class=\"dataframe\">\n",
       "  <thead>\n",
       "    <tr style=\"text-align: right;\">\n",
       "      <th></th>\n",
       "      <th>Unnamed: 0</th>\n",
       "      <th>Unnamed: 0.1</th>\n",
       "      <th>Data</th>\n",
       "      <th>#No</th>\n",
       "      <th>Name</th>\n",
       "      <th>#Start Time</th>\n",
       "      <th>In Use</th>\n",
       "      <th>Semana</th>\n",
       "      <th>Turno</th>\n",
       "      <th>Total Bilhar</th>\n",
       "      <th>Pago</th>\n",
       "      <th>#Preço/Hora</th>\n",
       "    </tr>\n",
       "  </thead>\n",
       "  <tbody>\n",
       "    <tr>\n",
       "      <th>0</th>\n",
       "      <td>0</td>\n",
       "      <td>0</td>\n",
       "      <td>2019-01-02</td>\n",
       "      <td>20405</td>\n",
       "      <td>Guest(40)</td>\n",
       "      <td>2/17:17</td>\n",
       "      <td>8:10</td>\n",
       "      <td>1</td>\n",
       "      <td>Tarde</td>\n",
       "      <td>0.0</td>\n",
       "      <td>26.50</td>\n",
       "      <td>0.0</td>\n",
       "    </tr>\n",
       "    <tr>\n",
       "      <th>1</th>\n",
       "      <td>1</td>\n",
       "      <td>1</td>\n",
       "      <td>2019-01-02</td>\n",
       "      <td>20406</td>\n",
       "      <td>Mesa 3</td>\n",
       "      <td>2/18:30</td>\n",
       "      <td>1:01</td>\n",
       "      <td>1</td>\n",
       "      <td>Tarde</td>\n",
       "      <td>8.0</td>\n",
       "      <td>8.00</td>\n",
       "      <td>8.0</td>\n",
       "    </tr>\n",
       "    <tr>\n",
       "      <th>2</th>\n",
       "      <td>2</td>\n",
       "      <td>2</td>\n",
       "      <td>2019-01-02</td>\n",
       "      <td>20407</td>\n",
       "      <td>Mesa 9</td>\n",
       "      <td>2/19:12</td>\n",
       "      <td>0:48</td>\n",
       "      <td>1</td>\n",
       "      <td>Tarde</td>\n",
       "      <td>6.5</td>\n",
       "      <td>6.50</td>\n",
       "      <td>8.0</td>\n",
       "    </tr>\n",
       "    <tr>\n",
       "      <th>3</th>\n",
       "      <td>3</td>\n",
       "      <td>3</td>\n",
       "      <td>2019-01-02</td>\n",
       "      <td>20408</td>\n",
       "      <td>Mesa 4</td>\n",
       "      <td>2/19:31</td>\n",
       "      <td>1:07</td>\n",
       "      <td>1</td>\n",
       "      <td>Tarde</td>\n",
       "      <td>8.0</td>\n",
       "      <td>76.20</td>\n",
       "      <td>8.0</td>\n",
       "    </tr>\n",
       "    <tr>\n",
       "      <th>4</th>\n",
       "      <td>4</td>\n",
       "      <td>4</td>\n",
       "      <td>2019-01-02</td>\n",
       "      <td>20409</td>\n",
       "      <td>Mesa 2</td>\n",
       "      <td>2/19:45</td>\n",
       "      <td>3:12</td>\n",
       "      <td>1</td>\n",
       "      <td>Tarde</td>\n",
       "      <td>15.5</td>\n",
       "      <td>80.01</td>\n",
       "      <td>8.0</td>\n",
       "    </tr>\n",
       "  </tbody>\n",
       "</table>\n",
       "</div>"
      ],
      "text/plain": [
       "   Unnamed: 0  Unnamed: 0.1        Data    #No       Name #Start Time In Use  \\\n",
       "0           0             0  2019-01-02  20405  Guest(40)     2/17:17   8:10   \n",
       "1           1             1  2019-01-02  20406     Mesa 3     2/18:30   1:01   \n",
       "2           2             2  2019-01-02  20407     Mesa 9     2/19:12   0:48   \n",
       "3           3             3  2019-01-02  20408     Mesa 4     2/19:31   1:07   \n",
       "4           4             4  2019-01-02  20409     Mesa 2     2/19:45   3:12   \n",
       "\n",
       "   Semana  Turno  Total Bilhar   Pago  #Preço/Hora  \n",
       "0       1  Tarde           0.0  26.50          0.0  \n",
       "1       1  Tarde           8.0   8.00          8.0  \n",
       "2       1  Tarde           6.5   6.50          8.0  \n",
       "3       1  Tarde           8.0  76.20          8.0  \n",
       "4       1  Tarde          15.5  80.01          8.0  "
      ]
     },
     "execution_count": 3,
     "metadata": {},
     "output_type": "execute_result"
    }
   ],
   "source": [
    "billiard.head(5)"
   ]
  },
  {
   "cell_type": "markdown",
   "metadata": {
    "heading_collapsed": true,
    "hidden": true
   },
   "source": [
    "###### 2.1.1.2 Check NaN values"
   ]
  },
  {
   "cell_type": "code",
   "execution_count": 4,
   "metadata": {
    "hidden": true,
    "scrolled": false
   },
   "outputs": [
    {
     "data": {
      "text/plain": [
       "Unnamed: 0      0.0\n",
       "Unnamed: 0.1    0.0\n",
       "Data              0\n",
       "#No             0.0\n",
       "Name              0\n",
       "#Start Time       0\n",
       "In Use            0\n",
       "Semana          0.0\n",
       "Turno             0\n",
       "Total Bilhar    0.0\n",
       "Pago            0.0\n",
       "#Preço/Hora     0.0\n",
       "dtype: object"
      ]
     },
     "execution_count": 4,
     "metadata": {},
     "output_type": "execute_result"
    }
   ],
   "source": [
    "billiard[billiard.isnull()].sum()"
   ]
  },
  {
   "cell_type": "markdown",
   "metadata": {
    "heading_collapsed": true,
    "hidden": true
   },
   "source": [
    "###### 2.1.1.3 Data types"
   ]
  },
  {
   "cell_type": "code",
   "execution_count": 5,
   "metadata": {
    "hidden": true,
    "scrolled": true
   },
   "outputs": [
    {
     "data": {
      "text/plain": [
       "Unnamed: 0        int64\n",
       "Unnamed: 0.1      int64\n",
       "Data             object\n",
       "#No               int64\n",
       "Name             object\n",
       "#Start Time      object\n",
       "In Use           object\n",
       "Semana            int64\n",
       "Turno            object\n",
       "Total Bilhar    float64\n",
       "Pago            float64\n",
       "#Preço/Hora     float64\n",
       "dtype: object"
      ]
     },
     "execution_count": 5,
     "metadata": {},
     "output_type": "execute_result"
    }
   ],
   "source": [
    "billiard.dtypes"
   ]
  },
  {
   "cell_type": "markdown",
   "metadata": {
    "heading_collapsed": true,
    "hidden": true
   },
   "source": [
    "###### 2.1.1.4 Data dimensions"
   ]
  },
  {
   "cell_type": "code",
   "execution_count": 6,
   "metadata": {
    "hidden": true
   },
   "outputs": [
    {
     "name": "stdout",
     "output_type": "stream",
     "text": [
      "Qty of rows: 14015\n",
      "Qty of columns: 14015\n"
     ]
    }
   ],
   "source": [
    "print(f'Qty of rows: {billiard.shape[0]}')\n",
    "print(f'Qty of columns: {billiard.shape[0]}')"
   ]
  },
  {
   "cell_type": "markdown",
   "metadata": {
    "heading_collapsed": true,
    "hidden": true
   },
   "source": [
    "### 2.1.2 Data Cleaning"
   ]
  },
  {
   "cell_type": "markdown",
   "metadata": {
    "heading_collapsed": true,
    "hidden": true
   },
   "source": [
    "###### 2.1.2.1 Adjusting #Start Time to datetimeindex format"
   ]
  },
  {
   "cell_type": "code",
   "execution_count": 7,
   "metadata": {
    "hidden": true
   },
   "outputs": [],
   "source": [
    "billiard['start_time'] = billiard['#Start Time'].apply(lambda x: x.split('/')[1])"
   ]
  },
  {
   "cell_type": "markdown",
   "metadata": {
    "heading_collapsed": true,
    "hidden": true
   },
   "source": [
    "###### 2.1.2.2 Adjusting #Data to datetime format"
   ]
  },
  {
   "cell_type": "code",
   "execution_count": 8,
   "metadata": {
    "hidden": true
   },
   "outputs": [],
   "source": [
    "billiard['Data'] = billiard['Data'].str.replace('/', '-').str.strip()"
   ]
  },
  {
   "cell_type": "markdown",
   "metadata": {
    "heading_collapsed": true,
    "hidden": true
   },
   "source": [
    "###### 2.1.2.3 Creating datetime feature with datetime dtype"
   ]
  },
  {
   "cell_type": "code",
   "execution_count": 9,
   "metadata": {
    "hidden": true
   },
   "outputs": [],
   "source": [
    "billiard['datetime'] = billiard['Data'] + '-' + billiard['start_time']\n",
    "billiard['datetime'] = pd.to_datetime(billiard['datetime'])"
   ]
  },
  {
   "cell_type": "markdown",
   "metadata": {
    "heading_collapsed": true,
    "hidden": true
   },
   "source": [
    "###### 2.1.2.4 Changing interesting feature names"
   ]
  },
  {
   "cell_type": "code",
   "execution_count": 10,
   "metadata": {
    "hidden": true
   },
   "outputs": [],
   "source": [
    "billiard.rename(columns={'#No':'id'}, inplace=True)\n",
    "billiard.rename(columns={'Name':'purchaser'}, inplace=True)\n",
    "billiard.rename(columns={'Total Bilhar':'sale'}, inplace=True)\n",
    "billiard.rename(columns={'#Preço/Hora':'price'}, inplace=True)\n",
    "billiard.rename(columns={'Semana':'week'}, inplace=True)\n",
    "billiard.rename(columns={'Turno':'work_shift'}, inplace=True)\n",
    "billiard.rename(columns={'In Use':'in_use'}, inplace=True)"
   ]
  },
  {
   "cell_type": "markdown",
   "metadata": {
    "heading_collapsed": true,
    "hidden": true
   },
   "source": [
    "###### 2.1.2.5 Creating quantity feature"
   ]
  },
  {
   "cell_type": "code",
   "execution_count": 11,
   "metadata": {
    "hidden": true
   },
   "outputs": [],
   "source": [
    "billiard['quantity'] = round(billiard['sale'] / billiard['price'], 1)"
   ]
  },
  {
   "cell_type": "markdown",
   "metadata": {
    "heading_collapsed": true,
    "hidden": true
   },
   "source": [
    "###### 2.1.2.6 Creating item feature"
   ]
  },
  {
   "cell_type": "code",
   "execution_count": 12,
   "metadata": {
    "hidden": true
   },
   "outputs": [],
   "source": [
    "billiard['item'] = 'bilhar'"
   ]
  },
  {
   "cell_type": "markdown",
   "metadata": {
    "heading_collapsed": true,
    "hidden": true
   },
   "source": [
    "###### 2.1.2.7 Droping features"
   ]
  },
  {
   "cell_type": "code",
   "execution_count": 13,
   "metadata": {
    "hidden": true
   },
   "outputs": [],
   "source": [
    "billiard.drop(['Pago', 'Data', 'start_time', '#Start Time'], axis=1, inplace=True)"
   ]
  },
  {
   "cell_type": "markdown",
   "metadata": {
    "heading_collapsed": true,
    "hidden": true
   },
   "source": [
    "## 2.2 Sales"
   ]
  },
  {
   "cell_type": "markdown",
   "metadata": {
    "heading_collapsed": true,
    "hidden": true
   },
   "source": [
    "### 2.2.1 General Analysis"
   ]
  },
  {
   "cell_type": "markdown",
   "metadata": {
    "heading_collapsed": true,
    "hidden": true
   },
   "source": [
    "###### 2.2.1.1 Looking dataset"
   ]
  },
  {
   "cell_type": "code",
   "execution_count": 14,
   "metadata": {
    "hidden": true,
    "scrolled": true
   },
   "outputs": [
    {
     "data": {
      "text/html": [
       "<div>\n",
       "<style scoped>\n",
       "    .dataframe tbody tr th:only-of-type {\n",
       "        vertical-align: middle;\n",
       "    }\n",
       "\n",
       "    .dataframe tbody tr th {\n",
       "        vertical-align: top;\n",
       "    }\n",
       "\n",
       "    .dataframe thead th {\n",
       "        text-align: right;\n",
       "    }\n",
       "</style>\n",
       "<table border=\"1\" class=\"dataframe\">\n",
       "  <thead>\n",
       "    <tr style=\"text-align: right;\">\n",
       "      <th></th>\n",
       "      <th>#Time</th>\n",
       "      <th>Purchaser</th>\n",
       "      <th>Item</th>\n",
       "      <th>#Voucher</th>\n",
       "      <th>Semana</th>\n",
       "      <th>Turno</th>\n",
       "      <th>Classe 1</th>\n",
       "      <th>Classe 2</th>\n",
       "      <th>Classe 3</th>\n",
       "      <th>Preço</th>\n",
       "      <th>Total Venda</th>\n",
       "      <th>Data</th>\n",
       "      <th>Quantidade</th>\n",
       "    </tr>\n",
       "  </thead>\n",
       "  <tbody>\n",
       "    <tr>\n",
       "      <th>0</th>\n",
       "      <td>3/00:47:08</td>\n",
       "      <td>Guest(37)</td>\n",
       "      <td>Caips 2</td>\n",
       "      <td>20425</td>\n",
       "      <td>1</td>\n",
       "      <td>Noite</td>\n",
       "      <td>Bar</td>\n",
       "      <td>Drink</td>\n",
       "      <td>NaN</td>\n",
       "      <td>13.0</td>\n",
       "      <td>13.0</td>\n",
       "      <td>1/2/2019</td>\n",
       "      <td>1</td>\n",
       "    </tr>\n",
       "    <tr>\n",
       "      <th>1</th>\n",
       "      <td>2/22:58:30</td>\n",
       "      <td>Mesa 5</td>\n",
       "      <td>1500</td>\n",
       "      <td>20417</td>\n",
       "      <td>1</td>\n",
       "      <td>Noite</td>\n",
       "      <td>Bar</td>\n",
       "      <td>Cerveja</td>\n",
       "      <td>Mainstream</td>\n",
       "      <td>8.7</td>\n",
       "      <td>8.7</td>\n",
       "      <td>1/2/2019</td>\n",
       "      <td>1</td>\n",
       "    </tr>\n",
       "    <tr>\n",
       "      <th>2</th>\n",
       "      <td>2/23:02:40</td>\n",
       "      <td>Mesa 1</td>\n",
       "      <td>1500</td>\n",
       "      <td>20415</td>\n",
       "      <td>1</td>\n",
       "      <td>Noite</td>\n",
       "      <td>Bar</td>\n",
       "      <td>Cerveja</td>\n",
       "      <td>Mainstream</td>\n",
       "      <td>8.7</td>\n",
       "      <td>8.7</td>\n",
       "      <td>1/2/2019</td>\n",
       "      <td>1</td>\n",
       "    </tr>\n",
       "    <tr>\n",
       "      <th>3</th>\n",
       "      <td>2/19:32:10</td>\n",
       "      <td>Mesa 4</td>\n",
       "      <td>Agua c/ Gás</td>\n",
       "      <td>20408</td>\n",
       "      <td>1</td>\n",
       "      <td>Tarde</td>\n",
       "      <td>Bar</td>\n",
       "      <td>Sem Álcool</td>\n",
       "      <td>NaN</td>\n",
       "      <td>3.5</td>\n",
       "      <td>7.0</td>\n",
       "      <td>1/2/2019</td>\n",
       "      <td>2</td>\n",
       "    </tr>\n",
       "    <tr>\n",
       "      <th>4</th>\n",
       "      <td>2/22:49:33</td>\n",
       "      <td>Guest(25)</td>\n",
       "      <td>Agua c/ Gás</td>\n",
       "      <td>20413</td>\n",
       "      <td>1</td>\n",
       "      <td>Noite</td>\n",
       "      <td>Bar</td>\n",
       "      <td>Sem Álcool</td>\n",
       "      <td>NaN</td>\n",
       "      <td>3.5</td>\n",
       "      <td>3.5</td>\n",
       "      <td>1/2/2019</td>\n",
       "      <td>1</td>\n",
       "    </tr>\n",
       "  </tbody>\n",
       "</table>\n",
       "</div>"
      ],
      "text/plain": [
       "         #Time  Purchaser         Item  #Voucher  Semana  Turno Classe 1  \\\n",
       "0   3/00:47:08  Guest(37)      Caips 2     20425       1  Noite      Bar   \n",
       "1   2/22:58:30     Mesa 5         1500     20417       1  Noite      Bar   \n",
       "2   2/23:02:40     Mesa 1         1500     20415       1  Noite      Bar   \n",
       "3   2/19:32:10     Mesa 4  Agua c/ Gás     20408       1  Tarde      Bar   \n",
       "4   2/22:49:33  Guest(25)  Agua c/ Gás     20413       1  Noite      Bar   \n",
       "\n",
       "     Classe 2    Classe 3  Preço  Total Venda      Data  Quantidade  \n",
       "0       Drink         NaN   13.0         13.0  1/2/2019           1  \n",
       "1     Cerveja  Mainstream    8.7          8.7  1/2/2019           1  \n",
       "2     Cerveja  Mainstream    8.7          8.7  1/2/2019           1  \n",
       "3  Sem Álcool         NaN    3.5          7.0  1/2/2019           2  \n",
       "4  Sem Álcool         NaN    3.5          3.5  1/2/2019           1  "
      ]
     },
     "execution_count": 14,
     "metadata": {},
     "output_type": "execute_result"
    }
   ],
   "source": [
    "sales.head(5)"
   ]
  },
  {
   "cell_type": "markdown",
   "metadata": {
    "heading_collapsed": true,
    "hidden": true
   },
   "source": [
    "###### 2.2.1.2 Check NaN's values"
   ]
  },
  {
   "cell_type": "code",
   "execution_count": 15,
   "metadata": {
    "hidden": true,
    "scrolled": true
   },
   "outputs": [
    {
     "data": {
      "text/plain": [
       "#Time              0\n",
       "Purchaser       3157\n",
       "Item               0\n",
       "#Voucher           0\n",
       "Semana             0\n",
       "Turno              0\n",
       "Classe 1           0\n",
       "Classe 2        3736\n",
       "Classe 3       20103\n",
       "Preço              0\n",
       "Total Venda        0\n",
       "Data               0\n",
       "Quantidade         0\n",
       "dtype: int64"
      ]
     },
     "execution_count": 15,
     "metadata": {},
     "output_type": "execute_result"
    }
   ],
   "source": [
    "sales.isnull().sum()"
   ]
  },
  {
   "cell_type": "markdown",
   "metadata": {
    "hidden": true
   },
   "source": [
    "O sistema gestor de vendas utilizado tem uma modalidade de vendas que não vincula o produto à uma mesa de consumo, geralmente utilizados quando ocorre uma venda avulsa, que é paga no ato da compra. Tais produtos são inseridos no sistema sem informação no campo \"Purchaser\", o que justifica os 8930 NaN Values nessa feature. As features Classe 2 e Classe 3 possuem NaN Values porque alguns produtos são cadastrados e classificados apenas no primeiro nível (Classe 1)."
   ]
  },
  {
   "cell_type": "markdown",
   "metadata": {
    "heading_collapsed": true,
    "hidden": true
   },
   "source": [
    "###### 2.2.1.3 Data dimensions"
   ]
  },
  {
   "cell_type": "code",
   "execution_count": 16,
   "metadata": {
    "hidden": true,
    "scrolled": true
   },
   "outputs": [
    {
     "name": "stdout",
     "output_type": "stream",
     "text": [
      "Quantity of 34209 rows\n",
      "Quantity of 13 columns\n"
     ]
    }
   ],
   "source": [
    "print(f'Quantity of {sales.shape[0]} rows')\n",
    "print(f'Quantity of {sales.shape[1]} columns')"
   ]
  },
  {
   "cell_type": "markdown",
   "metadata": {
    "heading_collapsed": true,
    "hidden": true
   },
   "source": [
    "###### 2.2.1.4 Data types"
   ]
  },
  {
   "cell_type": "code",
   "execution_count": 17,
   "metadata": {
    "hidden": true,
    "scrolled": true
   },
   "outputs": [
    {
     "data": {
      "text/plain": [
       "#Time           object\n",
       "Purchaser       object\n",
       "Item            object\n",
       "#Voucher         int64\n",
       "Semana           int64\n",
       "Turno           object\n",
       "Classe 1        object\n",
       "Classe 2        object\n",
       "Classe 3        object\n",
       "Preço          float64\n",
       "Total Venda    float64\n",
       "Data            object\n",
       "Quantidade       int64\n",
       "dtype: object"
      ]
     },
     "execution_count": 17,
     "metadata": {},
     "output_type": "execute_result"
    }
   ],
   "source": [
    "sales.dtypes"
   ]
  },
  {
   "cell_type": "markdown",
   "metadata": {
    "heading_collapsed": true,
    "hidden": true
   },
   "source": [
    "### 2.2.2 Data Cleaning"
   ]
  },
  {
   "cell_type": "markdown",
   "metadata": {
    "heading_collapsed": true,
    "hidden": true
   },
   "source": [
    "###### 2.1.2.1 Catch date informations"
   ]
  },
  {
   "cell_type": "code",
   "execution_count": 18,
   "metadata": {
    "hidden": true
   },
   "outputs": [],
   "source": [
    "sales['Time'] = sales['#Time'].apply(lambda x: x.split('/')[1])\n",
    "sales['datetime'] = sales['Data'] + '-' + sales['Time']"
   ]
  },
  {
   "cell_type": "markdown",
   "metadata": {
    "heading_collapsed": true,
    "hidden": true
   },
   "source": [
    "###### 2.1.2.2 Creating datetime feature"
   ]
  },
  {
   "cell_type": "code",
   "execution_count": 19,
   "metadata": {
    "hidden": true
   },
   "outputs": [],
   "source": [
    "sales['datetime'] = pd.to_datetime(sales['datetime'])"
   ]
  },
  {
   "cell_type": "markdown",
   "metadata": {
    "heading_collapsed": true,
    "hidden": true
   },
   "source": [
    "###### 2.1.2.3 Changing interesting feature names"
   ]
  },
  {
   "cell_type": "code",
   "execution_count": 20,
   "metadata": {
    "hidden": true
   },
   "outputs": [],
   "source": [
    "sales.rename(columns={'#Voucher':'id'}, inplace=True)\n",
    "sales.rename(columns={'Total Venda':'sale'}, inplace=True)\n",
    "sales.rename(columns={'Preço':'price'}, inplace=True)\n",
    "sales.rename(columns={'Classe 1':'class1'}, inplace=True)\n",
    "sales.rename(columns={'Semana':'week'}, inplace=True)\n",
    "sales.rename(columns={'Turno':'work_shift'}, inplace=True)\n",
    "sales.rename(columns={'Purchaser':'purchaser'}, inplace=True)\n",
    "sales.rename(columns={'Item':'item'}, inplace=True)\n",
    "sales.rename(columns={'Quantidade':'quantity'}, inplace=True)"
   ]
  },
  {
   "cell_type": "markdown",
   "metadata": {
    "heading_collapsed": true,
    "hidden": true
   },
   "source": [
    "###### 2.1.2.4 Removing features"
   ]
  },
  {
   "cell_type": "code",
   "execution_count": 21,
   "metadata": {
    "hidden": true
   },
   "outputs": [],
   "source": [
    "sales.drop(['#Time', 'Data', 'Time', 'Classe 2', 'Classe 3'], axis=1, inplace=True)"
   ]
  },
  {
   "cell_type": "markdown",
   "metadata": {
    "heading_collapsed": true,
    "hidden": true
   },
   "source": [
    "## 2.3 Climate"
   ]
  },
  {
   "cell_type": "markdown",
   "metadata": {
    "heading_collapsed": true,
    "hidden": true
   },
   "source": [
    "### 2.3.1 General Analysis"
   ]
  },
  {
   "cell_type": "markdown",
   "metadata": {
    "heading_collapsed": true,
    "hidden": true
   },
   "source": [
    "###### 2.3.1.1 Looking dataframe"
   ]
  },
  {
   "cell_type": "code",
   "execution_count": 22,
   "metadata": {
    "hidden": true,
    "scrolled": false
   },
   "outputs": [
    {
     "data": {
      "text/html": [
       "<div>\n",
       "<style scoped>\n",
       "    .dataframe tbody tr th:only-of-type {\n",
       "        vertical-align: middle;\n",
       "    }\n",
       "\n",
       "    .dataframe tbody tr th {\n",
       "        vertical-align: top;\n",
       "    }\n",
       "\n",
       "    .dataframe thead th {\n",
       "        text-align: right;\n",
       "    }\n",
       "</style>\n",
       "<table border=\"1\" class=\"dataframe\">\n",
       "  <thead>\n",
       "    <tr style=\"text-align: right;\">\n",
       "      <th></th>\n",
       "      <th>Data</th>\n",
       "      <th>Temperatura mínima diária</th>\n",
       "      <th>Temperatura máxima diária</th>\n",
       "      <th>Vento constante máximo</th>\n",
       "      <th>Rajada de vento máxima</th>\n",
       "      <th>Precipitação diária total</th>\n",
       "      <th>Espessura de neve</th>\n",
       "      <th>Pressão</th>\n",
       "      <th>Ícone</th>\n",
       "      <th>Descrição</th>\n",
       "    </tr>\n",
       "  </thead>\n",
       "  <tbody>\n",
       "    <tr>\n",
       "      <th>0</th>\n",
       "      <td>1/1/2019</td>\n",
       "      <td>22°C</td>\n",
       "      <td>31°C</td>\n",
       "      <td>21 Km/h</td>\n",
       "      <td>NaN</td>\n",
       "      <td>NaN</td>\n",
       "      <td>NaN</td>\n",
       "      <td>NaN</td>\n",
       "      <td>NaN</td>\n",
       "      <td>Chuva</td>\n",
       "    </tr>\n",
       "    <tr>\n",
       "      <th>1</th>\n",
       "      <td>2/1/2019</td>\n",
       "      <td>22°C</td>\n",
       "      <td>33°C</td>\n",
       "      <td>24 Km/h</td>\n",
       "      <td>42 Km/h</td>\n",
       "      <td>0mm</td>\n",
       "      <td>NaN</td>\n",
       "      <td>NaN</td>\n",
       "      <td>NaN</td>\n",
       "      <td>Tempestade de raios</td>\n",
       "    </tr>\n",
       "    <tr>\n",
       "      <th>2</th>\n",
       "      <td>3/1/2019</td>\n",
       "      <td>22°C</td>\n",
       "      <td>33°C</td>\n",
       "      <td>22 Km/h</td>\n",
       "      <td>NaN</td>\n",
       "      <td>0mm</td>\n",
       "      <td>NaN</td>\n",
       "      <td>NaN</td>\n",
       "      <td>NaN</td>\n",
       "      <td>eventos climáticos não informados</td>\n",
       "    </tr>\n",
       "    <tr>\n",
       "      <th>3</th>\n",
       "      <td>4/1/2019</td>\n",
       "      <td>22°C</td>\n",
       "      <td>27°C</td>\n",
       "      <td>22 Km/h</td>\n",
       "      <td>NaN</td>\n",
       "      <td>NaN</td>\n",
       "      <td>NaN</td>\n",
       "      <td>NaN</td>\n",
       "      <td>NaN</td>\n",
       "      <td>Tempestade de raios</td>\n",
       "    </tr>\n",
       "    <tr>\n",
       "      <th>4</th>\n",
       "      <td>NaN</td>\n",
       "      <td>NaN</td>\n",
       "      <td>NaN</td>\n",
       "      <td>NaN</td>\n",
       "      <td>NaN</td>\n",
       "      <td>NaN</td>\n",
       "      <td>NaN</td>\n",
       "      <td>NaN</td>\n",
       "      <td>NaN</td>\n",
       "      <td>Chuva</td>\n",
       "    </tr>\n",
       "  </tbody>\n",
       "</table>\n",
       "</div>"
      ],
      "text/plain": [
       "       Data Temperatura mínima diária Temperatura máxima diária  \\\n",
       "0  1/1/2019                      22°C                      31°C   \n",
       "1  2/1/2019                      22°C                      33°C   \n",
       "2  3/1/2019                      22°C                      33°C   \n",
       "3  4/1/2019                      22°C                      27°C   \n",
       "4       NaN                       NaN                       NaN   \n",
       "\n",
       "  Vento constante máximo Rajada de vento máxima Precipitação diária total  \\\n",
       "0                21 Km/h                    NaN                       NaN   \n",
       "1                24 Km/h                42 Km/h                       0mm   \n",
       "2                22 Km/h                    NaN                       0mm   \n",
       "3                22 Km/h                    NaN                       NaN   \n",
       "4                    NaN                    NaN                       NaN   \n",
       "\n",
       "   Espessura de neve  Pressão  Ícone                          Descrição  \n",
       "0                NaN      NaN    NaN                              Chuva  \n",
       "1                NaN      NaN    NaN                Tempestade de raios  \n",
       "2                NaN      NaN    NaN  eventos climáticos não informados  \n",
       "3                NaN      NaN    NaN                Tempestade de raios  \n",
       "4                NaN      NaN    NaN                              Chuva  "
      ]
     },
     "execution_count": 22,
     "metadata": {},
     "output_type": "execute_result"
    }
   ],
   "source": [
    "climate.head(5)"
   ]
  },
  {
   "cell_type": "markdown",
   "metadata": {
    "heading_collapsed": true,
    "hidden": true
   },
   "source": [
    "###### 2.3.1.2 Data dimensions"
   ]
  },
  {
   "cell_type": "code",
   "execution_count": 23,
   "metadata": {
    "hidden": true,
    "scrolled": true
   },
   "outputs": [
    {
     "name": "stdout",
     "output_type": "stream",
     "text": [
      "Quantity of rows: 529\n",
      "Quantity of columns: 10\n"
     ]
    }
   ],
   "source": [
    "print(f'Quantity of rows: {climate.shape[0]}')\n",
    "print(f'Quantity of columns: {climate.shape[1]}')"
   ]
  },
  {
   "cell_type": "markdown",
   "metadata": {
    "heading_collapsed": true,
    "hidden": true
   },
   "source": [
    "###### 2.3.1.3 Check NaN values"
   ]
  },
  {
   "cell_type": "code",
   "execution_count": 24,
   "metadata": {
    "hidden": true,
    "scrolled": true
   },
   "outputs": [
    {
     "data": {
      "text/plain": [
       "Data                          95\n",
       "Temperatura mínima diária     96\n",
       "Temperatura máxima diária     96\n",
       "Vento constante máximo       162\n",
       "Rajada de vento máxima       497\n",
       "Precipitação diária total    250\n",
       "Espessura de neve            529\n",
       "Pressão                      529\n",
       "Ícone                        529\n",
       "Descrição                      0\n",
       "dtype: int64"
      ]
     },
     "execution_count": 24,
     "metadata": {},
     "output_type": "execute_result"
    }
   ],
   "source": [
    "climate.isnull().sum()"
   ]
  },
  {
   "cell_type": "markdown",
   "metadata": {
    "heading_collapsed": true,
    "hidden": true
   },
   "source": [
    "### 2.3.2 Data Cleaning"
   ]
  },
  {
   "cell_type": "markdown",
   "metadata": {
    "heading_collapsed": true,
    "hidden": true
   },
   "source": [
    "###### 2.3.2.1 Removing rows where date is null"
   ]
  },
  {
   "cell_type": "code",
   "execution_count": 25,
   "metadata": {
    "hidden": true
   },
   "outputs": [],
   "source": [
    "climate = climate[climate['Data'].notnull()]"
   ]
  },
  {
   "cell_type": "markdown",
   "metadata": {
    "heading_collapsed": true,
    "hidden": true
   },
   "source": [
    "###### 2.3.2.2 Removing units of measure"
   ]
  },
  {
   "cell_type": "code",
   "execution_count": 26,
   "metadata": {
    "hidden": true
   },
   "outputs": [],
   "source": [
    "climate.loc[climate['Temperatura mínima diária'].notnull(), 'Temperatura mínima diária'] = climate['Temperatura mínima diária'].dropna().apply(lambda x: re.findall('\\d*', x)[0])\n",
    "climate.loc[climate['Temperatura máxima diária'].notnull(), 'Temperatura máxima diária'] = climate['Temperatura máxima diária'].dropna().apply(lambda x: re.findall('\\d*', x)[0])\n",
    "climate.loc[climate['Vento constante máximo'].notnull(), 'Vento constante máximo'] = climate['Vento constante máximo'].dropna().apply(lambda x: re.findall('\\d*', x)[0])\n",
    "climate.loc[climate['Precipitação diária total'].notnull(), 'Precipitação diária total'] = climate['Precipitação diária total'].dropna().apply(lambda x: re.findall('\\d*', x)[0])"
   ]
  },
  {
   "cell_type": "markdown",
   "metadata": {
    "heading_collapsed": true,
    "hidden": true
   },
   "source": [
    "###### 2.3.2.3 Adjusting datetime feature"
   ]
  },
  {
   "cell_type": "code",
   "execution_count": 27,
   "metadata": {
    "hidden": true
   },
   "outputs": [],
   "source": [
    "climate.rename(columns={'Data': 'date'}, inplace=True)\n",
    "\n",
    "climate['date'] = pd.to_datetime(climate['date']).dt.date\n",
    "climate['date'] = pd.to_datetime(climate['date'])\n",
    "\n",
    "climate.set_index('date', inplace=True)"
   ]
  },
  {
   "cell_type": "markdown",
   "metadata": {
    "heading_collapsed": true,
    "hidden": true
   },
   "source": [
    "###### 2.3.2.4 Removing some features"
   ]
  },
  {
   "cell_type": "code",
   "execution_count": 28,
   "metadata": {
    "hidden": true
   },
   "outputs": [],
   "source": [
    "climate.drop(['Espessura de neve', 'Pressão', 'Ícone', 'Rajada de vento máxima'], axis=1, inplace=True)"
   ]
  },
  {
   "cell_type": "markdown",
   "metadata": {
    "heading_collapsed": true,
    "hidden": true
   },
   "source": [
    "## 2.4 Concating Dataframes"
   ]
  },
  {
   "cell_type": "markdown",
   "metadata": {
    "heading_collapsed": true,
    "hidden": true
   },
   "source": [
    "###### 2.4.1 Concating billiard and sales"
   ]
  },
  {
   "cell_type": "code",
   "execution_count": 29,
   "metadata": {
    "hidden": true
   },
   "outputs": [],
   "source": [
    "df = pd.concat([billiard, sales], axis=0)"
   ]
  },
  {
   "cell_type": "markdown",
   "metadata": {
    "heading_collapsed": true,
    "hidden": true
   },
   "source": [
    "###### 2.4.2 Pivoting table to date x class1"
   ]
  },
  {
   "cell_type": "code",
   "execution_count": 30,
   "metadata": {
    "hidden": true
   },
   "outputs": [],
   "source": [
    "backup = df.copy()"
   ]
  },
  {
   "cell_type": "code",
   "execution_count": 31,
   "metadata": {
    "hidden": true
   },
   "outputs": [],
   "source": [
    "df = backup.copy()\n",
    "\n",
    "df.loc[df['class1'].isnull(), 'class1'] = 'Bilhar'"
   ]
  },
  {
   "cell_type": "code",
   "execution_count": 32,
   "metadata": {
    "hidden": true
   },
   "outputs": [],
   "source": [
    "df['datetime'] = pd.to_datetime(df['datetime'])\n",
    "df['date'] = df['datetime'].dt.date\n",
    "df['date'] = pd.to_datetime(df['date'])"
   ]
  },
  {
   "cell_type": "code",
   "execution_count": 33,
   "metadata": {
    "hidden": true
   },
   "outputs": [],
   "source": [
    "df = df.pivot_table(columns='class1', index='date', values='sale', aggfunc='sum', fill_value=0)"
   ]
  },
  {
   "cell_type": "markdown",
   "metadata": {
    "heading_collapsed": true,
    "hidden": true
   },
   "source": [
    "###### 2.4.3 Removing \"#N/D\" feature"
   ]
  },
  {
   "cell_type": "code",
   "execution_count": 34,
   "metadata": {
    "hidden": true
   },
   "outputs": [
    {
     "data": {
      "text/plain": [
       "1"
      ]
     },
     "execution_count": 34,
     "metadata": {},
     "output_type": "execute_result"
    }
   ],
   "source": [
    "df.loc[df['#N/D'] != 0, '#N/D'].count()"
   ]
  },
  {
   "cell_type": "code",
   "execution_count": 35,
   "metadata": {
    "hidden": true
   },
   "outputs": [],
   "source": [
    "df.drop('#N/D', axis=1, inplace=True)"
   ]
  },
  {
   "cell_type": "markdown",
   "metadata": {
    "heading_collapsed": true,
    "hidden": true
   },
   "source": [
    "###### 2.4.4 Concating df and climate"
   ]
  },
  {
   "cell_type": "code",
   "execution_count": 36,
   "metadata": {
    "hidden": true
   },
   "outputs": [],
   "source": [
    "backup = df.copy()"
   ]
  },
  {
   "cell_type": "code",
   "execution_count": 37,
   "metadata": {
    "hidden": true
   },
   "outputs": [],
   "source": [
    "df = backup.copy()\n",
    "\n",
    "df = df.merge(climate, on='date', how='left')"
   ]
  },
  {
   "cell_type": "markdown",
   "metadata": {
    "heading_collapsed": true,
    "hidden": true
   },
   "source": [
    "## 2.5 Integral Dataframe"
   ]
  },
  {
   "cell_type": "markdown",
   "metadata": {
    "heading_collapsed": true,
    "hidden": true
   },
   "source": [
    "###### 2.4.1 Looking dataframe"
   ]
  },
  {
   "cell_type": "code",
   "execution_count": 38,
   "metadata": {
    "hidden": true,
    "scrolled": false
   },
   "outputs": [
    {
     "data": {
      "text/html": [
       "<div>\n",
       "<style scoped>\n",
       "    .dataframe tbody tr th:only-of-type {\n",
       "        vertical-align: middle;\n",
       "    }\n",
       "\n",
       "    .dataframe tbody tr th {\n",
       "        vertical-align: top;\n",
       "    }\n",
       "\n",
       "    .dataframe thead th {\n",
       "        text-align: right;\n",
       "    }\n",
       "</style>\n",
       "<table border=\"1\" class=\"dataframe\">\n",
       "  <thead>\n",
       "    <tr style=\"text-align: right;\">\n",
       "      <th></th>\n",
       "      <th>Bar</th>\n",
       "      <th>Bilhar</th>\n",
       "      <th>Bomboniere</th>\n",
       "      <th>Cozinha</th>\n",
       "      <th>Gorjeta</th>\n",
       "      <th>Tabacaria</th>\n",
       "      <th>Temperatura mínima diária</th>\n",
       "      <th>Temperatura máxima diária</th>\n",
       "      <th>Vento constante máximo</th>\n",
       "      <th>Precipitação diária total</th>\n",
       "      <th>Descrição</th>\n",
       "    </tr>\n",
       "    <tr>\n",
       "      <th>date</th>\n",
       "      <th></th>\n",
       "      <th></th>\n",
       "      <th></th>\n",
       "      <th></th>\n",
       "      <th></th>\n",
       "      <th></th>\n",
       "      <th></th>\n",
       "      <th></th>\n",
       "      <th></th>\n",
       "      <th></th>\n",
       "      <th></th>\n",
       "    </tr>\n",
       "  </thead>\n",
       "  <tbody>\n",
       "    <tr>\n",
       "      <th>2019-11-28</th>\n",
       "      <td>573.51</td>\n",
       "      <td>226.5</td>\n",
       "      <td>0.0</td>\n",
       "      <td>173.5</td>\n",
       "      <td>35.4</td>\n",
       "      <td>1.51</td>\n",
       "      <td>21</td>\n",
       "      <td>30</td>\n",
       "      <td>24</td>\n",
       "      <td>NaN</td>\n",
       "      <td>Chuva</td>\n",
       "    </tr>\n",
       "    <tr>\n",
       "      <th>2019-06-22</th>\n",
       "      <td>1040.84</td>\n",
       "      <td>346.0</td>\n",
       "      <td>11.0</td>\n",
       "      <td>251.4</td>\n",
       "      <td>55.4</td>\n",
       "      <td>47.00</td>\n",
       "      <td>14</td>\n",
       "      <td>27</td>\n",
       "      <td>15</td>\n",
       "      <td>0</td>\n",
       "      <td>eventos climáticos não informados</td>\n",
       "    </tr>\n",
       "    <tr>\n",
       "      <th>2019-02-02</th>\n",
       "      <td>1346.75</td>\n",
       "      <td>372.9</td>\n",
       "      <td>2.0</td>\n",
       "      <td>304.9</td>\n",
       "      <td>61.4</td>\n",
       "      <td>34.50</td>\n",
       "      <td>21</td>\n",
       "      <td>36</td>\n",
       "      <td>15</td>\n",
       "      <td>NaN</td>\n",
       "      <td>Tempestade de raios</td>\n",
       "    </tr>\n",
       "    <tr>\n",
       "      <th>2019-03-23</th>\n",
       "      <td>1584.77</td>\n",
       "      <td>470.5</td>\n",
       "      <td>6.0</td>\n",
       "      <td>620.1</td>\n",
       "      <td>78.3</td>\n",
       "      <td>88.00</td>\n",
       "      <td>19</td>\n",
       "      <td>29</td>\n",
       "      <td>15</td>\n",
       "      <td>0</td>\n",
       "      <td>eventos climáticos não informados</td>\n",
       "    </tr>\n",
       "    <tr>\n",
       "      <th>2019-01-03</th>\n",
       "      <td>320.12</td>\n",
       "      <td>123.0</td>\n",
       "      <td>2.5</td>\n",
       "      <td>64.7</td>\n",
       "      <td>10.6</td>\n",
       "      <td>33.00</td>\n",
       "      <td>22</td>\n",
       "      <td>27</td>\n",
       "      <td>22</td>\n",
       "      <td>NaN</td>\n",
       "      <td>Tempestade de raios</td>\n",
       "    </tr>\n",
       "  </tbody>\n",
       "</table>\n",
       "</div>"
      ],
      "text/plain": [
       "                Bar  Bilhar  Bomboniere  Cozinha  Gorjeta  Tabacaria  \\\n",
       "date                                                                   \n",
       "2019-11-28   573.51   226.5         0.0    173.5     35.4       1.51   \n",
       "2019-06-22  1040.84   346.0        11.0    251.4     55.4      47.00   \n",
       "2019-02-02  1346.75   372.9         2.0    304.9     61.4      34.50   \n",
       "2019-03-23  1584.77   470.5         6.0    620.1     78.3      88.00   \n",
       "2019-01-03   320.12   123.0         2.5     64.7     10.6      33.00   \n",
       "\n",
       "           Temperatura mínima diária Temperatura máxima diária  \\\n",
       "date                                                             \n",
       "2019-11-28                        21                        30   \n",
       "2019-06-22                        14                        27   \n",
       "2019-02-02                        21                        36   \n",
       "2019-03-23                        19                        29   \n",
       "2019-01-03                        22                        27   \n",
       "\n",
       "           Vento constante máximo Precipitação diária total  \\\n",
       "date                                                          \n",
       "2019-11-28                     24                       NaN   \n",
       "2019-06-22                     15                         0   \n",
       "2019-02-02                     15                       NaN   \n",
       "2019-03-23                     15                         0   \n",
       "2019-01-03                     22                       NaN   \n",
       "\n",
       "                                    Descrição  \n",
       "date                                           \n",
       "2019-11-28                              Chuva  \n",
       "2019-06-22  eventos climáticos não informados  \n",
       "2019-02-02                Tempestade de raios  \n",
       "2019-03-23  eventos climáticos não informados  \n",
       "2019-01-03                Tempestade de raios  "
      ]
     },
     "execution_count": 38,
     "metadata": {},
     "output_type": "execute_result"
    }
   ],
   "source": [
    "df.sample(5)"
   ]
  },
  {
   "cell_type": "markdown",
   "metadata": {
    "heading_collapsed": true,
    "hidden": true
   },
   "source": [
    "###### 2.4.2 Data dimensions"
   ]
  },
  {
   "cell_type": "code",
   "execution_count": 39,
   "metadata": {
    "hidden": true
   },
   "outputs": [
    {
     "name": "stdout",
     "output_type": "stream",
     "text": [
      "Number of rows: 378\n",
      "Number of columns: 11\n"
     ]
    }
   ],
   "source": [
    "print(f'Number of rows: {df.shape[0]}')\n",
    "print(f'Number of columns: {df.shape[1]}')"
   ]
  },
  {
   "cell_type": "markdown",
   "metadata": {
    "heading_collapsed": true,
    "hidden": true
   },
   "source": [
    "###### 2.4.3 Check NaN values"
   ]
  },
  {
   "cell_type": "code",
   "execution_count": 40,
   "metadata": {
    "hidden": true,
    "scrolled": false
   },
   "outputs": [
    {
     "data": {
      "text/plain": [
       "Bar                            0\n",
       "Bilhar                         0\n",
       "Bomboniere                     0\n",
       "Cozinha                        0\n",
       "Gorjeta                        0\n",
       "Tabacaria                      0\n",
       "Temperatura mínima diária     33\n",
       "Temperatura máxima diária     33\n",
       "Vento constante máximo        85\n",
       "Precipitação diária total    153\n",
       "Descrição                     32\n",
       "dtype: int64"
      ]
     },
     "execution_count": 40,
     "metadata": {},
     "output_type": "execute_result"
    }
   ],
   "source": [
    "df.isnull().sum()"
   ]
  },
  {
   "cell_type": "code",
   "execution_count": 41,
   "metadata": {
    "hidden": true,
    "scrolled": true
   },
   "outputs": [
    {
     "data": {
      "text/plain": [
       "<AxesSubplot:ylabel='date'>"
      ]
     },
     "execution_count": 41,
     "metadata": {},
     "output_type": "execute_result"
    },
    {
     "data": {
      "image/png": "[encoded data removed]",
      "text/plain": [
       "<Figure size 432x288 with 1 Axes>"
      ]
     },
     "metadata": {
      "needs_background": "light"
     },
     "output_type": "display_data"
    }
   ],
   "source": [
    "sns.heatmap(df.isnull(), yticklabels=False, cbar=False)"
   ]
  },
  {
   "cell_type": "markdown",
   "metadata": {
    "heading_collapsed": true,
    "hidden": true
   },
   "source": [
    "###### 2.4.4 Solving business day frequency"
   ]
  },
  {
   "cell_type": "code",
   "execution_count": 42,
   "metadata": {
    "hidden": true
   },
   "outputs": [],
   "source": [
    "date_ = pd.date_range(start='2019-01-02', end='2020-03-20', freq='d')"
   ]
  },
  {
   "cell_type": "code",
   "execution_count": 43,
   "metadata": {
    "hidden": true
   },
   "outputs": [],
   "source": [
    "df = df.resample('d').sum()"
   ]
  },
  {
   "cell_type": "markdown",
   "metadata": {
    "heading_collapsed": true,
    "hidden": true
   },
   "source": [
    "###### 2.4.5 Create total"
   ]
  },
  {
   "cell_type": "code",
   "execution_count": 56,
   "metadata": {
    "hidden": true
   },
   "outputs": [],
   "source": [
    "df['total'] = df.sum(axis=1)"
   ]
  },
  {
   "cell_type": "markdown",
   "metadata": {
    "heading_collapsed": true,
    "hidden": true
   },
   "source": [
    "## 2.5 Descriptive Statistics"
   ]
  },
  {
   "cell_type": "markdown",
   "metadata": {
    "heading_collapsed": true
   },
   "source": [
    "# 3.0 Feature Engineering"
   ]
  },
  {
   "cell_type": "markdown",
   "metadata": {
    "hidden": true
   },
   "source": [
    "### 2.4.2 Data Cleaning"
   ]
  },
  {
   "cell_type": "markdown",
   "metadata": {
    "heading_collapsed": true,
    "hidden": true
   },
   "source": [
    "###### 2.4.2.1 Removing columns with to much NaN values"
   ]
  },
  {
   "cell_type": "markdown",
   "metadata": {
    "heading_collapsed": true
   },
   "source": [
    "# 4.0 Business Hypothesis"
   ]
  },
  {
   "cell_type": "markdown",
   "metadata": {
    "heading_collapsed": true
   },
   "source": [
    "# 5.0 Exploratory Data Analysis "
   ]
  },
  {
   "cell_type": "markdown",
   "metadata": {
    "heading_collapsed": true
   },
   "source": [
    "# 6.0 Data Preparation"
   ]
  },
  {
   "cell_type": "markdown",
   "metadata": {
    "heading_collapsed": true,
    "hidden": true
   },
   "source": [
    "###### 6.1 Amostral Space"
   ]
  },
  {
   "cell_type": "code",
   "execution_count": 66,
   "metadata": {
    "hidden": true,
    "scrolled": false
   },
   "outputs": [
    {
     "data": {
      "image/png": "[encoded data removed]",
      "text/plain": [
       "<Figure size 864x576 with 2 Axes>"
      ]
     },
     "metadata": {
      "needs_background": "light"
     },
     "output_type": "display_data"
    }
   ],
   "source": [
    "fig = plt.figure(figsize=(12, 8))\n",
    "ax1 = fig.add_subplot(211)\n",
    "fig = plot_acf(df['total'] , lags=20, ax=ax1)\n",
    "ax2 = fig.add_subplot(212)\n",
    "fig = plot_pacf(df['total'] , lags=20, ax=ax2)"
   ]
  },
  {
   "cell_type": "markdown",
   "metadata": {
    "heading_collapsed": true,
    "hidden": true
   },
   "source": [
    "###### 6.2 train and test"
   ]
  },
  {
   "cell_type": "code",
   "execution_count": 74,
   "metadata": {
    "hidden": true
   },
   "outputs": [],
   "source": [
    "X = df.iloc[:344]"
   ]
  },
  {
   "cell_type": "code",
   "execution_count": 75,
   "metadata": {
    "hidden": true
   },
   "outputs": [],
   "source": [
    "y = df.iloc[344:]"
   ]
  },
  {
   "cell_type": "markdown",
   "metadata": {},
   "source": [
    "# 7.0 Training ML Model"
   ]
  },
  {
   "cell_type": "markdown",
   "metadata": {},
   "source": [
    "## 7.1 ARIMA"
   ]
  },
  {
   "cell_type": "code",
   "execution_count": 108,
   "metadata": {},
   "outputs": [],
   "source": [
    "arima_model = ARIMA(endog=X['total'], order=(7, 7, 7))\n",
    "\n",
    "arima_fit = arima_model.fit()\n",
    "\n",
    "print(arima_fit.summary())"
   ]
  },
  {
   "cell_type": "code",
   "execution_count": 111,
   "metadata": {},
   "outputs": [
    {
     "name": "stderr",
     "output_type": "stream",
     "text": [
      "C:\\Users\\Samoel\\My Drive\\Pessoal\\Projetos\\environments\\data_science\\lib\\site-packages\\statsmodels\\tsa\\base\\tsa_model.py:132: FutureWarning: The 'freq' argument in Timestamp is deprecated and will be removed in a future version.\n",
      "  date_key = Timestamp(key, freq=base_index.freq)\n"
     ]
    }
   ],
   "source": [
    "arima_pred = res.predict(start='2019-12-12', end='2020-03-20')"
   ]
  },
  {
   "cell_type": "code",
   "execution_count": 112,
   "metadata": {},
   "outputs": [
    {
     "name": "stderr",
     "output_type": "stream",
     "text": [
      "C:\\Users\\Samoel\\AppData\\Local\\Temp/ipykernel_11996/847852269.py:1: SettingWithCopyWarning: \n",
      "A value is trying to be set on a copy of a slice from a DataFrame.\n",
      "Try using .loc[row_indexer,col_indexer] = value instead\n",
      "\n",
      "See the caveats in the documentation: https://pandas.pydata.org/pandas-docs/stable/user_guide/indexing.html#returning-a-view-versus-a-copy\n",
      "  y['predicts'] = arima_pred\n"
     ]
    }
   ],
   "source": [
    "y['predicts'] = arima_pred"
   ]
  },
  {
   "cell_type": "code",
   "execution_count": 115,
   "metadata": {
    "scrolled": true
   },
   "outputs": [
    {
     "data": {
      "text/plain": [
       "<AxesSubplot:xlabel='date'>"
      ]
     },
     "execution_count": 115,
     "metadata": {},
     "output_type": "execute_result"
    },
    {
     "data": {
      "image/png": "[encoded data removed]",
      "text/plain": [
       "<Figure size 432x288 with 1 Axes>"
      ]
     },
     "metadata": {
      "needs_background": "light"
     },
     "output_type": "display_data"
    }
   ],
   "source": [
    "y[['total', 'predicts']].plot()"
   ]
  },
  {
   "cell_type": "code",
   "execution_count": 119,
   "metadata": {},
   "outputs": [
    {
     "name": "stderr",
     "output_type": "stream",
     "text": [
      "C:\\Users\\Samoel\\AppData\\Local\\Temp/ipykernel_11996/2818592425.py:1: SettingWithCopyWarning: \n",
      "A value is trying to be set on a copy of a slice from a DataFrame.\n",
      "Try using .loc[row_indexer,col_indexer] = value instead\n",
      "\n",
      "See the caveats in the documentation: https://pandas.pydata.org/pandas-docs/stable/user_guide/indexing.html#returning-a-view-versus-a-copy\n",
      "  y['square_error'] = (y['total'] - y['predicts']) ** 2\n"
     ]
    }
   ],
   "source": [
    "y['square_error'] = (y['total'] - y['predicts']) ** 2"
   ]
  },
  {
   "cell_type": "code",
   "execution_count": 120,
   "metadata": {},
   "outputs": [
    {
     "name": "stderr",
     "output_type": "stream",
     "text": [
      "C:\\Users\\Samoel\\AppData\\Local\\Temp/ipykernel_11996/2656420322.py:1: SettingWithCopyWarning: \n",
      "A value is trying to be set on a copy of a slice from a DataFrame.\n",
      "Try using .loc[row_indexer,col_indexer] = value instead\n",
      "\n",
      "See the caveats in the documentation: https://pandas.pydata.org/pandas-docs/stable/user_guide/indexing.html#returning-a-view-versus-a-copy\n",
      "  y['absolut_error'] = np.sqrt(y['square_error'])\n"
     ]
    }
   ],
   "source": [
    "y['absolut_error'] = np.sqrt(y['square_error'])"
   ]
  },
  {
   "cell_type": "markdown",
   "metadata": {},
   "source": [
    "**MAE**"
   ]
  },
  {
   "cell_type": "code",
   "execution_count": 122,
   "metadata": {},
   "outputs": [
    {
     "data": {
      "text/plain": [
       "1674.7064627871578"
      ]
     },
     "execution_count": 122,
     "metadata": {},
     "output_type": "execute_result"
    }
   ],
   "source": [
    "y['absolut_error'].mean()"
   ]
  },
  {
   "cell_type": "markdown",
   "metadata": {},
   "source": [
    "**MAPE**"
   ]
  },
  {
   "cell_type": "code",
   "execution_count": 130,
   "metadata": {},
   "outputs": [
    {
     "name": "stderr",
     "output_type": "stream",
     "text": [
      "C:\\Users\\Samoel\\My Drive\\Pessoal\\Projetos\\environments\\data_science\\lib\\site-packages\\pandas\\core\\indexing.py:1732: SettingWithCopyWarning: \n",
      "A value is trying to be set on a copy of a slice from a DataFrame\n",
      "\n",
      "See the caveats in the documentation: https://pandas.pydata.org/pandas-docs/stable/user_guide/indexing.html#returning-a-view-versus-a-copy\n",
      "  self._setitem_single_block(indexer, value, name)\n",
      "C:\\Users\\Samoel\\My Drive\\Pessoal\\Projetos\\environments\\data_science\\lib\\site-packages\\pandas\\core\\indexing.py:723: SettingWithCopyWarning: \n",
      "A value is trying to be set on a copy of a slice from a DataFrame\n",
      "\n",
      "See the caveats in the documentation: https://pandas.pydata.org/pandas-docs/stable/user_guide/indexing.html#returning-a-view-versus-a-copy\n",
      "  iloc._setitem_with_indexer(indexer, value, self.name)\n"
     ]
    }
   ],
   "source": [
    "y.loc[y['total'] == 0, 'total'] = 10 ** -6"
   ]
  },
  {
   "cell_type": "markdown",
   "metadata": {
    "heading_collapsed": true
   },
   "source": [
    "# 8.0 Results and Conclusions"
   ]
  },
  {
   "cell_type": "markdown",
   "metadata": {},
   "source": [
    "# Time"
   ]
  },
  {
   "cell_type": "code",
   "execution_count": 9,
   "metadata": {
    "scrolled": true
   },
   "outputs": [
    {
     "name": "stdout",
     "output_type": "stream",
     "text": [
      "O projeto está processando em 2.17 minutos\n"
     ]
    }
   ],
   "source": [
    "print(f'O projeto está processando em {round((time.time() - tempo_agora) / 60, 2)} minutos')"
   ]
  },
  {
   "cell_type": "markdown",
   "metadata": {
    "heading_collapsed": true
   },
   "source": [
    "# Continua"
   ]
  },
  {
   "cell_type": "code",
   "execution_count": null,
   "metadata": {
    "hidden": true
   },
   "outputs": [],
   "source": []
  }
 ],
 "metadata": {
  "colab": {
   "collapsed_sections": [
    "0HF0qpYdk0xV",
    "w-_LYSQasnJe",
    "Fo9oTiSg8rbZ",
    "U31eP2VVHvg9",
    "UacIu52kMNMg",
    "22bT8LnfMBt3",
    "TzLuw3sjXyhY",
    "O2ug0XzLKtqM",
    "sf_nq_yYHBsS",
    "ZFjFSSBJ8rc_",
    "ZWjNzZav8rdB",
    "zCUBbPWLK_X5",
    "jDtyW1P0Gsmw",
    "T8WjZTJEpFvP",
    "Cpow1jxqpLb0",
    "e3bxxfygpRiI",
    "oqZcGHvJpwCj",
    "e5qb0o_LqTP_",
    "kscRdU11qbLg",
    "1if3O7Hp2CiE",
    "rQPyhXVl28rl",
    "-72Zr6iIFZhE",
    "gWCr6E3AGuWH",
    "4ysWSC9hLjiY",
    "gCdSM9Zs8rdd",
    "LwXvqMa2LNGn",
    "oZrWcLSMKbOD",
    "ra12ehIdRbTI",
    "nJHHKLSPS0jU",
    "Py5_Zqc9Wg64",
    "9TDxHCc0VIHA",
    "TmQm9H9HQ9tp",
    "sFATzRpWQ4GI",
    "0xIwHrpJZxdL",
    "YEit4heSZ8ka",
    "vHcwYa1LCDhj",
    "Efet9OusCWdI",
    "bHhq7LSSEvW-",
    "xDmAggFurgFU",
    "bQQqTK761JJR",
    "MEJYDvL-ANMQ",
    "KEM5-O1Ppkex",
    "3Ck3cWlcqMYh",
    "TGCGUKeBqRMU",
    "BV4glKS7py2u",
    "4pDTzzVTp_Lt",
    "kdcXbcfSp_ZL",
    "ZrZjI8xpqA-d",
    "2rytJ8Svq5vm",
    "AgCU9hZ5qWJN",
    "WG1fldNvrDct",
    "aiI0z7R_rDn6",
    "kW1XcJQh8reQ",
    "w8JxHOWSHTP9",
    "R6fkx-LLHocO",
    "N8NMVv2k13d9",
    "6OnQY5tu1uVC",
    "WE-XTzm9f0F9",
    "V_jtQ5VoCvKK",
    "DB2pVJBfKYmW",
    "S5ek0TTc0I5R",
    "ZGWjtKQb0FqF",
    "0N_lULUf9Lj4",
    "uwbl82yxEin1",
    "1F1im0MWBT5S",
    "tr6occUiC-Dj",
    "EOOOcz5XDFsg",
    "2pArit2aB8VZ"
   ],
   "include_colab_link": true,
   "name": "predict_bar_sales.ipynb",
   "provenance": []
  },
  "kernelspec": {
   "display_name": "Python 3 (ipykernel)",
   "language": "python",
   "name": "python3"
  },
  "language_info": {
   "codemirror_mode": {
    "name": "ipython",
    "version": 3
   },
   "file_extension": ".py",
   "mimetype": "text/x-python",
   "name": "python",
   "nbconvert_exporter": "python",
   "pygments_lexer": "ipython3",
   "version": "3.8.8"
  }
 },
 "nbformat": 4,
 "nbformat_minor": 1
}
