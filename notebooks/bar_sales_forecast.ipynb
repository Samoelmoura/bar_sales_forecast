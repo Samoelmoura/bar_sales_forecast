{
 "cells": [
  {
   "cell_type": "markdown",
   "metadata": {
    "heading_collapsed": true,
    "id": "w-_LYSQasnJe"
   },
   "source": [
    "# 0.0 Imports"
   ]
  },
  {
   "cell_type": "code",
   "execution_count": 1,
   "metadata": {
    "ExecuteTime": {
     "end_time": "2022-09-07T16:44:44.873682Z",
     "start_time": "2022-09-07T16:44:42.891937Z"
    },
    "hidden": true
   },
   "outputs": [],
   "source": [
    "import pandas as pd\n",
    "import numpy as np\n",
    "import matplotlib.pyplot as plt\n",
    "import seaborn as sns\n",
    "import re\n",
    "\n",
    "from statsmodels.tsa.seasonal import seasonal_decompose\n",
    "from statsmodels.graphics.tsaplots import plot_acf, plot_pacf\n",
    "\n",
    "from sklearn.preprocessing import StandardScaler\n",
    "from sklearn.linear_model import LinearRegression, Lasso\n",
    "from sklearn.metrics import mean_squared_error\n",
    "from sklearn.ensemble import RandomForestRegressor\n",
    "\n",
    "from xgboost import XGBRegressor\n",
    "\n",
    "import time\n",
    "\n",
    "tempo_agora = time.time() # Tempo inicial"
   ]
  },
  {
   "cell_type": "markdown",
   "metadata": {
    "heading_collapsed": true,
    "hidden": true
   },
   "source": [
    "## 0.1 Loading Datasets"
   ]
  },
  {
   "cell_type": "code",
   "execution_count": 2,
   "metadata": {
    "ExecuteTime": {
     "end_time": "2022-09-07T16:44:45.586610Z",
     "start_time": "2022-09-07T16:44:44.873682Z"
    },
    "hidden": true
   },
   "outputs": [],
   "source": [
    "billiard_raw = pd.read_csv('D:\\\\My Drive\\\\Pessoal\\\\Projetos\\\\bar_sales_forecast\\\\data\\\\raw\\\\billiard.csv', low_memory=False)\n",
    "sales_raw = pd.read_csv('D:\\\\My Drive\\\\Pessoal\\\\Projetos\\\\bar_sales_forecast\\\\data\\\\raw\\\\sales.csv')\n",
    "\n",
    "billiard_cols = ['#No', 'Name', '#Start Time', 'In Use', 'Semana', 'Turno', 'Total Bilhar', 'Pago', '#Preço/Hora', 'Data']\n",
    "billiard = billiard_raw[billiard_cols]\n",
    "\n",
    "sales_cols = ['#Time', 'Purchaser', 'Item', '#Voucher', 'Semana', 'Turno', 'Classe 1', 'Classe 2', 'Classe 3', 'Preço', 'Margem', 'Total Venda', 'Data', 'Quantidade']\n",
    "sales = sales_raw[sales_cols]"
   ]
  },
  {
   "cell_type": "code",
   "execution_count": 3,
   "metadata": {
    "ExecuteTime": {
     "end_time": "2022-09-07T16:44:45.632195Z",
     "start_time": "2022-09-07T16:44:45.590604Z"
    },
    "hidden": true
   },
   "outputs": [
    {
     "data": {
      "text/html": [
       "<div>\n",
       "<style scoped>\n",
       "    .dataframe tbody tr th:only-of-type {\n",
       "        vertical-align: middle;\n",
       "    }\n",
       "\n",
       "    .dataframe tbody tr th {\n",
       "        vertical-align: top;\n",
       "    }\n",
       "\n",
       "    .dataframe thead th {\n",
       "        text-align: right;\n",
       "    }\n",
       "</style>\n",
       "<table border=\"1\" class=\"dataframe\">\n",
       "  <thead>\n",
       "    <tr style=\"text-align: right;\">\n",
       "      <th></th>\n",
       "      <th>#No</th>\n",
       "      <th>Name</th>\n",
       "      <th>#Start Time</th>\n",
       "      <th>In Use</th>\n",
       "      <th>Semana</th>\n",
       "      <th>Turno</th>\n",
       "      <th>Total Bilhar</th>\n",
       "      <th>Pago</th>\n",
       "      <th>#Preço/Hora</th>\n",
       "      <th>Data</th>\n",
       "    </tr>\n",
       "  </thead>\n",
       "  <tbody>\n",
       "    <tr>\n",
       "      <th>0</th>\n",
       "      <td>848</td>\n",
       "      <td>***Quarta1***</td>\n",
       "      <td>1/00:45</td>\n",
       "      <td>0:15</td>\n",
       "      <td>5</td>\n",
       "      <td>Noite</td>\n",
       "      <td>2.0</td>\n",
       "      <td>2.00</td>\n",
       "      <td>3.5</td>\n",
       "      <td>5/31/2017</td>\n",
       "    </tr>\n",
       "    <tr>\n",
       "      <th>1</th>\n",
       "      <td>829</td>\n",
       "      <td>Guest(30)</td>\n",
       "      <td>31/18:06</td>\n",
       "      <td>6:24</td>\n",
       "      <td>5</td>\n",
       "      <td>Tarde</td>\n",
       "      <td>0.0</td>\n",
       "      <td>24.60</td>\n",
       "      <td>0.0</td>\n",
       "      <td>5/31/2017</td>\n",
       "    </tr>\n",
       "    <tr>\n",
       "      <th>2</th>\n",
       "      <td>836</td>\n",
       "      <td>Guest(28)</td>\n",
       "      <td>31/20:46</td>\n",
       "      <td>4:28</td>\n",
       "      <td>5</td>\n",
       "      <td>Tarde</td>\n",
       "      <td>0.0</td>\n",
       "      <td>4.50</td>\n",
       "      <td>0.0</td>\n",
       "      <td>5/31/2017</td>\n",
       "    </tr>\n",
       "    <tr>\n",
       "      <th>3</th>\n",
       "      <td>838</td>\n",
       "      <td>Guest(27)</td>\n",
       "      <td>31/20:57</td>\n",
       "      <td>3:25</td>\n",
       "      <td>5</td>\n",
       "      <td>Tarde</td>\n",
       "      <td>0.0</td>\n",
       "      <td>29.72</td>\n",
       "      <td>0.0</td>\n",
       "      <td>5/31/2017</td>\n",
       "    </tr>\n",
       "    <tr>\n",
       "      <th>4</th>\n",
       "      <td>844</td>\n",
       "      <td>Guest(14)</td>\n",
       "      <td>31/22:16</td>\n",
       "      <td>2:47</td>\n",
       "      <td>5</td>\n",
       "      <td>Noite</td>\n",
       "      <td>0.0</td>\n",
       "      <td>48.30</td>\n",
       "      <td>0.0</td>\n",
       "      <td>5/31/2017</td>\n",
       "    </tr>\n",
       "  </tbody>\n",
       "</table>\n",
       "</div>"
      ],
      "text/plain": [
       "   #No           Name #Start Time In Use  Semana  Turno  Total Bilhar   Pago  \\\n",
       "0  848  ***Quarta1***     1/00:45   0:15       5  Noite           2.0   2.00   \n",
       "1  829      Guest(30)    31/18:06   6:24       5  Tarde           0.0  24.60   \n",
       "2  836      Guest(28)    31/20:46   4:28       5  Tarde           0.0   4.50   \n",
       "3  838      Guest(27)    31/20:57   3:25       5  Tarde           0.0  29.72   \n",
       "4  844      Guest(14)    31/22:16   2:47       5  Noite           0.0  48.30   \n",
       "\n",
       "   #Preço/Hora       Data  \n",
       "0          3.5  5/31/2017  \n",
       "1          0.0  5/31/2017  \n",
       "2          0.0  5/31/2017  \n",
       "3          0.0  5/31/2017  \n",
       "4          0.0  5/31/2017  "
      ]
     },
     "execution_count": 3,
     "metadata": {},
     "output_type": "execute_result"
    }
   ],
   "source": [
    "billiard.head(5)"
   ]
  },
  {
   "cell_type": "code",
   "execution_count": 4,
   "metadata": {
    "ExecuteTime": {
     "end_time": "2022-09-07T16:44:45.663466Z",
     "start_time": "2022-09-07T16:44:45.638538Z"
    },
    "hidden": true
   },
   "outputs": [
    {
     "data": {
      "text/html": [
       "<div>\n",
       "<style scoped>\n",
       "    .dataframe tbody tr th:only-of-type {\n",
       "        vertical-align: middle;\n",
       "    }\n",
       "\n",
       "    .dataframe tbody tr th {\n",
       "        vertical-align: top;\n",
       "    }\n",
       "\n",
       "    .dataframe thead th {\n",
       "        text-align: right;\n",
       "    }\n",
       "</style>\n",
       "<table border=\"1\" class=\"dataframe\">\n",
       "  <thead>\n",
       "    <tr style=\"text-align: right;\">\n",
       "      <th></th>\n",
       "      <th>#Time</th>\n",
       "      <th>Purchaser</th>\n",
       "      <th>Item</th>\n",
       "      <th>#Voucher</th>\n",
       "      <th>Semana</th>\n",
       "      <th>Turno</th>\n",
       "      <th>Classe 1</th>\n",
       "      <th>Classe 2</th>\n",
       "      <th>Classe 3</th>\n",
       "      <th>Preço</th>\n",
       "      <th>Margem</th>\n",
       "      <th>Total Venda</th>\n",
       "      <th>Data</th>\n",
       "      <th>Quantidade</th>\n",
       "    </tr>\n",
       "  </thead>\n",
       "  <tbody>\n",
       "    <tr>\n",
       "      <th>0</th>\n",
       "      <td>2/23:50:26</td>\n",
       "      <td>Mesa 1</td>\n",
       "      <td>10%</td>\n",
       "      <td>150</td>\n",
       "      <td>1</td>\n",
       "      <td>Noite</td>\n",
       "      <td>Gorjeta</td>\n",
       "      <td>NaN</td>\n",
       "      <td>NaN</td>\n",
       "      <td>0.1</td>\n",
       "      <td>0.0</td>\n",
       "      <td>1.6</td>\n",
       "      <td>5/2/2017</td>\n",
       "      <td>16</td>\n",
       "    </tr>\n",
       "    <tr>\n",
       "      <th>1</th>\n",
       "      <td>2/23:56:18</td>\n",
       "      <td>Mesa 5</td>\n",
       "      <td>10%</td>\n",
       "      <td>151</td>\n",
       "      <td>1</td>\n",
       "      <td>Noite</td>\n",
       "      <td>Gorjeta</td>\n",
       "      <td>NaN</td>\n",
       "      <td>NaN</td>\n",
       "      <td>0.1</td>\n",
       "      <td>0.0</td>\n",
       "      <td>3.7</td>\n",
       "      <td>5/2/2017</td>\n",
       "      <td>37</td>\n",
       "    </tr>\n",
       "    <tr>\n",
       "      <th>2</th>\n",
       "      <td>3/00:43:47</td>\n",
       "      <td>Mesa 1</td>\n",
       "      <td>10%</td>\n",
       "      <td>153</td>\n",
       "      <td>1</td>\n",
       "      <td>Noite</td>\n",
       "      <td>Gorjeta</td>\n",
       "      <td>NaN</td>\n",
       "      <td>NaN</td>\n",
       "      <td>0.1</td>\n",
       "      <td>0.0</td>\n",
       "      <td>1.5</td>\n",
       "      <td>5/2/2017</td>\n",
       "      <td>15</td>\n",
       "    </tr>\n",
       "    <tr>\n",
       "      <th>3</th>\n",
       "      <td>3/01:04:07</td>\n",
       "      <td>Mesa 5</td>\n",
       "      <td>10%</td>\n",
       "      <td>155</td>\n",
       "      <td>1</td>\n",
       "      <td>Noite</td>\n",
       "      <td>Gorjeta</td>\n",
       "      <td>NaN</td>\n",
       "      <td>NaN</td>\n",
       "      <td>0.1</td>\n",
       "      <td>0.0</td>\n",
       "      <td>2.4</td>\n",
       "      <td>5/2/2017</td>\n",
       "      <td>24</td>\n",
       "    </tr>\n",
       "    <tr>\n",
       "      <th>4</th>\n",
       "      <td>3/00:43:35</td>\n",
       "      <td>Mesa 1</td>\n",
       "      <td>Agua s/ Gás</td>\n",
       "      <td>153</td>\n",
       "      <td>1</td>\n",
       "      <td>Noite</td>\n",
       "      <td>Bar</td>\n",
       "      <td>Sem Álcool</td>\n",
       "      <td>NaN</td>\n",
       "      <td>3.0</td>\n",
       "      <td>1.5</td>\n",
       "      <td>6.0</td>\n",
       "      <td>5/2/2017</td>\n",
       "      <td>2</td>\n",
       "    </tr>\n",
       "  </tbody>\n",
       "</table>\n",
       "</div>"
      ],
      "text/plain": [
       "         #Time Purchaser         Item  #Voucher  Semana  Turno Classe 1  \\\n",
       "0   2/23:50:26    Mesa 1          10%       150       1  Noite  Gorjeta   \n",
       "1   2/23:56:18    Mesa 5          10%       151       1  Noite  Gorjeta   \n",
       "2   3/00:43:47    Mesa 1          10%       153       1  Noite  Gorjeta   \n",
       "3   3/01:04:07    Mesa 5          10%       155       1  Noite  Gorjeta   \n",
       "4   3/00:43:35    Mesa 1  Agua s/ Gás       153       1  Noite      Bar   \n",
       "\n",
       "     Classe 2 Classe 3  Preço  Margem  Total Venda      Data  Quantidade  \n",
       "0         NaN      NaN    0.1     0.0          1.6  5/2/2017          16  \n",
       "1         NaN      NaN    0.1     0.0          3.7  5/2/2017          37  \n",
       "2         NaN      NaN    0.1     0.0          1.5  5/2/2017          15  \n",
       "3         NaN      NaN    0.1     0.0          2.4  5/2/2017          24  \n",
       "4  Sem Álcool      NaN    3.0     1.5          6.0  5/2/2017           2  "
      ]
     },
     "execution_count": 4,
     "metadata": {},
     "output_type": "execute_result"
    }
   ],
   "source": [
    "sales.head(5)"
   ]
  },
  {
   "cell_type": "markdown",
   "metadata": {
    "heading_collapsed": true,
    "hidden": true
   },
   "source": [
    "## 0.2 Helper Functions"
   ]
  },
  {
   "cell_type": "code",
   "execution_count": 5,
   "metadata": {
    "ExecuteTime": {
     "end_time": "2022-09-07T16:44:45.695294Z",
     "start_time": "2022-09-07T16:44:45.665459Z"
    },
    "hidden": true
   },
   "outputs": [],
   "source": [
    "# identificando outliers\n",
    "def busca_outliers(df, series):\n",
    "    q1 = np.percentile(df[series], 25)\n",
    "    q3 = np.percentile(df[series], 75)\n",
    "    distancia = q3 - q1\n",
    "    salto = distancia * 1.5\n",
    "    li = q1 - salto\n",
    "    ls = q3 + salto\n",
    "    indices = df[(df[series]<li)|(df[series]>ls)].index\n",
    "#     print(f'O limite inferior é: {li}\\nO limite superior é: {ls}\\nHá {len(indices)} outliers')\n",
    "    return indices, li, ls\n",
    "\n",
    "def metrics(y_test, y_hat):\n",
    "    # metrics\n",
    "    mean_absolute_error = np.mean(np.abs(np.expm1(y_test) - np.expm1(y_hat))) # mean absolute error\n",
    "    mean_absolute_percentage_error = np.mean(mean_absolute_error / np.expm1(y_test)) # mean absolute percentage error\n",
    "\n",
    "    print(f\"MAE: {mean_absolute_error}\")\n",
    "    print(f\"MAPE: {mean_absolute_percentage_error}\")\n",
    "    print(f\"RMSE: {np.sqrt(mean_squared_error(np.expm1(y_test), np.expm1(y_hat)))}\")\n",
    "    \n",
    "def cross_validation(df, error, kfold, model_name, model):\n",
    "    list_mean_absolute_error, list_mean_absolute_percentage_error, list_root_mean_squared_error, folds = [], [], [], []\n",
    "    for i in reversed(range(1, kfold+1)):\n",
    "        folds.append(f'Fold: {i}')\n",
    "        validation_start_date = df.index.max() - pd.Timedelta(6*i, 'w')\n",
    "        validation_end_date = df.index.max() - pd.Timedelta(6*(i-1), 'w')\n",
    "        \n",
    "        train = df[df.index<validation_start_date]\n",
    "        validation = df[(df.index>=validation_start_date)&(df.index<=validation_end_date)]\n",
    "        \n",
    "        X_train = train.drop('total', axis=1)\n",
    "        y_train = train['total']\n",
    "        \n",
    "        X_val = validation.drop('total', axis=1)\n",
    "        y_val = validation['total']\n",
    "        \n",
    "        # fiting model\n",
    "        model_fit = model.fit(X_train, y_train)\n",
    "\n",
    "        # predicting\n",
    "        y_hat = model_fit.predict(X_val)\n",
    "        \n",
    "        list_mean_absolute_error.append(np.mean(np.abs(np.expm1(y_val) - np.expm1(y_hat))))\n",
    "        list_mean_absolute_percentage_error.append(np.mean(np.abs(np.expm1(y_val) - np.expm1(y_hat)) / np.expm1(y_val)))\n",
    "        list_root_mean_squared_error.append(np.sqrt(mean_squared_error(np.expm1(y_val), np.expm1(y_hat))))\n",
    "        \n",
    "    # mean and std\n",
    "    folds.append('mean_and_std')\n",
    "    list_mean_absolute_error.append(str(round(np.mean(list_mean_absolute_error), 2))+' +/- '+str(round(np.std(list_mean_absolute_error), 2)))\n",
    "    list_mean_absolute_percentage_error.append(str(round(np.mean(list_mean_absolute_percentage_error), 2))+' +/- '+str(round(np.std(list_mean_absolute_percentage_error), 2)))\n",
    "    list_root_mean_squared_error.append(str(round(np.mean(list_root_mean_squared_error), 2))+' +/- '+str(round(np.std(list_root_mean_squared_error), 2)))\n",
    "    # dataframe\n",
    "    cross_validation_metrics = pd.DataFrame([list_mean_absolute_error, list_mean_absolute_percentage_error, list_root_mean_squared_error], index=['MAE', 'MAPE', \"RMSE\"], columns=folds)\n",
    "    error[model_name] = cross_validation_metrics['mean_and_std']\n",
    "    return error, cross_validation_metrics"
   ]
  },
  {
   "cell_type": "markdown",
   "metadata": {
    "heading_collapsed": true,
    "id": "Fo9oTiSg8rbZ"
   },
   "source": [
    "# 1.0 Data Description"
   ]
  },
  {
   "cell_type": "markdown",
   "metadata": {
    "heading_collapsed": true,
    "hidden": true
   },
   "source": [
    "## 1.1 Data Dimensions"
   ]
  },
  {
   "cell_type": "code",
   "execution_count": 6,
   "metadata": {
    "ExecuteTime": {
     "end_time": "2022-09-07T16:44:45.710439Z",
     "start_time": "2022-09-07T16:44:45.697283Z"
    },
    "hidden": true
   },
   "outputs": [
    {
     "name": "stdout",
     "output_type": "stream",
     "text": [
      "Billiard qty of rows: 45162\n",
      "Billiard qty of columns: 10\n",
      "\n",
      "Sales qty of rows: 137609\n",
      "Sales qty of columns: 14\n"
     ]
    }
   ],
   "source": [
    "print(f'Billiard qty of rows: {billiard.shape[0]}')\n",
    "print(f'Billiard qty of columns: {billiard.shape[1]}')\n",
    "print()\n",
    "print(f'Sales qty of rows: {sales.shape[0]}')\n",
    "print(f'Sales qty of columns: {sales.shape[1]}')"
   ]
  },
  {
   "cell_type": "markdown",
   "metadata": {
    "heading_collapsed": true,
    "hidden": true
   },
   "source": [
    "## 1.2 Datatype"
   ]
  },
  {
   "cell_type": "code",
   "execution_count": 7,
   "metadata": {
    "ExecuteTime": {
     "end_time": "2022-09-07T16:44:45.725567Z",
     "start_time": "2022-09-07T16:44:45.714427Z"
    },
    "hidden": true,
    "scrolled": false
   },
   "outputs": [
    {
     "name": "stdout",
     "output_type": "stream",
     "text": [
      "billiard\n",
      "\n"
     ]
    },
    {
     "data": {
      "text/plain": [
       "#No               int64\n",
       "Name             object\n",
       "#Start Time      object\n",
       "In Use           object\n",
       "Semana            int64\n",
       "Turno            object\n",
       "Total Bilhar    float64\n",
       "Pago            float64\n",
       "#Preço/Hora     float64\n",
       "Data             object\n",
       "dtype: object"
      ]
     },
     "execution_count": 7,
     "metadata": {},
     "output_type": "execute_result"
    }
   ],
   "source": [
    "print('billiard\\n')\n",
    "billiard.dtypes"
   ]
  },
  {
   "cell_type": "code",
   "execution_count": 8,
   "metadata": {
    "ExecuteTime": {
     "end_time": "2022-09-07T16:44:45.741281Z",
     "start_time": "2022-09-07T16:44:45.729561Z"
    },
    "hidden": true
   },
   "outputs": [
    {
     "name": "stdout",
     "output_type": "stream",
     "text": [
      "sales\n",
      "\n"
     ]
    },
    {
     "data": {
      "text/plain": [
       "#Time           object\n",
       "Purchaser       object\n",
       "Item            object\n",
       "#Voucher         int64\n",
       "Semana           int64\n",
       "Turno           object\n",
       "Classe 1        object\n",
       "Classe 2        object\n",
       "Classe 3        object\n",
       "Preço          float64\n",
       "Margem         float64\n",
       "Total Venda    float64\n",
       "Data            object\n",
       "Quantidade       int64\n",
       "dtype: object"
      ]
     },
     "execution_count": 8,
     "metadata": {},
     "output_type": "execute_result"
    }
   ],
   "source": [
    "print('sales\\n')\n",
    "sales.dtypes"
   ]
  },
  {
   "cell_type": "markdown",
   "metadata": {
    "heading_collapsed": true,
    "hidden": true
   },
   "source": [
    "## 1.3 Check NaN values"
   ]
  },
  {
   "cell_type": "code",
   "execution_count": 9,
   "metadata": {
    "ExecuteTime": {
     "end_time": "2022-09-07T16:44:45.789181Z",
     "start_time": "2022-09-07T16:44:45.742276Z"
    },
    "hidden": true,
    "scrolled": true
   },
   "outputs": [
    {
     "name": "stdout",
     "output_type": "stream",
     "text": [
      "billiard\n",
      "\n"
     ]
    },
    {
     "data": {
      "text/plain": [
       "#No             0\n",
       "Name            0\n",
       "#Start Time     0\n",
       "In Use          0\n",
       "Semana          0\n",
       "Turno           0\n",
       "Total Bilhar    0\n",
       "Pago            0\n",
       "#Preço/Hora     0\n",
       "Data            0\n",
       "dtype: int64"
      ]
     },
     "execution_count": 9,
     "metadata": {},
     "output_type": "execute_result"
    }
   ],
   "source": [
    "print('billiard\\n')\n",
    "billiard.isna().sum()"
   ]
  },
  {
   "cell_type": "code",
   "execution_count": 10,
   "metadata": {
    "ExecuteTime": {
     "end_time": "2022-09-07T16:44:45.931378Z",
     "start_time": "2022-09-07T16:44:45.792170Z"
    },
    "hidden": true
   },
   "outputs": [
    {
     "name": "stdout",
     "output_type": "stream",
     "text": [
      "sales\n",
      "\n"
     ]
    },
    {
     "data": {
      "text/plain": [
       "#Time              0\n",
       "Purchaser      12447\n",
       "Item               0\n",
       "#Voucher           0\n",
       "Semana             0\n",
       "Turno              0\n",
       "Classe 1           0\n",
       "Classe 2       17048\n",
       "Classe 3       73892\n",
       "Preço              0\n",
       "Margem             0\n",
       "Total Venda        0\n",
       "Data               0\n",
       "Quantidade         0\n",
       "dtype: int64"
      ]
     },
     "execution_count": 10,
     "metadata": {},
     "output_type": "execute_result"
    }
   ],
   "source": [
    "print('sales\\n')\n",
    "sales.isna().sum()"
   ]
  },
  {
   "cell_type": "markdown",
   "metadata": {
    "hidden": true
   },
   "source": [
    "O sistema gestor de vendas utilizado tem uma modalidade de vendas que não vincula o produto à uma mesa de consumo, geralmente utilizados quando ocorre uma venda avulsa, que é paga no ato da compra. Tais produtos são inseridos no sistema sem informação no campo \"Purchaser\", o que justifica os 8930 NaN Values nessa feature. As features Classe 2 e Classe 3 possuem NaN Values porque alguns produtos são cadastrados e classificados apenas no primeiro nível (Classe 1)."
   ]
  },
  {
   "cell_type": "markdown",
   "metadata": {
    "heading_collapsed": true,
    "hidden": true
   },
   "source": [
    "## 1.4 Data Cleaning"
   ]
  },
  {
   "cell_type": "code",
   "execution_count": 11,
   "metadata": {
    "ExecuteTime": {
     "end_time": "2022-09-07T16:45:00.661906Z",
     "start_time": "2022-09-07T16:44:45.934391Z"
    },
    "hidden": true,
    "scrolled": false
   },
   "outputs": [
    {
     "name": "stderr",
     "output_type": "stream",
     "text": [
      "C:\\Users\\Samoel\\AppData\\Local\\Temp\\ipykernel_11952\\2971350130.py:4: SettingWithCopyWarning: \n",
      "A value is trying to be set on a copy of a slice from a DataFrame.\n",
      "Try using .loc[row_indexer,col_indexer] = value instead\n",
      "\n",
      "See the caveats in the documentation: https://pandas.pydata.org/pandas-docs/stable/user_guide/indexing.html#returning-a-view-versus-a-copy\n",
      "  billiard['start_time'] = billiard['#Start Time'].apply(lambda x: x.split('/')[1])\n",
      "C:\\Users\\Samoel\\AppData\\Local\\Temp\\ipykernel_11952\\2971350130.py:7: SettingWithCopyWarning: \n",
      "A value is trying to be set on a copy of a slice from a DataFrame.\n",
      "Try using .loc[row_indexer,col_indexer] = value instead\n",
      "\n",
      "See the caveats in the documentation: https://pandas.pydata.org/pandas-docs/stable/user_guide/indexing.html#returning-a-view-versus-a-copy\n",
      "  billiard['Data'] = billiard['Data'].str.replace('/', '-').str.strip()\n",
      "C:\\Users\\Samoel\\AppData\\Local\\Temp\\ipykernel_11952\\2971350130.py:10: SettingWithCopyWarning: \n",
      "A value is trying to be set on a copy of a slice from a DataFrame.\n",
      "Try using .loc[row_indexer,col_indexer] = value instead\n",
      "\n",
      "See the caveats in the documentation: https://pandas.pydata.org/pandas-docs/stable/user_guide/indexing.html#returning-a-view-versus-a-copy\n",
      "  billiard['datetime'] = billiard['Data'] + '-' + billiard['start_time']\n",
      "C:\\Users\\Samoel\\AppData\\Local\\Temp\\ipykernel_11952\\2971350130.py:11: SettingWithCopyWarning: \n",
      "A value is trying to be set on a copy of a slice from a DataFrame.\n",
      "Try using .loc[row_indexer,col_indexer] = value instead\n",
      "\n",
      "See the caveats in the documentation: https://pandas.pydata.org/pandas-docs/stable/user_guide/indexing.html#returning-a-view-versus-a-copy\n",
      "  billiard['datetime'] = pd.to_datetime(billiard['datetime'])\n",
      "C:\\Users\\Samoel\\AppData\\Local\\Temp\\ipykernel_11952\\2971350130.py:14: SettingWithCopyWarning: \n",
      "A value is trying to be set on a copy of a slice from a DataFrame\n",
      "\n",
      "See the caveats in the documentation: https://pandas.pydata.org/pandas-docs/stable/user_guide/indexing.html#returning-a-view-versus-a-copy\n",
      "  billiard.rename(columns={'#No':'id'}, inplace=True)\n",
      "C:\\Users\\Samoel\\AppData\\Local\\Temp\\ipykernel_11952\\2971350130.py:15: SettingWithCopyWarning: \n",
      "A value is trying to be set on a copy of a slice from a DataFrame\n",
      "\n",
      "See the caveats in the documentation: https://pandas.pydata.org/pandas-docs/stable/user_guide/indexing.html#returning-a-view-versus-a-copy\n",
      "  billiard.rename(columns={'Name':'purchaser'}, inplace=True)\n",
      "C:\\Users\\Samoel\\AppData\\Local\\Temp\\ipykernel_11952\\2971350130.py:16: SettingWithCopyWarning: \n",
      "A value is trying to be set on a copy of a slice from a DataFrame\n",
      "\n",
      "See the caveats in the documentation: https://pandas.pydata.org/pandas-docs/stable/user_guide/indexing.html#returning-a-view-versus-a-copy\n",
      "  billiard.rename(columns={'Total Bilhar':'sale'}, inplace=True)\n",
      "C:\\Users\\Samoel\\AppData\\Local\\Temp\\ipykernel_11952\\2971350130.py:17: SettingWithCopyWarning: \n",
      "A value is trying to be set on a copy of a slice from a DataFrame\n",
      "\n",
      "See the caveats in the documentation: https://pandas.pydata.org/pandas-docs/stable/user_guide/indexing.html#returning-a-view-versus-a-copy\n",
      "  billiard.rename(columns={'#Preço/Hora':'price'}, inplace=True)\n",
      "C:\\Users\\Samoel\\AppData\\Local\\Temp\\ipykernel_11952\\2971350130.py:18: SettingWithCopyWarning: \n",
      "A value is trying to be set on a copy of a slice from a DataFrame\n",
      "\n",
      "See the caveats in the documentation: https://pandas.pydata.org/pandas-docs/stable/user_guide/indexing.html#returning-a-view-versus-a-copy\n",
      "  billiard.rename(columns={'Semana':'week'}, inplace=True)\n",
      "C:\\Users\\Samoel\\AppData\\Local\\Temp\\ipykernel_11952\\2971350130.py:19: SettingWithCopyWarning: \n",
      "A value is trying to be set on a copy of a slice from a DataFrame\n",
      "\n",
      "See the caveats in the documentation: https://pandas.pydata.org/pandas-docs/stable/user_guide/indexing.html#returning-a-view-versus-a-copy\n",
      "  billiard.rename(columns={'Turno':'work_shift'}, inplace=True)\n",
      "C:\\Users\\Samoel\\AppData\\Local\\Temp\\ipykernel_11952\\2971350130.py:20: SettingWithCopyWarning: \n",
      "A value is trying to be set on a copy of a slice from a DataFrame\n",
      "\n",
      "See the caveats in the documentation: https://pandas.pydata.org/pandas-docs/stable/user_guide/indexing.html#returning-a-view-versus-a-copy\n",
      "  billiard.rename(columns={'In Use':'in_use'}, inplace=True)\n",
      "C:\\Users\\Samoel\\AppData\\Local\\Temp\\ipykernel_11952\\2971350130.py:23: SettingWithCopyWarning: \n",
      "A value is trying to be set on a copy of a slice from a DataFrame.\n",
      "Try using .loc[row_indexer,col_indexer] = value instead\n",
      "\n",
      "See the caveats in the documentation: https://pandas.pydata.org/pandas-docs/stable/user_guide/indexing.html#returning-a-view-versus-a-copy\n",
      "  billiard['quantity'] = round(billiard['sale'] / billiard['price'], 1)\n",
      "C:\\Users\\Samoel\\AppData\\Local\\Temp\\ipykernel_11952\\2971350130.py:26: SettingWithCopyWarning: \n",
      "A value is trying to be set on a copy of a slice from a DataFrame.\n",
      "Try using .loc[row_indexer,col_indexer] = value instead\n",
      "\n",
      "See the caveats in the documentation: https://pandas.pydata.org/pandas-docs/stable/user_guide/indexing.html#returning-a-view-versus-a-copy\n",
      "  billiard['item'] = 'bilhar'\n",
      "C:\\Users\\Samoel\\AppData\\Local\\Temp\\ipykernel_11952\\2971350130.py:29: SettingWithCopyWarning: \n",
      "A value is trying to be set on a copy of a slice from a DataFrame\n",
      "\n",
      "See the caveats in the documentation: https://pandas.pydata.org/pandas-docs/stable/user_guide/indexing.html#returning-a-view-versus-a-copy\n",
      "  billiard.drop(['Pago', 'Data', 'start_time', '#Start Time'], axis=1, inplace=True)\n",
      "C:\\Users\\Samoel\\AppData\\Local\\Temp\\ipykernel_11952\\2971350130.py:34: SettingWithCopyWarning: \n",
      "A value is trying to be set on a copy of a slice from a DataFrame.\n",
      "Try using .loc[row_indexer,col_indexer] = value instead\n",
      "\n",
      "See the caveats in the documentation: https://pandas.pydata.org/pandas-docs/stable/user_guide/indexing.html#returning-a-view-versus-a-copy\n",
      "  sales['Time'] = sales['#Time'].apply(lambda x: x.split('/')[1])\n",
      "C:\\Users\\Samoel\\AppData\\Local\\Temp\\ipykernel_11952\\2971350130.py:35: SettingWithCopyWarning: \n",
      "A value is trying to be set on a copy of a slice from a DataFrame.\n",
      "Try using .loc[row_indexer,col_indexer] = value instead\n",
      "\n",
      "See the caveats in the documentation: https://pandas.pydata.org/pandas-docs/stable/user_guide/indexing.html#returning-a-view-versus-a-copy\n",
      "  sales['datetime'] = sales['Data'] + '-' + sales['Time']\n",
      "C:\\Users\\Samoel\\AppData\\Local\\Temp\\ipykernel_11952\\2971350130.py:38: SettingWithCopyWarning: \n",
      "A value is trying to be set on a copy of a slice from a DataFrame.\n",
      "Try using .loc[row_indexer,col_indexer] = value instead\n",
      "\n",
      "See the caveats in the documentation: https://pandas.pydata.org/pandas-docs/stable/user_guide/indexing.html#returning-a-view-versus-a-copy\n",
      "  sales['datetime'] = pd.to_datetime(sales['datetime'])\n",
      "C:\\Users\\Samoel\\AppData\\Local\\Temp\\ipykernel_11952\\2971350130.py:41: SettingWithCopyWarning: \n",
      "A value is trying to be set on a copy of a slice from a DataFrame\n",
      "\n",
      "See the caveats in the documentation: https://pandas.pydata.org/pandas-docs/stable/user_guide/indexing.html#returning-a-view-versus-a-copy\n",
      "  sales.rename(columns={'#Voucher':'id'}, inplace=True)\n",
      "C:\\Users\\Samoel\\AppData\\Local\\Temp\\ipykernel_11952\\2971350130.py:42: SettingWithCopyWarning: \n",
      "A value is trying to be set on a copy of a slice from a DataFrame\n",
      "\n",
      "See the caveats in the documentation: https://pandas.pydata.org/pandas-docs/stable/user_guide/indexing.html#returning-a-view-versus-a-copy\n",
      "  sales.rename(columns={'Total Venda':'amount'}, inplace=True)\n",
      "C:\\Users\\Samoel\\AppData\\Local\\Temp\\ipykernel_11952\\2971350130.py:43: SettingWithCopyWarning: \n",
      "A value is trying to be set on a copy of a slice from a DataFrame\n",
      "\n",
      "See the caveats in the documentation: https://pandas.pydata.org/pandas-docs/stable/user_guide/indexing.html#returning-a-view-versus-a-copy\n",
      "  sales.rename(columns={'Preço':'price'}, inplace=True)\n",
      "C:\\Users\\Samoel\\AppData\\Local\\Temp\\ipykernel_11952\\2971350130.py:44: SettingWithCopyWarning: \n",
      "A value is trying to be set on a copy of a slice from a DataFrame\n",
      "\n",
      "See the caveats in the documentation: https://pandas.pydata.org/pandas-docs/stable/user_guide/indexing.html#returning-a-view-versus-a-copy\n",
      "  sales.rename(columns={'Classe 1':'class1'}, inplace=True)\n",
      "C:\\Users\\Samoel\\AppData\\Local\\Temp\\ipykernel_11952\\2971350130.py:45: SettingWithCopyWarning: \n",
      "A value is trying to be set on a copy of a slice from a DataFrame\n",
      "\n",
      "See the caveats in the documentation: https://pandas.pydata.org/pandas-docs/stable/user_guide/indexing.html#returning-a-view-versus-a-copy\n",
      "  sales.rename(columns={'Semana':'week'}, inplace=True)\n",
      "C:\\Users\\Samoel\\AppData\\Local\\Temp\\ipykernel_11952\\2971350130.py:46: SettingWithCopyWarning: \n",
      "A value is trying to be set on a copy of a slice from a DataFrame\n",
      "\n",
      "See the caveats in the documentation: https://pandas.pydata.org/pandas-docs/stable/user_guide/indexing.html#returning-a-view-versus-a-copy\n",
      "  sales.rename(columns={'Turno':'work_shift'}, inplace=True)\n",
      "C:\\Users\\Samoel\\AppData\\Local\\Temp\\ipykernel_11952\\2971350130.py:47: SettingWithCopyWarning: \n",
      "A value is trying to be set on a copy of a slice from a DataFrame\n",
      "\n",
      "See the caveats in the documentation: https://pandas.pydata.org/pandas-docs/stable/user_guide/indexing.html#returning-a-view-versus-a-copy\n",
      "  sales.rename(columns={'Purchaser':'purchaser'}, inplace=True)\n",
      "C:\\Users\\Samoel\\AppData\\Local\\Temp\\ipykernel_11952\\2971350130.py:48: SettingWithCopyWarning: \n",
      "A value is trying to be set on a copy of a slice from a DataFrame\n",
      "\n",
      "See the caveats in the documentation: https://pandas.pydata.org/pandas-docs/stable/user_guide/indexing.html#returning-a-view-versus-a-copy\n",
      "  sales.rename(columns={'Item':'item'}, inplace=True)\n",
      "C:\\Users\\Samoel\\AppData\\Local\\Temp\\ipykernel_11952\\2971350130.py:49: SettingWithCopyWarning: \n",
      "A value is trying to be set on a copy of a slice from a DataFrame\n",
      "\n",
      "See the caveats in the documentation: https://pandas.pydata.org/pandas-docs/stable/user_guide/indexing.html#returning-a-view-versus-a-copy\n",
      "  sales.rename(columns={'Quantidade':'quantity'}, inplace=True)\n",
      "C:\\Users\\Samoel\\AppData\\Local\\Temp\\ipykernel_11952\\2971350130.py:50: SettingWithCopyWarning: \n",
      "A value is trying to be set on a copy of a slice from a DataFrame\n",
      "\n",
      "See the caveats in the documentation: https://pandas.pydata.org/pandas-docs/stable/user_guide/indexing.html#returning-a-view-versus-a-copy\n",
      "  sales.rename(columns={'Margem':'margin'}, inplace=True)\n",
      "C:\\Users\\Samoel\\AppData\\Local\\Temp\\ipykernel_11952\\2971350130.py:53: SettingWithCopyWarning: \n",
      "A value is trying to be set on a copy of a slice from a DataFrame.\n",
      "Try using .loc[row_indexer,col_indexer] = value instead\n",
      "\n",
      "See the caveats in the documentation: https://pandas.pydata.org/pandas-docs/stable/user_guide/indexing.html#returning-a-view-versus-a-copy\n",
      "  sales['margin'] = sales['margin'] * sales['quantity']\n",
      "C:\\Users\\Samoel\\AppData\\Local\\Temp\\ipykernel_11952\\2971350130.py:56: SettingWithCopyWarning: \n",
      "A value is trying to be set on a copy of a slice from a DataFrame\n",
      "\n",
      "See the caveats in the documentation: https://pandas.pydata.org/pandas-docs/stable/user_guide/indexing.html#returning-a-view-versus-a-copy\n",
      "  sales.drop(['#Time', 'Data', 'Time'], axis=1, inplace=True)\n"
     ]
    }
   ],
   "source": [
    "# billiard\n",
    "\n",
    "# Adjusting #Start Time to datetimeindex format\n",
    "billiard['start_time'] = billiard['#Start Time'].apply(lambda x: x.split('/')[1])\n",
    "\n",
    "# Adjusting #Data to datetime format\n",
    "billiard['Data'] = billiard['Data'].str.replace('/', '-').str.strip()\n",
    "\n",
    "# Creating datetime feature with datetime dtype\n",
    "billiard['datetime'] = billiard['Data'] + '-' + billiard['start_time']\n",
    "billiard['datetime'] = pd.to_datetime(billiard['datetime'])\n",
    "\n",
    "# Changing interesting feature names\n",
    "billiard.rename(columns={'#No':'id'}, inplace=True)\n",
    "billiard.rename(columns={'Name':'purchaser'}, inplace=True)\n",
    "billiard.rename(columns={'Total Bilhar':'sale'}, inplace=True)\n",
    "billiard.rename(columns={'#Preço/Hora':'price'}, inplace=True)\n",
    "billiard.rename(columns={'Semana':'week'}, inplace=True)\n",
    "billiard.rename(columns={'Turno':'work_shift'}, inplace=True)\n",
    "billiard.rename(columns={'In Use':'in_use'}, inplace=True)\n",
    "\n",
    "#  Creating quantity feature\n",
    "billiard['quantity'] = round(billiard['sale'] / billiard['price'], 1)\n",
    "\n",
    "# Creating item feature\n",
    "billiard['item'] = 'bilhar'\n",
    "\n",
    "# Droping features\n",
    "billiard.drop(['Pago', 'Data', 'start_time', '#Start Time'], axis=1, inplace=True)\n",
    "\n",
    "# sales\n",
    "\n",
    "# Catch date informations\n",
    "sales['Time'] = sales['#Time'].apply(lambda x: x.split('/')[1])\n",
    "sales['datetime'] = sales['Data'] + '-' + sales['Time']\n",
    "\n",
    "# Creating datetime feature\n",
    "sales['datetime'] = pd.to_datetime(sales['datetime'])\n",
    "\n",
    "# Changing interesting feature names\n",
    "sales.rename(columns={'#Voucher':'id'}, inplace=True)\n",
    "sales.rename(columns={'Total Venda':'amount'}, inplace=True)\n",
    "sales.rename(columns={'Preço':'price'}, inplace=True)\n",
    "sales.rename(columns={'Classe 1':'class1'}, inplace=True)\n",
    "sales.rename(columns={'Semana':'week'}, inplace=True)\n",
    "sales.rename(columns={'Turno':'work_shift'}, inplace=True)\n",
    "sales.rename(columns={'Purchaser':'purchaser'}, inplace=True)\n",
    "sales.rename(columns={'Item':'item'}, inplace=True)\n",
    "sales.rename(columns={'Quantidade':'quantity'}, inplace=True)\n",
    "sales.rename(columns={'Margem':'margin'}, inplace=True)\n",
    "\n",
    "# multiplying unitary product margin to total margin\n",
    "sales['margin'] = sales['margin'] * sales['quantity']\n",
    "\n",
    "# Removing features\n",
    "sales.drop(['#Time', 'Data', 'Time'], axis=1, inplace=True)"
   ]
  },
  {
   "cell_type": "markdown",
   "metadata": {
    "heading_collapsed": true,
    "hidden": true
   },
   "source": [
    "## 1.5 Creating Dataframe"
   ]
  },
  {
   "cell_type": "code",
   "execution_count": 12,
   "metadata": {
    "ExecuteTime": {
     "end_time": "2022-09-07T16:45:00.858369Z",
     "start_time": "2022-09-07T16:45:00.665851Z"
    },
    "hidden": true
   },
   "outputs": [],
   "source": [
    "# concating\n",
    "df1 = pd.concat([billiard, sales], axis=0)\n",
    "\n",
    "# Pivoting table to date x class1\n",
    "df1.loc[df1['item']=='bilhar', 'class1'] = 'Bilhar'\n",
    "df1['datetime'] = pd.to_datetime(df1['datetime'])\n",
    "df1['date'] = df1['datetime'].dt.date\n",
    "df1['date'] = pd.to_datetime(df1['date'])\n",
    "df1 = df1.pivot_table(columns='class1', index='date', values='amount', aggfunc='sum', fill_value=0)\n",
    "df1['total'] = df1.sum(axis=1)"
   ]
  },
  {
   "cell_type": "code",
   "execution_count": 13,
   "metadata": {
    "ExecuteTime": {
     "end_time": "2022-09-07T16:45:00.890031Z",
     "start_time": "2022-09-07T16:45:00.860596Z"
    },
    "hidden": true
   },
   "outputs": [
    {
     "data": {
      "text/html": [
       "<div>\n",
       "<style scoped>\n",
       "    .dataframe tbody tr th:only-of-type {\n",
       "        vertical-align: middle;\n",
       "    }\n",
       "\n",
       "    .dataframe tbody tr th {\n",
       "        vertical-align: top;\n",
       "    }\n",
       "\n",
       "    .dataframe thead th {\n",
       "        text-align: right;\n",
       "    }\n",
       "</style>\n",
       "<table border=\"1\" class=\"dataframe\">\n",
       "  <thead>\n",
       "    <tr style=\"text-align: right;\">\n",
       "      <th>class1</th>\n",
       "      <th>Bar</th>\n",
       "      <th>Bilhar</th>\n",
       "      <th>Bomboniere</th>\n",
       "      <th>Cozinha</th>\n",
       "      <th>Gorjeta</th>\n",
       "      <th>Tabacaria</th>\n",
       "      <th>total</th>\n",
       "    </tr>\n",
       "    <tr>\n",
       "      <th>date</th>\n",
       "      <th></th>\n",
       "      <th></th>\n",
       "      <th></th>\n",
       "      <th></th>\n",
       "      <th></th>\n",
       "      <th></th>\n",
       "      <th></th>\n",
       "    </tr>\n",
       "  </thead>\n",
       "  <tbody>\n",
       "    <tr>\n",
       "      <th>2017-05-02</th>\n",
       "      <td>169.8</td>\n",
       "      <td>0.0</td>\n",
       "      <td>0.0</td>\n",
       "      <td>24.0</td>\n",
       "      <td>9.2</td>\n",
       "      <td>0.0</td>\n",
       "      <td>203.0</td>\n",
       "    </tr>\n",
       "    <tr>\n",
       "      <th>2017-05-03</th>\n",
       "      <td>425.4</td>\n",
       "      <td>18.0</td>\n",
       "      <td>0.0</td>\n",
       "      <td>156.7</td>\n",
       "      <td>35.4</td>\n",
       "      <td>22.0</td>\n",
       "      <td>657.5</td>\n",
       "    </tr>\n",
       "    <tr>\n",
       "      <th>2017-05-04</th>\n",
       "      <td>425.3</td>\n",
       "      <td>18.0</td>\n",
       "      <td>0.0</td>\n",
       "      <td>19.9</td>\n",
       "      <td>25.6</td>\n",
       "      <td>0.0</td>\n",
       "      <td>488.8</td>\n",
       "    </tr>\n",
       "    <tr>\n",
       "      <th>2017-05-05</th>\n",
       "      <td>937.1</td>\n",
       "      <td>0.0</td>\n",
       "      <td>15.0</td>\n",
       "      <td>431.9</td>\n",
       "      <td>104.5</td>\n",
       "      <td>34.0</td>\n",
       "      <td>1522.5</td>\n",
       "    </tr>\n",
       "    <tr>\n",
       "      <th>2017-05-06</th>\n",
       "      <td>1372.1</td>\n",
       "      <td>0.0</td>\n",
       "      <td>12.5</td>\n",
       "      <td>353.2</td>\n",
       "      <td>121.7</td>\n",
       "      <td>25.0</td>\n",
       "      <td>1884.5</td>\n",
       "    </tr>\n",
       "  </tbody>\n",
       "</table>\n",
       "</div>"
      ],
      "text/plain": [
       "class1         Bar  Bilhar  Bomboniere  Cozinha  Gorjeta  Tabacaria   total\n",
       "date                                                                       \n",
       "2017-05-02   169.8     0.0         0.0     24.0      9.2        0.0   203.0\n",
       "2017-05-03   425.4    18.0         0.0    156.7     35.4       22.0   657.5\n",
       "2017-05-04   425.3    18.0         0.0     19.9     25.6        0.0   488.8\n",
       "2017-05-05   937.1     0.0        15.0    431.9    104.5       34.0  1522.5\n",
       "2017-05-06  1372.1     0.0        12.5    353.2    121.7       25.0  1884.5"
      ]
     },
     "execution_count": 13,
     "metadata": {},
     "output_type": "execute_result"
    }
   ],
   "source": [
    "df1.head()"
   ]
  },
  {
   "cell_type": "markdown",
   "metadata": {
    "heading_collapsed": true,
    "hidden": true
   },
   "source": [
    "## 1.6 Data Dimensions"
   ]
  },
  {
   "cell_type": "code",
   "execution_count": 14,
   "metadata": {
    "ExecuteTime": {
     "end_time": "2022-09-07T16:45:00.904979Z",
     "start_time": "2022-09-07T16:45:00.895038Z"
    },
    "hidden": true,
    "scrolled": true
   },
   "outputs": [
    {
     "name": "stdout",
     "output_type": "stream",
     "text": [
      "Number of rows: 1432\n",
      "Number of columns: 7\n"
     ]
    }
   ],
   "source": [
    "print(f'Number of rows: {df1.shape[0]}')\n",
    "print(f'Number of columns: {df1.shape[1]}')"
   ]
  },
  {
   "cell_type": "markdown",
   "metadata": {
    "heading_collapsed": true,
    "hidden": true
   },
   "source": [
    "## 1.7 Check NaN values"
   ]
  },
  {
   "cell_type": "code",
   "execution_count": 15,
   "metadata": {
    "ExecuteTime": {
     "end_time": "2022-09-07T16:45:00.920512Z",
     "start_time": "2022-09-07T16:45:00.908970Z"
    },
    "hidden": true
   },
   "outputs": [
    {
     "data": {
      "text/plain": [
       "class1\n",
       "Bar           0\n",
       "Bilhar        0\n",
       "Bomboniere    0\n",
       "Cozinha       0\n",
       "Gorjeta       0\n",
       "Tabacaria     0\n",
       "total         0\n",
       "dtype: int64"
      ]
     },
     "execution_count": 15,
     "metadata": {},
     "output_type": "execute_result"
    }
   ],
   "source": [
    "df1.isnull().sum()"
   ]
  },
  {
   "cell_type": "markdown",
   "metadata": {
    "heading_collapsed": true,
    "hidden": true
   },
   "source": [
    "## 1.8 Descriptive Statistics"
   ]
  },
  {
   "cell_type": "code",
   "execution_count": 16,
   "metadata": {
    "ExecuteTime": {
     "end_time": "2022-09-07T16:45:00.967577Z",
     "start_time": "2022-09-07T16:45:00.923113Z"
    },
    "hidden": true
   },
   "outputs": [
    {
     "data": {
      "text/html": [
       "<div>\n",
       "<style scoped>\n",
       "    .dataframe tbody tr th:only-of-type {\n",
       "        vertical-align: middle;\n",
       "    }\n",
       "\n",
       "    .dataframe tbody tr th {\n",
       "        vertical-align: top;\n",
       "    }\n",
       "\n",
       "    .dataframe thead th {\n",
       "        text-align: right;\n",
       "    }\n",
       "</style>\n",
       "<table border=\"1\" class=\"dataframe\">\n",
       "  <thead>\n",
       "    <tr style=\"text-align: right;\">\n",
       "      <th></th>\n",
       "      <th>min</th>\n",
       "      <th>max</th>\n",
       "      <th>range</th>\n",
       "      <th>mean</th>\n",
       "      <th>median</th>\n",
       "      <th>std</th>\n",
       "      <th>skew</th>\n",
       "      <th>kurtosis</th>\n",
       "    </tr>\n",
       "    <tr>\n",
       "      <th>class1</th>\n",
       "      <th></th>\n",
       "      <th></th>\n",
       "      <th></th>\n",
       "      <th></th>\n",
       "      <th></th>\n",
       "      <th></th>\n",
       "      <th></th>\n",
       "      <th></th>\n",
       "    </tr>\n",
       "  </thead>\n",
       "  <tbody>\n",
       "    <tr>\n",
       "      <th>Bar</th>\n",
       "      <td>0.0</td>\n",
       "      <td>2818.89</td>\n",
       "      <td>2818.89</td>\n",
       "      <td>848.299413</td>\n",
       "      <td>705.735</td>\n",
       "      <td>494.963713</td>\n",
       "      <td>0.768592</td>\n",
       "      <td>-0.060985</td>\n",
       "    </tr>\n",
       "    <tr>\n",
       "      <th>Bilhar</th>\n",
       "      <td>0.0</td>\n",
       "      <td>256.00</td>\n",
       "      <td>256.00</td>\n",
       "      <td>3.120042</td>\n",
       "      <td>0.000</td>\n",
       "      <td>9.723168</td>\n",
       "      <td>13.920176</td>\n",
       "      <td>326.983515</td>\n",
       "    </tr>\n",
       "    <tr>\n",
       "      <th>Bomboniere</th>\n",
       "      <td>0.0</td>\n",
       "      <td>60.00</td>\n",
       "      <td>60.00</td>\n",
       "      <td>5.115363</td>\n",
       "      <td>3.000</td>\n",
       "      <td>6.562343</td>\n",
       "      <td>2.376663</td>\n",
       "      <td>9.265324</td>\n",
       "    </tr>\n",
       "    <tr>\n",
       "      <th>Cozinha</th>\n",
       "      <td>0.0</td>\n",
       "      <td>1646.80</td>\n",
       "      <td>1646.80</td>\n",
       "      <td>349.127549</td>\n",
       "      <td>273.100</td>\n",
       "      <td>264.195154</td>\n",
       "      <td>1.130995</td>\n",
       "      <td>1.121061</td>\n",
       "    </tr>\n",
       "    <tr>\n",
       "      <th>Gorjeta</th>\n",
       "      <td>0.0</td>\n",
       "      <td>315.10</td>\n",
       "      <td>315.10</td>\n",
       "      <td>70.097416</td>\n",
       "      <td>52.650</td>\n",
       "      <td>58.914178</td>\n",
       "      <td>1.020592</td>\n",
       "      <td>0.566882</td>\n",
       "    </tr>\n",
       "    <tr>\n",
       "      <th>Tabacaria</th>\n",
       "      <td>0.0</td>\n",
       "      <td>253.50</td>\n",
       "      <td>253.50</td>\n",
       "      <td>31.152842</td>\n",
       "      <td>22.000</td>\n",
       "      <td>34.119881</td>\n",
       "      <td>1.722110</td>\n",
       "      <td>3.914441</td>\n",
       "    </tr>\n",
       "    <tr>\n",
       "      <th>total</th>\n",
       "      <td>0.0</td>\n",
       "      <td>4698.59</td>\n",
       "      <td>4698.59</td>\n",
       "      <td>1306.912626</td>\n",
       "      <td>1070.335</td>\n",
       "      <td>797.800971</td>\n",
       "      <td>0.821651</td>\n",
       "      <td>0.015989</td>\n",
       "    </tr>\n",
       "  </tbody>\n",
       "</table>\n",
       "</div>"
      ],
      "text/plain": [
       "            min      max    range         mean    median         std  \\\n",
       "class1                                                                 \n",
       "Bar         0.0  2818.89  2818.89   848.299413   705.735  494.963713   \n",
       "Bilhar      0.0   256.00   256.00     3.120042     0.000    9.723168   \n",
       "Bomboniere  0.0    60.00    60.00     5.115363     3.000    6.562343   \n",
       "Cozinha     0.0  1646.80  1646.80   349.127549   273.100  264.195154   \n",
       "Gorjeta     0.0   315.10   315.10    70.097416    52.650   58.914178   \n",
       "Tabacaria   0.0   253.50   253.50    31.152842    22.000   34.119881   \n",
       "total       0.0  4698.59  4698.59  1306.912626  1070.335  797.800971   \n",
       "\n",
       "                 skew    kurtosis  \n",
       "class1                             \n",
       "Bar          0.768592   -0.060985  \n",
       "Bilhar      13.920176  326.983515  \n",
       "Bomboniere   2.376663    9.265324  \n",
       "Cozinha      1.130995    1.121061  \n",
       "Gorjeta      1.020592    0.566882  \n",
       "Tabacaria    1.722110    3.914441  \n",
       "total        0.821651    0.015989  "
      ]
     },
     "execution_count": 16,
     "metadata": {},
     "output_type": "execute_result"
    }
   ],
   "source": [
    "# central tendency\n",
    "ct1 = pd.DataFrame(df1.apply(np.mean)).T\n",
    "ct2 = pd.DataFrame(df1.apply(np.median)).T\n",
    "# dispersion\n",
    "d1 = pd.DataFrame(df1.apply(np.std)).T\n",
    "d2 = pd.DataFrame(df1.apply(np.min)).T\n",
    "d3 = pd.DataFrame(df1.apply(np.max)).T\n",
    "d4 = pd.DataFrame(df1.apply(lambda x: x.max() - x.min())).T\n",
    "d5 = pd.DataFrame(df1.apply(lambda x: x.skew())).T\n",
    "d6 = pd.DataFrame(df1.apply(lambda x: x.kurtosis())).T\n",
    "\n",
    "# Concat\n",
    "temp = pd.concat([d2, d3, d4, ct1, ct2, d1, d5, d6]).T\n",
    "temp.columns = 'min max range mean median std skew kurtosis'.split()\n",
    "temp"
   ]
  },
  {
   "cell_type": "code",
   "execution_count": 17,
   "metadata": {
    "ExecuteTime": {
     "end_time": "2022-09-07T16:45:01.139771Z",
     "start_time": "2022-09-07T16:45:00.970500Z"
    },
    "hidden": true
   },
   "outputs": [
    {
     "data": {
      "image/png": "[encoded data removed]",
      "text/plain": [
       "<Figure size 432x288 with 1 Axes>"
      ]
     },
     "metadata": {
      "needs_background": "light"
     },
     "output_type": "display_data"
    }
   ],
   "source": [
    "sns.histplot(data=df1, x='total');"
   ]
  },
  {
   "cell_type": "markdown",
   "metadata": {
    "heading_collapsed": true
   },
   "source": [
    "# 2.0 Feature Engineering"
   ]
  },
  {
   "cell_type": "code",
   "execution_count": 18,
   "metadata": {
    "ExecuteTime": {
     "end_time": "2022-09-07T16:45:01.155019Z",
     "start_time": "2022-09-07T16:45:01.142765Z"
    },
    "hidden": true
   },
   "outputs": [],
   "source": [
    "df2 = df1.copy()"
   ]
  },
  {
   "cell_type": "code",
   "execution_count": 19,
   "metadata": {
    "ExecuteTime": {
     "end_time": "2022-09-07T16:45:01.186695Z",
     "start_time": "2022-09-07T16:45:01.158014Z"
    },
    "hidden": true
   },
   "outputs": [],
   "source": [
    "# Day of week\n",
    "df2 = df2.resample('d').sum()\n",
    "df2['day_of_week'] = df2.index.day_name()\n",
    "remover = df2.loc[df2['day_of_week']=='Monday'].index\n",
    "df2.drop(remover, axis=0, inplace=True)\n",
    "\n",
    "# Shifted values\n",
    "df2['shift_1'] = df2['total'].shift(1)\n",
    "df2['shift_2'] = df2['total'].shift(2)\n",
    "df2['shift_3'] = df2['total'].shift(3)\n",
    "df2['shift_5'] = df2['total'].shift(5)\n",
    "df2['shift_6'] = df2['total'].shift(6)\n",
    "df2['shift_11'] = df2['total'].shift(11)\n",
    "df2['shift_12'] = df2['total'].shift(12)\n",
    "shifteds = 'shift_1 shift_2 shift_3 shift_5 shift_6 shift_11 shift_12'.split()\n",
    "\n",
    "# day_of_month\n",
    "df2['day_of_month'] = df2.index.day\n",
    "\n",
    "# month\n",
    "df2['month'] = df2.index.month"
   ]
  },
  {
   "cell_type": "markdown",
   "metadata": {},
   "source": [
    "# 3.0 Business Hypothesis"
   ]
  },
  {
   "cell_type": "code",
   "execution_count": 20,
   "metadata": {
    "ExecuteTime": {
     "end_time": "2022-09-07T16:45:01.202719Z",
     "start_time": "2022-09-07T16:45:01.189676Z"
    }
   },
   "outputs": [],
   "source": [
    "df3 = df2.copy()"
   ]
  },
  {
   "cell_type": "markdown",
   "metadata": {
    "ExecuteTime": {
     "end_time": "2022-09-06T14:50:30.305523Z",
     "start_time": "2022-09-06T14:50:30.282651Z"
    }
   },
   "source": [
    "## Contexto: È de entendimento do time de negócios, que os dias semanais têm demandas aparentemente diferentes.\n",
    "* Sexta-feira e Sábados têm os maiores faturamentos\n",
    "* Quarta-feira é um dia promocional há mais de 3 anos e apresenta uma demanda inferior às sextas ou sábados, e superior aos demais dias semanais.\n",
    "* Domingos é um dia promocional mais recente, há por volta de 3 meses, e apresenta um faturamento superior às terça-feiras e às quinta-feiras."
   ]
  },
  {
   "cell_type": "markdown",
   "metadata": {
    "ExecuteTime": {
     "end_time": "2022-09-06T14:41:29.688202Z",
     "start_time": "2022-09-06T14:41:29.668215Z"
    }
   },
   "source": [
    "## 3.1 Hyphothesy 01:\n",
    "### O faturamento total  médio é igual entre os dias semanais: terça-feira e quinta-feira.\n",
    "* Hipótese Nula (H0): O faturamento médio é igual\n",
    "* Hipótese Alternativa (H1): O faturamento médio é diferente"
   ]
  },
  {
   "cell_type": "markdown",
   "metadata": {
    "ExecuteTime": {
     "end_time": "2022-09-06T14:41:29.688202Z",
     "start_time": "2022-09-06T14:41:29.668215Z"
    }
   },
   "source": [
    "## 3.2 Hyphothesy 02:\n",
    "### O faturamento total  médio é igual entre os dias semanais: sexta-feira e sábado.\n",
    "* Hipótese Nula (H0): O faturamento médio é igual\n",
    "* Hipótese Alternativa (H1): O faturamento médio é diferente"
   ]
  },
  {
   "cell_type": "markdown",
   "metadata": {
    "ExecuteTime": {
     "end_time": "2022-09-06T14:41:29.688202Z",
     "start_time": "2022-09-06T14:41:29.668215Z"
    }
   },
   "source": [
    "## 3.3 Hyphothesy 03:\n",
    "### O faturamento total  médio é igual entre os dias semanais: terça-feira, quarta-feira, quinta-feira e domingo e os dias: sexta-feira e sábado.\n",
    "* Hipótese Nula (H0): O faturamento médio é igual\n",
    "* Hipótese Alternativa (H1): O faturamento médio é diferente"
   ]
  },
  {
   "cell_type": "markdown",
   "metadata": {
    "ExecuteTime": {
     "end_time": "2022-09-06T14:41:29.688202Z",
     "start_time": "2022-09-06T14:41:29.668215Z"
    }
   },
   "source": [
    "## 3.4 Hyphothesy 04:\n",
    "### Nos ultimos dois anos, o faturamento total  médio é às quartas-feiras, é igual aos dias: terça-feira, quinta-feira e domingo.\n",
    "* Hipótese Nula (H0): O faturamento médio é igual\n",
    "* Hipótese Alternativa (H1): O faturamento médio é diferente"
   ]
  },
  {
   "cell_type": "markdown",
   "metadata": {
    "ExecuteTime": {
     "end_time": "2022-09-06T14:41:29.688202Z",
     "start_time": "2022-09-06T14:41:29.668215Z"
    }
   },
   "source": [
    "## 3.5 Hyphothesy 05:\n",
    "### Nos ultimos três meses, o faturamento total  médio é aos domingos, é igual aos dias: terça-feira e quinta-feira.\n",
    "* Hipótese Nula (H0): O faturamento médio é igual\n",
    "* Hipótese Alternativa (H1): O faturamento médio é diferente"
   ]
  },
  {
   "cell_type": "markdown",
   "metadata": {},
   "source": [
    "# 4.0 Exploratory Data Analysis "
   ]
  },
  {
   "cell_type": "code",
   "execution_count": 21,
   "metadata": {
    "ExecuteTime": {
     "end_time": "2022-09-07T16:45:01.217956Z",
     "start_time": "2022-09-07T16:45:01.204721Z"
    }
   },
   "outputs": [],
   "source": [
    "df4 = df3.copy()"
   ]
  },
  {
   "cell_type": "markdown",
   "metadata": {
    "heading_collapsed": true
   },
   "source": [
    "## 4.1 Univariate Analysis"
   ]
  },
  {
   "cell_type": "markdown",
   "metadata": {
    "heading_collapsed": true,
    "hidden": true
   },
   "source": [
    "### 4.1.1 Total"
   ]
  },
  {
   "cell_type": "code",
   "execution_count": 22,
   "metadata": {
    "ExecuteTime": {
     "end_time": "2022-09-07T16:45:01.344584Z",
     "start_time": "2022-09-07T16:45:01.218961Z"
    },
    "hidden": true
   },
   "outputs": [
    {
     "data": {
      "image/png": "[encoded data removed]",
      "text/plain": [
       "<Figure size 432x288 with 1 Axes>"
      ]
     },
     "metadata": {
      "needs_background": "light"
     },
     "output_type": "display_data"
    }
   ],
   "source": [
    "sns.histplot(data=df4, x='total');"
   ]
  },
  {
   "cell_type": "markdown",
   "metadata": {
    "heading_collapsed": true
   },
   "source": [
    "## 4.2 Bivariate Analysis"
   ]
  },
  {
   "cell_type": "code",
   "execution_count": 23,
   "metadata": {
    "ExecuteTime": {
     "end_time": "2022-09-07T16:45:01.359877Z",
     "start_time": "2022-09-07T16:45:01.348529Z"
    },
    "hidden": true
   },
   "outputs": [],
   "source": [
    "df4 = df3.copy()"
   ]
  },
  {
   "cell_type": "markdown",
   "metadata": {
    "heading_collapsed": true,
    "hidden": true
   },
   "source": [
    "### 4.2.1 Amount by the Time"
   ]
  },
  {
   "cell_type": "markdown",
   "metadata": {
    "heading_collapsed": true,
    "hidden": true
   },
   "source": [
    "#### 4.2.1.1 Decompose"
   ]
  },
  {
   "cell_type": "code",
   "execution_count": 24,
   "metadata": {
    "ExecuteTime": {
     "end_time": "2022-09-07T16:45:01.676084Z",
     "start_time": "2022-09-07T16:45:01.362869Z"
    },
    "hidden": true,
    "scrolled": false
   },
   "outputs": [
    {
     "data": {
      "image/png": "[encoded data removed]",
      "text/plain": [
       "<Figure size 1152x720 with 3 Axes>"
      ]
     },
     "metadata": {},
     "output_type": "display_data"
    }
   ],
   "source": [
    "decomp = seasonal_decompose(df4['total'], period=6)\n",
    "\n",
    "plt.figure(figsize=(16, 10))\n",
    "plt.subplots_adjust(hspace = 0.8)\n",
    "plt.subplot(4, 1, 1)\n",
    "ax = decomp.observed.plot()\n",
    "ax.tick_params(bottom=False, labelbottom=False, labelleft=False, left=False)\n",
    "plt.title('Original', fontsize=16)\n",
    "plt.xlabel('')\n",
    "plt.subplot(4, 1, 2)\n",
    "ax = decomp.seasonal[-30:].plot()\n",
    "ax.tick_params(bottom=False, labelbottom=False, labelleft=False, left=False)\n",
    "plt.title('Sazonalidade Semanal', fontsize=16)\n",
    "plt.xlabel('')\n",
    "plt.subplot(4, 1, 3)\n",
    "ax = decomp.trend.plot()\n",
    "ax.tick_params(bottom=False, labelbottom=False, labelleft=False, left=False)\n",
    "plt.title('Tendência', fontsize=16)\n",
    "sns.despine(left=True, bottom=True)\n",
    "plt.xlabel('');"
   ]
  },
  {
   "cell_type": "markdown",
   "metadata": {
    "hidden": true
   },
   "source": [
    "* Sazonalidades semanais bem definidas.\n",
    "* A tendência foi afetada pelo período sem funcionamento, causado pela Covid 19"
   ]
  },
  {
   "cell_type": "markdown",
   "metadata": {
    "heading_collapsed": true,
    "hidden": true
   },
   "source": [
    "#### 4.2.1.2 Autocorrelation"
   ]
  },
  {
   "cell_type": "code",
   "execution_count": 25,
   "metadata": {
    "ExecuteTime": {
     "end_time": "2022-09-07T16:45:01.926694Z",
     "start_time": "2022-09-07T16:45:01.679609Z"
    },
    "hidden": true,
    "scrolled": false
   },
   "outputs": [
    {
     "name": "stderr",
     "output_type": "stream",
     "text": [
      "D:\\My Drive\\Pessoal\\environments\\data_science\\lib\\site-packages\\statsmodels\\graphics\\tsaplots.py:348: FutureWarning: The default method 'yw' can produce PACF values outside of the [-1,1] interval. After 0.13, the default will change tounadjusted Yule-Walker ('ywm'). You can use this method now by setting method='ywm'.\n",
      "  warnings.warn(\n"
     ]
    },
    {
     "data": {
      "image/png": "[encoded data removed]",
      "text/plain": [
       "<Figure size 864x576 with 2 Axes>"
      ]
     },
     "metadata": {
      "needs_background": "light"
     },
     "output_type": "display_data"
    }
   ],
   "source": [
    "fig = plt.figure(figsize=(12, 8))\n",
    "ax1 = fig.add_subplot(211)\n",
    "fig = plot_acf(df4['total'] , lags=20, ax=ax1)\n",
    "ax2 = fig.add_subplot(212)\n",
    "fig = plot_pacf(df4['total'] , lags=20, ax=ax2)"
   ]
  },
  {
   "cell_type": "markdown",
   "metadata": {
    "hidden": true
   },
   "source": [
    "Há autocorrelação com uma boa margem de confiança os lags 1, 2, 3, 5, 6, 11 e 12 (o 4 não está incluso)"
   ]
  },
  {
   "cell_type": "markdown",
   "metadata": {
    "heading_collapsed": true,
    "hidden": true
   },
   "source": [
    "#### 4.2.1.3 Weekly Sales"
   ]
  },
  {
   "cell_type": "code",
   "execution_count": 26,
   "metadata": {
    "ExecuteTime": {
     "end_time": "2022-09-07T16:45:02.133439Z",
     "start_time": "2022-09-07T16:45:01.931747Z"
    },
    "hidden": true,
    "scrolled": false
   },
   "outputs": [
    {
     "data": {
      "image/png": "[encoded data removed]",
      "text/plain": [
       "<Figure size 1440x360 with 1 Axes>"
      ]
     },
     "metadata": {
      "needs_background": "light"
     },
     "output_type": "display_data"
    }
   ],
   "source": [
    "plt.figure(figsize=(20, 5))\n",
    "df4.resample('w').sum()['total'].plot()\n",
    "plt.title('Weekly Sales', fontsize=25)\n",
    "plt.xlabel('Weekly', fontsize=20)\n",
    "plt.ylabel('Total Amount', fontsize=20)\n",
    "sns.despine();"
   ]
  },
  {
   "cell_type": "markdown",
   "metadata": {
    "heading_collapsed": true,
    "hidden": true
   },
   "source": [
    "#### 4.2.1.4 Monthly Sales"
   ]
  },
  {
   "cell_type": "code",
   "execution_count": 27,
   "metadata": {
    "ExecuteTime": {
     "end_time": "2022-09-07T16:45:02.291035Z",
     "start_time": "2022-09-07T16:45:02.135432Z"
    },
    "hidden": true,
    "scrolled": false
   },
   "outputs": [
    {
     "data": {
      "image/png": "[encoded data removed]",
      "text/plain": [
       "<Figure size 1440x360 with 1 Axes>"
      ]
     },
     "metadata": {
      "needs_background": "light"
     },
     "output_type": "display_data"
    }
   ],
   "source": [
    "plt.figure(figsize=(20, 5))\n",
    "df4.resample('m').sum().iloc[:-1]['total'].plot()\n",
    "plt.title('Monthly Sales', fontsize=25)\n",
    "plt.xlabel('Monthly', fontsize=20)\n",
    "plt.ylabel('Total Amount', fontsize=20)\n",
    "sns.despine();"
   ]
  },
  {
   "cell_type": "markdown",
   "metadata": {
    "heading_collapsed": true,
    "hidden": true
   },
   "source": [
    "### 4.2.2 Amount by the Class"
   ]
  },
  {
   "cell_type": "code",
   "execution_count": 28,
   "metadata": {
    "ExecuteTime": {
     "end_time": "2022-09-07T16:45:02.322521Z",
     "start_time": "2022-09-07T16:45:02.299567Z"
    },
    "hidden": true
   },
   "outputs": [],
   "source": [
    "temp = df4['2022-07-01':'2022-07-31']\n",
    "\n",
    "temp = np.sum(temp[['Bar', 'Bilhar', 'Bomboniere', 'Cozinha', 'Gorjeta', 'Tabacaria']], axis=0)\n",
    "temp = pd.DataFrame(temp, columns=['amount']).reset_index().sort_values('amount', ascending=False)"
   ]
  },
  {
   "cell_type": "code",
   "execution_count": 29,
   "metadata": {
    "ExecuteTime": {
     "end_time": "2022-09-07T16:45:02.353878Z",
     "start_time": "2022-09-07T16:45:02.327510Z"
    },
    "hidden": true
   },
   "outputs": [
    {
     "data": {
      "text/html": [
       "<div>\n",
       "<style scoped>\n",
       "    .dataframe tbody tr th:only-of-type {\n",
       "        vertical-align: middle;\n",
       "    }\n",
       "\n",
       "    .dataframe tbody tr th {\n",
       "        vertical-align: top;\n",
       "    }\n",
       "\n",
       "    .dataframe thead th {\n",
       "        text-align: right;\n",
       "    }\n",
       "</style>\n",
       "<table border=\"1\" class=\"dataframe\">\n",
       "  <thead>\n",
       "    <tr style=\"text-align: right;\">\n",
       "      <th></th>\n",
       "      <th>class1</th>\n",
       "      <th>amount</th>\n",
       "    </tr>\n",
       "  </thead>\n",
       "  <tbody>\n",
       "    <tr>\n",
       "      <th>0</th>\n",
       "      <td>Bar</td>\n",
       "      <td>29451.93</td>\n",
       "    </tr>\n",
       "    <tr>\n",
       "      <th>3</th>\n",
       "      <td>Cozinha</td>\n",
       "      <td>13302.00</td>\n",
       "    </tr>\n",
       "    <tr>\n",
       "      <th>4</th>\n",
       "      <td>Gorjeta</td>\n",
       "      <td>3658.20</td>\n",
       "    </tr>\n",
       "    <tr>\n",
       "      <th>5</th>\n",
       "      <td>Tabacaria</td>\n",
       "      <td>514.08</td>\n",
       "    </tr>\n",
       "    <tr>\n",
       "      <th>2</th>\n",
       "      <td>Bomboniere</td>\n",
       "      <td>101.50</td>\n",
       "    </tr>\n",
       "    <tr>\n",
       "      <th>1</th>\n",
       "      <td>Bilhar</td>\n",
       "      <td>77.00</td>\n",
       "    </tr>\n",
       "  </tbody>\n",
       "</table>\n",
       "</div>"
      ],
      "text/plain": [
       "       class1    amount\n",
       "0         Bar  29451.93\n",
       "3     Cozinha  13302.00\n",
       "4     Gorjeta   3658.20\n",
       "5   Tabacaria    514.08\n",
       "2  Bomboniere    101.50\n",
       "1      Bilhar     77.00"
      ]
     },
     "execution_count": 29,
     "metadata": {},
     "output_type": "execute_result"
    }
   ],
   "source": [
    "temp"
   ]
  },
  {
   "cell_type": "code",
   "execution_count": 30,
   "metadata": {
    "ExecuteTime": {
     "end_time": "2022-09-07T16:45:02.526448Z",
     "start_time": "2022-09-07T16:45:02.355874Z"
    },
    "hidden": true,
    "scrolled": false
   },
   "outputs": [
    {
     "data": {
      "image/png": "[encoded data removed]",
      "text/plain": [
       "<Figure size 1080x360 with 1 Axes>"
      ]
     },
     "metadata": {
      "needs_background": "light"
     },
     "output_type": "display_data"
    }
   ],
   "source": [
    "sns.catplot(data=temp, x='class1', y='amount', kind='bar', aspect=3)\n",
    "plt.title('Amount by the Class', fontsize=25)\n",
    "plt.xlabel('Class', fontsize=20)\n",
    "plt.ylabel('Total Amount', fontsize=20)\n",
    "sns.despine();"
   ]
  },
  {
   "cell_type": "markdown",
   "metadata": {
    "heading_collapsed": true
   },
   "source": [
    "## 4.3 Multivariate Analysis"
   ]
  },
  {
   "cell_type": "markdown",
   "metadata": {
    "heading_collapsed": true,
    "hidden": true
   },
   "source": [
    "### 4.3.1 Amount by the Class and Time"
   ]
  },
  {
   "cell_type": "code",
   "execution_count": 31,
   "metadata": {
    "ExecuteTime": {
     "end_time": "2022-09-07T16:45:03.276611Z",
     "start_time": "2022-09-07T16:45:02.530439Z"
    },
    "hidden": true,
    "scrolled": false
   },
   "outputs": [
    {
     "data": {
      "image/png": "[encoded data removed]",
      "text/plain": [
       "<Figure size 1440x720 with 4 Axes>"
      ]
     },
     "metadata": {
      "needs_background": "light"
     },
     "output_type": "display_data"
    }
   ],
   "source": [
    "class_1 = ['Bar', 'Bilhar', 'Cozinha', 'Gorjeta']\n",
    "\n",
    "temp = df4.resample('w')[class_1].sum().iloc[-52:-1]\n",
    "\n",
    "for i, j in enumerate(class_1):\n",
    "    plt.subplots_adjust(hspace=0.5)\n",
    "    plt.subplot(2, 2, i+1)\n",
    "    temp[j].plot(figsize=(20, 10))\n",
    "    plt.xlabel('')\n",
    "    plt.title(j, fontsize=25)\n",
    "    sns.despine();"
   ]
  },
  {
   "cell_type": "markdown",
   "metadata": {},
   "source": [
    "## 4.4 Validating Business Hyphothesis"
   ]
  },
  {
   "cell_type": "markdown",
   "metadata": {
    "ExecuteTime": {
     "end_time": "2022-09-06T14:41:29.688202Z",
     "start_time": "2022-09-06T14:41:29.668215Z"
    }
   },
   "source": [
    "### 4.4.1 Hyphothesy 01:\n",
    "#### O faturamento total  médio é igual entre os dias semanais: terça-feira e quinta-feira.\n",
    "* Hipótese Nula (H0): O faturamento médio é igual\n",
    "* Hipótese Alternativa (H1): O faturamento médio é diferente"
   ]
  },
  {
   "cell_type": "code",
   "execution_count": null,
   "metadata": {},
   "outputs": [],
   "source": []
  },
  {
   "cell_type": "markdown",
   "metadata": {
    "ExecuteTime": {
     "end_time": "2022-09-06T14:41:29.688202Z",
     "start_time": "2022-09-06T14:41:29.668215Z"
    }
   },
   "source": [
    "### 4.4.2 Hyphothesy 02:\n",
    "#### O faturamento total  médio é igual entre os dias semanais: sexta-feira e sábado.\n",
    "* Hipótese Nula (H0): O faturamento médio é igual\n",
    "* Hipótese Alternativa (H1): O faturamento médio é diferente"
   ]
  },
  {
   "cell_type": "code",
   "execution_count": null,
   "metadata": {},
   "outputs": [],
   "source": []
  },
  {
   "cell_type": "markdown",
   "metadata": {
    "ExecuteTime": {
     "end_time": "2022-09-06T14:41:29.688202Z",
     "start_time": "2022-09-06T14:41:29.668215Z"
    }
   },
   "source": [
    "### 4.4.3 Hyphothesy 03:\n",
    "#### O faturamento total  médio é igual entre os dias semanais: terça-feira, quarta-feira, quinta-feira e domingo e os dias: sexta-feira e sábado.\n",
    "* Hipótese Nula (H0): O faturamento médio é igual\n",
    "* Hipótese Alternativa (H1): O faturamento médio é diferente"
   ]
  },
  {
   "cell_type": "code",
   "execution_count": null,
   "metadata": {},
   "outputs": [],
   "source": []
  },
  {
   "cell_type": "markdown",
   "metadata": {
    "ExecuteTime": {
     "end_time": "2022-09-06T14:41:29.688202Z",
     "start_time": "2022-09-06T14:41:29.668215Z"
    }
   },
   "source": [
    "### 4.4.4 Hyphothesy 04:\n",
    "#### Nos ultimos dois anos, o faturamento total  médio é às quartas-feiras, é igual aos dias: terça-feira, quinta-feira e domingo.\n",
    "* Hipótese Nula (H0): O faturamento médio é igual\n",
    "* Hipótese Alternativa (H1): O faturamento médio é diferente"
   ]
  },
  {
   "cell_type": "code",
   "execution_count": null,
   "metadata": {},
   "outputs": [],
   "source": []
  },
  {
   "cell_type": "markdown",
   "metadata": {
    "ExecuteTime": {
     "end_time": "2022-09-06T14:41:29.688202Z",
     "start_time": "2022-09-06T14:41:29.668215Z"
    }
   },
   "source": [
    "### 4.4.5 Hyphothesy 05:\n",
    "#### Nos ultimos três meses, o faturamento total  médio é aos domingos, é igual aos dias: terça-feira e quinta-feira.\n",
    "* Hipótese Nula (H0): O faturamento médio é igual\n",
    "* Hipótese Alternativa (H1): O faturamento médio é diferente"
   ]
  },
  {
   "cell_type": "code",
   "execution_count": null,
   "metadata": {},
   "outputs": [],
   "source": []
  },
  {
   "cell_type": "markdown",
   "metadata": {
    "heading_collapsed": true
   },
   "source": [
    "# 5.0 Data Filtering"
   ]
  },
  {
   "cell_type": "code",
   "execution_count": 32,
   "metadata": {
    "ExecuteTime": {
     "end_time": "2022-09-07T16:45:03.291941Z",
     "start_time": "2022-09-07T16:45:03.276611Z"
    },
    "hidden": true
   },
   "outputs": [],
   "source": [
    "df5 = df4.copy()"
   ]
  },
  {
   "cell_type": "code",
   "execution_count": 33,
   "metadata": {
    "ExecuteTime": {
     "end_time": "2022-09-07T16:45:03.307082Z",
     "start_time": "2022-09-07T16:45:03.295986Z"
    },
    "hidden": true
   },
   "outputs": [],
   "source": [
    "# rows\n",
    "df5.dropna(inplace=True)\n",
    "\n",
    "# columns\n",
    "cols_filtering = ['Bar', 'Bilhar', 'Bomboniere', 'Cozinha', 'Gorjeta', 'Tabacaria']\n",
    "df5.drop(cols_filtering, axis=1, inplace=True)"
   ]
  },
  {
   "cell_type": "markdown",
   "metadata": {
    "heading_collapsed": true
   },
   "source": [
    "# 6.0 Data Preparation"
   ]
  },
  {
   "cell_type": "code",
   "execution_count": 34,
   "metadata": {
    "ExecuteTime": {
     "end_time": "2022-09-07T16:45:03.322167Z",
     "start_time": "2022-09-07T16:45:03.310074Z"
    },
    "hidden": true
   },
   "outputs": [],
   "source": [
    "df6 = df5.copy()"
   ]
  },
  {
   "cell_type": "markdown",
   "metadata": {
    "heading_collapsed": true,
    "hidden": true
   },
   "source": [
    "## 6.1 Normalization"
   ]
  },
  {
   "cell_type": "code",
   "execution_count": null,
   "metadata": {
    "ExecuteTime": {
     "end_time": "2022-08-08T23:42:18.786670Z",
     "start_time": "2022-08-08T23:42:18.781130Z"
    },
    "hidden": true
   },
   "outputs": [],
   "source": []
  },
  {
   "cell_type": "markdown",
   "metadata": {
    "heading_collapsed": true,
    "hidden": true
   },
   "source": [
    "## 6.2 Rescaling"
   ]
  },
  {
   "cell_type": "code",
   "execution_count": 35,
   "metadata": {
    "ExecuteTime": {
     "end_time": "2022-09-07T16:45:03.338120Z",
     "start_time": "2022-09-07T16:45:03.324165Z"
    },
    "hidden": true
   },
   "outputs": [],
   "source": [
    "# shifts all\n",
    "shift_list = [1, 2, 3, 5, 6, 11, 12]\n",
    "\n",
    "for i in shift_list:\n",
    "    df6[f'shift_{i}'] = np.log1p(df6[f'shift_{i}'])"
   ]
  },
  {
   "cell_type": "markdown",
   "metadata": {
    "heading_collapsed": true,
    "hidden": true
   },
   "source": [
    "## 6.3 Response Variable"
   ]
  },
  {
   "cell_type": "code",
   "execution_count": 36,
   "metadata": {
    "ExecuteTime": {
     "end_time": "2022-09-07T16:45:03.353565Z",
     "start_time": "2022-09-07T16:45:03.341050Z"
    },
    "hidden": true
   },
   "outputs": [],
   "source": [
    "# total\n",
    "df6['total'] = np.log1p(df6['total'])"
   ]
  },
  {
   "cell_type": "markdown",
   "metadata": {
    "heading_collapsed": true,
    "hidden": true
   },
   "source": [
    "## 6.4 Transformations"
   ]
  },
  {
   "cell_type": "markdown",
   "metadata": {
    "heading_collapsed": true,
    "hidden": true
   },
   "source": [
    "### 6.4.1 Encodings"
   ]
  },
  {
   "cell_type": "code",
   "execution_count": 37,
   "metadata": {
    "ExecuteTime": {
     "end_time": "2022-09-07T16:45:03.368764Z",
     "start_time": "2022-09-07T16:45:03.355582Z"
    },
    "hidden": true
   },
   "outputs": [],
   "source": [
    "# day_of_week\n",
    "map_day_of_week = df6.groupby('day_of_week').agg({'total':'mean'})['total']\n",
    "df6['day_of_week'] = df6['day_of_week'].map(map_day_of_week)"
   ]
  },
  {
   "cell_type": "markdown",
   "metadata": {
    "heading_collapsed": true,
    "hidden": true
   },
   "source": [
    "### 6.4.2 Nature Transformations"
   ]
  },
  {
   "cell_type": "code",
   "execution_count": 38,
   "metadata": {
    "ExecuteTime": {
     "end_time": "2022-09-07T16:45:03.415013Z",
     "start_time": "2022-09-07T16:45:03.371714Z"
    },
    "hidden": true
   },
   "outputs": [],
   "source": [
    "# day_of_month\n",
    "cicle_day_of_month = df6['day_of_month'].max() - df6['day_of_month'].min()\n",
    "df6['day_of_month_sin'] = df6['day_of_month'].apply(lambda x: np.sin(x*(2*np.pi/cicle_day_of_month)))\n",
    "df6['day_of_month_cos'] = df6['day_of_month'].apply(lambda x: np.cos(x*(2*np.pi/cicle_day_of_month)))\n",
    "df6.drop('day_of_month', inplace=True, axis=1)\n",
    "\n",
    "# month\n",
    "cicle_month = df6['month'].max() - df6['month'].min()\n",
    "df6['month'] = df6['month'].apply(lambda x: np.sin(x*(2*np.pi/cicle_day_of_month)))\n",
    "df6['month'] = df6['month'].apply(lambda x: np.cos(x*(2*np.pi/cicle_day_of_month)))\n",
    "df6.drop('month', inplace=True, axis=1)"
   ]
  },
  {
   "cell_type": "markdown",
   "metadata": {
    "heading_collapsed": true,
    "hidden": true
   },
   "source": [
    "## 6.5 Splits"
   ]
  },
  {
   "cell_type": "code",
   "execution_count": 39,
   "metadata": {
    "ExecuteTime": {
     "end_time": "2022-09-07T16:45:03.431099Z",
     "start_time": "2022-09-07T16:45:03.418057Z"
    },
    "hidden": true
   },
   "outputs": [],
   "source": [
    "# train and validation\n",
    "X_train = df6.loc[df6.index < df6.index.max() - pd.Timedelta(15, 'd')].drop('total', axis=1).values\n",
    "y_train = df6.loc[df6.index < df6.index.max() - pd.Timedelta(15, 'd'), 'total'].values.ravel()\n",
    "\n",
    "X_test = df6.loc[df6.index >= df6.index.max() - pd.Timedelta(15, 'd')].drop('total', axis=1).values\n",
    "y_test = df6.loc[df6.index >= df6.index.max() - pd.Timedelta(15, 'd'), 'total'].values.ravel()"
   ]
  },
  {
   "cell_type": "markdown",
   "metadata": {
    "heading_collapsed": true
   },
   "source": [
    "# 7.0 Feature Selection"
   ]
  },
  {
   "cell_type": "code",
   "execution_count": 40,
   "metadata": {
    "ExecuteTime": {
     "end_time": "2022-09-07T16:45:03.447060Z",
     "start_time": "2022-09-07T16:45:03.433100Z"
    },
    "hidden": true
   },
   "outputs": [],
   "source": [
    "df7 = df6.copy()"
   ]
  },
  {
   "cell_type": "markdown",
   "metadata": {
    "heading_collapsed": true
   },
   "source": [
    "# 8.0 Machine Learning Modeling"
   ]
  },
  {
   "cell_type": "code",
   "execution_count": 41,
   "metadata": {
    "ExecuteTime": {
     "end_time": "2022-09-07T16:45:03.462938Z",
     "start_time": "2022-09-07T16:45:03.449142Z"
    },
    "hidden": true
   },
   "outputs": [],
   "source": [
    "df8 = df7.copy()"
   ]
  },
  {
   "cell_type": "markdown",
   "metadata": {
    "heading_collapsed": true,
    "hidden": true
   },
   "source": [
    "## 8.1 Linear Regression"
   ]
  },
  {
   "cell_type": "code",
   "execution_count": 42,
   "metadata": {
    "ExecuteTime": {
     "end_time": "2022-09-07T16:45:03.494787Z",
     "start_time": "2022-09-07T16:45:03.467014Z"
    },
    "hidden": true
   },
   "outputs": [
    {
     "name": "stdout",
     "output_type": "stream",
     "text": [
      "MAE: 472.8820438896542\n",
      "MAPE: 0.37054265172317347\n",
      "RMSE: 600.5643176928256\n"
     ]
    }
   ],
   "source": [
    "# model definition\n",
    "lr_model = LinearRegression()\n",
    "\n",
    "# fiting model\n",
    "lr_fit = lr_model.fit(X_train, y_train)\n",
    "\n",
    "# predicting\n",
    "y_hat = lr_fit.predict(X_test)\n",
    "\n",
    "# metrics\n",
    "metrics(y_test, y_hat)"
   ]
  },
  {
   "cell_type": "markdown",
   "metadata": {
    "heading_collapsed": true,
    "hidden": true
   },
   "source": [
    "### 8.1.1 Cross Validation"
   ]
  },
  {
   "cell_type": "code",
   "execution_count": 43,
   "metadata": {
    "ExecuteTime": {
     "end_time": "2022-09-07T16:45:03.542097Z",
     "start_time": "2022-09-07T16:45:03.498763Z"
    },
    "hidden": true
   },
   "outputs": [
    {
     "data": {
      "text/html": [
       "<div>\n",
       "<style scoped>\n",
       "    .dataframe tbody tr th:only-of-type {\n",
       "        vertical-align: middle;\n",
       "    }\n",
       "\n",
       "    .dataframe tbody tr th {\n",
       "        vertical-align: top;\n",
       "    }\n",
       "\n",
       "    .dataframe thead th {\n",
       "        text-align: right;\n",
       "    }\n",
       "</style>\n",
       "<table border=\"1\" class=\"dataframe\">\n",
       "  <thead>\n",
       "    <tr style=\"text-align: right;\">\n",
       "      <th></th>\n",
       "      <th>MAE</th>\n",
       "      <th>MAPE</th>\n",
       "      <th>RMSE</th>\n",
       "    </tr>\n",
       "  </thead>\n",
       "  <tbody>\n",
       "    <tr>\n",
       "      <th>Fold: 5</th>\n",
       "      <td>578.557858</td>\n",
       "      <td>0.39646</td>\n",
       "      <td>666.719999</td>\n",
       "    </tr>\n",
       "    <tr>\n",
       "      <th>Fold: 4</th>\n",
       "      <td>525.257012</td>\n",
       "      <td>0.475966</td>\n",
       "      <td>661.049998</td>\n",
       "    </tr>\n",
       "    <tr>\n",
       "      <th>Fold: 3</th>\n",
       "      <td>487.930085</td>\n",
       "      <td>0.462938</td>\n",
       "      <td>623.976203</td>\n",
       "    </tr>\n",
       "    <tr>\n",
       "      <th>Fold: 2</th>\n",
       "      <td>549.075673</td>\n",
       "      <td>0.323488</td>\n",
       "      <td>719.03087</td>\n",
       "    </tr>\n",
       "    <tr>\n",
       "      <th>Fold: 1</th>\n",
       "      <td>443.915643</td>\n",
       "      <td>0.272035</td>\n",
       "      <td>586.72469</td>\n",
       "    </tr>\n",
       "    <tr>\n",
       "      <th>mean_and_std</th>\n",
       "      <td>516.95 +/- 47.06</td>\n",
       "      <td>0.39 +/- 0.08</td>\n",
       "      <td>651.5 +/- 44.35</td>\n",
       "    </tr>\n",
       "  </tbody>\n",
       "</table>\n",
       "</div>"
      ],
      "text/plain": [
       "                           MAE           MAPE             RMSE\n",
       "Fold: 5             578.557858        0.39646       666.719999\n",
       "Fold: 4             525.257012       0.475966       661.049998\n",
       "Fold: 3             487.930085       0.462938       623.976203\n",
       "Fold: 2             549.075673       0.323488        719.03087\n",
       "Fold: 1             443.915643       0.272035        586.72469\n",
       "mean_and_std  516.95 +/- 47.06  0.39 +/- 0.08  651.5 +/- 44.35"
      ]
     },
     "execution_count": 43,
     "metadata": {},
     "output_type": "execute_result"
    }
   ],
   "source": [
    "error = pd.DataFrame()\n",
    "error, lr_cross_validation_metrics = cross_validation(df7, error, 5, 'Linear Regression', lr_model)\n",
    "\n",
    "lr_cross_validation_metrics.T"
   ]
  },
  {
   "cell_type": "markdown",
   "metadata": {
    "heading_collapsed": true,
    "hidden": true
   },
   "source": [
    "## 8.2 Lasso"
   ]
  },
  {
   "cell_type": "code",
   "execution_count": 44,
   "metadata": {
    "ExecuteTime": {
     "end_time": "2022-09-07T16:45:03.573447Z",
     "start_time": "2022-09-07T16:45:03.547109Z"
    },
    "hidden": true
   },
   "outputs": [
    {
     "name": "stdout",
     "output_type": "stream",
     "text": [
      "MAE: 619.1210528604764\n",
      "MAPE: 0.48513315239792937\n",
      "RMSE: 934.06721434326\n"
     ]
    }
   ],
   "source": [
    "# model definition\n",
    "lasso_model = Lasso()\n",
    "\n",
    "# fiting model\n",
    "lasso_fit = lasso_model.fit(X_train, y_train)\n",
    "\n",
    "# predicting\n",
    "y_hat = lasso_fit.predict(X_test)\n",
    "\n",
    "# metrics\n",
    "metrics(y_test, y_hat)"
   ]
  },
  {
   "cell_type": "markdown",
   "metadata": {
    "heading_collapsed": true,
    "hidden": true
   },
   "source": [
    "### 8.2.1 Cross Validation"
   ]
  },
  {
   "cell_type": "code",
   "execution_count": 45,
   "metadata": {
    "ExecuteTime": {
     "end_time": "2022-09-07T16:45:03.636914Z",
     "start_time": "2022-09-07T16:45:03.575443Z"
    },
    "hidden": true
   },
   "outputs": [
    {
     "data": {
      "text/html": [
       "<div>\n",
       "<style scoped>\n",
       "    .dataframe tbody tr th:only-of-type {\n",
       "        vertical-align: middle;\n",
       "    }\n",
       "\n",
       "    .dataframe tbody tr th {\n",
       "        vertical-align: top;\n",
       "    }\n",
       "\n",
       "    .dataframe thead th {\n",
       "        text-align: right;\n",
       "    }\n",
       "</style>\n",
       "<table border=\"1\" class=\"dataframe\">\n",
       "  <thead>\n",
       "    <tr style=\"text-align: right;\">\n",
       "      <th></th>\n",
       "      <th>MAE</th>\n",
       "      <th>MAPE</th>\n",
       "      <th>RMSE</th>\n",
       "    </tr>\n",
       "  </thead>\n",
       "  <tbody>\n",
       "    <tr>\n",
       "      <th>Fold: 5</th>\n",
       "      <td>725.170873</td>\n",
       "      <td>0.45878</td>\n",
       "      <td>895.74199</td>\n",
       "    </tr>\n",
       "    <tr>\n",
       "      <th>Fold: 4</th>\n",
       "      <td>690.834292</td>\n",
       "      <td>0.54578</td>\n",
       "      <td>892.11118</td>\n",
       "    </tr>\n",
       "    <tr>\n",
       "      <th>Fold: 3</th>\n",
       "      <td>689.802183</td>\n",
       "      <td>0.570412</td>\n",
       "      <td>868.733797</td>\n",
       "    </tr>\n",
       "    <tr>\n",
       "      <th>Fold: 2</th>\n",
       "      <td>808.904176</td>\n",
       "      <td>0.409634</td>\n",
       "      <td>1065.402815</td>\n",
       "    </tr>\n",
       "    <tr>\n",
       "      <th>Fold: 1</th>\n",
       "      <td>671.914245</td>\n",
       "      <td>0.345847</td>\n",
       "      <td>948.935934</td>\n",
       "    </tr>\n",
       "    <tr>\n",
       "      <th>mean_and_std</th>\n",
       "      <td>717.33 +/- 48.93</td>\n",
       "      <td>0.47 +/- 0.08</td>\n",
       "      <td>934.19 +/- 70.66</td>\n",
       "    </tr>\n",
       "  </tbody>\n",
       "</table>\n",
       "</div>"
      ],
      "text/plain": [
       "                           MAE           MAPE              RMSE\n",
       "Fold: 5             725.170873        0.45878         895.74199\n",
       "Fold: 4             690.834292        0.54578         892.11118\n",
       "Fold: 3             689.802183       0.570412        868.733797\n",
       "Fold: 2             808.904176       0.409634       1065.402815\n",
       "Fold: 1             671.914245       0.345847        948.935934\n",
       "mean_and_std  717.33 +/- 48.93  0.47 +/- 0.08  934.19 +/- 70.66"
      ]
     },
     "execution_count": 45,
     "metadata": {},
     "output_type": "execute_result"
    }
   ],
   "source": [
    "error, lr_cross_validation_metrics = cross_validation(df7, error, 5, 'Lasso', lasso_model)\n",
    "\n",
    "lr_cross_validation_metrics.T"
   ]
  },
  {
   "cell_type": "markdown",
   "metadata": {
    "heading_collapsed": true,
    "hidden": true
   },
   "source": [
    "## 8.3 Random Forest"
   ]
  },
  {
   "cell_type": "code",
   "execution_count": 46,
   "metadata": {
    "ExecuteTime": {
     "end_time": "2022-09-07T16:45:06.035587Z",
     "start_time": "2022-09-07T16:45:03.638969Z"
    },
    "hidden": true
   },
   "outputs": [
    {
     "name": "stdout",
     "output_type": "stream",
     "text": [
      "MAE: 532.0058254910894\n",
      "MAPE: 0.4168710820317045\n",
      "RMSE: 665.6138095430184\n"
     ]
    }
   ],
   "source": [
    "# model definition\n",
    "rf_model = RandomForestRegressor(n_estimators=1000, max_depth=3)\n",
    "\n",
    "# fiting model\n",
    "rf_fit = rf_model.fit(X_train, y_train)\n",
    "\n",
    "# predicting\n",
    "y_hat = rf_fit.predict(X_test)\n",
    "\n",
    "# metrics\n",
    "metrics(y_test, y_hat)"
   ]
  },
  {
   "cell_type": "markdown",
   "metadata": {
    "heading_collapsed": true,
    "hidden": true
   },
   "source": [
    "### 8.3.1 Cross Validation"
   ]
  },
  {
   "cell_type": "code",
   "execution_count": 47,
   "metadata": {
    "ExecuteTime": {
     "end_time": "2022-09-07T16:45:17.528703Z",
     "start_time": "2022-09-07T16:45:06.040503Z"
    },
    "hidden": true
   },
   "outputs": [
    {
     "data": {
      "text/html": [
       "<div>\n",
       "<style scoped>\n",
       "    .dataframe tbody tr th:only-of-type {\n",
       "        vertical-align: middle;\n",
       "    }\n",
       "\n",
       "    .dataframe tbody tr th {\n",
       "        vertical-align: top;\n",
       "    }\n",
       "\n",
       "    .dataframe thead th {\n",
       "        text-align: right;\n",
       "    }\n",
       "</style>\n",
       "<table border=\"1\" class=\"dataframe\">\n",
       "  <thead>\n",
       "    <tr style=\"text-align: right;\">\n",
       "      <th></th>\n",
       "      <th>MAE</th>\n",
       "      <th>MAPE</th>\n",
       "      <th>RMSE</th>\n",
       "    </tr>\n",
       "  </thead>\n",
       "  <tbody>\n",
       "    <tr>\n",
       "      <th>Fold: 5</th>\n",
       "      <td>538.398302</td>\n",
       "      <td>0.335111</td>\n",
       "      <td>672.02311</td>\n",
       "    </tr>\n",
       "    <tr>\n",
       "      <th>Fold: 4</th>\n",
       "      <td>501.351124</td>\n",
       "      <td>0.382789</td>\n",
       "      <td>643.616529</td>\n",
       "    </tr>\n",
       "    <tr>\n",
       "      <th>Fold: 3</th>\n",
       "      <td>505.181675</td>\n",
       "      <td>0.444677</td>\n",
       "      <td>623.236682</td>\n",
       "    </tr>\n",
       "    <tr>\n",
       "      <th>Fold: 2</th>\n",
       "      <td>700.206519</td>\n",
       "      <td>0.36263</td>\n",
       "      <td>859.063949</td>\n",
       "    </tr>\n",
       "    <tr>\n",
       "      <th>Fold: 1</th>\n",
       "      <td>510.987611</td>\n",
       "      <td>0.287246</td>\n",
       "      <td>652.280351</td>\n",
       "    </tr>\n",
       "    <tr>\n",
       "      <th>mean_and_std</th>\n",
       "      <td>551.23 +/- 75.61</td>\n",
       "      <td>0.36 +/- 0.05</td>\n",
       "      <td>690.04 +/- 85.95</td>\n",
       "    </tr>\n",
       "  </tbody>\n",
       "</table>\n",
       "</div>"
      ],
      "text/plain": [
       "                           MAE           MAPE              RMSE\n",
       "Fold: 5             538.398302       0.335111         672.02311\n",
       "Fold: 4             501.351124       0.382789        643.616529\n",
       "Fold: 3             505.181675       0.444677        623.236682\n",
       "Fold: 2             700.206519        0.36263        859.063949\n",
       "Fold: 1             510.987611       0.287246        652.280351\n",
       "mean_and_std  551.23 +/- 75.61  0.36 +/- 0.05  690.04 +/- 85.95"
      ]
     },
     "execution_count": 47,
     "metadata": {},
     "output_type": "execute_result"
    }
   ],
   "source": [
    "error, lr_cross_validation_metrics = cross_validation(df7, error, 5, 'Random Forest', rf_model)\n",
    "\n",
    "lr_cross_validation_metrics.T"
   ]
  },
  {
   "cell_type": "markdown",
   "metadata": {
    "heading_collapsed": true,
    "hidden": true
   },
   "source": [
    "## 8.4 XGBoost Regressor"
   ]
  },
  {
   "cell_type": "code",
   "execution_count": 48,
   "metadata": {
    "ExecuteTime": {
     "end_time": "2022-09-07T16:45:17.683240Z",
     "start_time": "2022-09-07T16:45:17.531715Z"
    },
    "hidden": true
   },
   "outputs": [
    {
     "name": "stdout",
     "output_type": "stream",
     "text": [
      "MAE: 479.30975738525376\n",
      "MAPE: 0.37557930311214444\n",
      "RMSE: 648.1850050173473\n"
     ]
    }
   ],
   "source": [
    "# model definition\n",
    "xgb_model = XGBRegressor()\n",
    "\n",
    "# fiting model\n",
    "xgb_fit = xgb_model.fit(X_train, y_train)\n",
    "\n",
    "# predicting\n",
    "y_hat = xgb_fit.predict(X_test)\n",
    "\n",
    "# metrics\n",
    "metrics(y_test, y_hat)"
   ]
  },
  {
   "cell_type": "markdown",
   "metadata": {
    "heading_collapsed": true,
    "hidden": true
   },
   "source": [
    "### 8.4.1 Cross Validation"
   ]
  },
  {
   "cell_type": "code",
   "execution_count": 49,
   "metadata": {
    "ExecuteTime": {
     "end_time": "2022-09-07T16:45:18.384063Z",
     "start_time": "2022-09-07T16:45:17.685212Z"
    },
    "hidden": true
   },
   "outputs": [
    {
     "data": {
      "text/html": [
       "<div>\n",
       "<style scoped>\n",
       "    .dataframe tbody tr th:only-of-type {\n",
       "        vertical-align: middle;\n",
       "    }\n",
       "\n",
       "    .dataframe tbody tr th {\n",
       "        vertical-align: top;\n",
       "    }\n",
       "\n",
       "    .dataframe thead th {\n",
       "        text-align: right;\n",
       "    }\n",
       "</style>\n",
       "<table border=\"1\" class=\"dataframe\">\n",
       "  <thead>\n",
       "    <tr style=\"text-align: right;\">\n",
       "      <th></th>\n",
       "      <th>MAE</th>\n",
       "      <th>MAPE</th>\n",
       "      <th>RMSE</th>\n",
       "    </tr>\n",
       "  </thead>\n",
       "  <tbody>\n",
       "    <tr>\n",
       "      <th>Fold: 5</th>\n",
       "      <td>491.546783</td>\n",
       "      <td>0.331727</td>\n",
       "      <td>637.646374</td>\n",
       "    </tr>\n",
       "    <tr>\n",
       "      <th>Fold: 4</th>\n",
       "      <td>383.746576</td>\n",
       "      <td>0.313953</td>\n",
       "      <td>497.383686</td>\n",
       "    </tr>\n",
       "    <tr>\n",
       "      <th>Fold: 3</th>\n",
       "      <td>584.940196</td>\n",
       "      <td>0.564138</td>\n",
       "      <td>729.039857</td>\n",
       "    </tr>\n",
       "    <tr>\n",
       "      <th>Fold: 2</th>\n",
       "      <td>702.13439</td>\n",
       "      <td>0.414882</td>\n",
       "      <td>855.841517</td>\n",
       "    </tr>\n",
       "    <tr>\n",
       "      <th>Fold: 1</th>\n",
       "      <td>501.987167</td>\n",
       "      <td>0.342206</td>\n",
       "      <td>650.252501</td>\n",
       "    </tr>\n",
       "    <tr>\n",
       "      <th>mean_and_std</th>\n",
       "      <td>532.87 +/- 106.08</td>\n",
       "      <td>0.39 +/- 0.09</td>\n",
       "      <td>674.03 +/- 117.62</td>\n",
       "    </tr>\n",
       "  </tbody>\n",
       "</table>\n",
       "</div>"
      ],
      "text/plain": [
       "                            MAE           MAPE               RMSE\n",
       "Fold: 5              491.546783       0.331727         637.646374\n",
       "Fold: 4              383.746576       0.313953         497.383686\n",
       "Fold: 3              584.940196       0.564138         729.039857\n",
       "Fold: 2               702.13439       0.414882         855.841517\n",
       "Fold: 1              501.987167       0.342206         650.252501\n",
       "mean_and_std  532.87 +/- 106.08  0.39 +/- 0.09  674.03 +/- 117.62"
      ]
     },
     "execution_count": 49,
     "metadata": {},
     "output_type": "execute_result"
    }
   ],
   "source": [
    "error, lr_cross_validation_metrics = cross_validation(df7, error, 5, 'XGBoost Regressor', xgb_model)\n",
    "\n",
    "lr_cross_validation_metrics.T"
   ]
  },
  {
   "cell_type": "markdown",
   "metadata": {
    "heading_collapsed": true
   },
   "source": [
    "# 9.0 Model Performance"
   ]
  },
  {
   "cell_type": "code",
   "execution_count": 50,
   "metadata": {
    "ExecuteTime": {
     "end_time": "2022-09-07T16:45:18.399227Z",
     "start_time": "2022-09-07T16:45:18.386526Z"
    },
    "hidden": true
   },
   "outputs": [],
   "source": [
    "df9 = df8.copy()"
   ]
  },
  {
   "cell_type": "markdown",
   "metadata": {
    "heading_collapsed": true,
    "hidden": true
   },
   "source": [
    "## 9.1 Machine Learning Performance"
   ]
  },
  {
   "cell_type": "code",
   "execution_count": 51,
   "metadata": {
    "ExecuteTime": {
     "end_time": "2022-09-07T16:45:18.415292Z",
     "start_time": "2022-09-07T16:45:18.401279Z"
    },
    "hidden": true
   },
   "outputs": [
    {
     "data": {
      "text/html": [
       "<div>\n",
       "<style scoped>\n",
       "    .dataframe tbody tr th:only-of-type {\n",
       "        vertical-align: middle;\n",
       "    }\n",
       "\n",
       "    .dataframe tbody tr th {\n",
       "        vertical-align: top;\n",
       "    }\n",
       "\n",
       "    .dataframe thead th {\n",
       "        text-align: right;\n",
       "    }\n",
       "</style>\n",
       "<table border=\"1\" class=\"dataframe\">\n",
       "  <thead>\n",
       "    <tr style=\"text-align: right;\">\n",
       "      <th></th>\n",
       "      <th>MAE</th>\n",
       "      <th>MAPE</th>\n",
       "      <th>RMSE</th>\n",
       "    </tr>\n",
       "  </thead>\n",
       "  <tbody>\n",
       "    <tr>\n",
       "      <th>Linear Regression</th>\n",
       "      <td>516.95 +/- 47.06</td>\n",
       "      <td>0.39 +/- 0.08</td>\n",
       "      <td>651.5 +/- 44.35</td>\n",
       "    </tr>\n",
       "    <tr>\n",
       "      <th>Lasso</th>\n",
       "      <td>717.33 +/- 48.93</td>\n",
       "      <td>0.47 +/- 0.08</td>\n",
       "      <td>934.19 +/- 70.66</td>\n",
       "    </tr>\n",
       "    <tr>\n",
       "      <th>Random Forest</th>\n",
       "      <td>551.23 +/- 75.61</td>\n",
       "      <td>0.36 +/- 0.05</td>\n",
       "      <td>690.04 +/- 85.95</td>\n",
       "    </tr>\n",
       "    <tr>\n",
       "      <th>XGBoost Regressor</th>\n",
       "      <td>532.87 +/- 106.08</td>\n",
       "      <td>0.39 +/- 0.09</td>\n",
       "      <td>674.03 +/- 117.62</td>\n",
       "    </tr>\n",
       "  </tbody>\n",
       "</table>\n",
       "</div>"
      ],
      "text/plain": [
       "                                 MAE           MAPE               RMSE\n",
       "Linear Regression   516.95 +/- 47.06  0.39 +/- 0.08    651.5 +/- 44.35\n",
       "Lasso               717.33 +/- 48.93  0.47 +/- 0.08   934.19 +/- 70.66\n",
       "Random Forest       551.23 +/- 75.61  0.36 +/- 0.05   690.04 +/- 85.95\n",
       "XGBoost Regressor  532.87 +/- 106.08  0.39 +/- 0.09  674.03 +/- 117.62"
      ]
     },
     "execution_count": 51,
     "metadata": {},
     "output_type": "execute_result"
    }
   ],
   "source": [
    "error.T"
   ]
  },
  {
   "cell_type": "markdown",
   "metadata": {
    "heading_collapsed": true,
    "hidden": true
   },
   "source": [
    "## 9.2 Business Performance"
   ]
  },
  {
   "cell_type": "code",
   "execution_count": null,
   "metadata": {
    "hidden": true
   },
   "outputs": [],
   "source": []
  },
  {
   "cell_type": "markdown",
   "metadata": {
    "heading_collapsed": true
   },
   "source": [
    "# 10.0 Exportings"
   ]
  },
  {
   "cell_type": "code",
   "execution_count": null,
   "metadata": {
    "hidden": true
   },
   "outputs": [],
   "source": []
  },
  {
   "cell_type": "markdown",
   "metadata": {
    "heading_collapsed": true
   },
   "source": [
    "# 11.0 Deploy"
   ]
  },
  {
   "cell_type": "markdown",
   "metadata": {
    "heading_collapsed": true,
    "hidden": true
   },
   "source": [
    "## 10.1 Top_bar_class"
   ]
  },
  {
   "cell_type": "code",
   "execution_count": null,
   "metadata": {
    "hidden": true
   },
   "outputs": [],
   "source": []
  },
  {
   "cell_type": "markdown",
   "metadata": {
    "heading_collapsed": true,
    "hidden": true
   },
   "source": [
    "## 10.2 Handler API"
   ]
  },
  {
   "cell_type": "code",
   "execution_count": null,
   "metadata": {
    "hidden": true
   },
   "outputs": [],
   "source": []
  },
  {
   "cell_type": "markdown",
   "metadata": {
    "heading_collapsed": true,
    "hidden": true
   },
   "source": [
    "## 10.3 API Tester"
   ]
  },
  {
   "cell_type": "code",
   "execution_count": null,
   "metadata": {
    "hidden": true
   },
   "outputs": [],
   "source": []
  },
  {
   "cell_type": "markdown",
   "metadata": {},
   "source": [
    "# Time"
   ]
  },
  {
   "cell_type": "code",
   "execution_count": 52,
   "metadata": {
    "ExecuteTime": {
     "end_time": "2022-09-07T16:45:18.430747Z",
     "start_time": "2022-09-07T16:45:18.418195Z"
    },
    "scrolled": false
   },
   "outputs": [
    {
     "name": "stdout",
     "output_type": "stream",
     "text": [
      "O projeto está processando em 0.56 minutos\n"
     ]
    }
   ],
   "source": [
    "print(f'O projeto está processando em {round((time.time() - tempo_agora) / 60, 2)} minutos')"
   ]
  }
 ],
 "metadata": {
  "colab": {
   "collapsed_sections": [
    "0HF0qpYdk0xV",
    "w-_LYSQasnJe",
    "Fo9oTiSg8rbZ",
    "U31eP2VVHvg9",
    "UacIu52kMNMg",
    "22bT8LnfMBt3",
    "TzLuw3sjXyhY",
    "O2ug0XzLKtqM",
    "sf_nq_yYHBsS",
    "ZFjFSSBJ8rc_",
    "ZWjNzZav8rdB",
    "zCUBbPWLK_X5",
    "jDtyW1P0Gsmw",
    "T8WjZTJEpFvP",
    "Cpow1jxqpLb0",
    "e3bxxfygpRiI",
    "oqZcGHvJpwCj",
    "e5qb0o_LqTP_",
    "kscRdU11qbLg",
    "1if3O7Hp2CiE",
    "rQPyhXVl28rl",
    "-72Zr6iIFZhE",
    "gWCr6E3AGuWH",
    "4ysWSC9hLjiY",
    "gCdSM9Zs8rdd",
    "LwXvqMa2LNGn",
    "oZrWcLSMKbOD",
    "ra12ehIdRbTI",
    "nJHHKLSPS0jU",
    "Py5_Zqc9Wg64",
    "9TDxHCc0VIHA",
    "TmQm9H9HQ9tp",
    "sFATzRpWQ4GI",
    "0xIwHrpJZxdL",
    "YEit4heSZ8ka",
    "vHcwYa1LCDhj",
    "Efet9OusCWdI",
    "bHhq7LSSEvW-",
    "xDmAggFurgFU",
    "bQQqTK761JJR",
    "MEJYDvL-ANMQ",
    "KEM5-O1Ppkex",
    "3Ck3cWlcqMYh",
    "TGCGUKeBqRMU",
    "BV4glKS7py2u",
    "4pDTzzVTp_Lt",
    "kdcXbcfSp_ZL",
    "ZrZjI8xpqA-d",
    "2rytJ8Svq5vm",
    "AgCU9hZ5qWJN",
    "WG1fldNvrDct",
    "aiI0z7R_rDn6",
    "kW1XcJQh8reQ",
    "w8JxHOWSHTP9",
    "R6fkx-LLHocO",
    "N8NMVv2k13d9",
    "6OnQY5tu1uVC",
    "WE-XTzm9f0F9",
    "V_jtQ5VoCvKK",
    "DB2pVJBfKYmW",
    "S5ek0TTc0I5R",
    "ZGWjtKQb0FqF",
    "0N_lULUf9Lj4",
    "uwbl82yxEin1",
    "1F1im0MWBT5S",
    "tr6occUiC-Dj",
    "EOOOcz5XDFsg",
    "2pArit2aB8VZ"
   ],
   "include_colab_link": true,
   "name": "predict_bar_sales.ipynb",
   "provenance": []
  },
  "kernelspec": {
   "display_name": "Python 3 (ipykernel)",
   "language": "python",
   "name": "python3"
  },
  "language_info": {
   "codemirror_mode": {
    "name": "ipython",
    "version": 3
   },
   "file_extension": ".py",
   "mimetype": "text/x-python",
   "name": "python",
   "nbconvert_exporter": "python",
   "pygments_lexer": "ipython3",
   "version": "3.9.12"
  }
 },
 "nbformat": 4,
 "nbformat_minor": 1
}
