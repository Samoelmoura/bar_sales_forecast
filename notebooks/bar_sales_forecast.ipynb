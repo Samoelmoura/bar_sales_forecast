{
 "cells": [
  {
   "cell_type": "markdown",
   "metadata": {
    "heading_collapsed": true,
    "id": "w-_LYSQasnJe"
   },
   "source": [
    "# 0.0 Imports"
   ]
  },
  {
   "cell_type": "code",
   "execution_count": 1,
   "metadata": {
    "ExecuteTime": {
     "end_time": "2022-08-09T01:08:30.898674Z",
     "start_time": "2022-08-09T01:08:28.799770Z"
    },
    "hidden": true
   },
   "outputs": [],
   "source": [
    "import pandas as pd\n",
    "import numpy as np\n",
    "import matplotlib.pyplot as plt\n",
    "import seaborn as sns\n",
    "import re\n",
    "\n",
    "from statsmodels.tsa.seasonal import seasonal_decompose\n",
    "from statsmodels.graphics.tsaplots import plot_acf, plot_pacf\n",
    "\n",
    "from sklearn.preprocessing import StandardScaler\n",
    "from sklearn.linear_model import LinearRegression, Lasso\n",
    "from sklearn.metrics import mean_squared_error\n",
    "from sklearn.ensemble import RandomForestRegressor\n",
    "\n",
    "from xgboost import XGBRegressor\n",
    "\n",
    "import time\n",
    "\n",
    "tempo_agora = time.time() # Tempo inicial"
   ]
  },
  {
   "cell_type": "markdown",
   "metadata": {
    "heading_collapsed": true,
    "hidden": true
   },
   "source": [
    "## 0.1 Loading Datasets"
   ]
  },
  {
   "cell_type": "code",
   "execution_count": 2,
   "metadata": {
    "ExecuteTime": {
     "end_time": "2022-08-09T01:08:31.618962Z",
     "start_time": "2022-08-09T01:08:30.901295Z"
    },
    "hidden": true
   },
   "outputs": [],
   "source": [
    "billiard_raw = pd.read_csv('D:\\\\My Drive\\\\Pessoal\\\\Projetos\\\\bar_sales_forecast\\\\data\\\\raw\\\\billiard.csv', low_memory=False)\n",
    "sales_raw = pd.read_csv('D:\\\\My Drive\\\\Pessoal\\\\Projetos\\\\bar_sales_forecast\\\\data\\\\raw\\\\sales.csv')\n",
    "\n",
    "billiard_cols = ['#No', 'Name', '#Start Time', 'In Use', 'Semana', 'Turno', 'Total Bilhar', 'Pago', '#Preço/Hora', 'Data']\n",
    "billiard = billiard_raw[billiard_cols]\n",
    "\n",
    "sales_cols = ['#Time', 'Purchaser', 'Item', '#Voucher', 'Semana', 'Turno', 'Classe 1', 'Classe 2', 'Classe 3', 'Preço', 'Total Venda', 'Data', 'Quantidade']\n",
    "sales = sales_raw[sales_cols]"
   ]
  },
  {
   "cell_type": "code",
   "execution_count": 3,
   "metadata": {
    "ExecuteTime": {
     "end_time": "2022-08-09T01:08:31.650567Z",
     "start_time": "2022-08-09T01:08:31.620897Z"
    },
    "hidden": true
   },
   "outputs": [
    {
     "data": {
      "text/html": [
       "<div>\n",
       "<style scoped>\n",
       "    .dataframe tbody tr th:only-of-type {\n",
       "        vertical-align: middle;\n",
       "    }\n",
       "\n",
       "    .dataframe tbody tr th {\n",
       "        vertical-align: top;\n",
       "    }\n",
       "\n",
       "    .dataframe thead th {\n",
       "        text-align: right;\n",
       "    }\n",
       "</style>\n",
       "<table border=\"1\" class=\"dataframe\">\n",
       "  <thead>\n",
       "    <tr style=\"text-align: right;\">\n",
       "      <th></th>\n",
       "      <th>#No</th>\n",
       "      <th>Name</th>\n",
       "      <th>#Start Time</th>\n",
       "      <th>In Use</th>\n",
       "      <th>Semana</th>\n",
       "      <th>Turno</th>\n",
       "      <th>Total Bilhar</th>\n",
       "      <th>Pago</th>\n",
       "      <th>#Preço/Hora</th>\n",
       "      <th>Data</th>\n",
       "    </tr>\n",
       "  </thead>\n",
       "  <tbody>\n",
       "    <tr>\n",
       "      <th>0</th>\n",
       "      <td>848</td>\n",
       "      <td>***Quarta1***</td>\n",
       "      <td>1/00:45</td>\n",
       "      <td>0:15</td>\n",
       "      <td>5</td>\n",
       "      <td>Noite</td>\n",
       "      <td>2.0</td>\n",
       "      <td>2.00</td>\n",
       "      <td>3.5</td>\n",
       "      <td>5/31/2017</td>\n",
       "    </tr>\n",
       "    <tr>\n",
       "      <th>1</th>\n",
       "      <td>829</td>\n",
       "      <td>Guest(30)</td>\n",
       "      <td>31/18:06</td>\n",
       "      <td>6:24</td>\n",
       "      <td>5</td>\n",
       "      <td>Tarde</td>\n",
       "      <td>0.0</td>\n",
       "      <td>24.60</td>\n",
       "      <td>0.0</td>\n",
       "      <td>5/31/2017</td>\n",
       "    </tr>\n",
       "    <tr>\n",
       "      <th>2</th>\n",
       "      <td>836</td>\n",
       "      <td>Guest(28)</td>\n",
       "      <td>31/20:46</td>\n",
       "      <td>4:28</td>\n",
       "      <td>5</td>\n",
       "      <td>Tarde</td>\n",
       "      <td>0.0</td>\n",
       "      <td>4.50</td>\n",
       "      <td>0.0</td>\n",
       "      <td>5/31/2017</td>\n",
       "    </tr>\n",
       "    <tr>\n",
       "      <th>3</th>\n",
       "      <td>838</td>\n",
       "      <td>Guest(27)</td>\n",
       "      <td>31/20:57</td>\n",
       "      <td>3:25</td>\n",
       "      <td>5</td>\n",
       "      <td>Tarde</td>\n",
       "      <td>0.0</td>\n",
       "      <td>29.72</td>\n",
       "      <td>0.0</td>\n",
       "      <td>5/31/2017</td>\n",
       "    </tr>\n",
       "    <tr>\n",
       "      <th>4</th>\n",
       "      <td>844</td>\n",
       "      <td>Guest(14)</td>\n",
       "      <td>31/22:16</td>\n",
       "      <td>2:47</td>\n",
       "      <td>5</td>\n",
       "      <td>Noite</td>\n",
       "      <td>0.0</td>\n",
       "      <td>48.30</td>\n",
       "      <td>0.0</td>\n",
       "      <td>5/31/2017</td>\n",
       "    </tr>\n",
       "  </tbody>\n",
       "</table>\n",
       "</div>"
      ],
      "text/plain": [
       "   #No           Name #Start Time In Use  Semana  Turno  Total Bilhar   Pago  \\\n",
       "0  848  ***Quarta1***     1/00:45   0:15       5  Noite           2.0   2.00   \n",
       "1  829      Guest(30)    31/18:06   6:24       5  Tarde           0.0  24.60   \n",
       "2  836      Guest(28)    31/20:46   4:28       5  Tarde           0.0   4.50   \n",
       "3  838      Guest(27)    31/20:57   3:25       5  Tarde           0.0  29.72   \n",
       "4  844      Guest(14)    31/22:16   2:47       5  Noite           0.0  48.30   \n",
       "\n",
       "   #Preço/Hora       Data  \n",
       "0          3.5  5/31/2017  \n",
       "1          0.0  5/31/2017  \n",
       "2          0.0  5/31/2017  \n",
       "3          0.0  5/31/2017  \n",
       "4          0.0  5/31/2017  "
      ]
     },
     "execution_count": 3,
     "metadata": {},
     "output_type": "execute_result"
    }
   ],
   "source": [
    "billiard.head(5)"
   ]
  },
  {
   "cell_type": "code",
   "execution_count": 4,
   "metadata": {
    "ExecuteTime": {
     "end_time": "2022-08-09T01:08:31.681700Z",
     "start_time": "2022-08-09T01:08:31.653508Z"
    },
    "hidden": true
   },
   "outputs": [
    {
     "data": {
      "text/html": [
       "<div>\n",
       "<style scoped>\n",
       "    .dataframe tbody tr th:only-of-type {\n",
       "        vertical-align: middle;\n",
       "    }\n",
       "\n",
       "    .dataframe tbody tr th {\n",
       "        vertical-align: top;\n",
       "    }\n",
       "\n",
       "    .dataframe thead th {\n",
       "        text-align: right;\n",
       "    }\n",
       "</style>\n",
       "<table border=\"1\" class=\"dataframe\">\n",
       "  <thead>\n",
       "    <tr style=\"text-align: right;\">\n",
       "      <th></th>\n",
       "      <th>#Time</th>\n",
       "      <th>Purchaser</th>\n",
       "      <th>Item</th>\n",
       "      <th>#Voucher</th>\n",
       "      <th>Semana</th>\n",
       "      <th>Turno</th>\n",
       "      <th>Classe 1</th>\n",
       "      <th>Classe 2</th>\n",
       "      <th>Classe 3</th>\n",
       "      <th>Preço</th>\n",
       "      <th>Total Venda</th>\n",
       "      <th>Data</th>\n",
       "      <th>Quantidade</th>\n",
       "    </tr>\n",
       "  </thead>\n",
       "  <tbody>\n",
       "    <tr>\n",
       "      <th>0</th>\n",
       "      <td>2/23:50:26</td>\n",
       "      <td>Mesa 1</td>\n",
       "      <td>10%</td>\n",
       "      <td>150</td>\n",
       "      <td>1</td>\n",
       "      <td>Noite</td>\n",
       "      <td>Gorjeta</td>\n",
       "      <td>NaN</td>\n",
       "      <td>NaN</td>\n",
       "      <td>0.1</td>\n",
       "      <td>1.6</td>\n",
       "      <td>5/2/2017</td>\n",
       "      <td>16</td>\n",
       "    </tr>\n",
       "    <tr>\n",
       "      <th>1</th>\n",
       "      <td>2/23:56:18</td>\n",
       "      <td>Mesa 5</td>\n",
       "      <td>10%</td>\n",
       "      <td>151</td>\n",
       "      <td>1</td>\n",
       "      <td>Noite</td>\n",
       "      <td>Gorjeta</td>\n",
       "      <td>NaN</td>\n",
       "      <td>NaN</td>\n",
       "      <td>0.1</td>\n",
       "      <td>3.7</td>\n",
       "      <td>5/2/2017</td>\n",
       "      <td>37</td>\n",
       "    </tr>\n",
       "    <tr>\n",
       "      <th>2</th>\n",
       "      <td>3/00:43:47</td>\n",
       "      <td>Mesa 1</td>\n",
       "      <td>10%</td>\n",
       "      <td>153</td>\n",
       "      <td>1</td>\n",
       "      <td>Noite</td>\n",
       "      <td>Gorjeta</td>\n",
       "      <td>NaN</td>\n",
       "      <td>NaN</td>\n",
       "      <td>0.1</td>\n",
       "      <td>1.5</td>\n",
       "      <td>5/2/2017</td>\n",
       "      <td>15</td>\n",
       "    </tr>\n",
       "    <tr>\n",
       "      <th>3</th>\n",
       "      <td>3/01:04:07</td>\n",
       "      <td>Mesa 5</td>\n",
       "      <td>10%</td>\n",
       "      <td>155</td>\n",
       "      <td>1</td>\n",
       "      <td>Noite</td>\n",
       "      <td>Gorjeta</td>\n",
       "      <td>NaN</td>\n",
       "      <td>NaN</td>\n",
       "      <td>0.1</td>\n",
       "      <td>2.4</td>\n",
       "      <td>5/2/2017</td>\n",
       "      <td>24</td>\n",
       "    </tr>\n",
       "    <tr>\n",
       "      <th>4</th>\n",
       "      <td>3/00:43:35</td>\n",
       "      <td>Mesa 1</td>\n",
       "      <td>Agua s/ Gás</td>\n",
       "      <td>153</td>\n",
       "      <td>1</td>\n",
       "      <td>Noite</td>\n",
       "      <td>Bar</td>\n",
       "      <td>Sem Álcool</td>\n",
       "      <td>NaN</td>\n",
       "      <td>3.0</td>\n",
       "      <td>6.0</td>\n",
       "      <td>5/2/2017</td>\n",
       "      <td>2</td>\n",
       "    </tr>\n",
       "  </tbody>\n",
       "</table>\n",
       "</div>"
      ],
      "text/plain": [
       "         #Time Purchaser         Item  #Voucher  Semana  Turno Classe 1  \\\n",
       "0   2/23:50:26    Mesa 1          10%       150       1  Noite  Gorjeta   \n",
       "1   2/23:56:18    Mesa 5          10%       151       1  Noite  Gorjeta   \n",
       "2   3/00:43:47    Mesa 1          10%       153       1  Noite  Gorjeta   \n",
       "3   3/01:04:07    Mesa 5          10%       155       1  Noite  Gorjeta   \n",
       "4   3/00:43:35    Mesa 1  Agua s/ Gás       153       1  Noite      Bar   \n",
       "\n",
       "     Classe 2 Classe 3  Preço  Total Venda      Data  Quantidade  \n",
       "0         NaN      NaN    0.1          1.6  5/2/2017          16  \n",
       "1         NaN      NaN    0.1          3.7  5/2/2017          37  \n",
       "2         NaN      NaN    0.1          1.5  5/2/2017          15  \n",
       "3         NaN      NaN    0.1          2.4  5/2/2017          24  \n",
       "4  Sem Álcool      NaN    3.0          6.0  5/2/2017           2  "
      ]
     },
     "execution_count": 4,
     "metadata": {},
     "output_type": "execute_result"
    }
   ],
   "source": [
    "sales.head(5)"
   ]
  },
  {
   "cell_type": "markdown",
   "metadata": {
    "heading_collapsed": true,
    "hidden": true
   },
   "source": [
    "## 0.2 Helper Functions"
   ]
  },
  {
   "cell_type": "code",
   "execution_count": 5,
   "metadata": {
    "ExecuteTime": {
     "end_time": "2022-08-09T01:08:31.712492Z",
     "start_time": "2022-08-09T01:08:31.683697Z"
    },
    "hidden": true
   },
   "outputs": [],
   "source": [
    "# identificando outliers\n",
    "def busca_outliers(df, series):\n",
    "    q1 = np.percentile(df[series], 25)\n",
    "    q3 = np.percentile(df[series], 75)\n",
    "    distancia = q3 - q1\n",
    "    salto = distancia * 1.5\n",
    "    li = q1 - salto\n",
    "    ls = q3 + salto\n",
    "    indices = df[(df[series]<li)|(df[series]>ls)].index\n",
    "#     print(f'O limite inferior é: {li}\\nO limite superior é: {ls}\\nHá {len(indices)} outliers')\n",
    "    return indices, li, ls\n",
    "\n",
    "def metrics(y_test, y_hat):\n",
    "    # metrics\n",
    "    mean_absolute_error = np.mean(np.abs(np.expm1(y_test) - np.expm1(y_hat))) # mean absolute error\n",
    "    mean_absolute_percentage_error = np.mean(mean_absolute_error / np.expm1(y_test)) # mean absolute percentage error\n",
    "\n",
    "    print(f\"MAE: {mean_absolute_error}\")\n",
    "    print(f\"MAPE: {mean_absolute_percentage_error}\")\n",
    "    print(f\"RMSE: {np.sqrt(mean_squared_error(np.expm1(y_test), np.expm1(y_hat)))}\")\n",
    "    \n",
    "def cross_validation(df, error, kfold, model_name, model):\n",
    "    list_mean_absolute_error, list_mean_absolute_percentage_error, list_root_mean_squared_error, folds = [], [], [], []\n",
    "    for i in reversed(range(1, kfold+1)):\n",
    "        folds.append(f'Fold: {i}')\n",
    "        validation_start_date = df.index.max() - pd.Timedelta(6*i, 'w')\n",
    "        validation_end_date = df.index.max() - pd.Timedelta(6*(i-1), 'w')\n",
    "        \n",
    "        train = df[df.index<validation_start_date]\n",
    "        validation = df[(df.index>=validation_start_date)&(df.index<=validation_end_date)]\n",
    "        \n",
    "        X_train = train.drop('total', axis=1)\n",
    "        y_train = train['total']\n",
    "        \n",
    "        X_val = validation.drop('total', axis=1)\n",
    "        y_val = validation['total']\n",
    "        \n",
    "        # fiting model\n",
    "        model_fit = model.fit(X_train, y_train)\n",
    "\n",
    "        # predicting\n",
    "        y_hat = model_fit.predict(X_val)\n",
    "        \n",
    "        list_mean_absolute_error.append(np.mean(np.abs(np.expm1(y_val) - np.expm1(y_hat))))\n",
    "        list_mean_absolute_percentage_error.append(np.mean(np.abs(np.expm1(y_val) - np.expm1(y_hat)) / np.expm1(y_val)))\n",
    "        list_root_mean_squared_error.append(np.sqrt(mean_squared_error(np.expm1(y_val), np.expm1(y_hat))))\n",
    "        \n",
    "    # mean and std\n",
    "    folds.append('mean_and_std')\n",
    "    list_mean_absolute_error.append(str(round(np.mean(list_mean_absolute_error), 2))+' +/- '+str(round(np.std(list_mean_absolute_error), 2)))\n",
    "    list_mean_absolute_percentage_error.append(str(round(np.mean(list_mean_absolute_percentage_error), 2))+' +/- '+str(round(np.std(list_mean_absolute_percentage_error), 2)))\n",
    "    list_root_mean_squared_error.append(str(round(np.mean(list_root_mean_squared_error), 2))+' +/- '+str(round(np.std(list_root_mean_squared_error), 2)))\n",
    "    # dataframe\n",
    "    cross_validation_metrics = pd.DataFrame([list_mean_absolute_error, list_mean_absolute_percentage_error, list_root_mean_squared_error], index=['MAE', 'MAPE', \"RMSE\"], columns=folds)\n",
    "    error[model_name] = cross_validation_metrics['mean_and_std']\n",
    "    return error, cross_validation_metrics"
   ]
  },
  {
   "cell_type": "markdown",
   "metadata": {
    "heading_collapsed": true,
    "id": "Fo9oTiSg8rbZ"
   },
   "source": [
    "# 1.0 Data Description"
   ]
  },
  {
   "cell_type": "markdown",
   "metadata": {
    "heading_collapsed": true,
    "hidden": true
   },
   "source": [
    "## 1.1 Data Dimensions"
   ]
  },
  {
   "cell_type": "code",
   "execution_count": 6,
   "metadata": {
    "ExecuteTime": {
     "end_time": "2022-08-09T01:08:31.728123Z",
     "start_time": "2022-08-09T01:08:31.714526Z"
    },
    "hidden": true
   },
   "outputs": [
    {
     "name": "stdout",
     "output_type": "stream",
     "text": [
      "Billiard qty of rows: 44844\n",
      "Billiard qty of columns: 10\n",
      "\n",
      "Sales qty of rows: 136685\n",
      "Sales qty of columns: 13\n"
     ]
    }
   ],
   "source": [
    "print(f'Billiard qty of rows: {billiard.shape[0]}')\n",
    "print(f'Billiard qty of columns: {billiard.shape[1]}')\n",
    "print()\n",
    "print(f'Sales qty of rows: {sales.shape[0]}')\n",
    "print(f'Sales qty of columns: {sales.shape[1]}')"
   ]
  },
  {
   "cell_type": "markdown",
   "metadata": {
    "heading_collapsed": true,
    "hidden": true
   },
   "source": [
    "## 1.2 Datatype"
   ]
  },
  {
   "cell_type": "code",
   "execution_count": 7,
   "metadata": {
    "ExecuteTime": {
     "end_time": "2022-08-09T01:08:31.743283Z",
     "start_time": "2022-08-09T01:08:31.731096Z"
    },
    "hidden": true,
    "scrolled": false
   },
   "outputs": [
    {
     "name": "stdout",
     "output_type": "stream",
     "text": [
      "billiard\n",
      "\n"
     ]
    },
    {
     "data": {
      "text/plain": [
       "#No               int64\n",
       "Name             object\n",
       "#Start Time      object\n",
       "In Use           object\n",
       "Semana            int64\n",
       "Turno            object\n",
       "Total Bilhar    float64\n",
       "Pago            float64\n",
       "#Preço/Hora     float64\n",
       "Data             object\n",
       "dtype: object"
      ]
     },
     "execution_count": 7,
     "metadata": {},
     "output_type": "execute_result"
    }
   ],
   "source": [
    "print('billiard\\n')\n",
    "billiard.dtypes"
   ]
  },
  {
   "cell_type": "code",
   "execution_count": 8,
   "metadata": {
    "ExecuteTime": {
     "end_time": "2022-08-09T01:08:31.759174Z",
     "start_time": "2022-08-09T01:08:31.745245Z"
    },
    "hidden": true
   },
   "outputs": [
    {
     "name": "stdout",
     "output_type": "stream",
     "text": [
      "sales\n",
      "\n"
     ]
    },
    {
     "data": {
      "text/plain": [
       "#Time           object\n",
       "Purchaser       object\n",
       "Item            object\n",
       "#Voucher         int64\n",
       "Semana           int64\n",
       "Turno           object\n",
       "Classe 1        object\n",
       "Classe 2        object\n",
       "Classe 3        object\n",
       "Preço          float64\n",
       "Total Venda    float64\n",
       "Data            object\n",
       "Quantidade       int64\n",
       "dtype: object"
      ]
     },
     "execution_count": 8,
     "metadata": {},
     "output_type": "execute_result"
    }
   ],
   "source": [
    "print('sales\\n')\n",
    "sales.dtypes"
   ]
  },
  {
   "cell_type": "markdown",
   "metadata": {
    "heading_collapsed": true,
    "hidden": true
   },
   "source": [
    "## 1.3 Check NaN values"
   ]
  },
  {
   "cell_type": "code",
   "execution_count": 9,
   "metadata": {
    "ExecuteTime": {
     "end_time": "2022-08-09T01:08:31.805706Z",
     "start_time": "2022-08-09T01:08:31.762168Z"
    },
    "hidden": true,
    "scrolled": true
   },
   "outputs": [
    {
     "name": "stdout",
     "output_type": "stream",
     "text": [
      "billiard\n",
      "\n"
     ]
    },
    {
     "data": {
      "text/plain": [
       "#No             0\n",
       "Name            0\n",
       "#Start Time     0\n",
       "In Use          0\n",
       "Semana          0\n",
       "Turno           0\n",
       "Total Bilhar    0\n",
       "Pago            0\n",
       "#Preço/Hora     0\n",
       "Data            0\n",
       "dtype: int64"
      ]
     },
     "execution_count": 9,
     "metadata": {},
     "output_type": "execute_result"
    }
   ],
   "source": [
    "print('billiard\\n')\n",
    "billiard.isna().sum()"
   ]
  },
  {
   "cell_type": "code",
   "execution_count": 10,
   "metadata": {
    "ExecuteTime": {
     "end_time": "2022-08-09T01:08:31.932631Z",
     "start_time": "2022-08-09T01:08:31.810578Z"
    },
    "hidden": true
   },
   "outputs": [
    {
     "name": "stdout",
     "output_type": "stream",
     "text": [
      "sales\n",
      "\n"
     ]
    },
    {
     "data": {
      "text/plain": [
       "#Time              0\n",
       "Purchaser      12385\n",
       "Item               0\n",
       "#Voucher           0\n",
       "Semana             0\n",
       "Turno              0\n",
       "Classe 1           0\n",
       "Classe 2       16827\n",
       "Classe 3       73247\n",
       "Preço              0\n",
       "Total Venda        0\n",
       "Data               0\n",
       "Quantidade         0\n",
       "dtype: int64"
      ]
     },
     "execution_count": 10,
     "metadata": {},
     "output_type": "execute_result"
    }
   ],
   "source": [
    "print('sales\\n')\n",
    "sales.isna().sum()"
   ]
  },
  {
   "cell_type": "markdown",
   "metadata": {
    "hidden": true
   },
   "source": [
    "O sistema gestor de vendas utilizado tem uma modalidade de vendas que não vincula o produto à uma mesa de consumo, geralmente utilizados quando ocorre uma venda avulsa, que é paga no ato da compra. Tais produtos são inseridos no sistema sem informação no campo \"Purchaser\", o que justifica os 8930 NaN Values nessa feature. As features Classe 2 e Classe 3 possuem NaN Values porque alguns produtos são cadastrados e classificados apenas no primeiro nível (Classe 1)."
   ]
  },
  {
   "cell_type": "markdown",
   "metadata": {
    "heading_collapsed": true,
    "hidden": true
   },
   "source": [
    "## 1.4 Data Cleaning"
   ]
  },
  {
   "cell_type": "code",
   "execution_count": 11,
   "metadata": {
    "ExecuteTime": {
     "end_time": "2022-08-09T01:08:46.211224Z",
     "start_time": "2022-08-09T01:08:31.934624Z"
    },
    "hidden": true,
    "scrolled": false
   },
   "outputs": [
    {
     "name": "stderr",
     "output_type": "stream",
     "text": [
      "C:\\Users\\Samoel\\AppData\\Local\\Temp\\ipykernel_6428\\3547860278.py:4: SettingWithCopyWarning: \n",
      "A value is trying to be set on a copy of a slice from a DataFrame.\n",
      "Try using .loc[row_indexer,col_indexer] = value instead\n",
      "\n",
      "See the caveats in the documentation: https://pandas.pydata.org/pandas-docs/stable/user_guide/indexing.html#returning-a-view-versus-a-copy\n",
      "  billiard['start_time'] = billiard['#Start Time'].apply(lambda x: x.split('/')[1])\n",
      "C:\\Users\\Samoel\\AppData\\Local\\Temp\\ipykernel_6428\\3547860278.py:7: SettingWithCopyWarning: \n",
      "A value is trying to be set on a copy of a slice from a DataFrame.\n",
      "Try using .loc[row_indexer,col_indexer] = value instead\n",
      "\n",
      "See the caveats in the documentation: https://pandas.pydata.org/pandas-docs/stable/user_guide/indexing.html#returning-a-view-versus-a-copy\n",
      "  billiard['Data'] = billiard['Data'].str.replace('/', '-').str.strip()\n",
      "C:\\Users\\Samoel\\AppData\\Local\\Temp\\ipykernel_6428\\3547860278.py:10: SettingWithCopyWarning: \n",
      "A value is trying to be set on a copy of a slice from a DataFrame.\n",
      "Try using .loc[row_indexer,col_indexer] = value instead\n",
      "\n",
      "See the caveats in the documentation: https://pandas.pydata.org/pandas-docs/stable/user_guide/indexing.html#returning-a-view-versus-a-copy\n",
      "  billiard['datetime'] = billiard['Data'] + '-' + billiard['start_time']\n",
      "C:\\Users\\Samoel\\AppData\\Local\\Temp\\ipykernel_6428\\3547860278.py:11: SettingWithCopyWarning: \n",
      "A value is trying to be set on a copy of a slice from a DataFrame.\n",
      "Try using .loc[row_indexer,col_indexer] = value instead\n",
      "\n",
      "See the caveats in the documentation: https://pandas.pydata.org/pandas-docs/stable/user_guide/indexing.html#returning-a-view-versus-a-copy\n",
      "  billiard['datetime'] = pd.to_datetime(billiard['datetime'])\n",
      "C:\\Users\\Samoel\\AppData\\Local\\Temp\\ipykernel_6428\\3547860278.py:14: SettingWithCopyWarning: \n",
      "A value is trying to be set on a copy of a slice from a DataFrame\n",
      "\n",
      "See the caveats in the documentation: https://pandas.pydata.org/pandas-docs/stable/user_guide/indexing.html#returning-a-view-versus-a-copy\n",
      "  billiard.rename(columns={'#No':'id'}, inplace=True)\n",
      "C:\\Users\\Samoel\\AppData\\Local\\Temp\\ipykernel_6428\\3547860278.py:15: SettingWithCopyWarning: \n",
      "A value is trying to be set on a copy of a slice from a DataFrame\n",
      "\n",
      "See the caveats in the documentation: https://pandas.pydata.org/pandas-docs/stable/user_guide/indexing.html#returning-a-view-versus-a-copy\n",
      "  billiard.rename(columns={'Name':'purchaser'}, inplace=True)\n",
      "C:\\Users\\Samoel\\AppData\\Local\\Temp\\ipykernel_6428\\3547860278.py:16: SettingWithCopyWarning: \n",
      "A value is trying to be set on a copy of a slice from a DataFrame\n",
      "\n",
      "See the caveats in the documentation: https://pandas.pydata.org/pandas-docs/stable/user_guide/indexing.html#returning-a-view-versus-a-copy\n",
      "  billiard.rename(columns={'Total Bilhar':'sale'}, inplace=True)\n",
      "C:\\Users\\Samoel\\AppData\\Local\\Temp\\ipykernel_6428\\3547860278.py:17: SettingWithCopyWarning: \n",
      "A value is trying to be set on a copy of a slice from a DataFrame\n",
      "\n",
      "See the caveats in the documentation: https://pandas.pydata.org/pandas-docs/stable/user_guide/indexing.html#returning-a-view-versus-a-copy\n",
      "  billiard.rename(columns={'#Preço/Hora':'price'}, inplace=True)\n",
      "C:\\Users\\Samoel\\AppData\\Local\\Temp\\ipykernel_6428\\3547860278.py:18: SettingWithCopyWarning: \n",
      "A value is trying to be set on a copy of a slice from a DataFrame\n",
      "\n",
      "See the caveats in the documentation: https://pandas.pydata.org/pandas-docs/stable/user_guide/indexing.html#returning-a-view-versus-a-copy\n",
      "  billiard.rename(columns={'Semana':'week'}, inplace=True)\n",
      "C:\\Users\\Samoel\\AppData\\Local\\Temp\\ipykernel_6428\\3547860278.py:19: SettingWithCopyWarning: \n",
      "A value is trying to be set on a copy of a slice from a DataFrame\n",
      "\n",
      "See the caveats in the documentation: https://pandas.pydata.org/pandas-docs/stable/user_guide/indexing.html#returning-a-view-versus-a-copy\n",
      "  billiard.rename(columns={'Turno':'work_shift'}, inplace=True)\n",
      "C:\\Users\\Samoel\\AppData\\Local\\Temp\\ipykernel_6428\\3547860278.py:20: SettingWithCopyWarning: \n",
      "A value is trying to be set on a copy of a slice from a DataFrame\n",
      "\n",
      "See the caveats in the documentation: https://pandas.pydata.org/pandas-docs/stable/user_guide/indexing.html#returning-a-view-versus-a-copy\n",
      "  billiard.rename(columns={'In Use':'in_use'}, inplace=True)\n",
      "C:\\Users\\Samoel\\AppData\\Local\\Temp\\ipykernel_6428\\3547860278.py:23: SettingWithCopyWarning: \n",
      "A value is trying to be set on a copy of a slice from a DataFrame.\n",
      "Try using .loc[row_indexer,col_indexer] = value instead\n",
      "\n",
      "See the caveats in the documentation: https://pandas.pydata.org/pandas-docs/stable/user_guide/indexing.html#returning-a-view-versus-a-copy\n",
      "  billiard['quantity'] = round(billiard['sale'] / billiard['price'], 1)\n",
      "C:\\Users\\Samoel\\AppData\\Local\\Temp\\ipykernel_6428\\3547860278.py:26: SettingWithCopyWarning: \n",
      "A value is trying to be set on a copy of a slice from a DataFrame.\n",
      "Try using .loc[row_indexer,col_indexer] = value instead\n",
      "\n",
      "See the caveats in the documentation: https://pandas.pydata.org/pandas-docs/stable/user_guide/indexing.html#returning-a-view-versus-a-copy\n",
      "  billiard['item'] = 'bilhar'\n",
      "C:\\Users\\Samoel\\AppData\\Local\\Temp\\ipykernel_6428\\3547860278.py:29: SettingWithCopyWarning: \n",
      "A value is trying to be set on a copy of a slice from a DataFrame\n",
      "\n",
      "See the caveats in the documentation: https://pandas.pydata.org/pandas-docs/stable/user_guide/indexing.html#returning-a-view-versus-a-copy\n",
      "  billiard.drop(['Pago', 'Data', 'start_time', '#Start Time'], axis=1, inplace=True)\n",
      "C:\\Users\\Samoel\\AppData\\Local\\Temp\\ipykernel_6428\\3547860278.py:34: SettingWithCopyWarning: \n",
      "A value is trying to be set on a copy of a slice from a DataFrame.\n",
      "Try using .loc[row_indexer,col_indexer] = value instead\n",
      "\n",
      "See the caveats in the documentation: https://pandas.pydata.org/pandas-docs/stable/user_guide/indexing.html#returning-a-view-versus-a-copy\n",
      "  sales['Time'] = sales['#Time'].apply(lambda x: x.split('/')[1])\n",
      "C:\\Users\\Samoel\\AppData\\Local\\Temp\\ipykernel_6428\\3547860278.py:35: SettingWithCopyWarning: \n",
      "A value is trying to be set on a copy of a slice from a DataFrame.\n",
      "Try using .loc[row_indexer,col_indexer] = value instead\n",
      "\n",
      "See the caveats in the documentation: https://pandas.pydata.org/pandas-docs/stable/user_guide/indexing.html#returning-a-view-versus-a-copy\n",
      "  sales['datetime'] = sales['Data'] + '-' + sales['Time']\n",
      "C:\\Users\\Samoel\\AppData\\Local\\Temp\\ipykernel_6428\\3547860278.py:38: SettingWithCopyWarning: \n",
      "A value is trying to be set on a copy of a slice from a DataFrame.\n",
      "Try using .loc[row_indexer,col_indexer] = value instead\n",
      "\n",
      "See the caveats in the documentation: https://pandas.pydata.org/pandas-docs/stable/user_guide/indexing.html#returning-a-view-versus-a-copy\n",
      "  sales['datetime'] = pd.to_datetime(sales['datetime'])\n",
      "C:\\Users\\Samoel\\AppData\\Local\\Temp\\ipykernel_6428\\3547860278.py:41: SettingWithCopyWarning: \n",
      "A value is trying to be set on a copy of a slice from a DataFrame\n",
      "\n",
      "See the caveats in the documentation: https://pandas.pydata.org/pandas-docs/stable/user_guide/indexing.html#returning-a-view-versus-a-copy\n",
      "  sales.rename(columns={'#Voucher':'id'}, inplace=True)\n",
      "C:\\Users\\Samoel\\AppData\\Local\\Temp\\ipykernel_6428\\3547860278.py:42: SettingWithCopyWarning: \n",
      "A value is trying to be set on a copy of a slice from a DataFrame\n",
      "\n",
      "See the caveats in the documentation: https://pandas.pydata.org/pandas-docs/stable/user_guide/indexing.html#returning-a-view-versus-a-copy\n",
      "  sales.rename(columns={'Total Venda':'sale'}, inplace=True)\n",
      "C:\\Users\\Samoel\\AppData\\Local\\Temp\\ipykernel_6428\\3547860278.py:43: SettingWithCopyWarning: \n",
      "A value is trying to be set on a copy of a slice from a DataFrame\n",
      "\n",
      "See the caveats in the documentation: https://pandas.pydata.org/pandas-docs/stable/user_guide/indexing.html#returning-a-view-versus-a-copy\n",
      "  sales.rename(columns={'Preço':'price'}, inplace=True)\n",
      "C:\\Users\\Samoel\\AppData\\Local\\Temp\\ipykernel_6428\\3547860278.py:44: SettingWithCopyWarning: \n",
      "A value is trying to be set on a copy of a slice from a DataFrame\n",
      "\n",
      "See the caveats in the documentation: https://pandas.pydata.org/pandas-docs/stable/user_guide/indexing.html#returning-a-view-versus-a-copy\n",
      "  sales.rename(columns={'Classe 1':'class1'}, inplace=True)\n",
      "C:\\Users\\Samoel\\AppData\\Local\\Temp\\ipykernel_6428\\3547860278.py:45: SettingWithCopyWarning: \n",
      "A value is trying to be set on a copy of a slice from a DataFrame\n",
      "\n",
      "See the caveats in the documentation: https://pandas.pydata.org/pandas-docs/stable/user_guide/indexing.html#returning-a-view-versus-a-copy\n",
      "  sales.rename(columns={'Semana':'week'}, inplace=True)\n",
      "C:\\Users\\Samoel\\AppData\\Local\\Temp\\ipykernel_6428\\3547860278.py:46: SettingWithCopyWarning: \n",
      "A value is trying to be set on a copy of a slice from a DataFrame\n",
      "\n",
      "See the caveats in the documentation: https://pandas.pydata.org/pandas-docs/stable/user_guide/indexing.html#returning-a-view-versus-a-copy\n",
      "  sales.rename(columns={'Turno':'work_shift'}, inplace=True)\n",
      "C:\\Users\\Samoel\\AppData\\Local\\Temp\\ipykernel_6428\\3547860278.py:47: SettingWithCopyWarning: \n",
      "A value is trying to be set on a copy of a slice from a DataFrame\n",
      "\n",
      "See the caveats in the documentation: https://pandas.pydata.org/pandas-docs/stable/user_guide/indexing.html#returning-a-view-versus-a-copy\n",
      "  sales.rename(columns={'Purchaser':'purchaser'}, inplace=True)\n",
      "C:\\Users\\Samoel\\AppData\\Local\\Temp\\ipykernel_6428\\3547860278.py:48: SettingWithCopyWarning: \n",
      "A value is trying to be set on a copy of a slice from a DataFrame\n",
      "\n",
      "See the caveats in the documentation: https://pandas.pydata.org/pandas-docs/stable/user_guide/indexing.html#returning-a-view-versus-a-copy\n",
      "  sales.rename(columns={'Item':'item'}, inplace=True)\n",
      "C:\\Users\\Samoel\\AppData\\Local\\Temp\\ipykernel_6428\\3547860278.py:49: SettingWithCopyWarning: \n",
      "A value is trying to be set on a copy of a slice from a DataFrame\n",
      "\n",
      "See the caveats in the documentation: https://pandas.pydata.org/pandas-docs/stable/user_guide/indexing.html#returning-a-view-versus-a-copy\n",
      "  sales.rename(columns={'Quantidade':'quantity'}, inplace=True)\n",
      "C:\\Users\\Samoel\\AppData\\Local\\Temp\\ipykernel_6428\\3547860278.py:52: SettingWithCopyWarning: \n",
      "A value is trying to be set on a copy of a slice from a DataFrame\n",
      "\n",
      "See the caveats in the documentation: https://pandas.pydata.org/pandas-docs/stable/user_guide/indexing.html#returning-a-view-versus-a-copy\n",
      "  sales.drop(['#Time', 'Data', 'Time', 'Classe 2', 'Classe 3'], axis=1, inplace=True)\n"
     ]
    }
   ],
   "source": [
    "# billiard\n",
    "\n",
    "# Adjusting #Start Time to datetimeindex format\n",
    "billiard['start_time'] = billiard['#Start Time'].apply(lambda x: x.split('/')[1])\n",
    "\n",
    "# Adjusting #Data to datetime format\n",
    "billiard['Data'] = billiard['Data'].str.replace('/', '-').str.strip()\n",
    "\n",
    "# Creating datetime feature with datetime dtype\n",
    "billiard['datetime'] = billiard['Data'] + '-' + billiard['start_time']\n",
    "billiard['datetime'] = pd.to_datetime(billiard['datetime'])\n",
    "\n",
    "# Changing interesting feature names\n",
    "billiard.rename(columns={'#No':'id'}, inplace=True)\n",
    "billiard.rename(columns={'Name':'purchaser'}, inplace=True)\n",
    "billiard.rename(columns={'Total Bilhar':'sale'}, inplace=True)\n",
    "billiard.rename(columns={'#Preço/Hora':'price'}, inplace=True)\n",
    "billiard.rename(columns={'Semana':'week'}, inplace=True)\n",
    "billiard.rename(columns={'Turno':'work_shift'}, inplace=True)\n",
    "billiard.rename(columns={'In Use':'in_use'}, inplace=True)\n",
    "\n",
    "#  Creating quantity feature\n",
    "billiard['quantity'] = round(billiard['sale'] / billiard['price'], 1)\n",
    "\n",
    "# Creating item feature\n",
    "billiard['item'] = 'bilhar'\n",
    "\n",
    "# Droping features\n",
    "billiard.drop(['Pago', 'Data', 'start_time', '#Start Time'], axis=1, inplace=True)\n",
    "\n",
    "# sales\n",
    "\n",
    "# Catch date informations\n",
    "sales['Time'] = sales['#Time'].apply(lambda x: x.split('/')[1])\n",
    "sales['datetime'] = sales['Data'] + '-' + sales['Time']\n",
    "\n",
    "# Creating datetime feature\n",
    "sales['datetime'] = pd.to_datetime(sales['datetime'])\n",
    "\n",
    "# Changing interesting feature names\n",
    "sales.rename(columns={'#Voucher':'id'}, inplace=True)\n",
    "sales.rename(columns={'Total Venda':'sale'}, inplace=True)\n",
    "sales.rename(columns={'Preço':'price'}, inplace=True)\n",
    "sales.rename(columns={'Classe 1':'class1'}, inplace=True)\n",
    "sales.rename(columns={'Semana':'week'}, inplace=True)\n",
    "sales.rename(columns={'Turno':'work_shift'}, inplace=True)\n",
    "sales.rename(columns={'Purchaser':'purchaser'}, inplace=True)\n",
    "sales.rename(columns={'Item':'item'}, inplace=True)\n",
    "sales.rename(columns={'Quantidade':'quantity'}, inplace=True)\n",
    "\n",
    "# Removing features\n",
    "sales.drop(['#Time', 'Data', 'Time', 'Classe 2', 'Classe 3'], axis=1, inplace=True)"
   ]
  },
  {
   "cell_type": "markdown",
   "metadata": {
    "heading_collapsed": true,
    "hidden": true
   },
   "source": [
    "## 1.5 Creating Dataframe"
   ]
  },
  {
   "cell_type": "code",
   "execution_count": 12,
   "metadata": {
    "ExecuteTime": {
     "end_time": "2022-08-09T01:08:46.354405Z",
     "start_time": "2022-08-09T01:08:46.215109Z"
    },
    "hidden": true
   },
   "outputs": [],
   "source": [
    "# concating\n",
    "df1 = pd.concat([billiard, sales], axis=0)\n",
    "\n",
    "# Pivoting table to date x class1\n",
    "df1.loc[df1['item']=='bilhar', 'class1'] = 'Bilhar'\n",
    "df1['datetime'] = pd.to_datetime(df1['datetime'])\n",
    "df1['date'] = df1['datetime'].dt.date\n",
    "df1['date'] = pd.to_datetime(df1['date'])\n",
    "df1 = df1.pivot_table(columns='class1', index='date', values='sale', aggfunc='sum', fill_value=0)\n",
    "df1['total'] = df1.sum(axis=1)"
   ]
  },
  {
   "cell_type": "markdown",
   "metadata": {
    "heading_collapsed": true,
    "hidden": true
   },
   "source": [
    "## 1.6 Data Dimensions"
   ]
  },
  {
   "cell_type": "code",
   "execution_count": 13,
   "metadata": {
    "ExecuteTime": {
     "end_time": "2022-08-09T01:08:46.369922Z",
     "start_time": "2022-08-09T01:08:46.357805Z"
    },
    "hidden": true,
    "scrolled": true
   },
   "outputs": [
    {
     "name": "stdout",
     "output_type": "stream",
     "text": [
      "Number of rows: 1420\n",
      "Number of columns: 7\n"
     ]
    }
   ],
   "source": [
    "print(f'Number of rows: {df1.shape[0]}')\n",
    "print(f'Number of columns: {df1.shape[1]}')"
   ]
  },
  {
   "cell_type": "markdown",
   "metadata": {
    "heading_collapsed": true,
    "hidden": true
   },
   "source": [
    "## 1.7 Check NaN values"
   ]
  },
  {
   "cell_type": "code",
   "execution_count": 14,
   "metadata": {
    "ExecuteTime": {
     "end_time": "2022-08-09T01:08:46.385830Z",
     "start_time": "2022-08-09T01:08:46.372351Z"
    },
    "hidden": true
   },
   "outputs": [
    {
     "data": {
      "text/plain": [
       "class1\n",
       "Bar           0\n",
       "Bilhar        0\n",
       "Bomboniere    0\n",
       "Cozinha       0\n",
       "Gorjeta       0\n",
       "Tabacaria     0\n",
       "total         0\n",
       "dtype: int64"
      ]
     },
     "execution_count": 14,
     "metadata": {},
     "output_type": "execute_result"
    }
   ],
   "source": [
    "df1.isnull().sum()"
   ]
  },
  {
   "cell_type": "markdown",
   "metadata": {
    "heading_collapsed": true,
    "hidden": true
   },
   "source": [
    "## 1.8 Descriptive Statistics"
   ]
  },
  {
   "cell_type": "code",
   "execution_count": 15,
   "metadata": {
    "ExecuteTime": {
     "end_time": "2022-08-09T01:08:46.431678Z",
     "start_time": "2022-08-09T01:08:46.387507Z"
    },
    "hidden": true
   },
   "outputs": [
    {
     "data": {
      "text/html": [
       "<div>\n",
       "<style scoped>\n",
       "    .dataframe tbody tr th:only-of-type {\n",
       "        vertical-align: middle;\n",
       "    }\n",
       "\n",
       "    .dataframe tbody tr th {\n",
       "        vertical-align: top;\n",
       "    }\n",
       "\n",
       "    .dataframe thead th {\n",
       "        text-align: right;\n",
       "    }\n",
       "</style>\n",
       "<table border=\"1\" class=\"dataframe\">\n",
       "  <thead>\n",
       "    <tr style=\"text-align: right;\">\n",
       "      <th></th>\n",
       "      <th>min</th>\n",
       "      <th>max</th>\n",
       "      <th>range</th>\n",
       "      <th>mean</th>\n",
       "      <th>median</th>\n",
       "      <th>std</th>\n",
       "      <th>skew</th>\n",
       "      <th>kurtosis</th>\n",
       "    </tr>\n",
       "    <tr>\n",
       "      <th>class1</th>\n",
       "      <th></th>\n",
       "      <th></th>\n",
       "      <th></th>\n",
       "      <th></th>\n",
       "      <th></th>\n",
       "      <th></th>\n",
       "      <th></th>\n",
       "      <th></th>\n",
       "    </tr>\n",
       "  </thead>\n",
       "  <tbody>\n",
       "    <tr>\n",
       "      <th>Bar</th>\n",
       "      <td>0.0</td>\n",
       "      <td>2818.89</td>\n",
       "      <td>2818.89</td>\n",
       "      <td>846.944148</td>\n",
       "      <td>705.175</td>\n",
       "      <td>495.129132</td>\n",
       "      <td>0.770010</td>\n",
       "      <td>-0.058511</td>\n",
       "    </tr>\n",
       "    <tr>\n",
       "      <th>Bilhar</th>\n",
       "      <td>0.0</td>\n",
       "      <td>1148.50</td>\n",
       "      <td>1148.50</td>\n",
       "      <td>256.662106</td>\n",
       "      <td>201.750</td>\n",
       "      <td>167.620423</td>\n",
       "      <td>1.079145</td>\n",
       "      <td>0.839472</td>\n",
       "    </tr>\n",
       "    <tr>\n",
       "      <th>Bomboniere</th>\n",
       "      <td>0.0</td>\n",
       "      <td>60.00</td>\n",
       "      <td>60.00</td>\n",
       "      <td>5.137465</td>\n",
       "      <td>3.150</td>\n",
       "      <td>6.582454</td>\n",
       "      <td>2.366338</td>\n",
       "      <td>9.185722</td>\n",
       "    </tr>\n",
       "    <tr>\n",
       "      <th>Cozinha</th>\n",
       "      <td>0.0</td>\n",
       "      <td>1646.80</td>\n",
       "      <td>1646.80</td>\n",
       "      <td>348.567641</td>\n",
       "      <td>273.100</td>\n",
       "      <td>263.213779</td>\n",
       "      <td>1.120238</td>\n",
       "      <td>1.098234</td>\n",
       "    </tr>\n",
       "    <tr>\n",
       "      <th>Gorjeta</th>\n",
       "      <td>0.0</td>\n",
       "      <td>315.10</td>\n",
       "      <td>315.10</td>\n",
       "      <td>69.641268</td>\n",
       "      <td>51.950</td>\n",
       "      <td>58.531207</td>\n",
       "      <td>1.004765</td>\n",
       "      <td>0.493660</td>\n",
       "    </tr>\n",
       "    <tr>\n",
       "      <th>Tabacaria</th>\n",
       "      <td>0.0</td>\n",
       "      <td>253.50</td>\n",
       "      <td>253.50</td>\n",
       "      <td>31.247415</td>\n",
       "      <td>22.000</td>\n",
       "      <td>34.210297</td>\n",
       "      <td>1.716588</td>\n",
       "      <td>3.878689</td>\n",
       "    </tr>\n",
       "    <tr>\n",
       "      <th>total</th>\n",
       "      <td>0.0</td>\n",
       "      <td>5284.59</td>\n",
       "      <td>5284.59</td>\n",
       "      <td>1558.200042</td>\n",
       "      <td>1268.600</td>\n",
       "      <td>934.057017</td>\n",
       "      <td>0.799043</td>\n",
       "      <td>-0.135486</td>\n",
       "    </tr>\n",
       "  </tbody>\n",
       "</table>\n",
       "</div>"
      ],
      "text/plain": [
       "            min      max    range         mean    median         std  \\\n",
       "class1                                                                 \n",
       "Bar         0.0  2818.89  2818.89   846.944148   705.175  495.129132   \n",
       "Bilhar      0.0  1148.50  1148.50   256.662106   201.750  167.620423   \n",
       "Bomboniere  0.0    60.00    60.00     5.137465     3.150    6.582454   \n",
       "Cozinha     0.0  1646.80  1646.80   348.567641   273.100  263.213779   \n",
       "Gorjeta     0.0   315.10   315.10    69.641268    51.950   58.531207   \n",
       "Tabacaria   0.0   253.50   253.50    31.247415    22.000   34.210297   \n",
       "total       0.0  5284.59  5284.59  1558.200042  1268.600  934.057017   \n",
       "\n",
       "                skew  kurtosis  \n",
       "class1                          \n",
       "Bar         0.770010 -0.058511  \n",
       "Bilhar      1.079145  0.839472  \n",
       "Bomboniere  2.366338  9.185722  \n",
       "Cozinha     1.120238  1.098234  \n",
       "Gorjeta     1.004765  0.493660  \n",
       "Tabacaria   1.716588  3.878689  \n",
       "total       0.799043 -0.135486  "
      ]
     },
     "execution_count": 15,
     "metadata": {},
     "output_type": "execute_result"
    }
   ],
   "source": [
    "# central tendency\n",
    "ct1 = pd.DataFrame(df1.apply(np.mean)).T\n",
    "ct2 = pd.DataFrame(df1.apply(np.median)).T\n",
    "# dispersion\n",
    "d1 = pd.DataFrame(df1.apply(np.std)).T\n",
    "d2 = pd.DataFrame(df1.apply(np.min)).T\n",
    "d3 = pd.DataFrame(df1.apply(np.max)).T\n",
    "d4 = pd.DataFrame(df1.apply(lambda x: x.max() - x.min())).T\n",
    "d5 = pd.DataFrame(df1.apply(lambda x: x.skew())).T\n",
    "d6 = pd.DataFrame(df1.apply(lambda x: x.kurtosis())).T\n",
    "\n",
    "# Concat\n",
    "temp = pd.concat([d2, d3, d4, ct1, ct2, d1, d5, d6]).T\n",
    "temp.columns = 'min max range mean median std skew kurtosis'.split()\n",
    "temp"
   ]
  },
  {
   "cell_type": "code",
   "execution_count": 16,
   "metadata": {
    "ExecuteTime": {
     "end_time": "2022-08-09T01:08:46.589704Z",
     "start_time": "2022-08-09T01:08:46.435101Z"
    },
    "hidden": true
   },
   "outputs": [
    {
     "data": {
      "image/png": "[encoded data removed]",
      "text/plain": [
       "<Figure size 432x288 with 1 Axes>"
      ]
     },
     "metadata": {
      "needs_background": "light"
     },
     "output_type": "display_data"
    }
   ],
   "source": [
    "sns.histplot(data=df1, x='total');"
   ]
  },
  {
   "cell_type": "markdown",
   "metadata": {
    "heading_collapsed": true
   },
   "source": [
    "# 2.0 Feature Engineering"
   ]
  },
  {
   "cell_type": "code",
   "execution_count": 17,
   "metadata": {
    "ExecuteTime": {
     "end_time": "2022-08-09T01:08:46.604935Z",
     "start_time": "2022-08-09T01:08:46.591630Z"
    },
    "hidden": true
   },
   "outputs": [],
   "source": [
    "df2 = df1.copy()"
   ]
  },
  {
   "cell_type": "code",
   "execution_count": 18,
   "metadata": {
    "ExecuteTime": {
     "end_time": "2022-08-09T01:08:46.635965Z",
     "start_time": "2022-08-09T01:08:46.606911Z"
    },
    "hidden": true
   },
   "outputs": [],
   "source": [
    "# Day of week\n",
    "df2 = df2.resample('d').sum()\n",
    "df2['day_of_week'] = df2.index.day_name()\n",
    "remover = df2.loc[df2['day_of_week']=='Monday'].index\n",
    "df2.drop(remover, axis=0, inplace=True)\n",
    "\n",
    "# Shifted values\n",
    "df2['shift_1'] = df2['total'].shift(1)\n",
    "df2['shift_2'] = df2['total'].shift(2)\n",
    "df2['shift_3'] = df2['total'].shift(3)\n",
    "df2['shift_5'] = df2['total'].shift(5)\n",
    "df2['shift_6'] = df2['total'].shift(6)\n",
    "df2['shift_11'] = df2['total'].shift(11)\n",
    "df2['shift_12'] = df2['total'].shift(12)\n",
    "shifteds = 'shift_1 shift_2 shift_3 shift_5 shift_6 shift_11 shift_12'.split()\n",
    "\n",
    "# day_of_month\n",
    "df2['day_of_month'] = df2.index.day\n",
    "\n",
    "# month\n",
    "df2['month'] = df2.index.month"
   ]
  },
  {
   "cell_type": "markdown",
   "metadata": {
    "heading_collapsed": true
   },
   "source": [
    "# 3.0 Business Hypothesis"
   ]
  },
  {
   "cell_type": "code",
   "execution_count": 19,
   "metadata": {
    "ExecuteTime": {
     "end_time": "2022-08-09T01:08:46.652083Z",
     "start_time": "2022-08-09T01:08:46.637800Z"
    },
    "hidden": true
   },
   "outputs": [],
   "source": [
    "df3 = df2.copy()"
   ]
  },
  {
   "cell_type": "markdown",
   "metadata": {
    "heading_collapsed": true
   },
   "source": [
    "# 4.0 Exploratory Data Analysis "
   ]
  },
  {
   "cell_type": "code",
   "execution_count": 20,
   "metadata": {
    "ExecuteTime": {
     "end_time": "2022-08-09T01:08:46.666886Z",
     "start_time": "2022-08-09T01:08:46.654014Z"
    },
    "hidden": true
   },
   "outputs": [],
   "source": [
    "df4 = df3.copy()"
   ]
  },
  {
   "cell_type": "markdown",
   "metadata": {
    "heading_collapsed": true,
    "hidden": true
   },
   "source": [
    "## 4.1 Univariate Analysis"
   ]
  },
  {
   "cell_type": "markdown",
   "metadata": {
    "heading_collapsed": true,
    "hidden": true
   },
   "source": [
    "### 4.1.1 Total"
   ]
  },
  {
   "cell_type": "code",
   "execution_count": 21,
   "metadata": {
    "ExecuteTime": {
     "end_time": "2022-08-09T01:08:46.792093Z",
     "start_time": "2022-08-09T01:08:46.669095Z"
    },
    "hidden": true
   },
   "outputs": [
    {
     "data": {
      "image/png": "[encoded data removed]",
      "text/plain": [
       "<Figure size 432x288 with 1 Axes>"
      ]
     },
     "metadata": {
      "needs_background": "light"
     },
     "output_type": "display_data"
    }
   ],
   "source": [
    "sns.histplot(data=df4, x='total');"
   ]
  },
  {
   "cell_type": "markdown",
   "metadata": {
    "heading_collapsed": true,
    "hidden": true
   },
   "source": [
    "## 4.2 Bivariate Analysis"
   ]
  },
  {
   "cell_type": "code",
   "execution_count": 22,
   "metadata": {
    "ExecuteTime": {
     "end_time": "2022-08-09T01:08:46.807494Z",
     "start_time": "2022-08-09T01:08:46.794091Z"
    },
    "hidden": true
   },
   "outputs": [],
   "source": [
    "df4 = df3.copy()"
   ]
  },
  {
   "cell_type": "markdown",
   "metadata": {
    "heading_collapsed": true,
    "hidden": true
   },
   "source": [
    "### 4.2.1 Amount by the Time"
   ]
  },
  {
   "cell_type": "markdown",
   "metadata": {
    "heading_collapsed": true,
    "hidden": true
   },
   "source": [
    "#### 4.2.1.1 Decompose"
   ]
  },
  {
   "cell_type": "code",
   "execution_count": 23,
   "metadata": {
    "ExecuteTime": {
     "end_time": "2022-08-09T01:08:47.152535Z",
     "start_time": "2022-08-09T01:08:46.809420Z"
    },
    "hidden": true,
    "scrolled": false
   },
   "outputs": [
    {
     "data": {
      "image/png": "[encoded data removed]",
      "text/plain": [
       "<Figure size 1152x720 with 3 Axes>"
      ]
     },
     "metadata": {},
     "output_type": "display_data"
    }
   ],
   "source": [
    "decomp = seasonal_decompose(df4['total'], period=6)\n",
    "\n",
    "plt.figure(figsize=(16, 10))\n",
    "plt.subplots_adjust(hspace = 0.8)\n",
    "plt.subplot(4, 1, 1)\n",
    "ax = decomp.observed.plot()\n",
    "ax.tick_params(bottom=False, labelbottom=False, labelleft=False, left=False)\n",
    "plt.title('Original', fontsize=16)\n",
    "plt.xlabel('')\n",
    "plt.subplot(4, 1, 2)\n",
    "ax = decomp.seasonal[-30:].plot()\n",
    "ax.tick_params(bottom=False, labelbottom=False, labelleft=False, left=False)\n",
    "plt.title('Sazonalidade Semanal', fontsize=16)\n",
    "plt.xlabel('')\n",
    "plt.subplot(4, 1, 3)\n",
    "ax = decomp.trend.plot()\n",
    "ax.tick_params(bottom=False, labelbottom=False, labelleft=False, left=False)\n",
    "plt.title('Tendência', fontsize=16)\n",
    "sns.despine(left=True, bottom=True)\n",
    "plt.xlabel('');"
   ]
  },
  {
   "cell_type": "markdown",
   "metadata": {
    "hidden": true
   },
   "source": [
    "* Sazonalidades semanais bem definidas.\n",
    "* A tendência foi afetada pelo período sem funcionamento, causado pela Covid 19"
   ]
  },
  {
   "cell_type": "markdown",
   "metadata": {
    "heading_collapsed": true,
    "hidden": true
   },
   "source": [
    "#### 4.2.1.2 Autocorrelation"
   ]
  },
  {
   "cell_type": "code",
   "execution_count": 24,
   "metadata": {
    "ExecuteTime": {
     "end_time": "2022-08-09T01:08:47.447947Z",
     "start_time": "2022-08-09T01:08:47.154538Z"
    },
    "hidden": true,
    "scrolled": false
   },
   "outputs": [
    {
     "name": "stderr",
     "output_type": "stream",
     "text": [
      "D:\\My Drive\\Pessoal\\environments\\data_science\\lib\\site-packages\\statsmodels\\graphics\\tsaplots.py:348: FutureWarning: The default method 'yw' can produce PACF values outside of the [-1,1] interval. After 0.13, the default will change tounadjusted Yule-Walker ('ywm'). You can use this method now by setting method='ywm'.\n",
      "  warnings.warn(\n"
     ]
    },
    {
     "data": {
      "image/png": "[encoded data removed]",
      "text/plain": [
       "<Figure size 864x576 with 2 Axes>"
      ]
     },
     "metadata": {
      "needs_background": "light"
     },
     "output_type": "display_data"
    }
   ],
   "source": [
    "fig = plt.figure(figsize=(12, 8))\n",
    "ax1 = fig.add_subplot(211)\n",
    "fig = plot_acf(df4['total'] , lags=20, ax=ax1)\n",
    "ax2 = fig.add_subplot(212)\n",
    "fig = plot_pacf(df4['total'] , lags=20, ax=ax2)"
   ]
  },
  {
   "cell_type": "markdown",
   "metadata": {
    "hidden": true
   },
   "source": [
    "Há autocorrelação com uma boa margem de confiança os lags 1, 2, 3, 5, 6, 11 e 12 (o 4 não está incluso)"
   ]
  },
  {
   "cell_type": "markdown",
   "metadata": {
    "heading_collapsed": true,
    "hidden": true
   },
   "source": [
    "#### 4.2.1.3 Weekly Sales"
   ]
  },
  {
   "cell_type": "code",
   "execution_count": 25,
   "metadata": {
    "ExecuteTime": {
     "end_time": "2022-08-09T01:08:47.620116Z",
     "start_time": "2022-08-09T01:08:47.450865Z"
    },
    "hidden": true,
    "scrolled": false
   },
   "outputs": [
    {
     "data": {
      "image/png": "[encoded data removed]",
      "text/plain": [
       "<Figure size 1440x360 with 1 Axes>"
      ]
     },
     "metadata": {
      "needs_background": "light"
     },
     "output_type": "display_data"
    }
   ],
   "source": [
    "plt.figure(figsize=(20, 5))\n",
    "df4.resample('w').sum()['total'].plot()\n",
    "plt.title('Weekly Sales', fontsize=25)\n",
    "plt.xlabel('Weekly', fontsize=20)\n",
    "plt.ylabel('Total Amount', fontsize=20)\n",
    "sns.despine();"
   ]
  },
  {
   "cell_type": "markdown",
   "metadata": {
    "heading_collapsed": true,
    "hidden": true
   },
   "source": [
    "#### 4.2.1.4 Monthly Sales"
   ]
  },
  {
   "cell_type": "code",
   "execution_count": 26,
   "metadata": {
    "ExecuteTime": {
     "end_time": "2022-08-09T01:08:47.790615Z",
     "start_time": "2022-08-09T01:08:47.624105Z"
    },
    "hidden": true,
    "scrolled": false
   },
   "outputs": [
    {
     "data": {
      "image/png": "[encoded data removed]",
      "text/plain": [
       "<Figure size 1440x360 with 1 Axes>"
      ]
     },
     "metadata": {
      "needs_background": "light"
     },
     "output_type": "display_data"
    }
   ],
   "source": [
    "plt.figure(figsize=(20, 5))\n",
    "df4.resample('m').sum().iloc[:-1]['total'].plot()\n",
    "plt.title('Monthly Sales', fontsize=25)\n",
    "plt.xlabel('Monthly', fontsize=20)\n",
    "plt.ylabel('Total Amount', fontsize=20)\n",
    "sns.despine();"
   ]
  },
  {
   "cell_type": "markdown",
   "metadata": {
    "heading_collapsed": true,
    "hidden": true
   },
   "source": [
    "### 4.2.2 Amount by the Class"
   ]
  },
  {
   "cell_type": "code",
   "execution_count": 27,
   "metadata": {
    "ExecuteTime": {
     "end_time": "2022-08-09T01:08:47.821603Z",
     "start_time": "2022-08-09T01:08:47.793613Z"
    },
    "hidden": true
   },
   "outputs": [],
   "source": [
    "temp = df4['2022-07-01':'2022-07-31']\n",
    "\n",
    "temp = np.sum(temp[['Bar', 'Bilhar', 'Bomboniere', 'Cozinha', 'Gorjeta', 'Tabacaria']], axis=0)\n",
    "temp = pd.DataFrame(temp, columns=['amount']).reset_index().sort_values('amount', ascending=False)"
   ]
  },
  {
   "cell_type": "code",
   "execution_count": 28,
   "metadata": {
    "ExecuteTime": {
     "end_time": "2022-08-09T01:08:47.853413Z",
     "start_time": "2022-08-09T01:08:47.831634Z"
    },
    "hidden": true
   },
   "outputs": [
    {
     "data": {
      "text/html": [
       "<div>\n",
       "<style scoped>\n",
       "    .dataframe tbody tr th:only-of-type {\n",
       "        vertical-align: middle;\n",
       "    }\n",
       "\n",
       "    .dataframe tbody tr th {\n",
       "        vertical-align: top;\n",
       "    }\n",
       "\n",
       "    .dataframe thead th {\n",
       "        text-align: right;\n",
       "    }\n",
       "</style>\n",
       "<table border=\"1\" class=\"dataframe\">\n",
       "  <thead>\n",
       "    <tr style=\"text-align: right;\">\n",
       "      <th></th>\n",
       "      <th>class1</th>\n",
       "      <th>amount</th>\n",
       "    </tr>\n",
       "  </thead>\n",
       "  <tbody>\n",
       "    <tr>\n",
       "      <th>0</th>\n",
       "      <td>Bar</td>\n",
       "      <td>29451.93</td>\n",
       "    </tr>\n",
       "    <tr>\n",
       "      <th>3</th>\n",
       "      <td>Cozinha</td>\n",
       "      <td>13302.00</td>\n",
       "    </tr>\n",
       "    <tr>\n",
       "      <th>1</th>\n",
       "      <td>Bilhar</td>\n",
       "      <td>9758.50</td>\n",
       "    </tr>\n",
       "    <tr>\n",
       "      <th>4</th>\n",
       "      <td>Gorjeta</td>\n",
       "      <td>3658.20</td>\n",
       "    </tr>\n",
       "    <tr>\n",
       "      <th>5</th>\n",
       "      <td>Tabacaria</td>\n",
       "      <td>514.08</td>\n",
       "    </tr>\n",
       "    <tr>\n",
       "      <th>2</th>\n",
       "      <td>Bomboniere</td>\n",
       "      <td>101.50</td>\n",
       "    </tr>\n",
       "  </tbody>\n",
       "</table>\n",
       "</div>"
      ],
      "text/plain": [
       "       class1    amount\n",
       "0         Bar  29451.93\n",
       "3     Cozinha  13302.00\n",
       "1      Bilhar   9758.50\n",
       "4     Gorjeta   3658.20\n",
       "5   Tabacaria    514.08\n",
       "2  Bomboniere    101.50"
      ]
     },
     "execution_count": 28,
     "metadata": {},
     "output_type": "execute_result"
    }
   ],
   "source": [
    "temp"
   ]
  },
  {
   "cell_type": "code",
   "execution_count": 29,
   "metadata": {
    "ExecuteTime": {
     "end_time": "2022-08-09T01:08:48.009554Z",
     "start_time": "2022-08-09T01:08:47.855391Z"
    },
    "hidden": true,
    "scrolled": false
   },
   "outputs": [
    {
     "data": {
      "image/png": "[encoded data removed]",
      "text/plain": [
       "<Figure size 1080x360 with 1 Axes>"
      ]
     },
     "metadata": {
      "needs_background": "light"
     },
     "output_type": "display_data"
    }
   ],
   "source": [
    "sns.catplot(data=temp, x='class1', y='amount', kind='bar', aspect=3)\n",
    "plt.title('Amount by the Class', fontsize=25)\n",
    "plt.xlabel('Class', fontsize=20)\n",
    "plt.ylabel('Total Amount', fontsize=20)\n",
    "sns.despine();"
   ]
  },
  {
   "cell_type": "markdown",
   "metadata": {
    "heading_collapsed": true,
    "hidden": true
   },
   "source": [
    "## 4.3 Multivariate Analysis"
   ]
  },
  {
   "cell_type": "markdown",
   "metadata": {
    "heading_collapsed": true,
    "hidden": true
   },
   "source": [
    "### 4.3.1 Amount by the Class and Time"
   ]
  },
  {
   "cell_type": "code",
   "execution_count": 30,
   "metadata": {
    "ExecuteTime": {
     "end_time": "2022-08-09T01:08:48.686230Z",
     "start_time": "2022-08-09T01:08:48.012475Z"
    },
    "hidden": true
   },
   "outputs": [
    {
     "data": {
      "image/png": "[encoded data removed]",
      "text/plain": [
       "<Figure size 1440x720 with 4 Axes>"
      ]
     },
     "metadata": {
      "needs_background": "light"
     },
     "output_type": "display_data"
    }
   ],
   "source": [
    "class_1 = ['Bar', 'Bilhar', 'Cozinha', 'Gorjeta']\n",
    "\n",
    "temp = df4.resample('w')[class_1].sum().iloc[-52:-1]\n",
    "\n",
    "for i, j in enumerate(class_1):\n",
    "    plt.subplots_adjust(hspace=0.5)\n",
    "    plt.subplot(2, 2, i+1)\n",
    "    temp[j].plot(figsize=(20, 10))\n",
    "    plt.xlabel('')\n",
    "    plt.title(j, fontsize=25)\n",
    "    sns.despine();"
   ]
  },
  {
   "cell_type": "markdown",
   "metadata": {
    "heading_collapsed": true
   },
   "source": [
    "# 5.0 Data Filtering"
   ]
  },
  {
   "cell_type": "code",
   "execution_count": 31,
   "metadata": {
    "ExecuteTime": {
     "end_time": "2022-08-09T01:08:48.701672Z",
     "start_time": "2022-08-09T01:08:48.691168Z"
    },
    "hidden": true
   },
   "outputs": [],
   "source": [
    "df5 = df4.copy()"
   ]
  },
  {
   "cell_type": "code",
   "execution_count": 32,
   "metadata": {
    "ExecuteTime": {
     "end_time": "2022-08-09T01:08:48.717018Z",
     "start_time": "2022-08-09T01:08:48.704839Z"
    },
    "hidden": true
   },
   "outputs": [],
   "source": [
    "# rows\n",
    "df5.dropna(inplace=True)\n",
    "\n",
    "# columns\n",
    "cols_filtering = ['Bar', 'Bilhar', 'Bomboniere', 'Cozinha', 'Gorjeta', 'Tabacaria']\n",
    "df5.drop(cols_filtering, axis=1, inplace=True)"
   ]
  },
  {
   "cell_type": "markdown",
   "metadata": {
    "heading_collapsed": true
   },
   "source": [
    "# 6.0 Data Preparation"
   ]
  },
  {
   "cell_type": "code",
   "execution_count": 33,
   "metadata": {
    "ExecuteTime": {
     "end_time": "2022-08-09T01:08:48.732995Z",
     "start_time": "2022-08-09T01:08:48.720121Z"
    },
    "hidden": true
   },
   "outputs": [],
   "source": [
    "df6 = df5.copy()"
   ]
  },
  {
   "cell_type": "markdown",
   "metadata": {
    "heading_collapsed": true,
    "hidden": true
   },
   "source": [
    "## 6.1 Normalization"
   ]
  },
  {
   "cell_type": "code",
   "execution_count": null,
   "metadata": {
    "ExecuteTime": {
     "end_time": "2022-08-08T23:42:18.786670Z",
     "start_time": "2022-08-08T23:42:18.781130Z"
    },
    "hidden": true
   },
   "outputs": [],
   "source": []
  },
  {
   "cell_type": "markdown",
   "metadata": {
    "heading_collapsed": true,
    "hidden": true
   },
   "source": [
    "## 6.2 Rescaling"
   ]
  },
  {
   "cell_type": "code",
   "execution_count": 34,
   "metadata": {
    "ExecuteTime": {
     "end_time": "2022-08-09T01:08:48.748425Z",
     "start_time": "2022-08-09T01:08:48.735574Z"
    },
    "hidden": true
   },
   "outputs": [],
   "source": [
    "# shifts all\n",
    "shift_list = [1, 2, 3, 5, 6, 11, 12]\n",
    "\n",
    "for i in shift_list:\n",
    "    df6[f'shift_{i}'] = np.log1p(df6[f'shift_{i}'])"
   ]
  },
  {
   "cell_type": "markdown",
   "metadata": {
    "heading_collapsed": true,
    "hidden": true
   },
   "source": [
    "## 6.3 Response Variable"
   ]
  },
  {
   "cell_type": "code",
   "execution_count": 35,
   "metadata": {
    "ExecuteTime": {
     "end_time": "2022-08-09T01:08:48.764288Z",
     "start_time": "2022-08-09T01:08:48.750386Z"
    },
    "hidden": true
   },
   "outputs": [],
   "source": [
    "# total\n",
    "df6['total'] = np.log1p(df6['total'])"
   ]
  },
  {
   "cell_type": "markdown",
   "metadata": {
    "heading_collapsed": true,
    "hidden": true
   },
   "source": [
    "## 6.4 Transformations"
   ]
  },
  {
   "cell_type": "markdown",
   "metadata": {
    "heading_collapsed": true,
    "hidden": true
   },
   "source": [
    "### 6.4.1 Encodings"
   ]
  },
  {
   "cell_type": "code",
   "execution_count": 36,
   "metadata": {
    "ExecuteTime": {
     "end_time": "2022-08-09T01:08:48.779582Z",
     "start_time": "2022-08-09T01:08:48.766302Z"
    },
    "hidden": true
   },
   "outputs": [],
   "source": [
    "# day_of_week\n",
    "map_day_of_week = df6.groupby('day_of_week').agg({'total':'mean'})['total']\n",
    "df6['day_of_week'] = df6['day_of_week'].map(map_day_of_week)"
   ]
  },
  {
   "cell_type": "markdown",
   "metadata": {
    "heading_collapsed": true,
    "hidden": true
   },
   "source": [
    "### 6.4.2 Nature Transformations"
   ]
  },
  {
   "cell_type": "code",
   "execution_count": 37,
   "metadata": {
    "ExecuteTime": {
     "end_time": "2022-08-09T01:08:48.826407Z",
     "start_time": "2022-08-09T01:08:48.780878Z"
    },
    "hidden": true
   },
   "outputs": [],
   "source": [
    "# day_of_month\n",
    "cicle_day_of_month = df6['day_of_month'].max() - df6['day_of_month'].min()\n",
    "df6['day_of_month_sin'] = df6['day_of_month'].apply(lambda x: np.sin(x*(2*np.pi/cicle_day_of_month)))\n",
    "df6['day_of_month_cos'] = df6['day_of_month'].apply(lambda x: np.cos(x*(2*np.pi/cicle_day_of_month)))\n",
    "df6.drop('day_of_month', inplace=True, axis=1)\n",
    "\n",
    "# month\n",
    "cicle_month = df6['month'].max() - df6['month'].min()\n",
    "df6['month'] = df6['month'].apply(lambda x: np.sin(x*(2*np.pi/cicle_day_of_month)))\n",
    "df6['month'] = df6['month'].apply(lambda x: np.cos(x*(2*np.pi/cicle_day_of_month)))\n",
    "df6.drop('month', inplace=True, axis=1)"
   ]
  },
  {
   "cell_type": "markdown",
   "metadata": {
    "heading_collapsed": true,
    "hidden": true
   },
   "source": [
    "## 6.5 Splits"
   ]
  },
  {
   "cell_type": "code",
   "execution_count": 38,
   "metadata": {
    "ExecuteTime": {
     "end_time": "2022-08-09T01:08:48.856759Z",
     "start_time": "2022-08-09T01:08:48.829105Z"
    },
    "hidden": true
   },
   "outputs": [],
   "source": [
    "# train and validation\n",
    "X_train = df6.loc[df6.index < df6.index.max() - pd.Timedelta(15, 'd')].drop('total', axis=1).values\n",
    "y_train = df6.loc[df6.index < df6.index.max() - pd.Timedelta(15, 'd'), 'total'].values.ravel()\n",
    "\n",
    "X_test = df6.loc[df6.index >= df6.index.max() - pd.Timedelta(15, 'd')].drop('total', axis=1).values\n",
    "y_test = df6.loc[df6.index >= df6.index.max() - pd.Timedelta(15, 'd'), 'total'].values.ravel()"
   ]
  },
  {
   "cell_type": "markdown",
   "metadata": {
    "heading_collapsed": true
   },
   "source": [
    "# 7.0 Feature Selection"
   ]
  },
  {
   "cell_type": "code",
   "execution_count": 39,
   "metadata": {
    "ExecuteTime": {
     "end_time": "2022-08-09T01:08:48.871991Z",
     "start_time": "2022-08-09T01:08:48.859933Z"
    },
    "hidden": true
   },
   "outputs": [],
   "source": [
    "df7 = df6.copy()"
   ]
  },
  {
   "cell_type": "markdown",
   "metadata": {
    "heading_collapsed": true
   },
   "source": [
    "# 8.0 Machine Learning Modeling"
   ]
  },
  {
   "cell_type": "code",
   "execution_count": 40,
   "metadata": {
    "ExecuteTime": {
     "end_time": "2022-08-09T01:08:48.887352Z",
     "start_time": "2022-08-09T01:08:48.875050Z"
    },
    "hidden": true
   },
   "outputs": [],
   "source": [
    "df8 = df7.copy()"
   ]
  },
  {
   "cell_type": "markdown",
   "metadata": {
    "heading_collapsed": true,
    "hidden": true
   },
   "source": [
    "## 8.1 Linear Regression"
   ]
  },
  {
   "cell_type": "code",
   "execution_count": 41,
   "metadata": {
    "ExecuteTime": {
     "end_time": "2022-08-09T01:08:48.903009Z",
     "start_time": "2022-08-09T01:08:48.889291Z"
    },
    "hidden": true
   },
   "outputs": [
    {
     "name": "stdout",
     "output_type": "stream",
     "text": [
      "MAE: 377.0064076111958\n",
      "MAPE: 0.2267104524754934\n",
      "RMSE: 527.6699087203334\n"
     ]
    }
   ],
   "source": [
    "# model definition\n",
    "lr_model = LinearRegression()\n",
    "\n",
    "# fiting model\n",
    "lr_fit = lr_model.fit(X_train, y_train)\n",
    "\n",
    "# predicting\n",
    "y_hat = lr_fit.predict(X_test)\n",
    "\n",
    "# metrics\n",
    "metrics(y_test, y_hat)"
   ]
  },
  {
   "cell_type": "markdown",
   "metadata": {
    "heading_collapsed": true,
    "hidden": true
   },
   "source": [
    "### 8.1.1 Cross Validation"
   ]
  },
  {
   "cell_type": "code",
   "execution_count": 42,
   "metadata": {
    "ExecuteTime": {
     "end_time": "2022-08-09T01:08:48.949329Z",
     "start_time": "2022-08-09T01:08:48.904996Z"
    },
    "hidden": true
   },
   "outputs": [
    {
     "data": {
      "text/html": [
       "<div>\n",
       "<style scoped>\n",
       "    .dataframe tbody tr th:only-of-type {\n",
       "        vertical-align: middle;\n",
       "    }\n",
       "\n",
       "    .dataframe tbody tr th {\n",
       "        vertical-align: top;\n",
       "    }\n",
       "\n",
       "    .dataframe thead th {\n",
       "        text-align: right;\n",
       "    }\n",
       "</style>\n",
       "<table border=\"1\" class=\"dataframe\">\n",
       "  <thead>\n",
       "    <tr style=\"text-align: right;\">\n",
       "      <th></th>\n",
       "      <th>MAE</th>\n",
       "      <th>MAPE</th>\n",
       "      <th>RMSE</th>\n",
       "    </tr>\n",
       "  </thead>\n",
       "  <tbody>\n",
       "    <tr>\n",
       "      <th>Fold: 5</th>\n",
       "      <td>563.931901</td>\n",
       "      <td>0.303876</td>\n",
       "      <td>718.441375</td>\n",
       "    </tr>\n",
       "    <tr>\n",
       "      <th>Fold: 4</th>\n",
       "      <td>559.62132</td>\n",
       "      <td>0.343797</td>\n",
       "      <td>721.719673</td>\n",
       "    </tr>\n",
       "    <tr>\n",
       "      <th>Fold: 3</th>\n",
       "      <td>505.946857</td>\n",
       "      <td>0.323148</td>\n",
       "      <td>674.859819</td>\n",
       "    </tr>\n",
       "    <tr>\n",
       "      <th>Fold: 2</th>\n",
       "      <td>582.00827</td>\n",
       "      <td>0.399895</td>\n",
       "      <td>764.957575</td>\n",
       "    </tr>\n",
       "    <tr>\n",
       "      <th>Fold: 1</th>\n",
       "      <td>536.274535</td>\n",
       "      <td>0.271333</td>\n",
       "      <td>708.136868</td>\n",
       "    </tr>\n",
       "    <tr>\n",
       "      <th>mean_and_std</th>\n",
       "      <td>549.56 +/- 26.23</td>\n",
       "      <td>0.33 +/- 0.04</td>\n",
       "      <td>717.62 +/- 28.9</td>\n",
       "    </tr>\n",
       "  </tbody>\n",
       "</table>\n",
       "</div>"
      ],
      "text/plain": [
       "                           MAE           MAPE             RMSE\n",
       "Fold: 5             563.931901       0.303876       718.441375\n",
       "Fold: 4              559.62132       0.343797       721.719673\n",
       "Fold: 3             505.946857       0.323148       674.859819\n",
       "Fold: 2              582.00827       0.399895       764.957575\n",
       "Fold: 1             536.274535       0.271333       708.136868\n",
       "mean_and_std  549.56 +/- 26.23  0.33 +/- 0.04  717.62 +/- 28.9"
      ]
     },
     "execution_count": 42,
     "metadata": {},
     "output_type": "execute_result"
    }
   ],
   "source": [
    "error = pd.DataFrame()\n",
    "error, lr_cross_validation_metrics = cross_validation(df7, error, 5, 'Linear Regression', lr_model)\n",
    "\n",
    "lr_cross_validation_metrics.T"
   ]
  },
  {
   "cell_type": "markdown",
   "metadata": {
    "heading_collapsed": true,
    "hidden": true
   },
   "source": [
    "## 8.2 Lasso"
   ]
  },
  {
   "cell_type": "code",
   "execution_count": 43,
   "metadata": {
    "ExecuteTime": {
     "end_time": "2022-08-09T01:08:48.965359Z",
     "start_time": "2022-08-09T01:08:48.951323Z"
    },
    "hidden": true
   },
   "outputs": [
    {
     "name": "stdout",
     "output_type": "stream",
     "text": [
      "MAE: 739.7368738719458\n",
      "MAPE: 0.444836156634425\n",
      "RMSE: 994.6480307766603\n"
     ]
    }
   ],
   "source": [
    "# model definition\n",
    "lasso_model = Lasso()\n",
    "\n",
    "# fiting model\n",
    "lasso_fit = lasso_model.fit(X_train, y_train)\n",
    "\n",
    "# predicting\n",
    "y_hat = lasso_fit.predict(X_test)\n",
    "\n",
    "# metrics\n",
    "metrics(y_test, y_hat)"
   ]
  },
  {
   "cell_type": "markdown",
   "metadata": {
    "heading_collapsed": true,
    "hidden": true
   },
   "source": [
    "### 8.2.1 Cross Validation"
   ]
  },
  {
   "cell_type": "code",
   "execution_count": 44,
   "metadata": {
    "ExecuteTime": {
     "end_time": "2022-08-09T01:08:49.011357Z",
     "start_time": "2022-08-09T01:08:48.966478Z"
    },
    "hidden": true
   },
   "outputs": [
    {
     "data": {
      "text/html": [
       "<div>\n",
       "<style scoped>\n",
       "    .dataframe tbody tr th:only-of-type {\n",
       "        vertical-align: middle;\n",
       "    }\n",
       "\n",
       "    .dataframe tbody tr th {\n",
       "        vertical-align: top;\n",
       "    }\n",
       "\n",
       "    .dataframe thead th {\n",
       "        text-align: right;\n",
       "    }\n",
       "</style>\n",
       "<table border=\"1\" class=\"dataframe\">\n",
       "  <thead>\n",
       "    <tr style=\"text-align: right;\">\n",
       "      <th></th>\n",
       "      <th>MAE</th>\n",
       "      <th>MAPE</th>\n",
       "      <th>RMSE</th>\n",
       "    </tr>\n",
       "  </thead>\n",
       "  <tbody>\n",
       "    <tr>\n",
       "      <th>Fold: 5</th>\n",
       "      <td>851.082403</td>\n",
       "      <td>0.404473</td>\n",
       "      <td>1098.736271</td>\n",
       "    </tr>\n",
       "    <tr>\n",
       "      <th>Fold: 4</th>\n",
       "      <td>731.034101</td>\n",
       "      <td>0.395119</td>\n",
       "      <td>1025.250467</td>\n",
       "    </tr>\n",
       "    <tr>\n",
       "      <th>Fold: 3</th>\n",
       "      <td>846.614075</td>\n",
       "      <td>0.451543</td>\n",
       "      <td>1076.740931</td>\n",
       "    </tr>\n",
       "    <tr>\n",
       "      <th>Fold: 2</th>\n",
       "      <td>900.857918</td>\n",
       "      <td>0.501473</td>\n",
       "      <td>1182.971655</td>\n",
       "    </tr>\n",
       "    <tr>\n",
       "      <th>Fold: 1</th>\n",
       "      <td>860.908963</td>\n",
       "      <td>0.370048</td>\n",
       "      <td>1154.665368</td>\n",
       "    </tr>\n",
       "    <tr>\n",
       "      <th>mean_and_std</th>\n",
       "      <td>838.1 +/- 56.86</td>\n",
       "      <td>0.42 +/- 0.05</td>\n",
       "      <td>1107.67 +/- 56.05</td>\n",
       "    </tr>\n",
       "  </tbody>\n",
       "</table>\n",
       "</div>"
      ],
      "text/plain": [
       "                          MAE           MAPE               RMSE\n",
       "Fold: 5            851.082403       0.404473        1098.736271\n",
       "Fold: 4            731.034101       0.395119        1025.250467\n",
       "Fold: 3            846.614075       0.451543        1076.740931\n",
       "Fold: 2            900.857918       0.501473        1182.971655\n",
       "Fold: 1            860.908963       0.370048        1154.665368\n",
       "mean_and_std  838.1 +/- 56.86  0.42 +/- 0.05  1107.67 +/- 56.05"
      ]
     },
     "execution_count": 44,
     "metadata": {},
     "output_type": "execute_result"
    }
   ],
   "source": [
    "error, lr_cross_validation_metrics = cross_validation(df7, error, 5, 'Lasso', lasso_model)\n",
    "\n",
    "lr_cross_validation_metrics.T"
   ]
  },
  {
   "cell_type": "markdown",
   "metadata": {
    "heading_collapsed": true,
    "hidden": true
   },
   "source": [
    "## 8.3 Random Forest"
   ]
  },
  {
   "cell_type": "code",
   "execution_count": 45,
   "metadata": {
    "ExecuteTime": {
     "end_time": "2022-08-09T01:08:51.500881Z",
     "start_time": "2022-08-09T01:08:49.013328Z"
    },
    "hidden": true
   },
   "outputs": [
    {
     "name": "stdout",
     "output_type": "stream",
     "text": [
      "MAE: 552.8673499845264\n",
      "MAPE: 0.332463333629019\n",
      "RMSE: 665.6467424210002\n"
     ]
    }
   ],
   "source": [
    "# model definition\n",
    "rf_model = RandomForestRegressor(n_estimators=1000, max_depth=3)\n",
    "\n",
    "# fiting model\n",
    "rf_fit = rf_model.fit(X_train, y_train)\n",
    "\n",
    "# predicting\n",
    "y_hat = rf_fit.predict(X_test)\n",
    "\n",
    "# metrics\n",
    "metrics(y_test, y_hat)"
   ]
  },
  {
   "cell_type": "markdown",
   "metadata": {
    "heading_collapsed": true,
    "hidden": true
   },
   "source": [
    "### 8.3.1 Cross Validation"
   ]
  },
  {
   "cell_type": "code",
   "execution_count": 46,
   "metadata": {
    "ExecuteTime": {
     "end_time": "2022-08-09T01:09:02.887161Z",
     "start_time": "2022-08-09T01:08:51.504874Z"
    },
    "hidden": true
   },
   "outputs": [
    {
     "data": {
      "text/html": [
       "<div>\n",
       "<style scoped>\n",
       "    .dataframe tbody tr th:only-of-type {\n",
       "        vertical-align: middle;\n",
       "    }\n",
       "\n",
       "    .dataframe tbody tr th {\n",
       "        vertical-align: top;\n",
       "    }\n",
       "\n",
       "    .dataframe thead th {\n",
       "        text-align: right;\n",
       "    }\n",
       "</style>\n",
       "<table border=\"1\" class=\"dataframe\">\n",
       "  <thead>\n",
       "    <tr style=\"text-align: right;\">\n",
       "      <th></th>\n",
       "      <th>MAE</th>\n",
       "      <th>MAPE</th>\n",
       "      <th>RMSE</th>\n",
       "    </tr>\n",
       "  </thead>\n",
       "  <tbody>\n",
       "    <tr>\n",
       "      <th>Fold: 5</th>\n",
       "      <td>723.594299</td>\n",
       "      <td>0.354449</td>\n",
       "      <td>883.184857</td>\n",
       "    </tr>\n",
       "    <tr>\n",
       "      <th>Fold: 4</th>\n",
       "      <td>546.007887</td>\n",
       "      <td>0.317211</td>\n",
       "      <td>715.13588</td>\n",
       "    </tr>\n",
       "    <tr>\n",
       "      <th>Fold: 3</th>\n",
       "      <td>653.524717</td>\n",
       "      <td>0.343911</td>\n",
       "      <td>819.594446</td>\n",
       "    </tr>\n",
       "    <tr>\n",
       "      <th>Fold: 2</th>\n",
       "      <td>764.261855</td>\n",
       "      <td>0.444937</td>\n",
       "      <td>938.049549</td>\n",
       "    </tr>\n",
       "    <tr>\n",
       "      <th>Fold: 1</th>\n",
       "      <td>663.800352</td>\n",
       "      <td>0.306422</td>\n",
       "      <td>813.403784</td>\n",
       "    </tr>\n",
       "    <tr>\n",
       "      <th>mean_and_std</th>\n",
       "      <td>670.24 +/- 74.08</td>\n",
       "      <td>0.35 +/- 0.05</td>\n",
       "      <td>833.87 +/- 74.84</td>\n",
       "    </tr>\n",
       "  </tbody>\n",
       "</table>\n",
       "</div>"
      ],
      "text/plain": [
       "                           MAE           MAPE              RMSE\n",
       "Fold: 5             723.594299       0.354449        883.184857\n",
       "Fold: 4             546.007887       0.317211         715.13588\n",
       "Fold: 3             653.524717       0.343911        819.594446\n",
       "Fold: 2             764.261855       0.444937        938.049549\n",
       "Fold: 1             663.800352       0.306422        813.403784\n",
       "mean_and_std  670.24 +/- 74.08  0.35 +/- 0.05  833.87 +/- 74.84"
      ]
     },
     "execution_count": 46,
     "metadata": {},
     "output_type": "execute_result"
    }
   ],
   "source": [
    "error, lr_cross_validation_metrics = cross_validation(df7, error, 5, 'Random Forest', rf_model)\n",
    "\n",
    "lr_cross_validation_metrics.T"
   ]
  },
  {
   "cell_type": "markdown",
   "metadata": {
    "heading_collapsed": true,
    "hidden": true
   },
   "source": [
    "## 8.4 XGBoost Regressor"
   ]
  },
  {
   "cell_type": "code",
   "execution_count": 47,
   "metadata": {
    "ExecuteTime": {
     "end_time": "2022-08-09T01:09:03.041724Z",
     "start_time": "2022-08-09T01:09:02.889773Z"
    },
    "hidden": true
   },
   "outputs": [
    {
     "name": "stdout",
     "output_type": "stream",
     "text": [
      "MAE: 328.66281529017886\n",
      "MAPE: 0.19763933466921055\n",
      "RMSE: 405.4664036679136\n"
     ]
    }
   ],
   "source": [
    "# model definition\n",
    "xgb_model = XGBRegressor()\n",
    "\n",
    "# fiting model\n",
    "xgb_fit = xgb_model.fit(X_train, y_train)\n",
    "\n",
    "# predicting\n",
    "y_hat = xgb_fit.predict(X_test)\n",
    "\n",
    "# metrics\n",
    "metrics(y_test, y_hat)"
   ]
  },
  {
   "cell_type": "markdown",
   "metadata": {
    "heading_collapsed": true,
    "hidden": true
   },
   "source": [
    "### 8.4.1 Cross Validation"
   ]
  },
  {
   "cell_type": "code",
   "execution_count": 48,
   "metadata": {
    "ExecuteTime": {
     "end_time": "2022-08-09T01:09:14.514101Z",
     "start_time": "2022-08-09T01:09:03.043289Z"
    },
    "hidden": true
   },
   "outputs": [
    {
     "data": {
      "text/html": [
       "<div>\n",
       "<style scoped>\n",
       "    .dataframe tbody tr th:only-of-type {\n",
       "        vertical-align: middle;\n",
       "    }\n",
       "\n",
       "    .dataframe tbody tr th {\n",
       "        vertical-align: top;\n",
       "    }\n",
       "\n",
       "    .dataframe thead th {\n",
       "        text-align: right;\n",
       "    }\n",
       "</style>\n",
       "<table border=\"1\" class=\"dataframe\">\n",
       "  <thead>\n",
       "    <tr style=\"text-align: right;\">\n",
       "      <th></th>\n",
       "      <th>MAE</th>\n",
       "      <th>MAPE</th>\n",
       "      <th>RMSE</th>\n",
       "    </tr>\n",
       "  </thead>\n",
       "  <tbody>\n",
       "    <tr>\n",
       "      <th>Fold: 5</th>\n",
       "      <td>722.225353</td>\n",
       "      <td>0.353736</td>\n",
       "      <td>880.703391</td>\n",
       "    </tr>\n",
       "    <tr>\n",
       "      <th>Fold: 4</th>\n",
       "      <td>546.590303</td>\n",
       "      <td>0.317591</td>\n",
       "      <td>709.965261</td>\n",
       "    </tr>\n",
       "    <tr>\n",
       "      <th>Fold: 3</th>\n",
       "      <td>654.347921</td>\n",
       "      <td>0.344957</td>\n",
       "      <td>820.324065</td>\n",
       "    </tr>\n",
       "    <tr>\n",
       "      <th>Fold: 2</th>\n",
       "      <td>762.380339</td>\n",
       "      <td>0.445466</td>\n",
       "      <td>935.07879</td>\n",
       "    </tr>\n",
       "    <tr>\n",
       "      <th>Fold: 1</th>\n",
       "      <td>659.431097</td>\n",
       "      <td>0.304169</td>\n",
       "      <td>809.236202</td>\n",
       "    </tr>\n",
       "    <tr>\n",
       "      <th>mean_and_std</th>\n",
       "      <td>669.0 +/- 73.27</td>\n",
       "      <td>0.35 +/- 0.05</td>\n",
       "      <td>831.06 +/- 75.55</td>\n",
       "    </tr>\n",
       "  </tbody>\n",
       "</table>\n",
       "</div>"
      ],
      "text/plain": [
       "                          MAE           MAPE              RMSE\n",
       "Fold: 5            722.225353       0.353736        880.703391\n",
       "Fold: 4            546.590303       0.317591        709.965261\n",
       "Fold: 3            654.347921       0.344957        820.324065\n",
       "Fold: 2            762.380339       0.445466         935.07879\n",
       "Fold: 1            659.431097       0.304169        809.236202\n",
       "mean_and_std  669.0 +/- 73.27  0.35 +/- 0.05  831.06 +/- 75.55"
      ]
     },
     "execution_count": 48,
     "metadata": {},
     "output_type": "execute_result"
    }
   ],
   "source": [
    "error, lr_cross_validation_metrics = cross_validation(df7, error, 5, 'Random Forest', rf_model)\n",
    "\n",
    "lr_cross_validation_metrics.T"
   ]
  },
  {
   "cell_type": "markdown",
   "metadata": {
    "heading_collapsed": true,
    "hidden": true
   },
   "source": [
    "## 8.5 XGBoost Regressor"
   ]
  },
  {
   "cell_type": "code",
   "execution_count": 49,
   "metadata": {
    "ExecuteTime": {
     "end_time": "2022-08-09T01:09:14.698441Z",
     "start_time": "2022-08-09T01:09:14.516027Z"
    },
    "hidden": true
   },
   "outputs": [
    {
     "name": "stdout",
     "output_type": "stream",
     "text": [
      "MAE: 328.66281529017886\n",
      "MAPE: 0.19763933466921055\n",
      "RMSE: 405.4664036679136\n"
     ]
    }
   ],
   "source": [
    "# model definition\n",
    "xgb_model = XGBRegressor()\n",
    "\n",
    "# fiting model\n",
    "xgb_fit = xgb_model.fit(X_train, y_train)\n",
    "\n",
    "# predicting\n",
    "y_hat = xgb_fit.predict(X_test)\n",
    "\n",
    "# metrics\n",
    "metrics(y_test, y_hat)"
   ]
  },
  {
   "cell_type": "markdown",
   "metadata": {
    "heading_collapsed": true,
    "hidden": true
   },
   "source": [
    "### 8.5.1 Cross Validation"
   ]
  },
  {
   "cell_type": "code",
   "execution_count": 50,
   "metadata": {
    "ExecuteTime": {
     "end_time": "2022-08-09T01:09:15.377336Z",
     "start_time": "2022-08-09T01:09:14.700964Z"
    },
    "hidden": true
   },
   "outputs": [
    {
     "data": {
      "text/html": [
       "<div>\n",
       "<style scoped>\n",
       "    .dataframe tbody tr th:only-of-type {\n",
       "        vertical-align: middle;\n",
       "    }\n",
       "\n",
       "    .dataframe tbody tr th {\n",
       "        vertical-align: top;\n",
       "    }\n",
       "\n",
       "    .dataframe thead th {\n",
       "        text-align: right;\n",
       "    }\n",
       "</style>\n",
       "<table border=\"1\" class=\"dataframe\">\n",
       "  <thead>\n",
       "    <tr style=\"text-align: right;\">\n",
       "      <th></th>\n",
       "      <th>MAE</th>\n",
       "      <th>MAPE</th>\n",
       "      <th>RMSE</th>\n",
       "    </tr>\n",
       "  </thead>\n",
       "  <tbody>\n",
       "    <tr>\n",
       "      <th>Fold: 5</th>\n",
       "      <td>669.063081</td>\n",
       "      <td>0.434091</td>\n",
       "      <td>836.154685</td>\n",
       "    </tr>\n",
       "    <tr>\n",
       "      <th>Fold: 4</th>\n",
       "      <td>615.094353</td>\n",
       "      <td>0.426522</td>\n",
       "      <td>887.340641</td>\n",
       "    </tr>\n",
       "    <tr>\n",
       "      <th>Fold: 3</th>\n",
       "      <td>706.739129</td>\n",
       "      <td>0.418763</td>\n",
       "      <td>853.860312</td>\n",
       "    </tr>\n",
       "    <tr>\n",
       "      <th>Fold: 2</th>\n",
       "      <td>626.076895</td>\n",
       "      <td>0.472823</td>\n",
       "      <td>827.83487</td>\n",
       "    </tr>\n",
       "    <tr>\n",
       "      <th>Fold: 1</th>\n",
       "      <td>482.408266</td>\n",
       "      <td>0.274122</td>\n",
       "      <td>653.401056</td>\n",
       "    </tr>\n",
       "    <tr>\n",
       "      <th>mean_and_std</th>\n",
       "      <td>619.88 +/- 76.06</td>\n",
       "      <td>0.41 +/- 0.07</td>\n",
       "      <td>811.72 +/- 81.75</td>\n",
       "    </tr>\n",
       "  </tbody>\n",
       "</table>\n",
       "</div>"
      ],
      "text/plain": [
       "                           MAE           MAPE              RMSE\n",
       "Fold: 5             669.063081       0.434091        836.154685\n",
       "Fold: 4             615.094353       0.426522        887.340641\n",
       "Fold: 3             706.739129       0.418763        853.860312\n",
       "Fold: 2             626.076895       0.472823         827.83487\n",
       "Fold: 1             482.408266       0.274122        653.401056\n",
       "mean_and_std  619.88 +/- 76.06  0.41 +/- 0.07  811.72 +/- 81.75"
      ]
     },
     "execution_count": 50,
     "metadata": {},
     "output_type": "execute_result"
    }
   ],
   "source": [
    "error, lr_cross_validation_metrics = cross_validation(df7, error, 5, 'XGBoost Regressor', xgb_model)\n",
    "\n",
    "lr_cross_validation_metrics.T"
   ]
  },
  {
   "cell_type": "markdown",
   "metadata": {
    "heading_collapsed": true
   },
   "source": [
    "# 9.0 Model Performance"
   ]
  },
  {
   "cell_type": "code",
   "execution_count": 51,
   "metadata": {
    "ExecuteTime": {
     "end_time": "2022-08-09T01:09:15.392701Z",
     "start_time": "2022-08-09T01:09:15.379826Z"
    },
    "hidden": true
   },
   "outputs": [],
   "source": [
    "df9 = df8.copy()"
   ]
  },
  {
   "cell_type": "markdown",
   "metadata": {
    "heading_collapsed": true,
    "hidden": true
   },
   "source": [
    "## 9.1 Machine Learning Performance"
   ]
  },
  {
   "cell_type": "code",
   "execution_count": 52,
   "metadata": {
    "ExecuteTime": {
     "end_time": "2022-08-09T01:09:15.408182Z",
     "start_time": "2022-08-09T01:09:15.394184Z"
    },
    "hidden": true
   },
   "outputs": [
    {
     "data": {
      "text/html": [
       "<div>\n",
       "<style scoped>\n",
       "    .dataframe tbody tr th:only-of-type {\n",
       "        vertical-align: middle;\n",
       "    }\n",
       "\n",
       "    .dataframe tbody tr th {\n",
       "        vertical-align: top;\n",
       "    }\n",
       "\n",
       "    .dataframe thead th {\n",
       "        text-align: right;\n",
       "    }\n",
       "</style>\n",
       "<table border=\"1\" class=\"dataframe\">\n",
       "  <thead>\n",
       "    <tr style=\"text-align: right;\">\n",
       "      <th></th>\n",
       "      <th>MAE</th>\n",
       "      <th>MAPE</th>\n",
       "      <th>RMSE</th>\n",
       "    </tr>\n",
       "  </thead>\n",
       "  <tbody>\n",
       "    <tr>\n",
       "      <th>Linear Regression</th>\n",
       "      <td>549.56 +/- 26.23</td>\n",
       "      <td>0.33 +/- 0.04</td>\n",
       "      <td>717.62 +/- 28.9</td>\n",
       "    </tr>\n",
       "    <tr>\n",
       "      <th>Lasso</th>\n",
       "      <td>838.1 +/- 56.86</td>\n",
       "      <td>0.42 +/- 0.05</td>\n",
       "      <td>1107.67 +/- 56.05</td>\n",
       "    </tr>\n",
       "    <tr>\n",
       "      <th>Random Forest</th>\n",
       "      <td>669.0 +/- 73.27</td>\n",
       "      <td>0.35 +/- 0.05</td>\n",
       "      <td>831.06 +/- 75.55</td>\n",
       "    </tr>\n",
       "    <tr>\n",
       "      <th>XGBoost Regressor</th>\n",
       "      <td>619.88 +/- 76.06</td>\n",
       "      <td>0.41 +/- 0.07</td>\n",
       "      <td>811.72 +/- 81.75</td>\n",
       "    </tr>\n",
       "  </tbody>\n",
       "</table>\n",
       "</div>"
      ],
      "text/plain": [
       "                                MAE           MAPE               RMSE\n",
       "Linear Regression  549.56 +/- 26.23  0.33 +/- 0.04    717.62 +/- 28.9\n",
       "Lasso               838.1 +/- 56.86  0.42 +/- 0.05  1107.67 +/- 56.05\n",
       "Random Forest       669.0 +/- 73.27  0.35 +/- 0.05   831.06 +/- 75.55\n",
       "XGBoost Regressor  619.88 +/- 76.06  0.41 +/- 0.07   811.72 +/- 81.75"
      ]
     },
     "execution_count": 52,
     "metadata": {},
     "output_type": "execute_result"
    }
   ],
   "source": [
    "error.T"
   ]
  },
  {
   "cell_type": "markdown",
   "metadata": {
    "heading_collapsed": true,
    "hidden": true
   },
   "source": [
    "## 9.2 Business Performance"
   ]
  },
  {
   "cell_type": "code",
   "execution_count": null,
   "metadata": {
    "hidden": true
   },
   "outputs": [],
   "source": []
  },
  {
   "cell_type": "markdown",
   "metadata": {
    "heading_collapsed": true
   },
   "source": [
    "# 10.0 Exportings"
   ]
  },
  {
   "cell_type": "code",
   "execution_count": null,
   "metadata": {
    "hidden": true
   },
   "outputs": [],
   "source": []
  },
  {
   "cell_type": "markdown",
   "metadata": {
    "heading_collapsed": true
   },
   "source": [
    "# 11.0 Deploy"
   ]
  },
  {
   "cell_type": "markdown",
   "metadata": {
    "heading_collapsed": true,
    "hidden": true
   },
   "source": [
    "## 10.1 Top_bar_class"
   ]
  },
  {
   "cell_type": "code",
   "execution_count": null,
   "metadata": {
    "hidden": true
   },
   "outputs": [],
   "source": []
  },
  {
   "cell_type": "markdown",
   "metadata": {
    "heading_collapsed": true,
    "hidden": true
   },
   "source": [
    "## 10.2 Handler API"
   ]
  },
  {
   "cell_type": "code",
   "execution_count": null,
   "metadata": {
    "hidden": true
   },
   "outputs": [],
   "source": []
  },
  {
   "cell_type": "markdown",
   "metadata": {
    "heading_collapsed": true,
    "hidden": true
   },
   "source": [
    "## 10.3 API Tester"
   ]
  },
  {
   "cell_type": "code",
   "execution_count": null,
   "metadata": {
    "hidden": true
   },
   "outputs": [],
   "source": []
  },
  {
   "cell_type": "markdown",
   "metadata": {},
   "source": [
    "# Time"
   ]
  },
  {
   "cell_type": "code",
   "execution_count": 53,
   "metadata": {
    "ExecuteTime": {
     "end_time": "2022-08-09T01:09:15.423177Z",
     "start_time": "2022-08-09T01:09:15.410218Z"
    },
    "scrolled": false
   },
   "outputs": [
    {
     "name": "stdout",
     "output_type": "stream",
     "text": [
      "O projeto está processando em 0.74 minutos\n"
     ]
    }
   ],
   "source": [
    "print(f'O projeto está processando em {round((time.time() - tempo_agora) / 60, 2)} minutos')"
   ]
  }
 ],
 "metadata": {
  "colab": {
   "collapsed_sections": [
    "0HF0qpYdk0xV",
    "w-_LYSQasnJe",
    "Fo9oTiSg8rbZ",
    "U31eP2VVHvg9",
    "UacIu52kMNMg",
    "22bT8LnfMBt3",
    "TzLuw3sjXyhY",
    "O2ug0XzLKtqM",
    "sf_nq_yYHBsS",
    "ZFjFSSBJ8rc_",
    "ZWjNzZav8rdB",
    "zCUBbPWLK_X5",
    "jDtyW1P0Gsmw",
    "T8WjZTJEpFvP",
    "Cpow1jxqpLb0",
    "e3bxxfygpRiI",
    "oqZcGHvJpwCj",
    "e5qb0o_LqTP_",
    "kscRdU11qbLg",
    "1if3O7Hp2CiE",
    "rQPyhXVl28rl",
    "-72Zr6iIFZhE",
    "gWCr6E3AGuWH",
    "4ysWSC9hLjiY",
    "gCdSM9Zs8rdd",
    "LwXvqMa2LNGn",
    "oZrWcLSMKbOD",
    "ra12ehIdRbTI",
    "nJHHKLSPS0jU",
    "Py5_Zqc9Wg64",
    "9TDxHCc0VIHA",
    "TmQm9H9HQ9tp",
    "sFATzRpWQ4GI",
    "0xIwHrpJZxdL",
    "YEit4heSZ8ka",
    "vHcwYa1LCDhj",
    "Efet9OusCWdI",
    "bHhq7LSSEvW-",
    "xDmAggFurgFU",
    "bQQqTK761JJR",
    "MEJYDvL-ANMQ",
    "KEM5-O1Ppkex",
    "3Ck3cWlcqMYh",
    "TGCGUKeBqRMU",
    "BV4glKS7py2u",
    "4pDTzzVTp_Lt",
    "kdcXbcfSp_ZL",
    "ZrZjI8xpqA-d",
    "2rytJ8Svq5vm",
    "AgCU9hZ5qWJN",
    "WG1fldNvrDct",
    "aiI0z7R_rDn6",
    "kW1XcJQh8reQ",
    "w8JxHOWSHTP9",
    "R6fkx-LLHocO",
    "N8NMVv2k13d9",
    "6OnQY5tu1uVC",
    "WE-XTzm9f0F9",
    "V_jtQ5VoCvKK",
    "DB2pVJBfKYmW",
    "S5ek0TTc0I5R",
    "ZGWjtKQb0FqF",
    "0N_lULUf9Lj4",
    "uwbl82yxEin1",
    "1F1im0MWBT5S",
    "tr6occUiC-Dj",
    "EOOOcz5XDFsg",
    "2pArit2aB8VZ"
   ],
   "include_colab_link": true,
   "name": "predict_bar_sales.ipynb",
   "provenance": []
  },
  "kernelspec": {
   "display_name": "Python 3 (ipykernel)",
   "language": "python",
   "name": "python3"
  },
  "language_info": {
   "codemirror_mode": {
    "name": "ipython",
    "version": 3
   },
   "file_extension": ".py",
   "mimetype": "text/x-python",
   "name": "python",
   "nbconvert_exporter": "python",
   "pygments_lexer": "ipython3",
   "version": "3.9.12"
  }
 },
 "nbformat": 4,
 "nbformat_minor": 1
}
