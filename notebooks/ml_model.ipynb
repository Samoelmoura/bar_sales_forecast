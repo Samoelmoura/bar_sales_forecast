{
 "cells": [
  {
   "cell_type": "markdown",
   "id": "3cb11c0a",
   "metadata": {
    "heading_collapsed": true,
    "id": "w-_LYSQasnJe"
   },
   "source": [
    "# 1.0 Imports"
   ]
  },
  {
   "cell_type": "markdown",
   "id": "06403128",
   "metadata": {
    "heading_collapsed": true,
    "hidden": true
   },
   "source": [
    "###### 1.1 Importing libraries"
   ]
  },
  {
   "cell_type": "code",
   "execution_count": 1,
   "id": "e74ced9c",
   "metadata": {
    "hidden": true
   },
   "outputs": [],
   "source": [
    "import pandas as pd\n",
    "import numpy as np\n",
    "import matplotlib.pyplot as plt\n",
    "import seaborn as sns\n",
    "\n",
    "from statsmodels.tsa.arima.model import ARIMA\n",
    "\n",
    "import pickle\n",
    "\n",
    "import time\n",
    "\n",
    "tempo_agora = time.time() # Tempo inicial"
   ]
  },
  {
   "cell_type": "markdown",
   "id": "29bed0d3",
   "metadata": {
    "heading_collapsed": true,
    "hidden": true
   },
   "source": [
    "###### 1.2 Loading series"
   ]
  },
  {
   "cell_type": "code",
   "execution_count": 2,
   "id": "f1cd7aa9",
   "metadata": {
    "hidden": true
   },
   "outputs": [],
   "source": [
    "X = pickle.load(open('D:\\\\my drive\\\\pessoal\\\\projetos\\\\bar_sales_forecast\\\\bar_sales_forecast\\\\exportings\\\\X_to_modeling.pkl', 'rb'))\n",
    "y = pickle.load(open('D:\\\\my drive\\\\pessoal\\\\projetos\\\\bar_sales_forecast\\\\bar_sales_forecast\\\\exportings\\\\y_to_modeling.pkl', 'rb'))"
   ]
  },
  {
   "cell_type": "markdown",
   "id": "b3b27d79",
   "metadata": {
    "heading_collapsed": true
   },
   "source": [
    "# 2.0 Training ML Model"
   ]
  },
  {
   "cell_type": "markdown",
   "id": "7cbcd263",
   "metadata": {
    "heading_collapsed": true,
    "hidden": true
   },
   "source": [
    "## 2.1 ARIMA"
   ]
  },
  {
   "cell_type": "code",
   "execution_count": 3,
   "id": "9936541c",
   "metadata": {
    "hidden": true
   },
   "outputs": [
    {
     "name": "stderr",
     "output_type": "stream",
     "text": [
      "D:\\My Drive\\Pessoal\\Projetos\\environments\\data_science\\lib\\site-packages\\statsmodels\\tsa\\statespace\\sarimax.py:978: UserWarning: Non-invertible starting MA parameters found. Using zeros as starting parameters.\n",
      "  warn('Non-invertible starting MA parameters found.'\n"
     ]
    },
    {
     "name": "stdout",
     "output_type": "stream",
     "text": [
      "                               SARIMAX Results                                \n",
      "==============================================================================\n",
      "Dep. Variable:                  total   No. Observations:                  444\n",
      "Model:                 ARIMA(7, 7, 7)   Log Likelihood               -3974.605\n",
      "Date:                Mon, 08 Nov 2021   AIC                           7979.210\n",
      "Time:                        12:36:30   BIC                           8040.409\n",
      "Sample:                    01-02-2019   HQIC                          8003.360\n",
      "                         - 03-20-2020                                         \n",
      "Covariance Type:                  opg                                         \n",
      "==============================================================================\n",
      "                 coef    std err          z      P>|z|      [0.025      0.975]\n",
      "------------------------------------------------------------------------------\n",
      "ar.L1         -3.6379      0.419     -8.679      0.000      -4.459      -2.816\n",
      "ar.L2         -6.6312      1.155     -5.741      0.000      -8.895      -4.367\n",
      "ar.L3         -7.9937      1.788     -4.472      0.000     -11.497      -4.490\n",
      "ar.L4         -6.6315      1.884     -3.520      0.000     -10.324      -2.939\n",
      "ar.L5         -3.6149      1.304     -2.773      0.006      -6.170      -1.060\n",
      "ar.L6         -1.2007      0.577     -2.083      0.037      -2.331      -0.071\n",
      "ar.L7         -0.1885      0.137     -1.372      0.170      -0.458       0.081\n",
      "ma.L1         -0.5133      0.427     -1.203      0.229      -1.350       0.323\n",
      "ma.L2         -1.0275      0.619     -1.660      0.097      -2.241       0.186\n",
      "ma.L3         -0.2861      0.302     -0.947      0.344      -0.878       0.306\n",
      "ma.L4         -0.0801      0.359     -0.223      0.823      -0.783       0.623\n",
      "ma.L5          1.1060      0.282      3.920      0.000       0.553       1.659\n",
      "ma.L6          0.5068      0.486      1.044      0.297      -0.445       1.459\n",
      "ma.L7         -0.6987      0.299     -2.340      0.019      -1.284      -0.113\n",
      "sigma2      5.498e+06   5.47e-07      1e+13      0.000     5.5e+06     5.5e+06\n",
      "===================================================================================\n",
      "Ljung-Box (L1) (Q):                   1.49   Jarque-Bera (JB):               114.63\n",
      "Prob(Q):                              0.22   Prob(JB):                         0.00\n",
      "Heteroskedasticity (H):               1.21   Skew:                            -0.30\n",
      "Prob(H) (two-sided):                  0.25   Kurtosis:                         5.44\n",
      "===================================================================================\n",
      "\n",
      "Warnings:\n",
      "[1] Covariance matrix calculated using the outer product of gradients (complex-step).\n",
      "[2] Covariance matrix is singular or near-singular, with condition number 8.56e+29. Standard errors may be unstable.\n"
     ]
    },
    {
     "name": "stderr",
     "output_type": "stream",
     "text": [
      "D:\\My Drive\\Pessoal\\Projetos\\environments\\data_science\\lib\\site-packages\\statsmodels\\base\\model.py:604: ConvergenceWarning: Maximum Likelihood optimization failed to converge. Check mle_retvals\n",
      "  warnings.warn(\"Maximum Likelihood optimization failed to \"\n"
     ]
    }
   ],
   "source": [
    "arima_model = ARIMA(endog=y, order=(7, 7, 7))\n",
    "\n",
    "arima_fit = arima_model.fit()\n",
    "\n",
    "print(arima_fit.summary())"
   ]
  },
  {
   "cell_type": "code",
   "execution_count": 4,
   "id": "db333ba2",
   "metadata": {
    "hidden": true,
    "scrolled": false
   },
   "outputs": [],
   "source": [
    "arima_pred = arima_fit.predict(start='2019-12-12', end='2020-03-20')"
   ]
  },
  {
   "cell_type": "code",
   "execution_count": 5,
   "id": "f9c49602",
   "metadata": {
    "hidden": true,
    "scrolled": true
   },
   "outputs": [],
   "source": [
    "y['predicts'] = arima_pred"
   ]
  },
  {
   "cell_type": "code",
   "execution_count": 6,
   "id": "108727e1",
   "metadata": {
    "hidden": true,
    "scrolled": true
   },
   "outputs": [
    {
     "data": {
      "text/plain": [
       "<AxesSubplot:xlabel='date'>"
      ]
     },
     "execution_count": 6,
     "metadata": {},
     "output_type": "execute_result"
    },
    {
     "data": {
      "image/png": "[encoded data removed]",
      "text/plain": [
       "<Figure size 432x288 with 1 Axes>"
      ]
     },
     "metadata": {
      "needs_background": "light"
     },
     "output_type": "display_data"
    }
   ],
   "source": [
    "y[['total', 'predicts']].plot()"
   ]
  },
  {
   "cell_type": "code",
   "execution_count": 7,
   "id": "29c8b41e",
   "metadata": {
    "hidden": true
   },
   "outputs": [],
   "source": [
    "y['square_error'] = (y['total'] - y['predicts']) ** 2"
   ]
  },
  {
   "cell_type": "code",
   "execution_count": 8,
   "id": "f59216f1",
   "metadata": {
    "hidden": true
   },
   "outputs": [],
   "source": [
    "y['absolut_error'] = np.sqrt(y['square_error'])"
   ]
  },
  {
   "cell_type": "markdown",
   "id": "2f759ca8",
   "metadata": {
    "hidden": true
   },
   "source": [
    "**MAE**"
   ]
  },
  {
   "cell_type": "code",
   "execution_count": 9,
   "id": "6ad997f5",
   "metadata": {
    "hidden": true
   },
   "outputs": [
    {
     "data": {
      "text/plain": [
       "1715.9292458306293"
      ]
     },
     "execution_count": 9,
     "metadata": {},
     "output_type": "execute_result"
    }
   ],
   "source": [
    "y['absolut_error'].mean()"
   ]
  },
  {
   "cell_type": "markdown",
   "id": "fb23accf",
   "metadata": {
    "hidden": true
   },
   "source": [
    "**MAPE**"
   ]
  },
  {
   "cell_type": "code",
   "execution_count": 10,
   "id": "5474ffb4",
   "metadata": {
    "hidden": true
   },
   "outputs": [],
   "source": [
    "y.loc[y['total'] == 0, 'total'] = 10 ** -6"
   ]
  },
  {
   "cell_type": "markdown",
   "id": "dcf68d94",
   "metadata": {},
   "source": [
    "# Time"
   ]
  },
  {
   "cell_type": "code",
   "execution_count": 11,
   "id": "9c50d65e",
   "metadata": {
    "scrolled": true
   },
   "outputs": [
    {
     "name": "stdout",
     "output_type": "stream",
     "text": [
      "O projeto está processando em 0.05 minutos\n"
     ]
    }
   ],
   "source": [
    "print(f'O projeto está processando em {round((time.time() - tempo_agora) / 60, 2)} minutos')"
   ]
  }
 ],
 "metadata": {
  "kernelspec": {
   "display_name": "Python 3 (ipykernel)",
   "language": "python",
   "name": "python3"
  },
  "language_info": {
   "codemirror_mode": {
    "name": "ipython",
    "version": 3
   },
   "file_extension": ".py",
   "mimetype": "text/x-python",
   "name": "python",
   "nbconvert_exporter": "python",
   "pygments_lexer": "ipython3",
   "version": "3.8.8"
  }
 },
 "nbformat": 4,
 "nbformat_minor": 5
}
