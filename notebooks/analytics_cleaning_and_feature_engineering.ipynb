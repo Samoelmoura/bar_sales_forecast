{
 "cells": [
  {
   "cell_type": "markdown",
   "metadata": {},
   "source": [
    "# 0.0 Scope\n",
    "\n",
    "**Inputs:** data raw\n",
    "\n",
    "**Outputs:** clean data with feature engineering\n",
    "\n",
    "###### Reports\n",
    "1. ..."
   ]
  },
  {
   "cell_type": "markdown",
   "metadata": {
    "id": "w-_LYSQasnJe"
   },
   "source": [
    "# 1.0 Imports"
   ]
  },
  {
   "cell_type": "markdown",
   "metadata": {},
   "source": [
    "###### 1.1 Importing libraries"
   ]
  },
  {
   "cell_type": "code",
   "execution_count": 1,
   "metadata": {
    "ExecuteTime": {
     "end_time": "2022-02-01T20:04:27.073894Z",
     "start_time": "2022-02-01T20:04:20.594424Z"
    }
   },
   "outputs": [],
   "source": [
    "import pandas as pd\n",
    "import numpy as np\n",
    "import matplotlib.pyplot as plt\n",
    "import seaborn as sns\n",
    "\n",
    "from statsmodels.tsa.seasonal import seasonal_decompose\n",
    "from statsmodels.graphics.tsaplots import plot_acf, plot_pacf\n",
    "\n",
    "import pickle\n",
    "\n",
    "import time\n",
    "\n",
    "import re\n",
    "\n",
    "tempo_agora = time.time() # Tempo inicial"
   ]
  },
  {
   "cell_type": "markdown",
   "metadata": {},
   "source": [
    "###### 1.2 Loading datasets"
   ]
  },
  {
   "cell_type": "code",
   "execution_count": 2,
   "metadata": {
    "ExecuteTime": {
     "end_time": "2022-02-01T20:04:27.686083Z",
     "start_time": "2022-02-01T20:04:27.073894Z"
    }
   },
   "outputs": [],
   "source": [
    "billiard = pd.read_csv('D:\\\\My Drive\\\\Pessoal\\\\Projetos\\\\bar_sales_forecast\\\\bar_sales_forecast\\\\billiard.csv', )\n",
    "sales = pd.read_csv('D:\\\\My Drive\\\\Pessoal\\\\Projetos\\\\bar_sales_forecast\\\\bar_sales_forecast\\\\sales.csv')\n",
    "climate = pd.read_csv('D:\\\\My Drive\\\\Pessoal\\\\Projetos\\\\bar_sales_forecast\\\\bar_sales_forecast\\\\climate.csv')"
   ]
  },
  {
   "cell_type": "markdown",
   "metadata": {},
   "source": [
    "###### 1.3 Helper Functions"
   ]
  },
  {
   "cell_type": "markdown",
   "metadata": {
    "id": "Fo9oTiSg8rbZ"
   },
   "source": [
    "# 2.0 Data Description and Data Cleaning"
   ]
  },
  {
   "cell_type": "markdown",
   "metadata": {},
   "source": [
    "## 2.1 Billiard"
   ]
  },
  {
   "cell_type": "markdown",
   "metadata": {},
   "source": [
    "### 2.1.1 General Analysis"
   ]
  },
  {
   "cell_type": "markdown",
   "metadata": {},
   "source": [
    "###### 2.1.1.1 Looking dataset"
   ]
  },
  {
   "cell_type": "code",
   "execution_count": 3,
   "metadata": {
    "ExecuteTime": {
     "end_time": "2022-02-01T20:04:27.738294Z",
     "start_time": "2022-02-01T20:04:27.686083Z"
    },
    "scrolled": false
   },
   "outputs": [
    {
     "data": {
      "text/html": [
       "<div>\n",
       "<style scoped>\n",
       "    .dataframe tbody tr th:only-of-type {\n",
       "        vertical-align: middle;\n",
       "    }\n",
       "\n",
       "    .dataframe tbody tr th {\n",
       "        vertical-align: top;\n",
       "    }\n",
       "\n",
       "    .dataframe thead th {\n",
       "        text-align: right;\n",
       "    }\n",
       "</style>\n",
       "<table border=\"1\" class=\"dataframe\">\n",
       "  <thead>\n",
       "    <tr style=\"text-align: right;\">\n",
       "      <th></th>\n",
       "      <th>#No</th>\n",
       "      <th>Name</th>\n",
       "      <th>#Start Time</th>\n",
       "      <th>In Use</th>\n",
       "      <th>Semana</th>\n",
       "      <th>Turno</th>\n",
       "      <th>Total Bilhar</th>\n",
       "      <th>Pago</th>\n",
       "      <th>#Preço/Hora</th>\n",
       "      <th>Data</th>\n",
       "    </tr>\n",
       "  </thead>\n",
       "  <tbody>\n",
       "    <tr>\n",
       "      <th>0</th>\n",
       "      <td>848</td>\n",
       "      <td>***Quarta1***</td>\n",
       "      <td>1/00:45</td>\n",
       "      <td>0:15</td>\n",
       "      <td>5</td>\n",
       "      <td>Noite</td>\n",
       "      <td>2.0</td>\n",
       "      <td>2.00</td>\n",
       "      <td>3.5</td>\n",
       "      <td>31-May-17</td>\n",
       "    </tr>\n",
       "    <tr>\n",
       "      <th>1</th>\n",
       "      <td>829</td>\n",
       "      <td>Guest(30)</td>\n",
       "      <td>31/18:06</td>\n",
       "      <td>6:24</td>\n",
       "      <td>5</td>\n",
       "      <td>Tarde</td>\n",
       "      <td>0.0</td>\n",
       "      <td>24.60</td>\n",
       "      <td>0.0</td>\n",
       "      <td>31-May-17</td>\n",
       "    </tr>\n",
       "    <tr>\n",
       "      <th>2</th>\n",
       "      <td>836</td>\n",
       "      <td>Guest(28)</td>\n",
       "      <td>31/20:46</td>\n",
       "      <td>4:28</td>\n",
       "      <td>5</td>\n",
       "      <td>Tarde</td>\n",
       "      <td>0.0</td>\n",
       "      <td>4.50</td>\n",
       "      <td>0.0</td>\n",
       "      <td>31-May-17</td>\n",
       "    </tr>\n",
       "    <tr>\n",
       "      <th>3</th>\n",
       "      <td>838</td>\n",
       "      <td>Guest(27)</td>\n",
       "      <td>31/20:57</td>\n",
       "      <td>3:25</td>\n",
       "      <td>5</td>\n",
       "      <td>Tarde</td>\n",
       "      <td>0.0</td>\n",
       "      <td>29.72</td>\n",
       "      <td>0.0</td>\n",
       "      <td>31-May-17</td>\n",
       "    </tr>\n",
       "    <tr>\n",
       "      <th>4</th>\n",
       "      <td>844</td>\n",
       "      <td>Guest(14)</td>\n",
       "      <td>31/22:16</td>\n",
       "      <td>2:47</td>\n",
       "      <td>5</td>\n",
       "      <td>Noite</td>\n",
       "      <td>0.0</td>\n",
       "      <td>48.30</td>\n",
       "      <td>0.0</td>\n",
       "      <td>31-May-17</td>\n",
       "    </tr>\n",
       "  </tbody>\n",
       "</table>\n",
       "</div>"
      ],
      "text/plain": [
       "   #No           Name #Start Time In Use  Semana  Turno  Total Bilhar   Pago  \\\n",
       "0  848  ***Quarta1***     1/00:45   0:15       5  Noite           2.0   2.00   \n",
       "1  829      Guest(30)    31/18:06   6:24       5  Tarde           0.0  24.60   \n",
       "2  836      Guest(28)    31/20:46   4:28       5  Tarde           0.0   4.50   \n",
       "3  838      Guest(27)    31/20:57   3:25       5  Tarde           0.0  29.72   \n",
       "4  844      Guest(14)    31/22:16   2:47       5  Noite           0.0  48.30   \n",
       "\n",
       "   #Preço/Hora       Data  \n",
       "0          3.5  31-May-17  \n",
       "1          0.0  31-May-17  \n",
       "2          0.0  31-May-17  \n",
       "3          0.0  31-May-17  \n",
       "4          0.0  31-May-17  "
      ]
     },
     "execution_count": 3,
     "metadata": {},
     "output_type": "execute_result"
    }
   ],
   "source": [
    "billiard.head(5)"
   ]
  },
  {
   "cell_type": "markdown",
   "metadata": {},
   "source": [
    "###### 2.1.1.2 Check NaN values"
   ]
  },
  {
   "cell_type": "code",
   "execution_count": 4,
   "metadata": {
    "ExecuteTime": {
     "end_time": "2022-02-01T20:04:27.836489Z",
     "start_time": "2022-02-01T20:04:27.738294Z"
    },
    "scrolled": false
   },
   "outputs": [
    {
     "data": {
      "text/plain": [
       "#No             0.0\n",
       "Name              0\n",
       "#Start Time       0\n",
       "In Use            0\n",
       "Semana          0.0\n",
       "Turno             0\n",
       "Total Bilhar    0.0\n",
       "Pago            0.0\n",
       "#Preço/Hora     0.0\n",
       "Data              0\n",
       "dtype: object"
      ]
     },
     "execution_count": 4,
     "metadata": {},
     "output_type": "execute_result"
    }
   ],
   "source": [
    "billiard[billiard.isnull()].sum()"
   ]
  },
  {
   "cell_type": "markdown",
   "metadata": {},
   "source": [
    "###### 2.1.1.3 Data types"
   ]
  },
  {
   "cell_type": "code",
   "execution_count": 5,
   "metadata": {
    "ExecuteTime": {
     "end_time": "2022-02-01T20:04:27.857384Z",
     "start_time": "2022-02-01T20:04:27.836489Z"
    },
    "scrolled": true
   },
   "outputs": [
    {
     "data": {
      "text/plain": [
       "#No               int64\n",
       "Name             object\n",
       "#Start Time      object\n",
       "In Use           object\n",
       "Semana            int64\n",
       "Turno            object\n",
       "Total Bilhar    float64\n",
       "Pago            float64\n",
       "#Preço/Hora     float64\n",
       "Data             object\n",
       "dtype: object"
      ]
     },
     "execution_count": 5,
     "metadata": {},
     "output_type": "execute_result"
    }
   ],
   "source": [
    "billiard.dtypes"
   ]
  },
  {
   "cell_type": "markdown",
   "metadata": {},
   "source": [
    "###### 2.1.1.4 Data dimensions"
   ]
  },
  {
   "cell_type": "code",
   "execution_count": 6,
   "metadata": {
    "ExecuteTime": {
     "end_time": "2022-02-01T20:04:27.874997Z",
     "start_time": "2022-02-01T20:04:27.858973Z"
    }
   },
   "outputs": [
    {
     "name": "stdout",
     "output_type": "stream",
     "text": [
      "Qty of rows: 40489\n",
      "Qty of columns: 10\n"
     ]
    }
   ],
   "source": [
    "print(f'Qty of rows: {billiard.shape[0]}')\n",
    "print(f'Qty of columns: {billiard.shape[1]}')"
   ]
  },
  {
   "cell_type": "markdown",
   "metadata": {},
   "source": [
    "### 2.1.2 Data Cleaning"
   ]
  },
  {
   "cell_type": "markdown",
   "metadata": {},
   "source": [
    "###### 2.1.2.1 Adjusting #Start Time to datetimeindex format"
   ]
  },
  {
   "cell_type": "code",
   "execution_count": 7,
   "metadata": {
    "ExecuteTime": {
     "end_time": "2022-02-01T20:04:27.930033Z",
     "start_time": "2022-02-01T20:04:27.874997Z"
    }
   },
   "outputs": [],
   "source": [
    "billiard['start_time'] = billiard['#Start Time'].apply(lambda x: x.split('/')[1])"
   ]
  },
  {
   "cell_type": "markdown",
   "metadata": {},
   "source": [
    "###### 2.1.2.2 Adjusting #Data to datetime format"
   ]
  },
  {
   "cell_type": "code",
   "execution_count": 8,
   "metadata": {
    "ExecuteTime": {
     "end_time": "2022-02-01T20:04:27.994393Z",
     "start_time": "2022-02-01T20:04:27.930033Z"
    }
   },
   "outputs": [],
   "source": [
    "billiard['Data'] = billiard['Data'].str.replace('/', '-').str.strip()"
   ]
  },
  {
   "cell_type": "markdown",
   "metadata": {},
   "source": [
    "###### 2.1.2.3 Creating datetime feature with datetime dtype"
   ]
  },
  {
   "cell_type": "code",
   "execution_count": 9,
   "metadata": {
    "ExecuteTime": {
     "end_time": "2022-02-01T20:04:37.053214Z",
     "start_time": "2022-02-01T20:04:27.994393Z"
    }
   },
   "outputs": [],
   "source": [
    "billiard['datetime'] = billiard['Data'] + '-' + billiard['start_time']\n",
    "billiard['datetime'] = pd.to_datetime(billiard['datetime'])"
   ]
  },
  {
   "cell_type": "markdown",
   "metadata": {},
   "source": [
    "###### 2.1.2.4 Changing interesting feature names"
   ]
  },
  {
   "cell_type": "code",
   "execution_count": 10,
   "metadata": {
    "ExecuteTime": {
     "end_time": "2022-02-01T20:04:37.090357Z",
     "start_time": "2022-02-01T20:04:37.057635Z"
    }
   },
   "outputs": [],
   "source": [
    "billiard.rename(columns={'#No':'id'}, inplace=True)\n",
    "billiard.rename(columns={'Name':'purchaser'}, inplace=True)\n",
    "billiard.rename(columns={'Total Bilhar':'sale'}, inplace=True)\n",
    "billiard.rename(columns={'#Preço/Hora':'price'}, inplace=True)\n",
    "billiard.rename(columns={'Semana':'week'}, inplace=True)\n",
    "billiard.rename(columns={'Turno':'work_shift'}, inplace=True)\n",
    "billiard.rename(columns={'In Use':'in_use'}, inplace=True)"
   ]
  },
  {
   "cell_type": "markdown",
   "metadata": {},
   "source": [
    "###### 2.1.2.5 Creating quantity feature"
   ]
  },
  {
   "cell_type": "code",
   "execution_count": 11,
   "metadata": {
    "ExecuteTime": {
     "end_time": "2022-02-01T20:04:37.107213Z",
     "start_time": "2022-02-01T20:04:37.090357Z"
    }
   },
   "outputs": [],
   "source": [
    "billiard['quantity'] = round(billiard['sale'] / billiard['price'], 1)"
   ]
  },
  {
   "cell_type": "markdown",
   "metadata": {},
   "source": [
    "###### 2.1.2.6 Creating item feature"
   ]
  },
  {
   "cell_type": "code",
   "execution_count": 12,
   "metadata": {
    "ExecuteTime": {
     "end_time": "2022-02-01T20:04:37.124856Z",
     "start_time": "2022-02-01T20:04:37.107213Z"
    }
   },
   "outputs": [],
   "source": [
    "billiard['item'] = 'bilhar'"
   ]
  },
  {
   "cell_type": "markdown",
   "metadata": {},
   "source": [
    "###### 2.1.2.7 Droping features"
   ]
  },
  {
   "cell_type": "code",
   "execution_count": 13,
   "metadata": {
    "ExecuteTime": {
     "end_time": "2022-02-01T20:04:37.161310Z",
     "start_time": "2022-02-01T20:04:37.124856Z"
    }
   },
   "outputs": [],
   "source": [
    "billiard.drop(['Pago', 'Data', 'start_time', '#Start Time'], axis=1, inplace=True)"
   ]
  },
  {
   "cell_type": "markdown",
   "metadata": {},
   "source": [
    "## 2.2 Sales"
   ]
  },
  {
   "cell_type": "markdown",
   "metadata": {},
   "source": [
    "### 2.2.1 General Analysis"
   ]
  },
  {
   "cell_type": "markdown",
   "metadata": {},
   "source": [
    "###### 2.2.1.1 Looking dataset"
   ]
  },
  {
   "cell_type": "code",
   "execution_count": 14,
   "metadata": {
    "ExecuteTime": {
     "end_time": "2022-02-01T20:04:37.211210Z",
     "start_time": "2022-02-01T20:04:37.161310Z"
    },
    "scrolled": true
   },
   "outputs": [
    {
     "data": {
      "text/html": [
       "<div>\n",
       "<style scoped>\n",
       "    .dataframe tbody tr th:only-of-type {\n",
       "        vertical-align: middle;\n",
       "    }\n",
       "\n",
       "    .dataframe tbody tr th {\n",
       "        vertical-align: top;\n",
       "    }\n",
       "\n",
       "    .dataframe thead th {\n",
       "        text-align: right;\n",
       "    }\n",
       "</style>\n",
       "<table border=\"1\" class=\"dataframe\">\n",
       "  <thead>\n",
       "    <tr style=\"text-align: right;\">\n",
       "      <th></th>\n",
       "      <th>#Time</th>\n",
       "      <th>Purchaser</th>\n",
       "      <th>Item</th>\n",
       "      <th>#Voucher</th>\n",
       "      <th>Semana</th>\n",
       "      <th>Turno</th>\n",
       "      <th>Classe 1</th>\n",
       "      <th>Classe 2</th>\n",
       "      <th>Classe 3</th>\n",
       "      <th>Preço</th>\n",
       "      <th>Total Venda</th>\n",
       "      <th>Data</th>\n",
       "      <th>Quantidade</th>\n",
       "    </tr>\n",
       "  </thead>\n",
       "  <tbody>\n",
       "    <tr>\n",
       "      <th>0</th>\n",
       "      <td>2/23:50:26</td>\n",
       "      <td>Mesa 1</td>\n",
       "      <td>10%</td>\n",
       "      <td>150</td>\n",
       "      <td>1</td>\n",
       "      <td>Noite</td>\n",
       "      <td>Gorjeta</td>\n",
       "      <td>NaN</td>\n",
       "      <td>NaN</td>\n",
       "      <td>0.1</td>\n",
       "      <td>1.6</td>\n",
       "      <td>2-May-17</td>\n",
       "      <td>16</td>\n",
       "    </tr>\n",
       "    <tr>\n",
       "      <th>1</th>\n",
       "      <td>2/23:56:18</td>\n",
       "      <td>Mesa 5</td>\n",
       "      <td>10%</td>\n",
       "      <td>151</td>\n",
       "      <td>1</td>\n",
       "      <td>Noite</td>\n",
       "      <td>Gorjeta</td>\n",
       "      <td>NaN</td>\n",
       "      <td>NaN</td>\n",
       "      <td>0.1</td>\n",
       "      <td>3.7</td>\n",
       "      <td>2-May-17</td>\n",
       "      <td>37</td>\n",
       "    </tr>\n",
       "    <tr>\n",
       "      <th>2</th>\n",
       "      <td>3/00:43:47</td>\n",
       "      <td>Mesa 1</td>\n",
       "      <td>10%</td>\n",
       "      <td>153</td>\n",
       "      <td>1</td>\n",
       "      <td>Noite</td>\n",
       "      <td>Gorjeta</td>\n",
       "      <td>NaN</td>\n",
       "      <td>NaN</td>\n",
       "      <td>0.1</td>\n",
       "      <td>1.5</td>\n",
       "      <td>2-May-17</td>\n",
       "      <td>15</td>\n",
       "    </tr>\n",
       "    <tr>\n",
       "      <th>3</th>\n",
       "      <td>3/01:04:07</td>\n",
       "      <td>Mesa 5</td>\n",
       "      <td>10%</td>\n",
       "      <td>155</td>\n",
       "      <td>1</td>\n",
       "      <td>Noite</td>\n",
       "      <td>Gorjeta</td>\n",
       "      <td>NaN</td>\n",
       "      <td>NaN</td>\n",
       "      <td>0.1</td>\n",
       "      <td>2.4</td>\n",
       "      <td>2-May-17</td>\n",
       "      <td>24</td>\n",
       "    </tr>\n",
       "    <tr>\n",
       "      <th>4</th>\n",
       "      <td>3/00:43:35</td>\n",
       "      <td>Mesa 1</td>\n",
       "      <td>Agua s/ Gás</td>\n",
       "      <td>153</td>\n",
       "      <td>1</td>\n",
       "      <td>Noite</td>\n",
       "      <td>Bar</td>\n",
       "      <td>Sem Álcool</td>\n",
       "      <td>NaN</td>\n",
       "      <td>3.0</td>\n",
       "      <td>6.0</td>\n",
       "      <td>2-May-17</td>\n",
       "      <td>2</td>\n",
       "    </tr>\n",
       "  </tbody>\n",
       "</table>\n",
       "</div>"
      ],
      "text/plain": [
       "         #Time Purchaser         Item  #Voucher  Semana  Turno Classe 1  \\\n",
       "0   2/23:50:26    Mesa 1          10%       150       1  Noite  Gorjeta   \n",
       "1   2/23:56:18    Mesa 5          10%       151       1  Noite  Gorjeta   \n",
       "2   3/00:43:47    Mesa 1          10%       153       1  Noite  Gorjeta   \n",
       "3   3/01:04:07    Mesa 5          10%       155       1  Noite  Gorjeta   \n",
       "4   3/00:43:35    Mesa 1  Agua s/ Gás       153       1  Noite      Bar   \n",
       "\n",
       "     Classe 2 Classe 3  Preço  Total Venda      Data  Quantidade  \n",
       "0         NaN      NaN    0.1          1.6  2-May-17          16  \n",
       "1         NaN      NaN    0.1          3.7  2-May-17          37  \n",
       "2         NaN      NaN    0.1          1.5  2-May-17          15  \n",
       "3         NaN      NaN    0.1          2.4  2-May-17          24  \n",
       "4  Sem Álcool      NaN    3.0          6.0  2-May-17           2  "
      ]
     },
     "execution_count": 14,
     "metadata": {},
     "output_type": "execute_result"
    }
   ],
   "source": [
    "sales.head(5)"
   ]
  },
  {
   "cell_type": "markdown",
   "metadata": {},
   "source": [
    "###### 2.2.1.2 Check NaN's values"
   ]
  },
  {
   "cell_type": "code",
   "execution_count": 15,
   "metadata": {
    "ExecuteTime": {
     "end_time": "2022-02-01T20:04:37.302003Z",
     "start_time": "2022-02-01T20:04:37.214036Z"
    },
    "scrolled": false
   },
   "outputs": [
    {
     "data": {
      "text/plain": [
       "#Time              0\n",
       "Purchaser      11169\n",
       "Item               0\n",
       "#Voucher           0\n",
       "Semana             0\n",
       "Turno              0\n",
       "Classe 1        1416\n",
       "Classe 2       15294\n",
       "Classe 3       65483\n",
       "Preço              0\n",
       "Total Venda        0\n",
       "Data               0\n",
       "Quantidade         0\n",
       "dtype: int64"
      ]
     },
     "execution_count": 15,
     "metadata": {},
     "output_type": "execute_result"
    }
   ],
   "source": [
    "sales.isnull().sum()"
   ]
  },
  {
   "cell_type": "markdown",
   "metadata": {},
   "source": [
    "O sistema gestor de vendas utilizado tem uma modalidade de vendas que não vincula o produto à uma mesa de consumo, geralmente utilizados quando ocorre uma venda avulsa, que é paga no ato da compra. Tais produtos são inseridos no sistema sem informação no campo \"Purchaser\", o que justifica os 8930 NaN Values nessa feature. As features Classe 2 e Classe 3 possuem NaN Values porque alguns produtos são cadastrados e classificados apenas no primeiro nível (Classe 1)."
   ]
  },
  {
   "cell_type": "markdown",
   "metadata": {},
   "source": [
    "###### 2.2.1.3 Data dimensions"
   ]
  },
  {
   "cell_type": "code",
   "execution_count": 16,
   "metadata": {
    "ExecuteTime": {
     "end_time": "2022-02-01T20:04:37.320291Z",
     "start_time": "2022-02-01T20:04:37.302003Z"
    },
    "scrolled": true
   },
   "outputs": [
    {
     "name": "stdout",
     "output_type": "stream",
     "text": [
      "Quantity of 123556 rows\n",
      "Quantity of 13 columns\n"
     ]
    }
   ],
   "source": [
    "print(f'Quantity of {sales.shape[0]} rows')\n",
    "print(f'Quantity of {sales.shape[1]} columns')"
   ]
  },
  {
   "cell_type": "markdown",
   "metadata": {},
   "source": [
    "###### 2.2.1.4 Data types"
   ]
  },
  {
   "cell_type": "code",
   "execution_count": 17,
   "metadata": {
    "ExecuteTime": {
     "end_time": "2022-02-01T20:04:37.340180Z",
     "start_time": "2022-02-01T20:04:37.324165Z"
    },
    "scrolled": true
   },
   "outputs": [
    {
     "data": {
      "text/plain": [
       "#Time           object\n",
       "Purchaser       object\n",
       "Item            object\n",
       "#Voucher         int64\n",
       "Semana           int64\n",
       "Turno           object\n",
       "Classe 1        object\n",
       "Classe 2        object\n",
       "Classe 3        object\n",
       "Preço          float64\n",
       "Total Venda    float64\n",
       "Data            object\n",
       "Quantidade       int64\n",
       "dtype: object"
      ]
     },
     "execution_count": 17,
     "metadata": {},
     "output_type": "execute_result"
    }
   ],
   "source": [
    "sales.dtypes"
   ]
  },
  {
   "cell_type": "markdown",
   "metadata": {},
   "source": [
    "### 2.2.2 Data Cleaning"
   ]
  },
  {
   "cell_type": "markdown",
   "metadata": {},
   "source": [
    "###### 2.1.2.1 Catch date informations"
   ]
  },
  {
   "cell_type": "code",
   "execution_count": 18,
   "metadata": {
    "ExecuteTime": {
     "end_time": "2022-02-01T20:04:37.476705Z",
     "start_time": "2022-02-01T20:04:37.340180Z"
    }
   },
   "outputs": [],
   "source": [
    "sales['Time'] = sales['#Time'].apply(lambda x: x.split('/')[1])\n",
    "sales['datetime'] = sales['Data'] + '-' + sales['Time']"
   ]
  },
  {
   "cell_type": "markdown",
   "metadata": {},
   "source": [
    "###### 2.1.2.2 Creating datetime feature"
   ]
  },
  {
   "cell_type": "code",
   "execution_count": 19,
   "metadata": {
    "ExecuteTime": {
     "end_time": "2022-02-01T20:05:06.343897Z",
     "start_time": "2022-02-01T20:04:37.476705Z"
    }
   },
   "outputs": [],
   "source": [
    "sales['datetime'] = pd.to_datetime(sales['datetime'])"
   ]
  },
  {
   "cell_type": "markdown",
   "metadata": {},
   "source": [
    "###### 2.1.2.3 Changing interesting feature names"
   ]
  },
  {
   "cell_type": "code",
   "execution_count": 20,
   "metadata": {
    "ExecuteTime": {
     "end_time": "2022-02-01T20:05:06.372540Z",
     "start_time": "2022-02-01T20:05:06.343897Z"
    }
   },
   "outputs": [],
   "source": [
    "sales.rename(columns={'#Voucher':'id'}, inplace=True)\n",
    "sales.rename(columns={'Total Venda':'sale'}, inplace=True)\n",
    "sales.rename(columns={'Preço':'price'}, inplace=True)\n",
    "sales.rename(columns={'Classe 1':'class1'}, inplace=True)\n",
    "sales.rename(columns={'Semana':'week'}, inplace=True)\n",
    "sales.rename(columns={'Turno':'work_shift'}, inplace=True)\n",
    "sales.rename(columns={'Purchaser':'purchaser'}, inplace=True)\n",
    "sales.rename(columns={'Item':'item'}, inplace=True)\n",
    "sales.rename(columns={'Quantidade':'quantity'}, inplace=True)"
   ]
  },
  {
   "cell_type": "markdown",
   "metadata": {},
   "source": [
    "###### 2.1.2.4 Removing features"
   ]
  },
  {
   "cell_type": "code",
   "execution_count": 21,
   "metadata": {
    "ExecuteTime": {
     "end_time": "2022-02-01T20:05:06.439859Z",
     "start_time": "2022-02-01T20:05:06.372540Z"
    }
   },
   "outputs": [],
   "source": [
    "sales.drop(['#Time', 'Data', 'Time', 'Classe 2', 'Classe 3'], axis=1, inplace=True)"
   ]
  },
  {
   "cell_type": "markdown",
   "metadata": {},
   "source": [
    "## 2.3 Climate"
   ]
  },
  {
   "cell_type": "markdown",
   "metadata": {},
   "source": [
    "### 2.3.1 General Analysis"
   ]
  },
  {
   "cell_type": "markdown",
   "metadata": {},
   "source": [
    "###### 2.3.1.1 Looking dataframe"
   ]
  },
  {
   "cell_type": "code",
   "execution_count": 22,
   "metadata": {
    "ExecuteTime": {
     "end_time": "2022-02-01T20:05:06.459226Z",
     "start_time": "2022-02-01T20:05:06.439859Z"
    },
    "scrolled": false
   },
   "outputs": [],
   "source": [
    "# climate.head(5)"
   ]
  },
  {
   "cell_type": "markdown",
   "metadata": {},
   "source": [
    "###### 2.3.1.2 Data dimensions"
   ]
  },
  {
   "cell_type": "code",
   "execution_count": 23,
   "metadata": {
    "ExecuteTime": {
     "end_time": "2022-02-01T20:05:06.476411Z",
     "start_time": "2022-02-01T20:05:06.461315Z"
    },
    "scrolled": true
   },
   "outputs": [],
   "source": [
    "# print(f'Quantity of rows: {climate.shape[0]}')\n",
    "# print(f'Quantity of columns: {climate.shape[1]}')"
   ]
  },
  {
   "cell_type": "markdown",
   "metadata": {},
   "source": [
    "###### 2.3.1.3 Check NaN values"
   ]
  },
  {
   "cell_type": "code",
   "execution_count": 24,
   "metadata": {
    "ExecuteTime": {
     "end_time": "2022-02-01T20:05:06.492379Z",
     "start_time": "2022-02-01T20:05:06.476411Z"
    },
    "scrolled": true
   },
   "outputs": [],
   "source": [
    "# climate.isnull().sum()"
   ]
  },
  {
   "cell_type": "markdown",
   "metadata": {},
   "source": [
    "### 2.3.2 Data Cleaning"
   ]
  },
  {
   "cell_type": "markdown",
   "metadata": {},
   "source": [
    "###### 2.3.2.1 Removing rows where date is null"
   ]
  },
  {
   "cell_type": "code",
   "execution_count": 25,
   "metadata": {
    "ExecuteTime": {
     "end_time": "2022-02-01T20:05:06.508372Z",
     "start_time": "2022-02-01T20:05:06.492379Z"
    }
   },
   "outputs": [],
   "source": [
    "# climate = climate[climate['Data'].notnull()]"
   ]
  },
  {
   "cell_type": "markdown",
   "metadata": {},
   "source": [
    "###### 2.3.2.2 Removing units of measure"
   ]
  },
  {
   "cell_type": "code",
   "execution_count": 26,
   "metadata": {
    "ExecuteTime": {
     "end_time": "2022-02-01T20:05:06.524443Z",
     "start_time": "2022-02-01T20:05:06.508372Z"
    }
   },
   "outputs": [],
   "source": [
    "# climate.loc[climate['Temperatura mínima diária'].notnull(), 'Temperatura mínima diária'] = climate['Temperatura mínima diária'].dropna().apply(lambda x: re.findall('\\d*', x)[0])\n",
    "# climate.loc[climate['Temperatura máxima diária'].notnull(), 'Temperatura máxima diária'] = climate['Temperatura máxima diária'].dropna().apply(lambda x: re.findall('\\d*', x)[0])\n",
    "# climate.loc[climate['Vento constante máximo'].notnull(), 'Vento constante máximo'] = climate['Vento constante máximo'].dropna().apply(lambda x: re.findall('\\d*', x)[0])\n",
    "# climate.loc[climate['Precipitação diária total'].notnull(), 'Precipitação diária total'] = climate['Precipitação diária total'].dropna().apply(lambda x: re.findall('\\d*', x)[0])"
   ]
  },
  {
   "cell_type": "markdown",
   "metadata": {},
   "source": [
    "###### 2.3.2.3 Adjusting datetime feature"
   ]
  },
  {
   "cell_type": "code",
   "execution_count": 27,
   "metadata": {
    "ExecuteTime": {
     "end_time": "2022-02-01T20:05:06.541329Z",
     "start_time": "2022-02-01T20:05:06.524443Z"
    }
   },
   "outputs": [],
   "source": [
    "# climate.rename(columns={'Data': 'date'}, inplace=True)\n",
    "\n",
    "# climate['date'] = pd.to_datetime(climate['date']).dt.date\n",
    "# climate['date'] = pd.to_datetime(climate['date'])\n",
    "\n",
    "# climate.set_index('date', inplace=True)"
   ]
  },
  {
   "cell_type": "markdown",
   "metadata": {},
   "source": [
    "###### 2.3.2.4 Removing some features"
   ]
  },
  {
   "cell_type": "code",
   "execution_count": 28,
   "metadata": {
    "ExecuteTime": {
     "end_time": "2022-02-01T20:05:06.557303Z",
     "start_time": "2022-02-01T20:05:06.549306Z"
    }
   },
   "outputs": [],
   "source": [
    "# climate.drop(['Espessura de neve', 'Pressão', 'Ícone', 'Rajada de vento máxima'], axis=1, inplace=True)"
   ]
  },
  {
   "cell_type": "markdown",
   "metadata": {},
   "source": [
    "## 2.4 Concating Dataframes"
   ]
  },
  {
   "cell_type": "markdown",
   "metadata": {},
   "source": [
    "###### 2.4.1 Concating billiard and sales"
   ]
  },
  {
   "cell_type": "code",
   "execution_count": 29,
   "metadata": {
    "ExecuteTime": {
     "end_time": "2022-02-01T20:05:06.619624Z",
     "start_time": "2022-02-01T20:05:06.557303Z"
    }
   },
   "outputs": [],
   "source": [
    "df = pd.concat([billiard, sales], axis=0)"
   ]
  },
  {
   "cell_type": "markdown",
   "metadata": {},
   "source": [
    "###### 2.4.2 Pivoting table to date x class1"
   ]
  },
  {
   "cell_type": "code",
   "execution_count": 30,
   "metadata": {
    "ExecuteTime": {
     "end_time": "2022-02-01T20:05:06.667603Z",
     "start_time": "2022-02-01T20:05:06.619624Z"
    }
   },
   "outputs": [],
   "source": [
    "backup = df.copy()"
   ]
  },
  {
   "cell_type": "code",
   "execution_count": 31,
   "metadata": {
    "ExecuteTime": {
     "end_time": "2022-02-01T20:05:06.713351Z",
     "start_time": "2022-02-01T20:05:06.667603Z"
    }
   },
   "outputs": [],
   "source": [
    "df = backup.copy()\n",
    "\n",
    "df.loc[df['class1'].isnull(), 'class1'] = 'Bilhar'"
   ]
  },
  {
   "cell_type": "code",
   "execution_count": 32,
   "metadata": {
    "ExecuteTime": {
     "end_time": "2022-02-01T20:05:06.959597Z",
     "start_time": "2022-02-01T20:05:06.713351Z"
    }
   },
   "outputs": [],
   "source": [
    "df['datetime'] = pd.to_datetime(df['datetime'])\n",
    "df['date'] = df['datetime'].dt.date\n",
    "df['date'] = pd.to_datetime(df['date'])"
   ]
  },
  {
   "cell_type": "code",
   "execution_count": 33,
   "metadata": {
    "ExecuteTime": {
     "end_time": "2022-02-01T20:05:07.076412Z",
     "start_time": "2022-02-01T20:05:06.959597Z"
    }
   },
   "outputs": [],
   "source": [
    "df = df.pivot_table(columns='class1', index='date', values='sale', aggfunc='sum', fill_value=0)"
   ]
  },
  {
   "cell_type": "markdown",
   "metadata": {},
   "source": [
    "###### 2.4.4 Concating df and climate"
   ]
  },
  {
   "cell_type": "code",
   "execution_count": 34,
   "metadata": {
    "ExecuteTime": {
     "end_time": "2022-02-01T20:05:07.092397Z",
     "start_time": "2022-02-01T20:05:07.076412Z"
    }
   },
   "outputs": [],
   "source": [
    "backup = df.copy()"
   ]
  },
  {
   "cell_type": "code",
   "execution_count": 35,
   "metadata": {
    "ExecuteTime": {
     "end_time": "2022-02-01T20:05:07.108583Z",
     "start_time": "2022-02-01T20:05:07.092397Z"
    }
   },
   "outputs": [],
   "source": [
    "# df = backup.copy()\n",
    "\n",
    "# df = df.merge(climate, on='date', how='left')"
   ]
  },
  {
   "cell_type": "markdown",
   "metadata": {},
   "source": [
    "## 2.5 Integral Dataframe"
   ]
  },
  {
   "cell_type": "markdown",
   "metadata": {},
   "source": [
    "###### 2.4.1 Looking dataframe"
   ]
  },
  {
   "cell_type": "code",
   "execution_count": 36,
   "metadata": {
    "ExecuteTime": {
     "end_time": "2022-02-01T20:05:07.144662Z",
     "start_time": "2022-02-01T20:05:07.108583Z"
    },
    "scrolled": false
   },
   "outputs": [
    {
     "data": {
      "text/html": [
       "<div>\n",
       "<style scoped>\n",
       "    .dataframe tbody tr th:only-of-type {\n",
       "        vertical-align: middle;\n",
       "    }\n",
       "\n",
       "    .dataframe tbody tr th {\n",
       "        vertical-align: top;\n",
       "    }\n",
       "\n",
       "    .dataframe thead th {\n",
       "        text-align: right;\n",
       "    }\n",
       "</style>\n",
       "<table border=\"1\" class=\"dataframe\">\n",
       "  <thead>\n",
       "    <tr style=\"text-align: right;\">\n",
       "      <th>class1</th>\n",
       "      <th>Bar</th>\n",
       "      <th>Bilhar</th>\n",
       "      <th>Bomboniere</th>\n",
       "      <th>Cozinha</th>\n",
       "      <th>Gorjeta</th>\n",
       "      <th>Tabacaria</th>\n",
       "    </tr>\n",
       "    <tr>\n",
       "      <th>date</th>\n",
       "      <th></th>\n",
       "      <th></th>\n",
       "      <th></th>\n",
       "      <th></th>\n",
       "      <th></th>\n",
       "      <th></th>\n",
       "    </tr>\n",
       "  </thead>\n",
       "  <tbody>\n",
       "    <tr>\n",
       "      <th>2019-09-11</th>\n",
       "      <td>819.40</td>\n",
       "      <td>107.5</td>\n",
       "      <td>3.9</td>\n",
       "      <td>145.6</td>\n",
       "      <td>64.2</td>\n",
       "      <td>7.51</td>\n",
       "    </tr>\n",
       "    <tr>\n",
       "      <th>2017-08-15</th>\n",
       "      <td>265.63</td>\n",
       "      <td>53.0</td>\n",
       "      <td>3.0</td>\n",
       "      <td>94.7</td>\n",
       "      <td>9.0</td>\n",
       "      <td>11.00</td>\n",
       "    </tr>\n",
       "    <tr>\n",
       "      <th>2019-04-20</th>\n",
       "      <td>1846.98</td>\n",
       "      <td>563.0</td>\n",
       "      <td>8.0</td>\n",
       "      <td>652.5</td>\n",
       "      <td>26.5</td>\n",
       "      <td>71.00</td>\n",
       "    </tr>\n",
       "    <tr>\n",
       "      <th>2018-01-12</th>\n",
       "      <td>1667.89</td>\n",
       "      <td>349.5</td>\n",
       "      <td>7.5</td>\n",
       "      <td>574.8</td>\n",
       "      <td>160.1</td>\n",
       "      <td>83.00</td>\n",
       "    </tr>\n",
       "    <tr>\n",
       "      <th>2021-09-22</th>\n",
       "      <td>547.10</td>\n",
       "      <td>343.1</td>\n",
       "      <td>3.9</td>\n",
       "      <td>178.8</td>\n",
       "      <td>55.9</td>\n",
       "      <td>0.00</td>\n",
       "    </tr>\n",
       "  </tbody>\n",
       "</table>\n",
       "</div>"
      ],
      "text/plain": [
       "class1          Bar  Bilhar  Bomboniere  Cozinha  Gorjeta  Tabacaria\n",
       "date                                                                \n",
       "2019-09-11   819.40   107.5         3.9    145.6     64.2       7.51\n",
       "2017-08-15   265.63    53.0         3.0     94.7      9.0      11.00\n",
       "2019-04-20  1846.98   563.0         8.0    652.5     26.5      71.00\n",
       "2018-01-12  1667.89   349.5         7.5    574.8    160.1      83.00\n",
       "2021-09-22   547.10   343.1         3.9    178.8     55.9       0.00"
      ]
     },
     "execution_count": 36,
     "metadata": {},
     "output_type": "execute_result"
    }
   ],
   "source": [
    "df.sample(5)"
   ]
  },
  {
   "cell_type": "markdown",
   "metadata": {},
   "source": [
    "###### 2.4.2 Data dimensions"
   ]
  },
  {
   "cell_type": "code",
   "execution_count": 37,
   "metadata": {
    "ExecuteTime": {
     "end_time": "2022-02-01T20:05:07.160663Z",
     "start_time": "2022-02-01T20:05:07.144662Z"
    },
    "scrolled": true
   },
   "outputs": [
    {
     "name": "stdout",
     "output_type": "stream",
     "text": [
      "Number of rows: 1252\n",
      "Number of columns: 6\n"
     ]
    }
   ],
   "source": [
    "print(f'Number of rows: {df.shape[0]}')\n",
    "print(f'Number of columns: {df.shape[1]}')"
   ]
  },
  {
   "cell_type": "markdown",
   "metadata": {},
   "source": [
    "###### 2.4.3 Check NaN values"
   ]
  },
  {
   "cell_type": "code",
   "execution_count": 38,
   "metadata": {
    "ExecuteTime": {
     "end_time": "2022-02-01T20:05:07.182996Z",
     "start_time": "2022-02-01T20:05:07.160663Z"
    }
   },
   "outputs": [
    {
     "data": {
      "text/plain": [
       "class1\n",
       "Bar           0\n",
       "Bilhar        0\n",
       "Bomboniere    0\n",
       "Cozinha       0\n",
       "Gorjeta       0\n",
       "Tabacaria     0\n",
       "dtype: int64"
      ]
     },
     "execution_count": 38,
     "metadata": {},
     "output_type": "execute_result"
    }
   ],
   "source": [
    "df.isnull().sum()"
   ]
  },
  {
   "cell_type": "markdown",
   "metadata": {},
   "source": [
    "###### 2.4.4 Create total"
   ]
  },
  {
   "cell_type": "code",
   "execution_count": 39,
   "metadata": {
    "ExecuteTime": {
     "end_time": "2022-02-01T20:05:07.207453Z",
     "start_time": "2022-02-01T20:05:07.188297Z"
    }
   },
   "outputs": [],
   "source": [
    "df['total'] = df.sum(axis=1)"
   ]
  },
  {
   "cell_type": "markdown",
   "metadata": {},
   "source": [
    "## 2.5 Descriptive Statistics"
   ]
  },
  {
   "cell_type": "markdown",
   "metadata": {},
   "source": [
    "# 3.0 Feature Engineering"
   ]
  },
  {
   "cell_type": "markdown",
   "metadata": {},
   "source": [
    "###### 3.1 Day of week"
   ]
  },
  {
   "cell_type": "code",
   "execution_count": 40,
   "metadata": {
    "ExecuteTime": {
     "end_time": "2022-02-01T20:05:07.251297Z",
     "start_time": "2022-02-01T20:05:07.207950Z"
    }
   },
   "outputs": [],
   "source": [
    "df = df.resample('d').sum()\n",
    "\n",
    "df['day_of_week'] = df.index.day_name()\n",
    "\n",
    "remover = df.loc[df['day_of_week']=='Monday'].index\n",
    "\n",
    "df.drop(remover, axis=0, inplace=True)"
   ]
  },
  {
   "cell_type": "markdown",
   "metadata": {},
   "source": [
    "###### 3.2 Removing week seasonality"
   ]
  },
  {
   "cell_type": "code",
   "execution_count": 41,
   "metadata": {
    "ExecuteTime": {
     "end_time": "2022-02-01T20:05:07.267359Z",
     "start_time": "2022-02-01T20:05:07.252755Z"
    }
   },
   "outputs": [],
   "source": [
    "df['shifted_6'] = df['total'].shift(6)\n",
    "\n",
    "df['total_proc'] = df['shifted_6'] - df['total']"
   ]
  },
  {
   "cell_type": "markdown",
   "metadata": {},
   "source": [
    "###### 3.3 Shifted values"
   ]
  },
  {
   "cell_type": "code",
   "execution_count": 42,
   "metadata": {
    "ExecuteTime": {
     "end_time": "2022-02-01T20:05:07.295321Z",
     "start_time": "2022-02-01T20:05:07.269503Z"
    }
   },
   "outputs": [],
   "source": [
    "df['shift_1'] = df['total_proc'].shift(1)\n",
    "df['shift_2'] = df['total_proc'].shift(2)\n",
    "df['shift_3'] = df['total_proc'].shift(3)\n",
    "df['shift_5'] = df['total_proc'].shift(5)\n",
    "df['shift_6'] = df['total_proc'].shift(6)\n",
    "df['shift_11'] = df['total_proc'].shift(11)\n",
    "df['shift_12'] = df['total_proc'].shift(12)\n",
    "shifteds = 'shift_1 shift_2 shift_3 shift_5 shift_6 shift_11 shift_12'.split()"
   ]
  },
  {
   "cell_type": "markdown",
   "metadata": {},
   "source": [
    "# 4.0 Business Hypothesis"
   ]
  },
  {
   "cell_type": "markdown",
   "metadata": {},
   "source": [
    "# 5.0 Exploratory Data Analysis "
   ]
  },
  {
   "cell_type": "markdown",
   "metadata": {},
   "source": [
    "###### 5.1 Decompose"
   ]
  },
  {
   "cell_type": "code",
   "execution_count": 43,
   "metadata": {
    "ExecuteTime": {
     "end_time": "2022-02-01T20:05:08.262244Z",
     "start_time": "2022-02-01T20:05:07.299084Z"
    },
    "scrolled": false
   },
   "outputs": [
    {
     "data": {
      "image/png": "[encoded data removed]",
      "text/plain": [
       "<Figure size 1152x720 with 3 Axes>"
      ]
     },
     "metadata": {},
     "output_type": "display_data"
    }
   ],
   "source": [
    "decomp = seasonal_decompose(df['total'], period=6)\n",
    "\n",
    "plt.figure(figsize=(16, 10))\n",
    "plt.subplots_adjust(hspace = 0.8)\n",
    "plt.subplot(4, 1, 1)\n",
    "ax = decomp.observed.plot()\n",
    "ax.tick_params(bottom=False, labelbottom=False, labelleft=False, left=False)\n",
    "plt.title('Original', fontsize=16)\n",
    "plt.xlabel('')\n",
    "plt.subplot(4, 1, 2)\n",
    "ax = decomp.seasonal[-30:].plot()\n",
    "ax.tick_params(bottom=False, labelbottom=False, labelleft=False, left=False)\n",
    "plt.title('Sazonalidade Semanal', fontsize=16)\n",
    "plt.xlabel('')\n",
    "plt.subplot(4, 1, 3)\n",
    "ax = decomp.trend.plot()\n",
    "ax.tick_params(bottom=False, labelbottom=False, labelleft=False, left=False)\n",
    "plt.title('Tendência', fontsize=16)\n",
    "sns.despine(left=True, bottom=True)\n",
    "plt.xlabel('');"
   ]
  },
  {
   "cell_type": "markdown",
   "metadata": {},
   "source": [
    "1. Sazonalidades semanais bem definidas.\n",
    "2. A tendência foi afetada pelo período sem funcionamento, causado pela Covid 19"
   ]
  },
  {
   "cell_type": "markdown",
   "metadata": {},
   "source": [
    "###### 5.2 Autocorrelation"
   ]
  },
  {
   "cell_type": "code",
   "execution_count": 44,
   "metadata": {
    "ExecuteTime": {
     "end_time": "2022-02-01T20:05:08.846436Z",
     "start_time": "2022-02-01T20:05:08.264257Z"
    },
    "scrolled": false
   },
   "outputs": [
    {
     "name": "stderr",
     "output_type": "stream",
     "text": [
      "D:\\My Drive\\Pessoal\\Projetos\\environments\\data_science\\lib\\site-packages\\statsmodels\\graphics\\tsaplots.py:348: FutureWarning: The default method 'yw' can produce PACF values outside of the [-1,1] interval. After 0.13, the default will change tounadjusted Yule-Walker ('ywm'). You can use this method now by setting method='ywm'.\n",
      "  warnings.warn(\n"
     ]
    },
    {
     "data": {
      "image/png": "[encoded data removed]",
      "text/plain": [
       "<Figure size 864x576 with 2 Axes>"
      ]
     },
     "metadata": {
      "needs_background": "light"
     },
     "output_type": "display_data"
    }
   ],
   "source": [
    "fig = plt.figure(figsize=(12, 8))\n",
    "ax1 = fig.add_subplot(211)\n",
    "fig = plot_acf(df['total'] , lags=20, ax=ax1)\n",
    "ax2 = fig.add_subplot(212)\n",
    "fig = plot_pacf(df['total'] , lags=20, ax=ax2)"
   ]
  },
  {
   "cell_type": "markdown",
   "metadata": {},
   "source": [
    "Há autocorrelação com uma boa margem de confiança os lags 1, 2, 3, 5, 6, 11 e 12 (o 4 não está incluso)"
   ]
  },
  {
   "cell_type": "markdown",
   "metadata": {},
   "source": [
    "# 6.0 Exportings"
   ]
  },
  {
   "cell_type": "markdown",
   "metadata": {},
   "source": [
    "###### 6.1 Dataframe"
   ]
  },
  {
   "cell_type": "code",
   "execution_count": 45,
   "metadata": {
    "ExecuteTime": {
     "end_time": "2022-02-01T20:05:08.868493Z",
     "start_time": "2022-02-01T20:05:08.850216Z"
    }
   },
   "outputs": [],
   "source": [
    "pickle.dump(df, open('D:\\\\my drive\\\\pessoal\\\\projetos\\\\bar_sales_forecast\\\\bar_sales_forecast\\\\exportings\\\\df_to_data_preparation.pkl', 'wb'))"
   ]
  },
  {
   "cell_type": "markdown",
   "metadata": {},
   "source": [
    "# Time"
   ]
  },
  {
   "cell_type": "code",
   "execution_count": 46,
   "metadata": {
    "ExecuteTime": {
     "end_time": "2022-02-01T20:05:08.884618Z",
     "start_time": "2022-02-01T20:05:08.868493Z"
    },
    "scrolled": false
   },
   "outputs": [
    {
     "name": "stdout",
     "output_type": "stream",
     "text": [
      "O projeto está processando em 0.7 minutos\n"
     ]
    }
   ],
   "source": [
    "print(f'O projeto está processando em {round((time.time() - tempo_agora) / 60, 2)} minutos')"
   ]
  }
 ],
 "metadata": {
  "colab": {
   "collapsed_sections": [
    "0HF0qpYdk0xV",
    "w-_LYSQasnJe",
    "Fo9oTiSg8rbZ",
    "U31eP2VVHvg9",
    "UacIu52kMNMg",
    "22bT8LnfMBt3",
    "TzLuw3sjXyhY",
    "O2ug0XzLKtqM",
    "sf_nq_yYHBsS",
    "ZFjFSSBJ8rc_",
    "ZWjNzZav8rdB",
    "zCUBbPWLK_X5",
    "jDtyW1P0Gsmw",
    "T8WjZTJEpFvP",
    "Cpow1jxqpLb0",
    "e3bxxfygpRiI",
    "oqZcGHvJpwCj",
    "e5qb0o_LqTP_",
    "kscRdU11qbLg",
    "1if3O7Hp2CiE",
    "rQPyhXVl28rl",
    "-72Zr6iIFZhE",
    "gWCr6E3AGuWH",
    "4ysWSC9hLjiY",
    "gCdSM9Zs8rdd",
    "LwXvqMa2LNGn",
    "oZrWcLSMKbOD",
    "ra12ehIdRbTI",
    "nJHHKLSPS0jU",
    "Py5_Zqc9Wg64",
    "9TDxHCc0VIHA",
    "TmQm9H9HQ9tp",
    "sFATzRpWQ4GI",
    "0xIwHrpJZxdL",
    "YEit4heSZ8ka",
    "vHcwYa1LCDhj",
    "Efet9OusCWdI",
    "bHhq7LSSEvW-",
    "xDmAggFurgFU",
    "bQQqTK761JJR",
    "MEJYDvL-ANMQ",
    "KEM5-O1Ppkex",
    "3Ck3cWlcqMYh",
    "TGCGUKeBqRMU",
    "BV4glKS7py2u",
    "4pDTzzVTp_Lt",
    "kdcXbcfSp_ZL",
    "ZrZjI8xpqA-d",
    "2rytJ8Svq5vm",
    "AgCU9hZ5qWJN",
    "WG1fldNvrDct",
    "aiI0z7R_rDn6",
    "kW1XcJQh8reQ",
    "w8JxHOWSHTP9",
    "R6fkx-LLHocO",
    "N8NMVv2k13d9",
    "6OnQY5tu1uVC",
    "WE-XTzm9f0F9",
    "V_jtQ5VoCvKK",
    "DB2pVJBfKYmW",
    "S5ek0TTc0I5R",
    "ZGWjtKQb0FqF",
    "0N_lULUf9Lj4",
    "uwbl82yxEin1",
    "1F1im0MWBT5S",
    "tr6occUiC-Dj",
    "EOOOcz5XDFsg",
    "2pArit2aB8VZ"
   ],
   "include_colab_link": true,
   "name": "predict_bar_sales.ipynb",
   "provenance": []
  },
  "kernelspec": {
   "display_name": "Python 3 (ipykernel)",
   "language": "python",
   "name": "python3"
  },
  "language_info": {
   "codemirror_mode": {
    "name": "ipython",
    "version": 3
   },
   "file_extension": ".py",
   "mimetype": "text/x-python",
   "name": "python",
   "nbconvert_exporter": "python",
   "pygments_lexer": "ipython3",
   "version": "3.9.7"
  }
 },
 "nbformat": 4,
 "nbformat_minor": 1
}
