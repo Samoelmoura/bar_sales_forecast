{
 "cells": [
  {
   "cell_type": "markdown",
   "metadata": {
    "heading_collapsed": true,
    "id": "0HF0qpYdk0xV"
   },
   "source": [
    "# 0.0 Business Problem"
   ]
  },
  {
   "cell_type": "markdown",
   "metadata": {
    "heading_collapsed": true,
    "hidden": true,
    "id": "jYxdwqYLPglj"
   },
   "source": [
    "## Estágio do projeto:\n",
    "Ciclo 1: Pipeline de dados funcional de ponta a ponta, desde a coleta dos dados até o treinamento do modelo.\n",
    "\n",
    "## 0.1 Cenário: \n",
    "O B7 Bar é um Snooker Bar localizado no Brasil, no estado de São Paulo e atua no setor de bares e restaurantes. Os principais produtos/serviços do B7 Snooker Bar são: aluguel de mesas de bilhar para utilização no local e venda de comidas e bebidas para consumo no local ou delivery.\n",
    "\n",
    "Faz parte da rotina de atividades do gestor de um bar, fazer previsões de demanda para oferecer os produtos que os clientes desejam sem interrupções. Uma boa gestão de estoque requer uma previsão de demanda assertiva, no ramo de bares, esta tarefa deve estar muito bem alinhada com sazonalidades, datas comemorativas, e outros eventos dos mais variados tipos. Como você bem sabe, às sextas e sábados os barzinhos estão quase sempre cheios, também nem precisaríamos te informar que cervejas combinam perfeitamente com o calor, portanto em dias quentes, nós esperamos um fluxo maior de vendas de cerveja.\n",
    "\n",
    "A empresa fez recentemente alguns cortes de horas extras e reduziu o horário de funcionamento no final do expediente. O conceito estragégico mudou de \"até ultimo cliente\", para \"horário fixo de encerramento\". Os gestores da empresa querem saber se o resultado financeiro foi positivo, sabendo-se que o corte com horas extras gerou 4000 reais em custos para a empresa.\n",
    "\n",
    "A empresa B7 é um bar, e como todo bar, nos referimos ao valor total consumido pela mesa como \"Comanda\". Este termo irá se repetir bastante durante o projeto. Os dados são reais, coletados entre 02/01/2018 e 20/03/2020, a receita vinda do aluguel de mesas de bilhar está integralmente contido no dataset, já as vendas correspondem a 40% dos itens reais vendidos, filtrados de forma aleatória. O businessday da empresa é de terça à domingo.\n",
    "\n",
    "## 0.2 Premissas:\n",
    "1. A margem líquida global da empresa é de 10% do faturamento total, independente do ítem vendido, pressupõe-se que a margem líquida seja de 10%.\n",
    "\n",
    "## 0.3 Estratégia da Solução:\n",
    "\n",
    "###### 0.3.1 Objetivos:\n",
    "1. Principais insights sobre as features mais importantes para o faturamento.\n",
    "2. Saldo monetário gerado pela mudança de estragégia da empresa quanto ao horário de encerramento.\n",
    "3. Qual será o faturamente total semanal imediatamente seguinte ao dataset? Qual será o faturamento total semanal dos produtos agregados por Classe 2.\n",
    "\n",
    "###### 0.3.2 Proposta de Solução:\n",
    "\n",
    "###### 0.3.3 Inputs:\n",
    "\n",
    "###### 0.3.4 Outputs:\n",
    "\n",
    "\n",
    "## 0.4 Sumário:\n",
    "\n",
    "## 0.5 Resultados e Conclusão:\n",
    "\n",
    "## 0.6 Significado das Features:\n",
    "\n",
    "###### 0.6.1 bilhar:\n",
    "1. No: ID da mesa aberta no sistema, é a 'key' da comanda do cliente no sistema, uma vêz que a comanda se encerra, este número nunca mais se repete.\n",
    "2. Name: Número da mesa física no ambiente de atendimento.\n",
    "3. Start Time: Horário de início da abertura da comanda do cliente.\n",
    "4. In use: Tempo em que a comanda permaneceu aberta (tempo em uso no sistema).\n",
    "5. Semana: Semana relativa do mês, a semana se inicia no dia 1, independente do dia semanal.\n",
    "6. Turno: Os turnos são divididos em dois. 'Tarde': do início do expediente, até às 21 horas, 'Noite': das 21 horas até o término das atividades. O turno é definido de acordo com o horário de abertura da comanda.\n",
    "7. Total Bilhar: Total pago de bilhar por comanda.\n",
    "8. Pago: Valor total pago pela comanda, engloba os produtos consumidos e o aluguel do bilhar.\n",
    "9. Preço/Hora: Custo do bilhar por hora. O bilhar é cobrado por hora e não por partida (ficha). Os preços podem variar de acordo com dias de semana, promoções e tamanho de mesa de bilhar (A casa conta com mesas de bilhar de tamanho oficial, semi-oficial, oficial americana, e universitárias.\n",
    "10. Data: Data do início da abertura da comanda.\n",
    "\n",
    "###### 0.6.2 produtos:\n",
    "1. Time: Horário da venda do ítem.\n",
    "2. Purchaser: Mesa física em que o produto foi servido.\n",
    "3. Item: Nome do produto\n",
    "4. Voucher: ID da mesa aberta no sistema, é a 'key' da comanda do cliente no sistema, uma vêz que a comanda se encerra, este número nunca mais se repete\n",
    "5. Name: Número da mesa física no ambiente de atendimento.\n",
    "6. Semana: Semana relativa do mês, a semana se inicia no dia 1, independente do dia semanal.\n",
    "7. Turno: Os turnos são divididos em dois. 'Tarde': do início do expediente, até às 21 horas, 'Noite': das 21 horas até o término das atividades. O turno é definido de acordo com a abertura da comanda.\n",
    "8. Classe 1: Classificação dos produtos segundo a sua natureza de consumo, diretamente relacionado aos setores, diferencia cozinha, bar, bilhar e etc.\n",
    "9. Classe 2: Classificação dos produtos de acordo com o tipo de insumo que pode ou não ser necessário para sua manipulação, útil para identificar custos diretos. Exemplo: Porções quentes quase sempre são fritas, portanto utilizam gordura vegetal para o seu processamento. Interessante para poder trabalhar melhor a gestão de custos.\n",
    "10. Classe 3: Classificação dos produtos de acordo com o nicho de clientes que atende, diferencia por exemplo cervejas Mainstream, Premium ou artesanais. Interessante para poder trabalhar melhor os direcionamentos de ações para melhorar as vendas.\n",
    "\n",
    "###### 0.6.3 clima:\n",
    "1. Data: Data de coleta.\n",
    "2. Temperatura minima diária: Temperatura mínima coletada. \n",
    "3. Temp maxima diaria: Temperatura máxima coletada.\n",
    "4. Vento constante máximo: Velocidade do vento máxima (nada se sabe sobre o critério do \"constante/rajada\".\n",
    "5. Rajada de vento máxima: Rajada de vento máxima (nada se sabe sobre o critério do \"constante/rajada\").\n",
    "6. Espessura de neve: 100% de dados ausentes.\n",
    "7. Pressão: 100% de dados ausentes.\n",
    "8. Ícone: 100% de dados ausentes.\n",
    "9. Descrição: Classificação categórica qualitativa sobre a ocorrência ou não de: raios, chuvas, nevoeiros ou Outros."
   ]
  },
  {
   "cell_type": "markdown",
   "metadata": {
    "heading_collapsed": true,
    "id": "w-_LYSQasnJe"
   },
   "source": [
    "# 1.0 Imports"
   ]
  },
  {
   "cell_type": "markdown",
   "metadata": {
    "heading_collapsed": true,
    "hidden": true
   },
   "source": [
    "###### 1.1 Importing libraries"
   ]
  },
  {
   "cell_type": "code",
   "execution_count": 45,
   "metadata": {
    "hidden": true
   },
   "outputs": [],
   "source": [
    "import pandas as pd\n",
    "import numpy as np\n",
    "import matplotlib.pyplot as plt\n",
    "import seaborn as sns\n",
    "\n",
    "import time\n",
    "\n",
    "tempo_agora = time.time() # Tempo inicial"
   ]
  },
  {
   "cell_type": "markdown",
   "metadata": {
    "heading_collapsed": true,
    "hidden": true
   },
   "source": [
    "###### 1.2 Loading datasets"
   ]
  },
  {
   "cell_type": "code",
   "execution_count": 46,
   "metadata": {
    "hidden": true
   },
   "outputs": [],
   "source": [
    "bilhar = pd.read_csv('C:\\\\Users\\\\Notebook\\\\Google Drive\\\\Pessoal\\\\Projetos\\\\bar_sales_forecast\\\\bilhar.csv')\n",
    "produtos = pd.read_csv('C:\\\\Users\\\\Notebook\\\\Google Drive\\\\Pessoal\\\\Projetos\\\\bar_sales_forecast\\\\produtos.csv')\n",
    "clima = pd.read_csv('C:\\\\Users\\\\Notebook\\\\Google Drive\\\\Pessoal\\\\Projetos\\\\bar_sales_forecast\\\\clima.csv')"
   ]
  },
  {
   "cell_type": "markdown",
   "metadata": {
    "heading_collapsed": true,
    "hidden": true
   },
   "source": [
    "###### 1.3 Helper Functions"
   ]
  },
  {
   "cell_type": "code",
   "execution_count": null,
   "metadata": {
    "hidden": true
   },
   "outputs": [],
   "source": []
  },
  {
   "cell_type": "markdown",
   "metadata": {
    "id": "Fo9oTiSg8rbZ"
   },
   "source": [
    "# 2.0 Data description and cleaning"
   ]
  },
  {
   "cell_type": "markdown",
   "metadata": {
    "heading_collapsed": true
   },
   "source": [
    "## 2.1 Bilhar"
   ]
  },
  {
   "cell_type": "markdown",
   "metadata": {
    "heading_collapsed": true,
    "hidden": true
   },
   "source": [
    "### 2.1.1 General Analysis"
   ]
  },
  {
   "cell_type": "markdown",
   "metadata": {
    "heading_collapsed": true,
    "hidden": true
   },
   "source": [
    "###### 2.1.1.1 Looking dataset"
   ]
  },
  {
   "cell_type": "code",
   "execution_count": 47,
   "metadata": {
    "hidden": true
   },
   "outputs": [
    {
     "data": {
      "text/html": [
       "<div>\n",
       "<style scoped>\n",
       "    .dataframe tbody tr th:only-of-type {\n",
       "        vertical-align: middle;\n",
       "    }\n",
       "\n",
       "    .dataframe tbody tr th {\n",
       "        vertical-align: top;\n",
       "    }\n",
       "\n",
       "    .dataframe thead th {\n",
       "        text-align: right;\n",
       "    }\n",
       "</style>\n",
       "<table border=\"1\" class=\"dataframe\">\n",
       "  <thead>\n",
       "    <tr style=\"text-align: right;\">\n",
       "      <th></th>\n",
       "      <th>#No</th>\n",
       "      <th>Name</th>\n",
       "      <th>#Start Time</th>\n",
       "      <th>In Use</th>\n",
       "      <th>Semana</th>\n",
       "      <th>Turno</th>\n",
       "      <th>Total Bilhar</th>\n",
       "      <th>Pago</th>\n",
       "      <th>#Preço/Hora</th>\n",
       "      <th>Data</th>\n",
       "    </tr>\n",
       "  </thead>\n",
       "  <tbody>\n",
       "    <tr>\n",
       "      <th>0</th>\n",
       "      <td>848</td>\n",
       "      <td>***Quarta1***</td>\n",
       "      <td>1/00:45</td>\n",
       "      <td>0:15</td>\n",
       "      <td>5</td>\n",
       "      <td>Noite</td>\n",
       "      <td>2.0</td>\n",
       "      <td>2.00</td>\n",
       "      <td>3.5</td>\n",
       "      <td>5/31/2017</td>\n",
       "    </tr>\n",
       "    <tr>\n",
       "      <th>1</th>\n",
       "      <td>829</td>\n",
       "      <td>Guest(30)</td>\n",
       "      <td>31/18:06</td>\n",
       "      <td>6:24</td>\n",
       "      <td>5</td>\n",
       "      <td>Tarde</td>\n",
       "      <td>0.0</td>\n",
       "      <td>24.60</td>\n",
       "      <td>0.0</td>\n",
       "      <td>5/31/2017</td>\n",
       "    </tr>\n",
       "    <tr>\n",
       "      <th>2</th>\n",
       "      <td>836</td>\n",
       "      <td>Guest(28)</td>\n",
       "      <td>31/20:46</td>\n",
       "      <td>4:28</td>\n",
       "      <td>5</td>\n",
       "      <td>Tarde</td>\n",
       "      <td>0.0</td>\n",
       "      <td>4.50</td>\n",
       "      <td>0.0</td>\n",
       "      <td>5/31/2017</td>\n",
       "    </tr>\n",
       "    <tr>\n",
       "      <th>3</th>\n",
       "      <td>838</td>\n",
       "      <td>Guest(27)</td>\n",
       "      <td>31/20:57</td>\n",
       "      <td>3:25</td>\n",
       "      <td>5</td>\n",
       "      <td>Tarde</td>\n",
       "      <td>0.0</td>\n",
       "      <td>29.72</td>\n",
       "      <td>0.0</td>\n",
       "      <td>5/31/2017</td>\n",
       "    </tr>\n",
       "    <tr>\n",
       "      <th>4</th>\n",
       "      <td>844</td>\n",
       "      <td>Guest(14)</td>\n",
       "      <td>31/22:16</td>\n",
       "      <td>2:47</td>\n",
       "      <td>5</td>\n",
       "      <td>Noite</td>\n",
       "      <td>0.0</td>\n",
       "      <td>48.30</td>\n",
       "      <td>0.0</td>\n",
       "      <td>5/31/2017</td>\n",
       "    </tr>\n",
       "  </tbody>\n",
       "</table>\n",
       "</div>"
      ],
      "text/plain": [
       "   #No           Name #Start Time In Use  Semana  Turno  Total Bilhar   Pago  \\\n",
       "0  848  ***Quarta1***     1/00:45   0:15       5  Noite           2.0   2.00   \n",
       "1  829      Guest(30)    31/18:06   6:24       5  Tarde           0.0  24.60   \n",
       "2  836      Guest(28)    31/20:46   4:28       5  Tarde           0.0   4.50   \n",
       "3  838      Guest(27)    31/20:57   3:25       5  Tarde           0.0  29.72   \n",
       "4  844      Guest(14)    31/22:16   2:47       5  Noite           0.0  48.30   \n",
       "\n",
       "   #Preço/Hora       Data  \n",
       "0          3.5  5/31/2017  \n",
       "1          0.0  5/31/2017  \n",
       "2          0.0  5/31/2017  \n",
       "3          0.0  5/31/2017  \n",
       "4          0.0  5/31/2017  "
      ]
     },
     "execution_count": 47,
     "metadata": {},
     "output_type": "execute_result"
    }
   ],
   "source": [
    "bilhar.head(5)"
   ]
  },
  {
   "cell_type": "markdown",
   "metadata": {
    "heading_collapsed": true,
    "hidden": true
   },
   "source": [
    "###### 2.1.1.2 Check NaN values"
   ]
  },
  {
   "cell_type": "code",
   "execution_count": 48,
   "metadata": {
    "hidden": true,
    "scrolled": true
   },
   "outputs": [
    {
     "data": {
      "text/plain": [
       "#No             0.0\n",
       "Name              0\n",
       "#Start Time       0\n",
       "In Use            0\n",
       "Semana          0.0\n",
       "Turno             0\n",
       "Total Bilhar    0.0\n",
       "Pago            0.0\n",
       "#Preço/Hora     0.0\n",
       "Data              0\n",
       "dtype: object"
      ]
     },
     "execution_count": 48,
     "metadata": {},
     "output_type": "execute_result"
    }
   ],
   "source": [
    "bilhar[bilhar.isnull()].sum()"
   ]
  },
  {
   "cell_type": "markdown",
   "metadata": {
    "heading_collapsed": true,
    "hidden": true
   },
   "source": [
    "###### 2.1.1.3 Data types"
   ]
  },
  {
   "cell_type": "code",
   "execution_count": 49,
   "metadata": {
    "hidden": true,
    "scrolled": true
   },
   "outputs": [
    {
     "data": {
      "text/plain": [
       "#No               int64\n",
       "Name             object\n",
       "#Start Time      object\n",
       "In Use           object\n",
       "Semana            int64\n",
       "Turno            object\n",
       "Total Bilhar    float64\n",
       "Pago            float64\n",
       "#Preço/Hora     float64\n",
       "Data             object\n",
       "dtype: object"
      ]
     },
     "execution_count": 49,
     "metadata": {},
     "output_type": "execute_result"
    }
   ],
   "source": [
    "bilhar.dtypes"
   ]
  },
  {
   "cell_type": "markdown",
   "metadata": {
    "heading_collapsed": true,
    "hidden": true
   },
   "source": [
    "###### 2.1.1.4 Data dimensions"
   ]
  },
  {
   "cell_type": "code",
   "execution_count": 50,
   "metadata": {
    "hidden": true
   },
   "outputs": [
    {
     "name": "stdout",
     "output_type": "stream",
     "text": [
      "Qty of rows: 34338\n",
      "Qty of columns: 34338\n"
     ]
    }
   ],
   "source": [
    "print(f'Qty of rows: {bilhar.shape[0]}')\n",
    "print(f'Qty of columns: {bilhar.shape[0]}')"
   ]
  },
  {
   "cell_type": "markdown",
   "metadata": {
    "heading_collapsed": true,
    "hidden": true
   },
   "source": [
    "### 2.1.2 Data Cleaning"
   ]
  },
  {
   "cell_type": "markdown",
   "metadata": {
    "heading_collapsed": true,
    "hidden": true
   },
   "source": [
    "###### 2.1.2.1 Adjusting #Start Time to datetimeindex format"
   ]
  },
  {
   "cell_type": "code",
   "execution_count": 51,
   "metadata": {
    "hidden": true
   },
   "outputs": [],
   "source": [
    "bilhar['start_time'] = bilhar['#Start Time'].apply(lambda x: x.split('/')[1])\n",
    "bilhar.drop('#Start Time', axis=1, inplace=True)"
   ]
  },
  {
   "cell_type": "markdown",
   "metadata": {
    "heading_collapsed": true,
    "hidden": true
   },
   "source": [
    "###### 2.1.2.2 Adjusting #Data to datetime format"
   ]
  },
  {
   "cell_type": "code",
   "execution_count": 52,
   "metadata": {
    "hidden": true
   },
   "outputs": [],
   "source": [
    "bilhar['Data'] = bilhar['Data'].str.replace('/', '-').str.strip()"
   ]
  },
  {
   "cell_type": "markdown",
   "metadata": {
    "heading_collapsed": true,
    "hidden": true
   },
   "source": [
    "###### 2.1.2.3 Creating datetime feature"
   ]
  },
  {
   "cell_type": "code",
   "execution_count": 53,
   "metadata": {
    "hidden": true
   },
   "outputs": [],
   "source": [
    "bilhar['datetime'] = bilhar['Data'] + '-' + bilhar['start_time']\n",
    "bilhar['datetime'] = pd.to_datetime(bilhar['datetime'])\n",
    "bilhar.drop('Data', axis=1, inplace=True)\n",
    "bilhar.drop('start_time', axis=1, inplace=True)"
   ]
  },
  {
   "cell_type": "markdown",
   "metadata": {
    "heading_collapsed": true,
    "hidden": true
   },
   "source": [
    "###### 2.1.2.4 Changing interesting feature names"
   ]
  },
  {
   "cell_type": "code",
   "execution_count": 54,
   "metadata": {
    "hidden": true
   },
   "outputs": [],
   "source": [
    "bilhar.rename(columns={'#No':'id'}, inplace=True)"
   ]
  },
  {
   "cell_type": "markdown",
   "metadata": {},
   "source": [
    "## 2.2 Produtos"
   ]
  },
  {
   "cell_type": "markdown",
   "metadata": {},
   "source": [
    "### 2.2.1 General Analysis"
   ]
  },
  {
   "cell_type": "markdown",
   "metadata": {},
   "source": [
    "###### 2.2.1.1 Looking dataset"
   ]
  },
  {
   "cell_type": "code",
   "execution_count": 58,
   "metadata": {},
   "outputs": [
    {
     "data": {
      "text/html": [
       "<div>\n",
       "<style scoped>\n",
       "    .dataframe tbody tr th:only-of-type {\n",
       "        vertical-align: middle;\n",
       "    }\n",
       "\n",
       "    .dataframe tbody tr th {\n",
       "        vertical-align: top;\n",
       "    }\n",
       "\n",
       "    .dataframe thead th {\n",
       "        text-align: right;\n",
       "    }\n",
       "</style>\n",
       "<table border=\"1\" class=\"dataframe\">\n",
       "  <thead>\n",
       "    <tr style=\"text-align: right;\">\n",
       "      <th></th>\n",
       "      <th>#Time</th>\n",
       "      <th>Purchaser</th>\n",
       "      <th>Item</th>\n",
       "      <th>#Voucher</th>\n",
       "      <th>Semana</th>\n",
       "      <th>Turno</th>\n",
       "      <th>Classe 1</th>\n",
       "      <th>Classe 2</th>\n",
       "      <th>Classe 3</th>\n",
       "      <th>Preço</th>\n",
       "      <th>Total Venda</th>\n",
       "      <th>Data</th>\n",
       "      <th>Quantidade</th>\n",
       "    </tr>\n",
       "  </thead>\n",
       "  <tbody>\n",
       "    <tr>\n",
       "      <th>0</th>\n",
       "      <td>2/23:50:26</td>\n",
       "      <td>Mesa 1</td>\n",
       "      <td>10%</td>\n",
       "      <td>150</td>\n",
       "      <td>1</td>\n",
       "      <td>Noite</td>\n",
       "      <td>Gorjeta</td>\n",
       "      <td>NaN</td>\n",
       "      <td>NaN</td>\n",
       "      <td>0.1</td>\n",
       "      <td>1.6</td>\n",
       "      <td>5/2/2017</td>\n",
       "      <td>16</td>\n",
       "    </tr>\n",
       "    <tr>\n",
       "      <th>1</th>\n",
       "      <td>2/23:56:18</td>\n",
       "      <td>Mesa 5</td>\n",
       "      <td>10%</td>\n",
       "      <td>151</td>\n",
       "      <td>1</td>\n",
       "      <td>Noite</td>\n",
       "      <td>Gorjeta</td>\n",
       "      <td>NaN</td>\n",
       "      <td>NaN</td>\n",
       "      <td>0.1</td>\n",
       "      <td>3.7</td>\n",
       "      <td>5/2/2017</td>\n",
       "      <td>37</td>\n",
       "    </tr>\n",
       "    <tr>\n",
       "      <th>2</th>\n",
       "      <td>3/00:43:47</td>\n",
       "      <td>Mesa 1</td>\n",
       "      <td>10%</td>\n",
       "      <td>153</td>\n",
       "      <td>1</td>\n",
       "      <td>Noite</td>\n",
       "      <td>Gorjeta</td>\n",
       "      <td>NaN</td>\n",
       "      <td>NaN</td>\n",
       "      <td>0.1</td>\n",
       "      <td>1.5</td>\n",
       "      <td>5/2/2017</td>\n",
       "      <td>15</td>\n",
       "    </tr>\n",
       "    <tr>\n",
       "      <th>3</th>\n",
       "      <td>3/01:04:07</td>\n",
       "      <td>Mesa 5</td>\n",
       "      <td>10%</td>\n",
       "      <td>155</td>\n",
       "      <td>1</td>\n",
       "      <td>Noite</td>\n",
       "      <td>Gorjeta</td>\n",
       "      <td>NaN</td>\n",
       "      <td>NaN</td>\n",
       "      <td>0.1</td>\n",
       "      <td>2.4</td>\n",
       "      <td>5/2/2017</td>\n",
       "      <td>24</td>\n",
       "    </tr>\n",
       "    <tr>\n",
       "      <th>4</th>\n",
       "      <td>3/00:43:35</td>\n",
       "      <td>Mesa 1</td>\n",
       "      <td>Agua s/ Gás</td>\n",
       "      <td>153</td>\n",
       "      <td>1</td>\n",
       "      <td>Noite</td>\n",
       "      <td>Bar</td>\n",
       "      <td>Sem Álcool</td>\n",
       "      <td>NaN</td>\n",
       "      <td>3.0</td>\n",
       "      <td>6.0</td>\n",
       "      <td>5/2/2017</td>\n",
       "      <td>2</td>\n",
       "    </tr>\n",
       "  </tbody>\n",
       "</table>\n",
       "</div>"
      ],
      "text/plain": [
       "         #Time Purchaser         Item  #Voucher  Semana  Turno Classe 1  \\\n",
       "0   2/23:50:26    Mesa 1          10%       150       1  Noite  Gorjeta   \n",
       "1   2/23:56:18    Mesa 5          10%       151       1  Noite  Gorjeta   \n",
       "2   3/00:43:47    Mesa 1          10%       153       1  Noite  Gorjeta   \n",
       "3   3/01:04:07    Mesa 5          10%       155       1  Noite  Gorjeta   \n",
       "4   3/00:43:35    Mesa 1  Agua s/ Gás       153       1  Noite      Bar   \n",
       "\n",
       "     Classe 2 Classe 3  Preço  Total Venda      Data  Quantidade  \n",
       "0         NaN      NaN    0.1          1.6  5/2/2017          16  \n",
       "1         NaN      NaN    0.1          3.7  5/2/2017          37  \n",
       "2         NaN      NaN    0.1          1.5  5/2/2017          15  \n",
       "3         NaN      NaN    0.1          2.4  5/2/2017          24  \n",
       "4  Sem Álcool      NaN    3.0          6.0  5/2/2017           2  "
      ]
     },
     "execution_count": 58,
     "metadata": {},
     "output_type": "execute_result"
    }
   ],
   "source": [
    "produtos.head(5)"
   ]
  },
  {
   "cell_type": "markdown",
   "metadata": {
    "heading_collapsed": true
   },
   "source": [
    "# 3.0 Feature Engineering"
   ]
  },
  {
   "cell_type": "markdown",
   "metadata": {
    "heading_collapsed": true
   },
   "source": [
    "# 4.0 Business Hypothesis"
   ]
  },
  {
   "cell_type": "markdown",
   "metadata": {
    "heading_collapsed": true
   },
   "source": [
    "# 5.0 Exploratory Data Analysis "
   ]
  },
  {
   "cell_type": "markdown",
   "metadata": {
    "heading_collapsed": true
   },
   "source": [
    "# 6.0 Training Machine Learning Model"
   ]
  },
  {
   "cell_type": "markdown",
   "metadata": {
    "heading_collapsed": true
   },
   "source": [
    "# 7.0 Results and Conclusions"
   ]
  },
  {
   "cell_type": "markdown",
   "metadata": {},
   "source": [
    "# Time"
   ]
  },
  {
   "cell_type": "code",
   "execution_count": 9,
   "metadata": {},
   "outputs": [
    {
     "name": "stdout",
     "output_type": "stream",
     "text": [
      "O projeto está processando em 2.17 minutos\n"
     ]
    }
   ],
   "source": [
    "print(f'O projeto está processando em {round((time.time() - tempo_agora) / 60, 2)} minutos')"
   ]
  },
  {
   "cell_type": "markdown",
   "metadata": {
    "heading_collapsed": true
   },
   "source": [
    "# Continua"
   ]
  }
 ],
 "metadata": {
  "colab": {
   "collapsed_sections": [
    "0HF0qpYdk0xV",
    "w-_LYSQasnJe",
    "Fo9oTiSg8rbZ",
    "U31eP2VVHvg9",
    "UacIu52kMNMg",
    "22bT8LnfMBt3",
    "TzLuw3sjXyhY",
    "O2ug0XzLKtqM",
    "sf_nq_yYHBsS",
    "ZFjFSSBJ8rc_",
    "ZWjNzZav8rdB",
    "zCUBbPWLK_X5",
    "jDtyW1P0Gsmw",
    "T8WjZTJEpFvP",
    "Cpow1jxqpLb0",
    "e3bxxfygpRiI",
    "oqZcGHvJpwCj",
    "e5qb0o_LqTP_",
    "kscRdU11qbLg",
    "1if3O7Hp2CiE",
    "rQPyhXVl28rl",
    "-72Zr6iIFZhE",
    "gWCr6E3AGuWH",
    "4ysWSC9hLjiY",
    "gCdSM9Zs8rdd",
    "LwXvqMa2LNGn",
    "oZrWcLSMKbOD",
    "ra12ehIdRbTI",
    "nJHHKLSPS0jU",
    "Py5_Zqc9Wg64",
    "9TDxHCc0VIHA",
    "TmQm9H9HQ9tp",
    "sFATzRpWQ4GI",
    "0xIwHrpJZxdL",
    "YEit4heSZ8ka",
    "vHcwYa1LCDhj",
    "Efet9OusCWdI",
    "bHhq7LSSEvW-",
    "xDmAggFurgFU",
    "bQQqTK761JJR",
    "MEJYDvL-ANMQ",
    "KEM5-O1Ppkex",
    "3Ck3cWlcqMYh",
    "TGCGUKeBqRMU",
    "BV4glKS7py2u",
    "4pDTzzVTp_Lt",
    "kdcXbcfSp_ZL",
    "ZrZjI8xpqA-d",
    "2rytJ8Svq5vm",
    "AgCU9hZ5qWJN",
    "WG1fldNvrDct",
    "aiI0z7R_rDn6",
    "kW1XcJQh8reQ",
    "w8JxHOWSHTP9",
    "R6fkx-LLHocO",
    "N8NMVv2k13d9",
    "6OnQY5tu1uVC",
    "WE-XTzm9f0F9",
    "V_jtQ5VoCvKK",
    "DB2pVJBfKYmW",
    "S5ek0TTc0I5R",
    "ZGWjtKQb0FqF",
    "0N_lULUf9Lj4",
    "uwbl82yxEin1",
    "1F1im0MWBT5S",
    "tr6occUiC-Dj",
    "EOOOcz5XDFsg",
    "2pArit2aB8VZ"
   ],
   "include_colab_link": true,
   "name": "predict_bar_sales.ipynb",
   "provenance": []
  },
  "kernelspec": {
   "display_name": "Python 3",
   "language": "python",
   "name": "python3"
  },
  "language_info": {
   "codemirror_mode": {
    "name": "ipython",
    "version": 3
   },
   "file_extension": ".py",
   "mimetype": "text/x-python",
   "name": "python",
   "nbconvert_exporter": "python",
   "pygments_lexer": "ipython3",
   "version": "3.8.8"
  }
 },
 "nbformat": 4,
 "nbformat_minor": 1
}
