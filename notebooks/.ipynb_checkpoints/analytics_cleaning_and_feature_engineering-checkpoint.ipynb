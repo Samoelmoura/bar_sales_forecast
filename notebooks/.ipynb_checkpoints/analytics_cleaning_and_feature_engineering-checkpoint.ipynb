{
 "cells": [
  {
   "cell_type": "markdown",
   "id": "a14cc61b",
   "metadata": {
    "heading_collapsed": true
   },
   "source": [
    "# Reports\n",
    "1. Inputs: data e business problem\n",
    "2. Outputs: results conclusions and request API"
   ]
  },
  {
   "cell_type": "markdown",
   "metadata": {
    "heading_collapsed": true,
    "id": "w-_LYSQasnJe"
   },
   "source": [
    "# 1.0 Imports"
   ]
  },
  {
   "cell_type": "markdown",
   "metadata": {
    "heading_collapsed": true,
    "hidden": true
   },
   "source": [
    "###### 1.1 Importing libraries"
   ]
  },
  {
   "cell_type": "code",
   "execution_count": 1,
   "metadata": {
    "hidden": true
   },
   "outputs": [],
   "source": [
    "import pandas as pd\n",
    "import numpy as np\n",
    "import matplotlib.pyplot as plt\n",
    "import seaborn as sns\n",
    "\n",
    "import pickle\n",
    "\n",
    "import time\n",
    "\n",
    "import re\n",
    "\n",
    "tempo_agora = time.time() # Tempo inicial"
   ]
  },
  {
   "cell_type": "markdown",
   "metadata": {
    "heading_collapsed": true,
    "hidden": true
   },
   "source": [
    "###### 1.2 Loading datasets"
   ]
  },
  {
   "cell_type": "code",
   "execution_count": 2,
   "metadata": {
    "hidden": true
   },
   "outputs": [],
   "source": [
    "billiard = pd.read_csv('D:\\\\My Drive\\\\Pessoal\\\\Projetos\\\\bar_sales_forecast\\\\bar_sales_forecast\\\\billiard.csv')\n",
    "sales = pd.read_csv('D:\\\\My Drive\\\\Pessoal\\\\Projetos\\\\bar_sales_forecast\\\\bar_sales_forecast\\\\sales.csv')\n",
    "climate = pd.read_csv('D:\\\\My Drive\\\\Pessoal\\\\Projetos\\\\bar_sales_forecast\\\\bar_sales_forecast\\\\climate.csv')"
   ]
  },
  {
   "cell_type": "markdown",
   "metadata": {
    "heading_collapsed": true,
    "hidden": true
   },
   "source": [
    "###### 1.3 Helper Functions"
   ]
  },
  {
   "cell_type": "markdown",
   "metadata": {
    "heading_collapsed": true,
    "id": "Fo9oTiSg8rbZ"
   },
   "source": [
    "# 2.0 Data Description and Data Cleaning"
   ]
  },
  {
   "cell_type": "markdown",
   "metadata": {
    "heading_collapsed": true,
    "hidden": true
   },
   "source": [
    "## 2.1 Billiard"
   ]
  },
  {
   "cell_type": "markdown",
   "metadata": {
    "heading_collapsed": true,
    "hidden": true
   },
   "source": [
    "### 2.1.1 General Analysis"
   ]
  },
  {
   "cell_type": "markdown",
   "metadata": {
    "heading_collapsed": true,
    "hidden": true
   },
   "source": [
    "###### 2.1.1.1 Looking dataset"
   ]
  },
  {
   "cell_type": "code",
   "execution_count": 3,
   "metadata": {
    "hidden": true,
    "scrolled": false
   },
   "outputs": [
    {
     "data": {
      "text/html": [
       "<div>\n",
       "<style scoped>\n",
       "    .dataframe tbody tr th:only-of-type {\n",
       "        vertical-align: middle;\n",
       "    }\n",
       "\n",
       "    .dataframe tbody tr th {\n",
       "        vertical-align: top;\n",
       "    }\n",
       "\n",
       "    .dataframe thead th {\n",
       "        text-align: right;\n",
       "    }\n",
       "</style>\n",
       "<table border=\"1\" class=\"dataframe\">\n",
       "  <thead>\n",
       "    <tr style=\"text-align: right;\">\n",
       "      <th></th>\n",
       "      <th>Unnamed: 0</th>\n",
       "      <th>Unnamed: 0.1</th>\n",
       "      <th>Data</th>\n",
       "      <th>#No</th>\n",
       "      <th>Name</th>\n",
       "      <th>#Start Time</th>\n",
       "      <th>In Use</th>\n",
       "      <th>Semana</th>\n",
       "      <th>Turno</th>\n",
       "      <th>Total Bilhar</th>\n",
       "      <th>Pago</th>\n",
       "      <th>#Preço/Hora</th>\n",
       "    </tr>\n",
       "  </thead>\n",
       "  <tbody>\n",
       "    <tr>\n",
       "      <th>0</th>\n",
       "      <td>0</td>\n",
       "      <td>0</td>\n",
       "      <td>2019-01-02</td>\n",
       "      <td>20405</td>\n",
       "      <td>Guest(40)</td>\n",
       "      <td>2/17:17</td>\n",
       "      <td>8:10</td>\n",
       "      <td>1</td>\n",
       "      <td>Tarde</td>\n",
       "      <td>0.0</td>\n",
       "      <td>26.50</td>\n",
       "      <td>0.0</td>\n",
       "    </tr>\n",
       "    <tr>\n",
       "      <th>1</th>\n",
       "      <td>1</td>\n",
       "      <td>1</td>\n",
       "      <td>2019-01-02</td>\n",
       "      <td>20406</td>\n",
       "      <td>Mesa 3</td>\n",
       "      <td>2/18:30</td>\n",
       "      <td>1:01</td>\n",
       "      <td>1</td>\n",
       "      <td>Tarde</td>\n",
       "      <td>8.0</td>\n",
       "      <td>8.00</td>\n",
       "      <td>8.0</td>\n",
       "    </tr>\n",
       "    <tr>\n",
       "      <th>2</th>\n",
       "      <td>2</td>\n",
       "      <td>2</td>\n",
       "      <td>2019-01-02</td>\n",
       "      <td>20407</td>\n",
       "      <td>Mesa 9</td>\n",
       "      <td>2/19:12</td>\n",
       "      <td>0:48</td>\n",
       "      <td>1</td>\n",
       "      <td>Tarde</td>\n",
       "      <td>6.5</td>\n",
       "      <td>6.50</td>\n",
       "      <td>8.0</td>\n",
       "    </tr>\n",
       "    <tr>\n",
       "      <th>3</th>\n",
       "      <td>3</td>\n",
       "      <td>3</td>\n",
       "      <td>2019-01-02</td>\n",
       "      <td>20408</td>\n",
       "      <td>Mesa 4</td>\n",
       "      <td>2/19:31</td>\n",
       "      <td>1:07</td>\n",
       "      <td>1</td>\n",
       "      <td>Tarde</td>\n",
       "      <td>8.0</td>\n",
       "      <td>76.20</td>\n",
       "      <td>8.0</td>\n",
       "    </tr>\n",
       "    <tr>\n",
       "      <th>4</th>\n",
       "      <td>4</td>\n",
       "      <td>4</td>\n",
       "      <td>2019-01-02</td>\n",
       "      <td>20409</td>\n",
       "      <td>Mesa 2</td>\n",
       "      <td>2/19:45</td>\n",
       "      <td>3:12</td>\n",
       "      <td>1</td>\n",
       "      <td>Tarde</td>\n",
       "      <td>15.5</td>\n",
       "      <td>80.01</td>\n",
       "      <td>8.0</td>\n",
       "    </tr>\n",
       "  </tbody>\n",
       "</table>\n",
       "</div>"
      ],
      "text/plain": [
       "   Unnamed: 0  Unnamed: 0.1        Data    #No       Name #Start Time In Use  \\\n",
       "0           0             0  2019-01-02  20405  Guest(40)     2/17:17   8:10   \n",
       "1           1             1  2019-01-02  20406     Mesa 3     2/18:30   1:01   \n",
       "2           2             2  2019-01-02  20407     Mesa 9     2/19:12   0:48   \n",
       "3           3             3  2019-01-02  20408     Mesa 4     2/19:31   1:07   \n",
       "4           4             4  2019-01-02  20409     Mesa 2     2/19:45   3:12   \n",
       "\n",
       "   Semana  Turno  Total Bilhar   Pago  #Preço/Hora  \n",
       "0       1  Tarde           0.0  26.50          0.0  \n",
       "1       1  Tarde           8.0   8.00          8.0  \n",
       "2       1  Tarde           6.5   6.50          8.0  \n",
       "3       1  Tarde           8.0  76.20          8.0  \n",
       "4       1  Tarde          15.5  80.01          8.0  "
      ]
     },
     "execution_count": 3,
     "metadata": {},
     "output_type": "execute_result"
    }
   ],
   "source": [
    "billiard.head(5)"
   ]
  },
  {
   "cell_type": "markdown",
   "metadata": {
    "heading_collapsed": true,
    "hidden": true
   },
   "source": [
    "###### 2.1.1.2 Check NaN values"
   ]
  },
  {
   "cell_type": "code",
   "execution_count": 4,
   "metadata": {
    "hidden": true,
    "scrolled": false
   },
   "outputs": [
    {
     "data": {
      "text/plain": [
       "Unnamed: 0      0.0\n",
       "Unnamed: 0.1    0.0\n",
       "Data              0\n",
       "#No             0.0\n",
       "Name              0\n",
       "#Start Time       0\n",
       "In Use            0\n",
       "Semana          0.0\n",
       "Turno             0\n",
       "Total Bilhar    0.0\n",
       "Pago            0.0\n",
       "#Preço/Hora     0.0\n",
       "dtype: object"
      ]
     },
     "execution_count": 4,
     "metadata": {},
     "output_type": "execute_result"
    }
   ],
   "source": [
    "billiard[billiard.isnull()].sum()"
   ]
  },
  {
   "cell_type": "markdown",
   "metadata": {
    "heading_collapsed": true,
    "hidden": true
   },
   "source": [
    "###### 2.1.1.3 Data types"
   ]
  },
  {
   "cell_type": "code",
   "execution_count": 5,
   "metadata": {
    "hidden": true,
    "scrolled": true
   },
   "outputs": [
    {
     "data": {
      "text/plain": [
       "Unnamed: 0        int64\n",
       "Unnamed: 0.1      int64\n",
       "Data             object\n",
       "#No               int64\n",
       "Name             object\n",
       "#Start Time      object\n",
       "In Use           object\n",
       "Semana            int64\n",
       "Turno            object\n",
       "Total Bilhar    float64\n",
       "Pago            float64\n",
       "#Preço/Hora     float64\n",
       "dtype: object"
      ]
     },
     "execution_count": 5,
     "metadata": {},
     "output_type": "execute_result"
    }
   ],
   "source": [
    "billiard.dtypes"
   ]
  },
  {
   "cell_type": "markdown",
   "metadata": {
    "heading_collapsed": true,
    "hidden": true
   },
   "source": [
    "###### 2.1.1.4 Data dimensions"
   ]
  },
  {
   "cell_type": "code",
   "execution_count": 6,
   "metadata": {
    "hidden": true
   },
   "outputs": [
    {
     "name": "stdout",
     "output_type": "stream",
     "text": [
      "Qty of rows: 14015\n",
      "Qty of columns: 14015\n"
     ]
    }
   ],
   "source": [
    "print(f'Qty of rows: {billiard.shape[0]}')\n",
    "print(f'Qty of columns: {billiard.shape[0]}')"
   ]
  },
  {
   "cell_type": "markdown",
   "metadata": {
    "heading_collapsed": true,
    "hidden": true
   },
   "source": [
    "### 2.1.2 Data Cleaning"
   ]
  },
  {
   "cell_type": "markdown",
   "metadata": {
    "heading_collapsed": true,
    "hidden": true
   },
   "source": [
    "###### 2.1.2.1 Adjusting #Start Time to datetimeindex format"
   ]
  },
  {
   "cell_type": "code",
   "execution_count": 7,
   "metadata": {
    "hidden": true
   },
   "outputs": [],
   "source": [
    "billiard['start_time'] = billiard['#Start Time'].apply(lambda x: x.split('/')[1])"
   ]
  },
  {
   "cell_type": "markdown",
   "metadata": {
    "heading_collapsed": true,
    "hidden": true
   },
   "source": [
    "###### 2.1.2.2 Adjusting #Data to datetime format"
   ]
  },
  {
   "cell_type": "code",
   "execution_count": 8,
   "metadata": {
    "hidden": true
   },
   "outputs": [],
   "source": [
    "billiard['Data'] = billiard['Data'].str.replace('/', '-').str.strip()"
   ]
  },
  {
   "cell_type": "markdown",
   "metadata": {
    "heading_collapsed": true,
    "hidden": true
   },
   "source": [
    "###### 2.1.2.3 Creating datetime feature with datetime dtype"
   ]
  },
  {
   "cell_type": "code",
   "execution_count": 9,
   "metadata": {
    "hidden": true
   },
   "outputs": [],
   "source": [
    "billiard['datetime'] = billiard['Data'] + '-' + billiard['start_time']\n",
    "billiard['datetime'] = pd.to_datetime(billiard['datetime'])"
   ]
  },
  {
   "cell_type": "markdown",
   "metadata": {
    "heading_collapsed": true,
    "hidden": true
   },
   "source": [
    "###### 2.1.2.4 Changing interesting feature names"
   ]
  },
  {
   "cell_type": "code",
   "execution_count": 10,
   "metadata": {
    "hidden": true
   },
   "outputs": [],
   "source": [
    "billiard.rename(columns={'#No':'id'}, inplace=True)\n",
    "billiard.rename(columns={'Name':'purchaser'}, inplace=True)\n",
    "billiard.rename(columns={'Total Bilhar':'sale'}, inplace=True)\n",
    "billiard.rename(columns={'#Preço/Hora':'price'}, inplace=True)\n",
    "billiard.rename(columns={'Semana':'week'}, inplace=True)\n",
    "billiard.rename(columns={'Turno':'work_shift'}, inplace=True)\n",
    "billiard.rename(columns={'In Use':'in_use'}, inplace=True)"
   ]
  },
  {
   "cell_type": "markdown",
   "metadata": {
    "heading_collapsed": true,
    "hidden": true
   },
   "source": [
    "###### 2.1.2.5 Creating quantity feature"
   ]
  },
  {
   "cell_type": "code",
   "execution_count": 11,
   "metadata": {
    "hidden": true
   },
   "outputs": [],
   "source": [
    "billiard['quantity'] = round(billiard['sale'] / billiard['price'], 1)"
   ]
  },
  {
   "cell_type": "markdown",
   "metadata": {
    "heading_collapsed": true,
    "hidden": true
   },
   "source": [
    "###### 2.1.2.6 Creating item feature"
   ]
  },
  {
   "cell_type": "code",
   "execution_count": 12,
   "metadata": {
    "hidden": true
   },
   "outputs": [],
   "source": [
    "billiard['item'] = 'bilhar'"
   ]
  },
  {
   "cell_type": "markdown",
   "metadata": {
    "heading_collapsed": true,
    "hidden": true
   },
   "source": [
    "###### 2.1.2.7 Droping features"
   ]
  },
  {
   "cell_type": "code",
   "execution_count": 13,
   "metadata": {
    "hidden": true
   },
   "outputs": [],
   "source": [
    "billiard.drop(['Pago', 'Data', 'start_time', '#Start Time'], axis=1, inplace=True)"
   ]
  },
  {
   "cell_type": "markdown",
   "metadata": {
    "heading_collapsed": true,
    "hidden": true
   },
   "source": [
    "## 2.2 Sales"
   ]
  },
  {
   "cell_type": "markdown",
   "metadata": {
    "heading_collapsed": true,
    "hidden": true
   },
   "source": [
    "### 2.2.1 General Analysis"
   ]
  },
  {
   "cell_type": "markdown",
   "metadata": {
    "heading_collapsed": true,
    "hidden": true
   },
   "source": [
    "###### 2.2.1.1 Looking dataset"
   ]
  },
  {
   "cell_type": "code",
   "execution_count": 14,
   "metadata": {
    "hidden": true,
    "scrolled": true
   },
   "outputs": [
    {
     "data": {
      "text/html": [
       "<div>\n",
       "<style scoped>\n",
       "    .dataframe tbody tr th:only-of-type {\n",
       "        vertical-align: middle;\n",
       "    }\n",
       "\n",
       "    .dataframe tbody tr th {\n",
       "        vertical-align: top;\n",
       "    }\n",
       "\n",
       "    .dataframe thead th {\n",
       "        text-align: right;\n",
       "    }\n",
       "</style>\n",
       "<table border=\"1\" class=\"dataframe\">\n",
       "  <thead>\n",
       "    <tr style=\"text-align: right;\">\n",
       "      <th></th>\n",
       "      <th>#Time</th>\n",
       "      <th>Purchaser</th>\n",
       "      <th>Item</th>\n",
       "      <th>#Voucher</th>\n",
       "      <th>Semana</th>\n",
       "      <th>Turno</th>\n",
       "      <th>Classe 1</th>\n",
       "      <th>Classe 2</th>\n",
       "      <th>Classe 3</th>\n",
       "      <th>Preço</th>\n",
       "      <th>Total Venda</th>\n",
       "      <th>Data</th>\n",
       "      <th>Quantidade</th>\n",
       "    </tr>\n",
       "  </thead>\n",
       "  <tbody>\n",
       "    <tr>\n",
       "      <th>0</th>\n",
       "      <td>3/00:47:08</td>\n",
       "      <td>Guest(37)</td>\n",
       "      <td>Caips 2</td>\n",
       "      <td>20425</td>\n",
       "      <td>1</td>\n",
       "      <td>Noite</td>\n",
       "      <td>Bar</td>\n",
       "      <td>Drink</td>\n",
       "      <td>NaN</td>\n",
       "      <td>13.0</td>\n",
       "      <td>13.0</td>\n",
       "      <td>1/2/2019</td>\n",
       "      <td>1</td>\n",
       "    </tr>\n",
       "    <tr>\n",
       "      <th>1</th>\n",
       "      <td>2/22:58:30</td>\n",
       "      <td>Mesa 5</td>\n",
       "      <td>1500</td>\n",
       "      <td>20417</td>\n",
       "      <td>1</td>\n",
       "      <td>Noite</td>\n",
       "      <td>Bar</td>\n",
       "      <td>Cerveja</td>\n",
       "      <td>Mainstream</td>\n",
       "      <td>8.7</td>\n",
       "      <td>8.7</td>\n",
       "      <td>1/2/2019</td>\n",
       "      <td>1</td>\n",
       "    </tr>\n",
       "    <tr>\n",
       "      <th>2</th>\n",
       "      <td>2/23:02:40</td>\n",
       "      <td>Mesa 1</td>\n",
       "      <td>1500</td>\n",
       "      <td>20415</td>\n",
       "      <td>1</td>\n",
       "      <td>Noite</td>\n",
       "      <td>Bar</td>\n",
       "      <td>Cerveja</td>\n",
       "      <td>Mainstream</td>\n",
       "      <td>8.7</td>\n",
       "      <td>8.7</td>\n",
       "      <td>1/2/2019</td>\n",
       "      <td>1</td>\n",
       "    </tr>\n",
       "    <tr>\n",
       "      <th>3</th>\n",
       "      <td>2/19:32:10</td>\n",
       "      <td>Mesa 4</td>\n",
       "      <td>Agua c/ Gás</td>\n",
       "      <td>20408</td>\n",
       "      <td>1</td>\n",
       "      <td>Tarde</td>\n",
       "      <td>Bar</td>\n",
       "      <td>Sem Álcool</td>\n",
       "      <td>NaN</td>\n",
       "      <td>3.5</td>\n",
       "      <td>7.0</td>\n",
       "      <td>1/2/2019</td>\n",
       "      <td>2</td>\n",
       "    </tr>\n",
       "    <tr>\n",
       "      <th>4</th>\n",
       "      <td>2/22:49:33</td>\n",
       "      <td>Guest(25)</td>\n",
       "      <td>Agua c/ Gás</td>\n",
       "      <td>20413</td>\n",
       "      <td>1</td>\n",
       "      <td>Noite</td>\n",
       "      <td>Bar</td>\n",
       "      <td>Sem Álcool</td>\n",
       "      <td>NaN</td>\n",
       "      <td>3.5</td>\n",
       "      <td>3.5</td>\n",
       "      <td>1/2/2019</td>\n",
       "      <td>1</td>\n",
       "    </tr>\n",
       "  </tbody>\n",
       "</table>\n",
       "</div>"
      ],
      "text/plain": [
       "         #Time  Purchaser         Item  #Voucher  Semana  Turno Classe 1  \\\n",
       "0   3/00:47:08  Guest(37)      Caips 2     20425       1  Noite      Bar   \n",
       "1   2/22:58:30     Mesa 5         1500     20417       1  Noite      Bar   \n",
       "2   2/23:02:40     Mesa 1         1500     20415       1  Noite      Bar   \n",
       "3   2/19:32:10     Mesa 4  Agua c/ Gás     20408       1  Tarde      Bar   \n",
       "4   2/22:49:33  Guest(25)  Agua c/ Gás     20413       1  Noite      Bar   \n",
       "\n",
       "     Classe 2    Classe 3  Preço  Total Venda      Data  Quantidade  \n",
       "0       Drink         NaN   13.0         13.0  1/2/2019           1  \n",
       "1     Cerveja  Mainstream    8.7          8.7  1/2/2019           1  \n",
       "2     Cerveja  Mainstream    8.7          8.7  1/2/2019           1  \n",
       "3  Sem Álcool         NaN    3.5          7.0  1/2/2019           2  \n",
       "4  Sem Álcool         NaN    3.5          3.5  1/2/2019           1  "
      ]
     },
     "execution_count": 14,
     "metadata": {},
     "output_type": "execute_result"
    }
   ],
   "source": [
    "sales.head(5)"
   ]
  },
  {
   "cell_type": "markdown",
   "metadata": {
    "heading_collapsed": true,
    "hidden": true
   },
   "source": [
    "###### 2.2.1.2 Check NaN's values"
   ]
  },
  {
   "cell_type": "code",
   "execution_count": 15,
   "metadata": {
    "hidden": true,
    "scrolled": true
   },
   "outputs": [
    {
     "data": {
      "text/plain": [
       "#Time              0\n",
       "Purchaser       3157\n",
       "Item               0\n",
       "#Voucher           0\n",
       "Semana             0\n",
       "Turno              0\n",
       "Classe 1           0\n",
       "Classe 2        3736\n",
       "Classe 3       20103\n",
       "Preço              0\n",
       "Total Venda        0\n",
       "Data               0\n",
       "Quantidade         0\n",
       "dtype: int64"
      ]
     },
     "execution_count": 15,
     "metadata": {},
     "output_type": "execute_result"
    }
   ],
   "source": [
    "sales.isnull().sum()"
   ]
  },
  {
   "cell_type": "markdown",
   "metadata": {
    "hidden": true
   },
   "source": [
    "O sistema gestor de vendas utilizado tem uma modalidade de vendas que não vincula o produto à uma mesa de consumo, geralmente utilizados quando ocorre uma venda avulsa, que é paga no ato da compra. Tais produtos são inseridos no sistema sem informação no campo \"Purchaser\", o que justifica os 8930 NaN Values nessa feature. As features Classe 2 e Classe 3 possuem NaN Values porque alguns produtos são cadastrados e classificados apenas no primeiro nível (Classe 1)."
   ]
  },
  {
   "cell_type": "markdown",
   "metadata": {
    "heading_collapsed": true,
    "hidden": true
   },
   "source": [
    "###### 2.2.1.3 Data dimensions"
   ]
  },
  {
   "cell_type": "code",
   "execution_count": 16,
   "metadata": {
    "hidden": true,
    "scrolled": true
   },
   "outputs": [
    {
     "name": "stdout",
     "output_type": "stream",
     "text": [
      "Quantity of 34209 rows\n",
      "Quantity of 13 columns\n"
     ]
    }
   ],
   "source": [
    "print(f'Quantity of {sales.shape[0]} rows')\n",
    "print(f'Quantity of {sales.shape[1]} columns')"
   ]
  },
  {
   "cell_type": "markdown",
   "metadata": {
    "heading_collapsed": true,
    "hidden": true
   },
   "source": [
    "###### 2.2.1.4 Data types"
   ]
  },
  {
   "cell_type": "code",
   "execution_count": 17,
   "metadata": {
    "hidden": true,
    "scrolled": true
   },
   "outputs": [
    {
     "data": {
      "text/plain": [
       "#Time           object\n",
       "Purchaser       object\n",
       "Item            object\n",
       "#Voucher         int64\n",
       "Semana           int64\n",
       "Turno           object\n",
       "Classe 1        object\n",
       "Classe 2        object\n",
       "Classe 3        object\n",
       "Preço          float64\n",
       "Total Venda    float64\n",
       "Data            object\n",
       "Quantidade       int64\n",
       "dtype: object"
      ]
     },
     "execution_count": 17,
     "metadata": {},
     "output_type": "execute_result"
    }
   ],
   "source": [
    "sales.dtypes"
   ]
  },
  {
   "cell_type": "markdown",
   "metadata": {
    "heading_collapsed": true,
    "hidden": true
   },
   "source": [
    "### 2.2.2 Data Cleaning"
   ]
  },
  {
   "cell_type": "markdown",
   "metadata": {
    "heading_collapsed": true,
    "hidden": true
   },
   "source": [
    "###### 2.1.2.1 Catch date informations"
   ]
  },
  {
   "cell_type": "code",
   "execution_count": 18,
   "metadata": {
    "hidden": true
   },
   "outputs": [],
   "source": [
    "sales['Time'] = sales['#Time'].apply(lambda x: x.split('/')[1])\n",
    "sales['datetime'] = sales['Data'] + '-' + sales['Time']"
   ]
  },
  {
   "cell_type": "markdown",
   "metadata": {
    "heading_collapsed": true,
    "hidden": true
   },
   "source": [
    "###### 2.1.2.2 Creating datetime feature"
   ]
  },
  {
   "cell_type": "code",
   "execution_count": 19,
   "metadata": {
    "hidden": true
   },
   "outputs": [],
   "source": [
    "sales['datetime'] = pd.to_datetime(sales['datetime'])"
   ]
  },
  {
   "cell_type": "markdown",
   "metadata": {
    "heading_collapsed": true,
    "hidden": true
   },
   "source": [
    "###### 2.1.2.3 Changing interesting feature names"
   ]
  },
  {
   "cell_type": "code",
   "execution_count": 20,
   "metadata": {
    "hidden": true
   },
   "outputs": [],
   "source": [
    "sales.rename(columns={'#Voucher':'id'}, inplace=True)\n",
    "sales.rename(columns={'Total Venda':'sale'}, inplace=True)\n",
    "sales.rename(columns={'Preço':'price'}, inplace=True)\n",
    "sales.rename(columns={'Classe 1':'class1'}, inplace=True)\n",
    "sales.rename(columns={'Semana':'week'}, inplace=True)\n",
    "sales.rename(columns={'Turno':'work_shift'}, inplace=True)\n",
    "sales.rename(columns={'Purchaser':'purchaser'}, inplace=True)\n",
    "sales.rename(columns={'Item':'item'}, inplace=True)\n",
    "sales.rename(columns={'Quantidade':'quantity'}, inplace=True)"
   ]
  },
  {
   "cell_type": "markdown",
   "metadata": {
    "heading_collapsed": true,
    "hidden": true
   },
   "source": [
    "###### 2.1.2.4 Removing features"
   ]
  },
  {
   "cell_type": "code",
   "execution_count": 21,
   "metadata": {
    "hidden": true
   },
   "outputs": [],
   "source": [
    "sales.drop(['#Time', 'Data', 'Time', 'Classe 2', 'Classe 3'], axis=1, inplace=True)"
   ]
  },
  {
   "cell_type": "markdown",
   "metadata": {
    "heading_collapsed": true,
    "hidden": true
   },
   "source": [
    "## 2.3 Climate"
   ]
  },
  {
   "cell_type": "markdown",
   "metadata": {
    "heading_collapsed": true,
    "hidden": true
   },
   "source": [
    "### 2.3.1 General Analysis"
   ]
  },
  {
   "cell_type": "markdown",
   "metadata": {
    "heading_collapsed": true,
    "hidden": true
   },
   "source": [
    "###### 2.3.1.1 Looking dataframe"
   ]
  },
  {
   "cell_type": "code",
   "execution_count": 22,
   "metadata": {
    "hidden": true,
    "scrolled": false
   },
   "outputs": [
    {
     "data": {
      "text/html": [
       "<div>\n",
       "<style scoped>\n",
       "    .dataframe tbody tr th:only-of-type {\n",
       "        vertical-align: middle;\n",
       "    }\n",
       "\n",
       "    .dataframe tbody tr th {\n",
       "        vertical-align: top;\n",
       "    }\n",
       "\n",
       "    .dataframe thead th {\n",
       "        text-align: right;\n",
       "    }\n",
       "</style>\n",
       "<table border=\"1\" class=\"dataframe\">\n",
       "  <thead>\n",
       "    <tr style=\"text-align: right;\">\n",
       "      <th></th>\n",
       "      <th>Data</th>\n",
       "      <th>Temperatura mínima diária</th>\n",
       "      <th>Temperatura máxima diária</th>\n",
       "      <th>Vento constante máximo</th>\n",
       "      <th>Rajada de vento máxima</th>\n",
       "      <th>Precipitação diária total</th>\n",
       "      <th>Espessura de neve</th>\n",
       "      <th>Pressão</th>\n",
       "      <th>Ícone</th>\n",
       "      <th>Descrição</th>\n",
       "    </tr>\n",
       "  </thead>\n",
       "  <tbody>\n",
       "    <tr>\n",
       "      <th>0</th>\n",
       "      <td>1/1/2019</td>\n",
       "      <td>22°C</td>\n",
       "      <td>31°C</td>\n",
       "      <td>21 Km/h</td>\n",
       "      <td>NaN</td>\n",
       "      <td>NaN</td>\n",
       "      <td>NaN</td>\n",
       "      <td>NaN</td>\n",
       "      <td>NaN</td>\n",
       "      <td>Chuva</td>\n",
       "    </tr>\n",
       "    <tr>\n",
       "      <th>1</th>\n",
       "      <td>2/1/2019</td>\n",
       "      <td>22°C</td>\n",
       "      <td>33°C</td>\n",
       "      <td>24 Km/h</td>\n",
       "      <td>42 Km/h</td>\n",
       "      <td>0mm</td>\n",
       "      <td>NaN</td>\n",
       "      <td>NaN</td>\n",
       "      <td>NaN</td>\n",
       "      <td>Tempestade de raios</td>\n",
       "    </tr>\n",
       "    <tr>\n",
       "      <th>2</th>\n",
       "      <td>3/1/2019</td>\n",
       "      <td>22°C</td>\n",
       "      <td>33°C</td>\n",
       "      <td>22 Km/h</td>\n",
       "      <td>NaN</td>\n",
       "      <td>0mm</td>\n",
       "      <td>NaN</td>\n",
       "      <td>NaN</td>\n",
       "      <td>NaN</td>\n",
       "      <td>eventos climáticos não informados</td>\n",
       "    </tr>\n",
       "    <tr>\n",
       "      <th>3</th>\n",
       "      <td>4/1/2019</td>\n",
       "      <td>22°C</td>\n",
       "      <td>27°C</td>\n",
       "      <td>22 Km/h</td>\n",
       "      <td>NaN</td>\n",
       "      <td>NaN</td>\n",
       "      <td>NaN</td>\n",
       "      <td>NaN</td>\n",
       "      <td>NaN</td>\n",
       "      <td>Tempestade de raios</td>\n",
       "    </tr>\n",
       "    <tr>\n",
       "      <th>4</th>\n",
       "      <td>NaN</td>\n",
       "      <td>NaN</td>\n",
       "      <td>NaN</td>\n",
       "      <td>NaN</td>\n",
       "      <td>NaN</td>\n",
       "      <td>NaN</td>\n",
       "      <td>NaN</td>\n",
       "      <td>NaN</td>\n",
       "      <td>NaN</td>\n",
       "      <td>Chuva</td>\n",
       "    </tr>\n",
       "  </tbody>\n",
       "</table>\n",
       "</div>"
      ],
      "text/plain": [
       "       Data Temperatura mínima diária Temperatura máxima diária  \\\n",
       "0  1/1/2019                      22°C                      31°C   \n",
       "1  2/1/2019                      22°C                      33°C   \n",
       "2  3/1/2019                      22°C                      33°C   \n",
       "3  4/1/2019                      22°C                      27°C   \n",
       "4       NaN                       NaN                       NaN   \n",
       "\n",
       "  Vento constante máximo Rajada de vento máxima Precipitação diária total  \\\n",
       "0                21 Km/h                    NaN                       NaN   \n",
       "1                24 Km/h                42 Km/h                       0mm   \n",
       "2                22 Km/h                    NaN                       0mm   \n",
       "3                22 Km/h                    NaN                       NaN   \n",
       "4                    NaN                    NaN                       NaN   \n",
       "\n",
       "   Espessura de neve  Pressão  Ícone                          Descrição  \n",
       "0                NaN      NaN    NaN                              Chuva  \n",
       "1                NaN      NaN    NaN                Tempestade de raios  \n",
       "2                NaN      NaN    NaN  eventos climáticos não informados  \n",
       "3                NaN      NaN    NaN                Tempestade de raios  \n",
       "4                NaN      NaN    NaN                              Chuva  "
      ]
     },
     "execution_count": 22,
     "metadata": {},
     "output_type": "execute_result"
    }
   ],
   "source": [
    "climate.head(5)"
   ]
  },
  {
   "cell_type": "markdown",
   "metadata": {
    "heading_collapsed": true,
    "hidden": true
   },
   "source": [
    "###### 2.3.1.2 Data dimensions"
   ]
  },
  {
   "cell_type": "code",
   "execution_count": 23,
   "metadata": {
    "hidden": true,
    "scrolled": true
   },
   "outputs": [
    {
     "name": "stdout",
     "output_type": "stream",
     "text": [
      "Quantity of rows: 529\n",
      "Quantity of columns: 10\n"
     ]
    }
   ],
   "source": [
    "print(f'Quantity of rows: {climate.shape[0]}')\n",
    "print(f'Quantity of columns: {climate.shape[1]}')"
   ]
  },
  {
   "cell_type": "markdown",
   "metadata": {
    "heading_collapsed": true,
    "hidden": true
   },
   "source": [
    "###### 2.3.1.3 Check NaN values"
   ]
  },
  {
   "cell_type": "code",
   "execution_count": 24,
   "metadata": {
    "hidden": true,
    "scrolled": true
   },
   "outputs": [
    {
     "data": {
      "text/plain": [
       "Data                          95\n",
       "Temperatura mínima diária     96\n",
       "Temperatura máxima diária     96\n",
       "Vento constante máximo       162\n",
       "Rajada de vento máxima       497\n",
       "Precipitação diária total    250\n",
       "Espessura de neve            529\n",
       "Pressão                      529\n",
       "Ícone                        529\n",
       "Descrição                      0\n",
       "dtype: int64"
      ]
     },
     "execution_count": 24,
     "metadata": {},
     "output_type": "execute_result"
    }
   ],
   "source": [
    "climate.isnull().sum()"
   ]
  },
  {
   "cell_type": "markdown",
   "metadata": {
    "heading_collapsed": true,
    "hidden": true
   },
   "source": [
    "### 2.3.2 Data Cleaning"
   ]
  },
  {
   "cell_type": "markdown",
   "metadata": {
    "heading_collapsed": true,
    "hidden": true
   },
   "source": [
    "###### 2.3.2.1 Removing rows where date is null"
   ]
  },
  {
   "cell_type": "code",
   "execution_count": 25,
   "metadata": {
    "hidden": true
   },
   "outputs": [],
   "source": [
    "climate = climate[climate['Data'].notnull()]"
   ]
  },
  {
   "cell_type": "markdown",
   "metadata": {
    "heading_collapsed": true,
    "hidden": true
   },
   "source": [
    "###### 2.3.2.2 Removing units of measure"
   ]
  },
  {
   "cell_type": "code",
   "execution_count": 26,
   "metadata": {
    "hidden": true
   },
   "outputs": [],
   "source": [
    "climate.loc[climate['Temperatura mínima diária'].notnull(), 'Temperatura mínima diária'] = climate['Temperatura mínima diária'].dropna().apply(lambda x: re.findall('\\d*', x)[0])\n",
    "climate.loc[climate['Temperatura máxima diária'].notnull(), 'Temperatura máxima diária'] = climate['Temperatura máxima diária'].dropna().apply(lambda x: re.findall('\\d*', x)[0])\n",
    "climate.loc[climate['Vento constante máximo'].notnull(), 'Vento constante máximo'] = climate['Vento constante máximo'].dropna().apply(lambda x: re.findall('\\d*', x)[0])\n",
    "climate.loc[climate['Precipitação diária total'].notnull(), 'Precipitação diária total'] = climate['Precipitação diária total'].dropna().apply(lambda x: re.findall('\\d*', x)[0])"
   ]
  },
  {
   "cell_type": "markdown",
   "metadata": {
    "heading_collapsed": true,
    "hidden": true
   },
   "source": [
    "###### 2.3.2.3 Adjusting datetime feature"
   ]
  },
  {
   "cell_type": "code",
   "execution_count": 27,
   "metadata": {
    "hidden": true
   },
   "outputs": [],
   "source": [
    "climate.rename(columns={'Data': 'date'}, inplace=True)\n",
    "\n",
    "climate['date'] = pd.to_datetime(climate['date']).dt.date\n",
    "climate['date'] = pd.to_datetime(climate['date'])\n",
    "\n",
    "climate.set_index('date', inplace=True)"
   ]
  },
  {
   "cell_type": "markdown",
   "metadata": {
    "heading_collapsed": true,
    "hidden": true
   },
   "source": [
    "###### 2.3.2.4 Removing some features"
   ]
  },
  {
   "cell_type": "code",
   "execution_count": 28,
   "metadata": {
    "hidden": true
   },
   "outputs": [],
   "source": [
    "climate.drop(['Espessura de neve', 'Pressão', 'Ícone', 'Rajada de vento máxima'], axis=1, inplace=True)"
   ]
  },
  {
   "cell_type": "markdown",
   "metadata": {
    "heading_collapsed": true,
    "hidden": true
   },
   "source": [
    "## 2.4 Concating Dataframes"
   ]
  },
  {
   "cell_type": "markdown",
   "metadata": {
    "heading_collapsed": true,
    "hidden": true
   },
   "source": [
    "###### 2.4.1 Concating billiard and sales"
   ]
  },
  {
   "cell_type": "code",
   "execution_count": 29,
   "metadata": {
    "hidden": true
   },
   "outputs": [],
   "source": [
    "df = pd.concat([billiard, sales], axis=0)"
   ]
  },
  {
   "cell_type": "markdown",
   "metadata": {
    "heading_collapsed": true,
    "hidden": true
   },
   "source": [
    "###### 2.4.2 Pivoting table to date x class1"
   ]
  },
  {
   "cell_type": "code",
   "execution_count": 30,
   "metadata": {
    "hidden": true
   },
   "outputs": [],
   "source": [
    "backup = df.copy()"
   ]
  },
  {
   "cell_type": "code",
   "execution_count": 31,
   "metadata": {
    "hidden": true
   },
   "outputs": [],
   "source": [
    "df = backup.copy()\n",
    "\n",
    "df.loc[df['class1'].isnull(), 'class1'] = 'Bilhar'"
   ]
  },
  {
   "cell_type": "code",
   "execution_count": 32,
   "metadata": {
    "hidden": true
   },
   "outputs": [],
   "source": [
    "df['datetime'] = pd.to_datetime(df['datetime'])\n",
    "df['date'] = df['datetime'].dt.date\n",
    "df['date'] = pd.to_datetime(df['date'])"
   ]
  },
  {
   "cell_type": "code",
   "execution_count": 33,
   "metadata": {
    "hidden": true
   },
   "outputs": [],
   "source": [
    "df = df.pivot_table(columns='class1', index='date', values='sale', aggfunc='sum', fill_value=0)"
   ]
  },
  {
   "cell_type": "markdown",
   "metadata": {
    "heading_collapsed": true,
    "hidden": true
   },
   "source": [
    "###### 2.4.3 Removing \"#N/D\" feature"
   ]
  },
  {
   "cell_type": "code",
   "execution_count": 34,
   "metadata": {
    "hidden": true
   },
   "outputs": [
    {
     "data": {
      "text/plain": [
       "1"
      ]
     },
     "execution_count": 34,
     "metadata": {},
     "output_type": "execute_result"
    }
   ],
   "source": [
    "df.loc[df['#N/D'] != 0, '#N/D'].count()"
   ]
  },
  {
   "cell_type": "code",
   "execution_count": 35,
   "metadata": {
    "hidden": true
   },
   "outputs": [],
   "source": [
    "df.drop('#N/D', axis=1, inplace=True)"
   ]
  },
  {
   "cell_type": "markdown",
   "metadata": {
    "heading_collapsed": true,
    "hidden": true
   },
   "source": [
    "###### 2.4.4 Concating df and climate"
   ]
  },
  {
   "cell_type": "code",
   "execution_count": 36,
   "metadata": {
    "hidden": true
   },
   "outputs": [],
   "source": [
    "backup = df.copy()"
   ]
  },
  {
   "cell_type": "code",
   "execution_count": 37,
   "metadata": {
    "hidden": true
   },
   "outputs": [],
   "source": [
    "df = backup.copy()\n",
    "\n",
    "df = df.merge(climate, on='date', how='left')"
   ]
  },
  {
   "cell_type": "markdown",
   "metadata": {
    "heading_collapsed": true,
    "hidden": true
   },
   "source": [
    "## 2.5 Integral Dataframe"
   ]
  },
  {
   "cell_type": "markdown",
   "metadata": {
    "heading_collapsed": true,
    "hidden": true
   },
   "source": [
    "###### 2.4.1 Looking dataframe"
   ]
  },
  {
   "cell_type": "code",
   "execution_count": 38,
   "metadata": {
    "hidden": true,
    "scrolled": false
   },
   "outputs": [
    {
     "data": {
      "text/html": [
       "<div>\n",
       "<style scoped>\n",
       "    .dataframe tbody tr th:only-of-type {\n",
       "        vertical-align: middle;\n",
       "    }\n",
       "\n",
       "    .dataframe tbody tr th {\n",
       "        vertical-align: top;\n",
       "    }\n",
       "\n",
       "    .dataframe thead th {\n",
       "        text-align: right;\n",
       "    }\n",
       "</style>\n",
       "<table border=\"1\" class=\"dataframe\">\n",
       "  <thead>\n",
       "    <tr style=\"text-align: right;\">\n",
       "      <th></th>\n",
       "      <th>Bar</th>\n",
       "      <th>Bilhar</th>\n",
       "      <th>Bomboniere</th>\n",
       "      <th>Cozinha</th>\n",
       "      <th>Gorjeta</th>\n",
       "      <th>Tabacaria</th>\n",
       "      <th>Temperatura mínima diária</th>\n",
       "      <th>Temperatura máxima diária</th>\n",
       "      <th>Vento constante máximo</th>\n",
       "      <th>Precipitação diária total</th>\n",
       "      <th>Descrição</th>\n",
       "    </tr>\n",
       "    <tr>\n",
       "      <th>date</th>\n",
       "      <th></th>\n",
       "      <th></th>\n",
       "      <th></th>\n",
       "      <th></th>\n",
       "      <th></th>\n",
       "      <th></th>\n",
       "      <th></th>\n",
       "      <th></th>\n",
       "      <th></th>\n",
       "      <th></th>\n",
       "      <th></th>\n",
       "    </tr>\n",
       "  </thead>\n",
       "  <tbody>\n",
       "    <tr>\n",
       "      <th>2019-04-21</th>\n",
       "      <td>633.17</td>\n",
       "      <td>130.5</td>\n",
       "      <td>0.0</td>\n",
       "      <td>169.0</td>\n",
       "      <td>30.3</td>\n",
       "      <td>19.5</td>\n",
       "      <td>16</td>\n",
       "      <td>32</td>\n",
       "      <td>11</td>\n",
       "      <td>0</td>\n",
       "      <td>eventos climáticos não informados</td>\n",
       "    </tr>\n",
       "    <tr>\n",
       "      <th>2019-09-14</th>\n",
       "      <td>1655.50</td>\n",
       "      <td>644.5</td>\n",
       "      <td>3.3</td>\n",
       "      <td>535.8</td>\n",
       "      <td>126.5</td>\n",
       "      <td>56.5</td>\n",
       "      <td>21</td>\n",
       "      <td>37</td>\n",
       "      <td>22</td>\n",
       "      <td>0</td>\n",
       "      <td>eventos climáticos não informados</td>\n",
       "    </tr>\n",
       "    <tr>\n",
       "      <th>2020-03-19</th>\n",
       "      <td>106.40</td>\n",
       "      <td>47.0</td>\n",
       "      <td>0.0</td>\n",
       "      <td>7.6</td>\n",
       "      <td>2.6</td>\n",
       "      <td>0.0</td>\n",
       "      <td>NaN</td>\n",
       "      <td>NaN</td>\n",
       "      <td>NaN</td>\n",
       "      <td>NaN</td>\n",
       "      <td>NaN</td>\n",
       "    </tr>\n",
       "    <tr>\n",
       "      <th>2019-07-20</th>\n",
       "      <td>2138.61</td>\n",
       "      <td>501.0</td>\n",
       "      <td>28.5</td>\n",
       "      <td>826.6</td>\n",
       "      <td>175.5</td>\n",
       "      <td>51.5</td>\n",
       "      <td>12</td>\n",
       "      <td>26</td>\n",
       "      <td>15</td>\n",
       "      <td>0</td>\n",
       "      <td>eventos climáticos não informados</td>\n",
       "    </tr>\n",
       "    <tr>\n",
       "      <th>2019-11-29</th>\n",
       "      <td>1940.47</td>\n",
       "      <td>673.5</td>\n",
       "      <td>7.7</td>\n",
       "      <td>854.1</td>\n",
       "      <td>148.9</td>\n",
       "      <td>75.5</td>\n",
       "      <td>19</td>\n",
       "      <td>29</td>\n",
       "      <td>26</td>\n",
       "      <td>NaN</td>\n",
       "      <td>Tempestade de raios</td>\n",
       "    </tr>\n",
       "  </tbody>\n",
       "</table>\n",
       "</div>"
      ],
      "text/plain": [
       "                Bar  Bilhar  Bomboniere  Cozinha  Gorjeta  Tabacaria  \\\n",
       "date                                                                   \n",
       "2019-04-21   633.17   130.5         0.0    169.0     30.3       19.5   \n",
       "2019-09-14  1655.50   644.5         3.3    535.8    126.5       56.5   \n",
       "2020-03-19   106.40    47.0         0.0      7.6      2.6        0.0   \n",
       "2019-07-20  2138.61   501.0        28.5    826.6    175.5       51.5   \n",
       "2019-11-29  1940.47   673.5         7.7    854.1    148.9       75.5   \n",
       "\n",
       "           Temperatura mínima diária Temperatura máxima diária  \\\n",
       "date                                                             \n",
       "2019-04-21                        16                        32   \n",
       "2019-09-14                        21                        37   \n",
       "2020-03-19                       NaN                       NaN   \n",
       "2019-07-20                        12                        26   \n",
       "2019-11-29                        19                        29   \n",
       "\n",
       "           Vento constante máximo Precipitação diária total  \\\n",
       "date                                                          \n",
       "2019-04-21                     11                         0   \n",
       "2019-09-14                     22                         0   \n",
       "2020-03-19                    NaN                       NaN   \n",
       "2019-07-20                     15                         0   \n",
       "2019-11-29                     26                       NaN   \n",
       "\n",
       "                                    Descrição  \n",
       "date                                           \n",
       "2019-04-21  eventos climáticos não informados  \n",
       "2019-09-14  eventos climáticos não informados  \n",
       "2020-03-19                                NaN  \n",
       "2019-07-20  eventos climáticos não informados  \n",
       "2019-11-29                Tempestade de raios  "
      ]
     },
     "execution_count": 38,
     "metadata": {},
     "output_type": "execute_result"
    }
   ],
   "source": [
    "df.sample(5)"
   ]
  },
  {
   "cell_type": "markdown",
   "metadata": {
    "heading_collapsed": true,
    "hidden": true
   },
   "source": [
    "###### 2.4.2 Data dimensions"
   ]
  },
  {
   "cell_type": "code",
   "execution_count": 39,
   "metadata": {
    "hidden": true
   },
   "outputs": [
    {
     "name": "stdout",
     "output_type": "stream",
     "text": [
      "Number of rows: 378\n",
      "Number of columns: 11\n"
     ]
    }
   ],
   "source": [
    "print(f'Number of rows: {df.shape[0]}')\n",
    "print(f'Number of columns: {df.shape[1]}')"
   ]
  },
  {
   "cell_type": "markdown",
   "metadata": {
    "heading_collapsed": true,
    "hidden": true
   },
   "source": [
    "###### 2.4.3 Check NaN values"
   ]
  },
  {
   "cell_type": "code",
   "execution_count": 40,
   "metadata": {
    "hidden": true,
    "scrolled": false
   },
   "outputs": [
    {
     "data": {
      "text/plain": [
       "Bar                            0\n",
       "Bilhar                         0\n",
       "Bomboniere                     0\n",
       "Cozinha                        0\n",
       "Gorjeta                        0\n",
       "Tabacaria                      0\n",
       "Temperatura mínima diária     33\n",
       "Temperatura máxima diária     33\n",
       "Vento constante máximo        85\n",
       "Precipitação diária total    153\n",
       "Descrição                     32\n",
       "dtype: int64"
      ]
     },
     "execution_count": 40,
     "metadata": {},
     "output_type": "execute_result"
    }
   ],
   "source": [
    "df.isnull().sum()"
   ]
  },
  {
   "cell_type": "code",
   "execution_count": 41,
   "metadata": {
    "hidden": true,
    "scrolled": true
   },
   "outputs": [
    {
     "data": {
      "text/plain": [
       "<AxesSubplot:ylabel='date'>"
      ]
     },
     "execution_count": 41,
     "metadata": {},
     "output_type": "execute_result"
    },
    {
     "data": {
      "image/png": "[encoded data removed]",
      "text/plain": [
       "<Figure size 432x288 with 1 Axes>"
      ]
     },
     "metadata": {
      "needs_background": "light"
     },
     "output_type": "display_data"
    }
   ],
   "source": [
    "sns.heatmap(df.isnull(), yticklabels=False, cbar=False)"
   ]
  },
  {
   "cell_type": "markdown",
   "metadata": {
    "heading_collapsed": true,
    "hidden": true
   },
   "source": [
    "###### 2.4.4 Solving business day frequency"
   ]
  },
  {
   "cell_type": "code",
   "execution_count": 42,
   "metadata": {
    "hidden": true
   },
   "outputs": [],
   "source": [
    "date_ = pd.date_range(start='2019-01-02', end='2020-03-20', freq='d')"
   ]
  },
  {
   "cell_type": "code",
   "execution_count": 43,
   "metadata": {
    "hidden": true
   },
   "outputs": [],
   "source": [
    "df = df.resample('d').sum()"
   ]
  },
  {
   "cell_type": "markdown",
   "metadata": {
    "heading_collapsed": true,
    "hidden": true
   },
   "source": [
    "###### 2.4.5 Create total"
   ]
  },
  {
   "cell_type": "code",
   "execution_count": 44,
   "metadata": {
    "hidden": true
   },
   "outputs": [],
   "source": [
    "df['total'] = df.sum(axis=1)"
   ]
  },
  {
   "cell_type": "markdown",
   "metadata": {
    "heading_collapsed": true,
    "hidden": true
   },
   "source": [
    "## 2.5 Descriptive Statistics"
   ]
  },
  {
   "cell_type": "markdown",
   "metadata": {
    "heading_collapsed": true
   },
   "source": [
    "# 3.0 Feature Engineering"
   ]
  },
  {
   "cell_type": "markdown",
   "metadata": {
    "hidden": true
   },
   "source": [
    "### 2.4.2 Data Cleaning"
   ]
  },
  {
   "cell_type": "markdown",
   "metadata": {
    "heading_collapsed": true,
    "hidden": true
   },
   "source": [
    "###### 2.4.2.1 Removing columns with to much NaN values"
   ]
  },
  {
   "cell_type": "markdown",
   "metadata": {
    "heading_collapsed": true
   },
   "source": [
    "# 4.0 Business Hypothesis"
   ]
  },
  {
   "cell_type": "markdown",
   "metadata": {
    "heading_collapsed": true
   },
   "source": [
    "# 5.0 Exploratory Data Analysis "
   ]
  },
  {
   "cell_type": "markdown",
   "metadata": {
    "heading_collapsed": true
   },
   "source": [
    "# 6.0 Exportings"
   ]
  },
  {
   "cell_type": "markdown",
   "metadata": {
    "heading_collapsed": true,
    "hidden": true
   },
   "source": [
    "###### 6.1 Dataframe"
   ]
  },
  {
   "cell_type": "code",
   "execution_count": 45,
   "metadata": {
    "hidden": true
   },
   "outputs": [],
   "source": [
    "pickle.dump(df, open('D:\\\\my drive\\\\pessoal\\\\projetos\\\\bar_sales_forecast\\\\bar_sales_forecast\\\\exportings\\\\df_to_data_preparation.pkl', 'wb'))"
   ]
  },
  {
   "cell_type": "markdown",
   "metadata": {
    "heading_collapsed": true
   },
   "source": [
    "# 8.0 Results and Conclusions"
   ]
  },
  {
   "cell_type": "markdown",
   "metadata": {},
   "source": [
    "# Time"
   ]
  },
  {
   "cell_type": "code",
   "execution_count": 46,
   "metadata": {
    "scrolled": false
   },
   "outputs": [
    {
     "name": "stdout",
     "output_type": "stream",
     "text": [
      "O projeto está processando em 0.14 minutos\n"
     ]
    }
   ],
   "source": [
    "print(f'O projeto está processando em {round((time.time() - tempo_agora) / 60, 2)} minutos')"
   ]
  }
 ],
 "metadata": {
  "colab": {
   "collapsed_sections": [
    "0HF0qpYdk0xV",
    "w-_LYSQasnJe",
    "Fo9oTiSg8rbZ",
    "U31eP2VVHvg9",
    "UacIu52kMNMg",
    "22bT8LnfMBt3",
    "TzLuw3sjXyhY",
    "O2ug0XzLKtqM",
    "sf_nq_yYHBsS",
    "ZFjFSSBJ8rc_",
    "ZWjNzZav8rdB",
    "zCUBbPWLK_X5",
    "jDtyW1P0Gsmw",
    "T8WjZTJEpFvP",
    "Cpow1jxqpLb0",
    "e3bxxfygpRiI",
    "oqZcGHvJpwCj",
    "e5qb0o_LqTP_",
    "kscRdU11qbLg",
    "1if3O7Hp2CiE",
    "rQPyhXVl28rl",
    "-72Zr6iIFZhE",
    "gWCr6E3AGuWH",
    "4ysWSC9hLjiY",
    "gCdSM9Zs8rdd",
    "LwXvqMa2LNGn",
    "oZrWcLSMKbOD",
    "ra12ehIdRbTI",
    "nJHHKLSPS0jU",
    "Py5_Zqc9Wg64",
    "9TDxHCc0VIHA",
    "TmQm9H9HQ9tp",
    "sFATzRpWQ4GI",
    "0xIwHrpJZxdL",
    "YEit4heSZ8ka",
    "vHcwYa1LCDhj",
    "Efet9OusCWdI",
    "bHhq7LSSEvW-",
    "xDmAggFurgFU",
    "bQQqTK761JJR",
    "MEJYDvL-ANMQ",
    "KEM5-O1Ppkex",
    "3Ck3cWlcqMYh",
    "TGCGUKeBqRMU",
    "BV4glKS7py2u",
    "4pDTzzVTp_Lt",
    "kdcXbcfSp_ZL",
    "ZrZjI8xpqA-d",
    "2rytJ8Svq5vm",
    "AgCU9hZ5qWJN",
    "WG1fldNvrDct",
    "aiI0z7R_rDn6",
    "kW1XcJQh8reQ",
    "w8JxHOWSHTP9",
    "R6fkx-LLHocO",
    "N8NMVv2k13d9",
    "6OnQY5tu1uVC",
    "WE-XTzm9f0F9",
    "V_jtQ5VoCvKK",
    "DB2pVJBfKYmW",
    "S5ek0TTc0I5R",
    "ZGWjtKQb0FqF",
    "0N_lULUf9Lj4",
    "uwbl82yxEin1",
    "1F1im0MWBT5S",
    "tr6occUiC-Dj",
    "EOOOcz5XDFsg",
    "2pArit2aB8VZ"
   ],
   "include_colab_link": true,
   "name": "predict_bar_sales.ipynb",
   "provenance": []
  },
  "kernelspec": {
   "display_name": "Python 3 (ipykernel)",
   "language": "python",
   "name": "python3"
  },
  "language_info": {
   "codemirror_mode": {
    "name": "ipython",
    "version": 3
   },
   "file_extension": ".py",
   "mimetype": "text/x-python",
   "name": "python",
   "nbconvert_exporter": "python",
   "pygments_lexer": "ipython3",
   "version": "3.9.7"
  }
 },
 "nbformat": 4,
 "nbformat_minor": 1
}
