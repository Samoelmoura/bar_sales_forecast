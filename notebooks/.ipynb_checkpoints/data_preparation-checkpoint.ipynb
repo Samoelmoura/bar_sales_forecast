{
 "cells": [
  {
   "cell_type": "markdown",
   "id": "c4db2bc9",
   "metadata": {},
   "source": [
    "# 0.0 Scope\n",
    "\n",
    "**Inputs:** data with feature engineering \n",
    "\n",
    "**Outputs:** prepared data to ml modeling\n",
    "\n",
    "###### Reports\n",
    "1. ..."
   ]
  },
  {
   "cell_type": "markdown",
   "id": "e12217db",
   "metadata": {
    "id": "w-_LYSQasnJe"
   },
   "source": [
    "# 1.0 Imports"
   ]
  },
  {
   "cell_type": "markdown",
   "id": "5b117237",
   "metadata": {},
   "source": [
    "###### 1.1 Importing libraries"
   ]
  },
  {
   "cell_type": "code",
   "execution_count": 1,
   "id": "46643690",
   "metadata": {
    "ExecuteTime": {
     "end_time": "2022-02-01T20:15:01.710011Z",
     "start_time": "2022-02-01T20:15:00.029687Z"
    }
   },
   "outputs": [],
   "source": [
    "import pandas as pd\n",
    "import numpy as np\n",
    "import matplotlib.pyplot as plt\n",
    "\n",
    "from statsmodels.tsa.arima.model import ARIMA\n",
    "\n",
    "from sklearn.preprocessing import StandardScaler\n",
    "\n",
    "import pickle\n",
    "\n",
    "import time\n",
    "\n",
    "tempo_agora = time.time() # Tempo inicial"
   ]
  },
  {
   "cell_type": "markdown",
   "id": "a82d3301",
   "metadata": {},
   "source": [
    "###### 1.2 Loading datasets"
   ]
  },
  {
   "cell_type": "code",
   "execution_count": 2,
   "id": "432ad629",
   "metadata": {
    "ExecuteTime": {
     "end_time": "2022-02-01T20:15:01.726399Z",
     "start_time": "2022-02-01T20:15:01.710322Z"
    }
   },
   "outputs": [],
   "source": [
    "df = pickle.load(open('D:\\\\my drive\\\\pessoal\\\\projetos\\\\bar_sales_forecast\\\\bar_sales_forecast\\\\exportings\\\\df_to_data_preparation.pkl', 'rb'))"
   ]
  },
  {
   "cell_type": "markdown",
   "id": "f805e149",
   "metadata": {},
   "source": [
    "# 2.0 Data Preparation"
   ]
  },
  {
   "cell_type": "markdown",
   "id": "2144fcd7",
   "metadata": {},
   "source": [
    "###### 2.1 One hot encoding"
   ]
  },
  {
   "cell_type": "code",
   "execution_count": 3,
   "id": "4dd38966",
   "metadata": {
    "ExecuteTime": {
     "end_time": "2022-02-01T20:15:01.740956Z",
     "start_time": "2022-02-01T20:15:01.726399Z"
    }
   },
   "outputs": [],
   "source": [
    "# backup\n",
    "backup = df.copy()"
   ]
  },
  {
   "cell_type": "code",
   "execution_count": 4,
   "id": "6561431e",
   "metadata": {
    "ExecuteTime": {
     "end_time": "2022-02-01T20:15:01.756690Z",
     "start_time": "2022-02-01T20:15:01.740956Z"
    }
   },
   "outputs": [],
   "source": [
    "# one hot encoding\n",
    "temp = pd.get_dummies(df['day_of_week'], drop_first=True)\n",
    "df = pd.concat([df, temp], axis=1)"
   ]
  },
  {
   "cell_type": "markdown",
   "id": "d4cfc679",
   "metadata": {},
   "source": [
    "###### 2.1 Preprocessing"
   ]
  },
  {
   "cell_type": "code",
   "execution_count": 5,
   "id": "f100dd9c",
   "metadata": {
    "ExecuteTime": {
     "end_time": "2022-02-01T20:15:01.766946Z",
     "start_time": "2022-02-01T20:15:01.756690Z"
    }
   },
   "outputs": [],
   "source": [
    "# backup\n",
    "df1 = df.copy()"
   ]
  },
  {
   "cell_type": "code",
   "execution_count": 6,
   "id": "56951a51",
   "metadata": {
    "ExecuteTime": {
     "end_time": "2022-02-01T20:15:01.798946Z",
     "start_time": "2022-02-01T20:15:01.766946Z"
    }
   },
   "outputs": [],
   "source": [
    "# backup\n",
    "df1 = backup.copy()\n",
    "\n",
    "# removendo dias não trabalhados\n",
    "remove = df1.loc[df1['total']==0].index\n",
    "df1.drop(remove, axis=0, inplace=True)\n",
    "\n",
    "# configurando período de predict\n",
    "df1.index = pd.DatetimeIndex(df1.index).to_period('d')\n",
    "\n",
    "# drop columns\n",
    "df1.columns.to_list();\n",
    "drop_columns = 'Bar Bilhar Bomboniere Cozinha Gorjeta Tabacaria day_of_week shifted_6 total_proc'.split()\n",
    "df1 = df1.drop(drop_columns, axis=1)\n",
    "\n",
    "# split train and test\n",
    "predict_indexes = df1['2021-12-1':'2022-01-23'].index\n",
    "train = df1.drop(predict_indexes, axis=0)\n",
    "test = df1.loc[predict_indexes]\n",
    "\n",
    "# standard and scaler\n",
    "scaler = StandardScaler().fit(train)\n",
    "temp = scaler.transform(train)\n",
    "train = pd.DataFrame(temp, columns=train.columns)\n",
    "temp = scaler.transform(test)\n",
    "test = pd.DataFrame(temp, columns=test.columns)\n",
    "\n",
    "# split X and y\n",
    "target = ['total']\n",
    "X_train = train.drop(target, axis=1)\n",
    "X_train = np.array(X_train)\n",
    "y_train = train[target]\n",
    "y_train = np.array(y_train).reshape(1, len(y_train))[0]\n",
    "X_test = test.drop(target, axis=1)\n",
    "X_test = np.array(X_test)\n",
    "y_test = test[target]\n",
    "y_test = np.array(y_test).reshape(1, len(y_test))[0]\n",
    "\n",
    "# grouping in a list\n",
    "prepared_data = [X_train, y_train, X_test, y_test]"
   ]
  },
  {
   "cell_type": "markdown",
   "id": "26b75447",
   "metadata": {},
   "source": [
    "# 3.0 Exportings"
   ]
  },
  {
   "cell_type": "markdown",
   "id": "799b6c49",
   "metadata": {},
   "source": [
    "###### 3.2 dataframe"
   ]
  },
  {
   "cell_type": "code",
   "execution_count": 7,
   "id": "03c8101c",
   "metadata": {
    "ExecuteTime": {
     "end_time": "2022-02-01T20:15:01.814932Z",
     "start_time": "2022-02-01T20:15:01.798946Z"
    }
   },
   "outputs": [],
   "source": [
    "pickle.dump(df, open('D:\\\\my drive\\\\pessoal\\\\projetos\\\\bar_sales_forecast\\\\bar_sales_forecast\\\\exportings\\\\df_to_modeling.pkl', 'wb'))"
   ]
  },
  {
   "cell_type": "markdown",
   "id": "6fbed0b4",
   "metadata": {},
   "source": [
    "###### 3.2 arrays"
   ]
  },
  {
   "cell_type": "code",
   "execution_count": 8,
   "id": "09b60bf8",
   "metadata": {
    "ExecuteTime": {
     "end_time": "2022-02-01T20:15:01.830964Z",
     "start_time": "2022-02-01T20:15:01.814932Z"
    }
   },
   "outputs": [],
   "source": [
    "pickle.dump(prepared_data, open('D:\\\\my drive\\\\pessoal\\\\projetos\\\\bar_sales_forecast\\\\bar_sales_forecast\\\\exportings\\\\prepared_data.pkl', 'wb'))"
   ]
  },
  {
   "cell_type": "markdown",
   "id": "a6ad09b4",
   "metadata": {},
   "source": [
    "# Time"
   ]
  },
  {
   "cell_type": "code",
   "execution_count": 9,
   "id": "3f0c2a0f",
   "metadata": {
    "ExecuteTime": {
     "end_time": "2022-02-01T20:15:01.846952Z",
     "start_time": "2022-02-01T20:15:01.830964Z"
    },
    "scrolled": false
   },
   "outputs": [
    {
     "name": "stdout",
     "output_type": "stream",
     "text": [
      "O projeto está processando em 0.0 minutos\n"
     ]
    }
   ],
   "source": [
    "print(f'O projeto está processando em {round((time.time() - tempo_agora) / 60, 2)} minutos')"
   ]
  }
 ],
 "metadata": {
  "kernelspec": {
   "display_name": "Python 3 (ipykernel)",
   "language": "python",
   "name": "python3"
  },
  "language_info": {
   "codemirror_mode": {
    "name": "ipython",
    "version": 3
   },
   "file_extension": ".py",
   "mimetype": "text/x-python",
   "name": "python",
   "nbconvert_exporter": "python",
   "pygments_lexer": "ipython3",
   "version": "3.9.7"
  }
 },
 "nbformat": 4,
 "nbformat_minor": 5
}
